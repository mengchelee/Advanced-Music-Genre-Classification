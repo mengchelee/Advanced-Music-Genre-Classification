{
 "cells": [
  {
   "cell_type": "code",
   "execution_count": 1,
   "id": "fbe51d2f",
   "metadata": {},
   "outputs": [
    {
     "name": "stdout",
     "output_type": "stream",
     "text": [
      "Looking in links: https://download.pytorch.org/whl/cu121/torch_stable.html\n",
      "Requirement already satisfied: torch==2.2.1+cu121 in c:\\users\\ricky\\anaconda3\\lib\\site-packages (2.2.1+cu121)\n",
      "Requirement already satisfied: torchvision==0.17.1+cu121 in c:\\users\\ricky\\anaconda3\\lib\\site-packages (0.17.1+cu121)\n",
      "Requirement already satisfied: typing-extensions>=4.8.0 in c:\\users\\ricky\\anaconda3\\lib\\site-packages (from torch==2.2.1+cu121) (4.10.0)\n",
      "Requirement already satisfied: networkx in c:\\users\\ricky\\anaconda3\\lib\\site-packages (from torch==2.2.1+cu121) (2.8.4)\n",
      "Requirement already satisfied: fsspec in c:\\users\\ricky\\anaconda3\\lib\\site-packages (from torch==2.2.1+cu121) (2022.7.1)\n",
      "Requirement already satisfied: sympy in c:\\users\\ricky\\anaconda3\\lib\\site-packages (from torch==2.2.1+cu121) (1.10.1)\n",
      "Requirement already satisfied: jinja2 in c:\\users\\ricky\\anaconda3\\lib\\site-packages (from torch==2.2.1+cu121) (2.11.3)\n",
      "Requirement already satisfied: filelock in c:\\users\\ricky\\anaconda3\\lib\\site-packages (from torch==2.2.1+cu121) (3.6.0)\n",
      "Requirement already satisfied: numpy in c:\\users\\ricky\\anaconda3\\lib\\site-packages (from torchvision==0.17.1+cu121) (1.21.5)\n",
      "Requirement already satisfied: pillow!=8.3.*,>=5.3.0 in c:\\users\\ricky\\anaconda3\\lib\\site-packages (from torchvision==0.17.1+cu121) (9.2.0)\n",
      "Requirement already satisfied: MarkupSafe>=0.23 in c:\\users\\ricky\\anaconda3\\lib\\site-packages (from jinja2->torch==2.2.1+cu121) (2.0.1)\n",
      "Requirement already satisfied: mpmath>=0.19 in c:\\users\\ricky\\anaconda3\\lib\\site-packages (from sympy->torch==2.2.1+cu121) (1.2.1)\n"
     ]
    },
    {
     "name": "stderr",
     "output_type": "stream",
     "text": [
      "WARNING: Ignoring invalid distribution -orch (c:\\users\\ricky\\anaconda3\\lib\\site-packages)\n",
      "WARNING: Ignoring invalid distribution -orch (c:\\users\\ricky\\anaconda3\\lib\\site-packages)\n",
      "WARNING: Ignoring invalid distribution -orch (c:\\users\\ricky\\anaconda3\\lib\\site-packages)\n",
      "WARNING: Ignoring invalid distribution -orch (c:\\users\\ricky\\anaconda3\\lib\\site-packages)\n",
      "WARNING: Ignoring invalid distribution -orch (c:\\users\\ricky\\anaconda3\\lib\\site-packages)\n",
      "WARNING: Ignoring invalid distribution -orch (c:\\users\\ricky\\anaconda3\\lib\\site-packages)\n"
     ]
    },
    {
     "name": "stdout",
     "output_type": "stream",
     "text": [
      "Requirement already satisfied: torchvision in c:\\users\\ricky\\anaconda3\\lib\\site-packages (0.17.1+cu121)\n",
      "Requirement already satisfied: numpy in c:\\users\\ricky\\anaconda3\\lib\\site-packages (from torchvision) (1.21.5)\n",
      "Requirement already satisfied: pillow!=8.3.*,>=5.3.0 in c:\\users\\ricky\\anaconda3\\lib\\site-packages (from torchvision) (9.2.0)\n",
      "Requirement already satisfied: torch==2.2.1+cu121 in c:\\users\\ricky\\anaconda3\\lib\\site-packages (from torchvision) (2.2.1+cu121)\n",
      "Requirement already satisfied: fsspec in c:\\users\\ricky\\anaconda3\\lib\\site-packages (from torch==2.2.1+cu121->torchvision) (2022.7.1)\n",
      "Requirement already satisfied: networkx in c:\\users\\ricky\\anaconda3\\lib\\site-packages (from torch==2.2.1+cu121->torchvision) (2.8.4)\n",
      "Requirement already satisfied: sympy in c:\\users\\ricky\\anaconda3\\lib\\site-packages (from torch==2.2.1+cu121->torchvision) (1.10.1)\n",
      "Requirement already satisfied: typing-extensions>=4.8.0 in c:\\users\\ricky\\anaconda3\\lib\\site-packages (from torch==2.2.1+cu121->torchvision) (4.10.0)\n",
      "Requirement already satisfied: jinja2 in c:\\users\\ricky\\anaconda3\\lib\\site-packages (from torch==2.2.1+cu121->torchvision) (2.11.3)\n",
      "Requirement already satisfied: filelock in c:\\users\\ricky\\anaconda3\\lib\\site-packages (from torch==2.2.1+cu121->torchvision) (3.6.0)\n",
      "Requirement already satisfied: MarkupSafe>=0.23 in c:\\users\\ricky\\anaconda3\\lib\\site-packages (from jinja2->torch==2.2.1+cu121->torchvision) (2.0.1)\n",
      "Requirement already satisfied: mpmath>=0.19 in c:\\users\\ricky\\anaconda3\\lib\\site-packages (from sympy->torch==2.2.1+cu121->torchvision) (1.2.1)\n"
     ]
    },
    {
     "name": "stderr",
     "output_type": "stream",
     "text": [
      "WARNING: Ignoring invalid distribution -orch (c:\\users\\ricky\\anaconda3\\lib\\site-packages)\n",
      "WARNING: Ignoring invalid distribution -orch (c:\\users\\ricky\\anaconda3\\lib\\site-packages)\n",
      "WARNING: Ignoring invalid distribution -orch (c:\\users\\ricky\\anaconda3\\lib\\site-packages)\n",
      "WARNING: Ignoring invalid distribution -orch (c:\\users\\ricky\\anaconda3\\lib\\site-packages)\n",
      "WARNING: Ignoring invalid distribution -orch (c:\\users\\ricky\\anaconda3\\lib\\site-packages)\n",
      "WARNING: Ignoring invalid distribution -orch (c:\\users\\ricky\\anaconda3\\lib\\site-packages)\n"
     ]
    },
    {
     "name": "stdout",
     "output_type": "stream",
     "text": [
      "Requirement already satisfied: torchmetrics in c:\\users\\ricky\\anaconda3\\lib\\site-packages (1.3.1)\n",
      "Requirement already satisfied: lightning-utilities>=0.8.0 in c:\\users\\ricky\\anaconda3\\lib\\site-packages (from torchmetrics) (0.10.1)\n",
      "Requirement already satisfied: numpy>1.20.0 in c:\\users\\ricky\\anaconda3\\lib\\site-packages (from torchmetrics) (1.21.5)\n",
      "Requirement already satisfied: packaging>17.1 in c:\\users\\ricky\\anaconda3\\lib\\site-packages (from torchmetrics) (21.3)\n",
      "Requirement already satisfied: torch>=1.10.0 in c:\\users\\ricky\\anaconda3\\lib\\site-packages (from torchmetrics) (2.2.1+cu121)\n",
      "Requirement already satisfied: setuptools in c:\\users\\ricky\\anaconda3\\lib\\site-packages (from lightning-utilities>=0.8.0->torchmetrics) (63.4.1)\n",
      "Requirement already satisfied: typing-extensions in c:\\users\\ricky\\anaconda3\\lib\\site-packages (from lightning-utilities>=0.8.0->torchmetrics) (4.10.0)\n",
      "Requirement already satisfied: pyparsing!=3.0.5,>=2.0.2 in c:\\users\\ricky\\anaconda3\\lib\\site-packages (from packaging>17.1->torchmetrics) (3.0.9)\n",
      "Requirement already satisfied: fsspec in c:\\users\\ricky\\anaconda3\\lib\\site-packages (from torch>=1.10.0->torchmetrics) (2022.7.1)\n",
      "Requirement already satisfied: sympy in c:\\users\\ricky\\anaconda3\\lib\\site-packages (from torch>=1.10.0->torchmetrics) (1.10.1)\n",
      "Requirement already satisfied: networkx in c:\\users\\ricky\\anaconda3\\lib\\site-packages (from torch>=1.10.0->torchmetrics) (2.8.4)\n",
      "Requirement already satisfied: jinja2 in c:\\users\\ricky\\anaconda3\\lib\\site-packages (from torch>=1.10.0->torchmetrics) (2.11.3)\n",
      "Requirement already satisfied: filelock in c:\\users\\ricky\\anaconda3\\lib\\site-packages (from torch>=1.10.0->torchmetrics) (3.6.0)\n",
      "Requirement already satisfied: MarkupSafe>=0.23 in c:\\users\\ricky\\anaconda3\\lib\\site-packages (from jinja2->torch>=1.10.0->torchmetrics) (2.0.1)\n",
      "Requirement already satisfied: mpmath>=0.19 in c:\\users\\ricky\\anaconda3\\lib\\site-packages (from sympy->torch>=1.10.0->torchmetrics) (1.2.1)\n"
     ]
    },
    {
     "name": "stderr",
     "output_type": "stream",
     "text": [
      "WARNING: Ignoring invalid distribution -orch (c:\\users\\ricky\\anaconda3\\lib\\site-packages)\n",
      "WARNING: Ignoring invalid distribution -orch (c:\\users\\ricky\\anaconda3\\lib\\site-packages)\n",
      "WARNING: Ignoring invalid distribution -orch (c:\\users\\ricky\\anaconda3\\lib\\site-packages)\n",
      "WARNING: Ignoring invalid distribution -orch (c:\\users\\ricky\\anaconda3\\lib\\site-packages)\n",
      "WARNING: Ignoring invalid distribution -orch (c:\\users\\ricky\\anaconda3\\lib\\site-packages)\n",
      "WARNING: Ignoring invalid distribution -orch (c:\\users\\ricky\\anaconda3\\lib\\site-packages)\n"
     ]
    }
   ],
   "source": [
    "!pip install torch==2.2.1+cu121 torchvision==0.17.1+cu121 -f https://download.pytorch.org/whl/cu121/torch_stable.html\n",
    "!pip install torchvision\n",
    "!pip install torchmetrics"
   ]
  },
  {
   "cell_type": "code",
   "execution_count": 2,
   "id": "667d10e8",
   "metadata": {},
   "outputs": [
    {
     "name": "stdout",
     "output_type": "stream",
     "text": [
      "Requirement already satisfied: librosa in c:\\users\\ricky\\anaconda3\\lib\\site-packages (0.10.1)\n",
      "Requirement already satisfied: scipy>=1.2.0 in c:\\users\\ricky\\anaconda3\\lib\\site-packages (from librosa) (1.9.1)\n",
      "Requirement already satisfied: numpy!=1.22.0,!=1.22.1,!=1.22.2,>=1.20.3 in c:\\users\\ricky\\anaconda3\\lib\\site-packages (from librosa) (1.21.5)\n",
      "Requirement already satisfied: decorator>=4.3.0 in c:\\users\\ricky\\anaconda3\\lib\\site-packages (from librosa) (5.1.1)\n",
      "Requirement already satisfied: typing-extensions>=4.1.1 in c:\\users\\ricky\\anaconda3\\lib\\site-packages (from librosa) (4.10.0)\n",
      "Requirement already satisfied: soundfile>=0.12.1 in c:\\users\\ricky\\anaconda3\\lib\\site-packages (from librosa) (0.12.1)\n",
      "Requirement already satisfied: numba>=0.51.0 in c:\\users\\ricky\\anaconda3\\lib\\site-packages (from librosa) (0.55.1)\n",
      "Requirement already satisfied: lazy-loader>=0.1 in c:\\users\\ricky\\anaconda3\\lib\\site-packages (from librosa) (0.4)\n",
      "Requirement already satisfied: joblib>=0.14 in c:\\users\\ricky\\anaconda3\\lib\\site-packages (from librosa) (1.1.0)\n",
      "Requirement already satisfied: scikit-learn>=0.20.0 in c:\\users\\ricky\\anaconda3\\lib\\site-packages (from librosa) (1.0.2)\n",
      "Requirement already satisfied: msgpack>=1.0 in c:\\users\\ricky\\anaconda3\\lib\\site-packages (from librosa) (1.0.3)\n",
      "Requirement already satisfied: audioread>=2.1.9 in c:\\users\\ricky\\anaconda3\\lib\\site-packages (from librosa) (3.0.1)\n",
      "Requirement already satisfied: soxr>=0.3.2 in c:\\users\\ricky\\anaconda3\\lib\\site-packages (from librosa) (0.3.7)\n",
      "Requirement already satisfied: pooch>=1.0 in c:\\users\\ricky\\anaconda3\\lib\\site-packages (from librosa) (1.8.1)\n",
      "Requirement already satisfied: packaging in c:\\users\\ricky\\anaconda3\\lib\\site-packages (from lazy-loader>=0.1->librosa) (21.3)\n",
      "Requirement already satisfied: setuptools in c:\\users\\ricky\\anaconda3\\lib\\site-packages (from numba>=0.51.0->librosa) (63.4.1)\n",
      "Requirement already satisfied: llvmlite<0.39,>=0.38.0rc1 in c:\\users\\ricky\\anaconda3\\lib\\site-packages (from numba>=0.51.0->librosa) (0.38.0)\n",
      "Requirement already satisfied: requests>=2.19.0 in c:\\users\\ricky\\anaconda3\\lib\\site-packages (from pooch>=1.0->librosa) (2.28.1)\n",
      "Requirement already satisfied: platformdirs>=2.5.0 in c:\\users\\ricky\\anaconda3\\lib\\site-packages (from pooch>=1.0->librosa) (2.5.2)\n",
      "Requirement already satisfied: threadpoolctl>=2.0.0 in c:\\users\\ricky\\anaconda3\\lib\\site-packages (from scikit-learn>=0.20.0->librosa) (2.2.0)\n",
      "Requirement already satisfied: cffi>=1.0 in c:\\users\\ricky\\anaconda3\\lib\\site-packages (from soundfile>=0.12.1->librosa) (1.15.1)\n",
      "Requirement already satisfied: pycparser in c:\\users\\ricky\\anaconda3\\lib\\site-packages (from cffi>=1.0->soundfile>=0.12.1->librosa) (2.21)\n",
      "Requirement already satisfied: pyparsing!=3.0.5,>=2.0.2 in c:\\users\\ricky\\anaconda3\\lib\\site-packages (from packaging->lazy-loader>=0.1->librosa) (3.0.9)\n",
      "Requirement already satisfied: charset-normalizer<3,>=2 in c:\\users\\ricky\\anaconda3\\lib\\site-packages (from requests>=2.19.0->pooch>=1.0->librosa) (2.0.4)\n",
      "Requirement already satisfied: urllib3<1.27,>=1.21.1 in c:\\users\\ricky\\anaconda3\\lib\\site-packages (from requests>=2.19.0->pooch>=1.0->librosa) (1.26.11)\n",
      "Requirement already satisfied: idna<4,>=2.5 in c:\\users\\ricky\\anaconda3\\lib\\site-packages (from requests>=2.19.0->pooch>=1.0->librosa) (3.3)\n",
      "Requirement already satisfied: certifi>=2017.4.17 in c:\\users\\ricky\\anaconda3\\lib\\site-packages (from requests>=2.19.0->pooch>=1.0->librosa) (2022.9.14)\n",
      "Note: you may need to restart the kernel to use updated packages.\n"
     ]
    },
    {
     "name": "stderr",
     "output_type": "stream",
     "text": [
      "WARNING: Ignoring invalid distribution -orch (c:\\users\\ricky\\anaconda3\\lib\\site-packages)\n",
      "WARNING: Ignoring invalid distribution -orch (c:\\users\\ricky\\anaconda3\\lib\\site-packages)\n",
      "WARNING: Ignoring invalid distribution -orch (c:\\users\\ricky\\anaconda3\\lib\\site-packages)\n",
      "WARNING: Ignoring invalid distribution -orch (c:\\users\\ricky\\anaconda3\\lib\\site-packages)\n",
      "WARNING: Ignoring invalid distribution -orch (c:\\users\\ricky\\anaconda3\\lib\\site-packages)\n",
      "WARNING: Ignoring invalid distribution -orch (c:\\users\\ricky\\anaconda3\\lib\\site-packages)\n"
     ]
    }
   ],
   "source": [
    "pip install librosa"
   ]
  },
  {
   "cell_type": "code",
   "execution_count": 3,
   "id": "62f729df",
   "metadata": {},
   "outputs": [
    {
     "name": "stdout",
     "output_type": "stream",
     "text": [
      "C:\\Users\\ricky\\anaconda3;C:\\Users\\ricky\\anaconda3\\Library\\mingw-w64\\bin;C:\\Users\\ricky\\anaconda3\\Library\\usr\\bin;C:\\Users\\ricky\\anaconda3\\Library\\bin;C:\\Users\\ricky\\anaconda3\\Scripts;C:\\Users\\ricky\\anaconda3\\bin;C:\\Users\\ricky\\anaconda3\\condabin;C:\\Users\\ricky\\anaconda3;C:\\Users\\ricky\\anaconda3\\Library\\mingw-w64\\bin;C:\\Users\\ricky\\anaconda3\\Library\\usr\\bin;C:\\Users\\ricky\\anaconda3\\Library\\bin;C:\\Users\\ricky\\anaconda3\\Scripts;C:\\Windows\\system32;C:\\Windows;C:\\Windows\\System32\\Wbem;C:\\Windows\\System32\\WindowsPowerShell\\v1.0;C:\\Windows\\System32\\OpenSSH;C:\\Program Files (x86)\\NVIDIA Corporation\\PhysX\\Common;C:\\Program Files\\NVIDIA Corporation\\NVIDIA NvDLISR;C:\\Program Files\\dotnet;C:\\WINDOWS\\system32;C:\\WINDOWS;C:\\WINDOWS\\System32\\Wbem;C:\\WINDOWS\\System32\\WindowsPowerShell\\v1.0;C:\\WINDOWS\\System32\\OpenSSH;C:\\Users\\ricky\\AppData\\Local\\Microsoft\\WindowsApps;C:\\Program Files\\FFMPEG\\bin;.;C:\\Program Files\\FFmpeg\\bin\n"
     ]
    }
   ],
   "source": [
    "# Here I download FFmpeg, but I found out the problem is because the corrupted file\n",
    "import os\n",
    "\n",
    "ffmpeg_path = 'C:\\\\Program Files\\\\FFmpeg\\\\bin' \n",
    "\n",
    "os.environ['PATH'] += os.pathsep + ffmpeg_path\n",
    "\n",
    "print(os.environ['PATH'])"
   ]
  },
  {
   "cell_type": "code",
   "execution_count": 4,
   "id": "9ad908f6",
   "metadata": {},
   "outputs": [],
   "source": [
    "from sklearn.model_selection import train_test_split\n",
    "from torch.utils.data import DataLoader, Dataset\n",
    "import torch\n",
    "from torch.utils.data import DataLoader, random_split"
   ]
  },
  {
   "cell_type": "markdown",
   "id": "7c8af4c3",
   "metadata": {},
   "source": [
    "# Check and delete the corrupted files"
   ]
  },
  {
   "cell_type": "code",
   "execution_count": 9,
   "id": "7ebf99aa",
   "metadata": {},
   "outputs": [
    {
     "name": "stdout",
     "output_type": "stream",
     "text": [
      "Successfully loaded genres_original\\blues\\blues.00000.wav\n",
      "Successfully loaded genres_original\\blues\\blues.00001.wav\n",
      "Successfully loaded genres_original\\blues\\blues.00002.wav\n",
      "Successfully loaded genres_original\\blues\\blues.00003.wav\n",
      "Successfully loaded genres_original\\blues\\blues.00004.wav\n",
      "Successfully loaded genres_original\\blues\\blues.00005.wav\n",
      "Successfully loaded genres_original\\blues\\blues.00006.wav\n",
      "Successfully loaded genres_original\\blues\\blues.00007.wav\n",
      "Successfully loaded genres_original\\blues\\blues.00008.wav\n",
      "Successfully loaded genres_original\\blues\\blues.00009.wav\n",
      "Successfully loaded genres_original\\blues\\blues.00010.wav\n",
      "Successfully loaded genres_original\\blues\\blues.00011.wav\n",
      "Successfully loaded genres_original\\blues\\blues.00012.wav\n",
      "Successfully loaded genres_original\\blues\\blues.00013.wav\n",
      "Successfully loaded genres_original\\blues\\blues.00014.wav\n",
      "Successfully loaded genres_original\\blues\\blues.00015.wav\n",
      "Successfully loaded genres_original\\blues\\blues.00016.wav\n",
      "Successfully loaded genres_original\\blues\\blues.00017.wav\n",
      "Successfully loaded genres_original\\blues\\blues.00018.wav\n",
      "Successfully loaded genres_original\\blues\\blues.00019.wav\n",
      "Successfully loaded genres_original\\blues\\blues.00020.wav\n",
      "Successfully loaded genres_original\\blues\\blues.00021.wav\n",
      "Successfully loaded genres_original\\blues\\blues.00022.wav\n",
      "Successfully loaded genres_original\\blues\\blues.00023.wav\n",
      "Successfully loaded genres_original\\blues\\blues.00024.wav\n",
      "Successfully loaded genres_original\\blues\\blues.00025.wav\n",
      "Successfully loaded genres_original\\blues\\blues.00026.wav\n",
      "Successfully loaded genres_original\\blues\\blues.00027.wav\n",
      "Successfully loaded genres_original\\blues\\blues.00028.wav\n",
      "Successfully loaded genres_original\\blues\\blues.00029.wav\n",
      "Successfully loaded genres_original\\blues\\blues.00030.wav\n",
      "Successfully loaded genres_original\\blues\\blues.00031.wav\n",
      "Successfully loaded genres_original\\blues\\blues.00032.wav\n",
      "Successfully loaded genres_original\\blues\\blues.00033.wav\n",
      "Successfully loaded genres_original\\blues\\blues.00034.wav\n",
      "Successfully loaded genres_original\\blues\\blues.00035.wav\n",
      "Successfully loaded genres_original\\blues\\blues.00036.wav\n",
      "Successfully loaded genres_original\\blues\\blues.00037.wav\n",
      "Successfully loaded genres_original\\blues\\blues.00038.wav\n",
      "Successfully loaded genres_original\\blues\\blues.00039.wav\n",
      "Successfully loaded genres_original\\blues\\blues.00040.wav\n",
      "Successfully loaded genres_original\\blues\\blues.00041.wav\n",
      "Successfully loaded genres_original\\blues\\blues.00042.wav\n",
      "Successfully loaded genres_original\\blues\\blues.00043.wav\n",
      "Successfully loaded genres_original\\blues\\blues.00044.wav\n",
      "Successfully loaded genres_original\\blues\\blues.00045.wav\n",
      "Successfully loaded genres_original\\blues\\blues.00046.wav\n",
      "Successfully loaded genres_original\\blues\\blues.00047.wav\n",
      "Successfully loaded genres_original\\blues\\blues.00048.wav\n",
      "Successfully loaded genres_original\\blues\\blues.00049.wav\n",
      "Successfully loaded genres_original\\blues\\blues.00050.wav\n",
      "Successfully loaded genres_original\\blues\\blues.00051.wav\n",
      "Successfully loaded genres_original\\blues\\blues.00052.wav\n",
      "Successfully loaded genres_original\\blues\\blues.00053.wav\n",
      "Successfully loaded genres_original\\blues\\blues.00054.wav\n",
      "Successfully loaded genres_original\\blues\\blues.00055.wav\n",
      "Successfully loaded genres_original\\blues\\blues.00056.wav\n",
      "Successfully loaded genres_original\\blues\\blues.00057.wav\n",
      "Successfully loaded genres_original\\blues\\blues.00058.wav\n",
      "Successfully loaded genres_original\\blues\\blues.00059.wav\n",
      "Successfully loaded genres_original\\blues\\blues.00060.wav\n",
      "Successfully loaded genres_original\\blues\\blues.00061.wav\n",
      "Successfully loaded genres_original\\blues\\blues.00062.wav\n",
      "Successfully loaded genres_original\\blues\\blues.00063.wav\n",
      "Successfully loaded genres_original\\blues\\blues.00064.wav\n",
      "Successfully loaded genres_original\\blues\\blues.00065.wav\n",
      "Successfully loaded genres_original\\blues\\blues.00066.wav\n",
      "Successfully loaded genres_original\\blues\\blues.00067.wav\n",
      "Successfully loaded genres_original\\blues\\blues.00068.wav\n",
      "Successfully loaded genres_original\\blues\\blues.00069.wav\n",
      "Successfully loaded genres_original\\blues\\blues.00070.wav\n",
      "Successfully loaded genres_original\\blues\\blues.00071.wav\n",
      "Successfully loaded genres_original\\blues\\blues.00072.wav\n",
      "Successfully loaded genres_original\\blues\\blues.00073.wav\n",
      "Successfully loaded genres_original\\blues\\blues.00074.wav\n",
      "Successfully loaded genres_original\\blues\\blues.00075.wav\n",
      "Successfully loaded genres_original\\blues\\blues.00076.wav\n",
      "Successfully loaded genres_original\\blues\\blues.00077.wav\n",
      "Successfully loaded genres_original\\blues\\blues.00078.wav\n",
      "Successfully loaded genres_original\\blues\\blues.00079.wav\n",
      "Successfully loaded genres_original\\blues\\blues.00080.wav\n",
      "Successfully loaded genres_original\\blues\\blues.00081.wav\n",
      "Successfully loaded genres_original\\blues\\blues.00082.wav\n",
      "Successfully loaded genres_original\\blues\\blues.00083.wav\n",
      "Successfully loaded genres_original\\blues\\blues.00084.wav\n",
      "Successfully loaded genres_original\\blues\\blues.00085.wav\n",
      "Successfully loaded genres_original\\blues\\blues.00086.wav\n",
      "Successfully loaded genres_original\\blues\\blues.00087.wav\n",
      "Successfully loaded genres_original\\blues\\blues.00088.wav\n",
      "Successfully loaded genres_original\\blues\\blues.00089.wav\n",
      "Successfully loaded genres_original\\blues\\blues.00090.wav\n",
      "Successfully loaded genres_original\\blues\\blues.00091.wav\n",
      "Successfully loaded genres_original\\blues\\blues.00092.wav\n",
      "Successfully loaded genres_original\\blues\\blues.00093.wav\n",
      "Successfully loaded genres_original\\blues\\blues.00094.wav\n",
      "Successfully loaded genres_original\\blues\\blues.00095.wav\n",
      "Successfully loaded genres_original\\blues\\blues.00096.wav\n",
      "Successfully loaded genres_original\\blues\\blues.00097.wav\n",
      "Successfully loaded genres_original\\blues\\blues.00098.wav\n",
      "Successfully loaded genres_original\\blues\\blues.00099.wav\n",
      "Successfully loaded genres_original\\classical\\classical.00000.wav\n",
      "Successfully loaded genres_original\\classical\\classical.00001.wav\n",
      "Successfully loaded genres_original\\classical\\classical.00002.wav\n",
      "Successfully loaded genres_original\\classical\\classical.00003.wav\n",
      "Successfully loaded genres_original\\classical\\classical.00004.wav\n",
      "Successfully loaded genres_original\\classical\\classical.00005.wav\n",
      "Successfully loaded genres_original\\classical\\classical.00006.wav\n",
      "Successfully loaded genres_original\\classical\\classical.00007.wav\n",
      "Successfully loaded genres_original\\classical\\classical.00008.wav\n",
      "Successfully loaded genres_original\\classical\\classical.00009.wav\n",
      "Successfully loaded genres_original\\classical\\classical.00010.wav\n",
      "Successfully loaded genres_original\\classical\\classical.00011.wav\n",
      "Successfully loaded genres_original\\classical\\classical.00012.wav\n",
      "Successfully loaded genres_original\\classical\\classical.00013.wav\n",
      "Successfully loaded genres_original\\classical\\classical.00014.wav\n",
      "Successfully loaded genres_original\\classical\\classical.00015.wav\n",
      "Successfully loaded genres_original\\classical\\classical.00016.wav\n",
      "Successfully loaded genres_original\\classical\\classical.00017.wav\n",
      "Successfully loaded genres_original\\classical\\classical.00018.wav\n",
      "Successfully loaded genres_original\\classical\\classical.00019.wav\n",
      "Successfully loaded genres_original\\classical\\classical.00020.wav\n",
      "Successfully loaded genres_original\\classical\\classical.00021.wav\n",
      "Successfully loaded genres_original\\classical\\classical.00022.wav\n",
      "Successfully loaded genres_original\\classical\\classical.00023.wav\n",
      "Successfully loaded genres_original\\classical\\classical.00024.wav\n",
      "Successfully loaded genres_original\\classical\\classical.00025.wav\n",
      "Successfully loaded genres_original\\classical\\classical.00026.wav\n",
      "Successfully loaded genres_original\\classical\\classical.00027.wav\n",
      "Successfully loaded genres_original\\classical\\classical.00028.wav\n",
      "Successfully loaded genres_original\\classical\\classical.00029.wav\n",
      "Successfully loaded genres_original\\classical\\classical.00030.wav\n",
      "Successfully loaded genres_original\\classical\\classical.00031.wav\n",
      "Successfully loaded genres_original\\classical\\classical.00032.wav\n",
      "Successfully loaded genres_original\\classical\\classical.00033.wav\n",
      "Successfully loaded genres_original\\classical\\classical.00034.wav\n",
      "Successfully loaded genres_original\\classical\\classical.00035.wav\n",
      "Successfully loaded genres_original\\classical\\classical.00036.wav\n",
      "Successfully loaded genres_original\\classical\\classical.00037.wav\n",
      "Successfully loaded genres_original\\classical\\classical.00038.wav\n",
      "Successfully loaded genres_original\\classical\\classical.00039.wav\n",
      "Successfully loaded genres_original\\classical\\classical.00040.wav\n",
      "Successfully loaded genres_original\\classical\\classical.00041.wav\n",
      "Successfully loaded genres_original\\classical\\classical.00042.wav\n",
      "Successfully loaded genres_original\\classical\\classical.00043.wav\n",
      "Successfully loaded genres_original\\classical\\classical.00044.wav\n",
      "Successfully loaded genres_original\\classical\\classical.00045.wav\n",
      "Successfully loaded genres_original\\classical\\classical.00046.wav\n",
      "Successfully loaded genres_original\\classical\\classical.00047.wav\n",
      "Successfully loaded genres_original\\classical\\classical.00048.wav\n",
      "Successfully loaded genres_original\\classical\\classical.00049.wav\n",
      "Successfully loaded genres_original\\classical\\classical.00050.wav\n",
      "Successfully loaded genres_original\\classical\\classical.00051.wav\n",
      "Successfully loaded genres_original\\classical\\classical.00052.wav\n",
      "Successfully loaded genres_original\\classical\\classical.00053.wav\n",
      "Successfully loaded genres_original\\classical\\classical.00054.wav\n",
      "Successfully loaded genres_original\\classical\\classical.00055.wav\n",
      "Successfully loaded genres_original\\classical\\classical.00056.wav\n",
      "Successfully loaded genres_original\\classical\\classical.00057.wav\n",
      "Successfully loaded genres_original\\classical\\classical.00058.wav\n",
      "Successfully loaded genres_original\\classical\\classical.00059.wav\n",
      "Successfully loaded genres_original\\classical\\classical.00060.wav\n",
      "Successfully loaded genres_original\\classical\\classical.00061.wav\n",
      "Successfully loaded genres_original\\classical\\classical.00062.wav\n",
      "Successfully loaded genres_original\\classical\\classical.00063.wav\n",
      "Successfully loaded genres_original\\classical\\classical.00064.wav\n",
      "Successfully loaded genres_original\\classical\\classical.00065.wav\n",
      "Successfully loaded genres_original\\classical\\classical.00066.wav\n",
      "Successfully loaded genres_original\\classical\\classical.00067.wav\n",
      "Successfully loaded genres_original\\classical\\classical.00068.wav\n",
      "Successfully loaded genres_original\\classical\\classical.00069.wav\n",
      "Successfully loaded genres_original\\classical\\classical.00070.wav\n",
      "Successfully loaded genres_original\\classical\\classical.00071.wav\n",
      "Successfully loaded genres_original\\classical\\classical.00072.wav\n",
      "Successfully loaded genres_original\\classical\\classical.00073.wav\n",
      "Successfully loaded genres_original\\classical\\classical.00074.wav\n",
      "Successfully loaded genres_original\\classical\\classical.00075.wav\n",
      "Successfully loaded genres_original\\classical\\classical.00076.wav\n",
      "Successfully loaded genres_original\\classical\\classical.00077.wav\n",
      "Successfully loaded genres_original\\classical\\classical.00078.wav\n",
      "Successfully loaded genres_original\\classical\\classical.00079.wav\n",
      "Successfully loaded genres_original\\classical\\classical.00080.wav\n",
      "Successfully loaded genres_original\\classical\\classical.00081.wav\n",
      "Successfully loaded genres_original\\classical\\classical.00082.wav\n",
      "Successfully loaded genres_original\\classical\\classical.00083.wav\n",
      "Successfully loaded genres_original\\classical\\classical.00084.wav\n",
      "Successfully loaded genres_original\\classical\\classical.00085.wav\n",
      "Successfully loaded genres_original\\classical\\classical.00086.wav\n",
      "Successfully loaded genres_original\\classical\\classical.00087.wav\n",
      "Successfully loaded genres_original\\classical\\classical.00088.wav\n",
      "Successfully loaded genres_original\\classical\\classical.00089.wav\n",
      "Successfully loaded genres_original\\classical\\classical.00090.wav\n",
      "Successfully loaded genres_original\\classical\\classical.00091.wav\n",
      "Successfully loaded genres_original\\classical\\classical.00092.wav\n",
      "Successfully loaded genres_original\\classical\\classical.00093.wav\n",
      "Successfully loaded genres_original\\classical\\classical.00094.wav\n",
      "Successfully loaded genres_original\\classical\\classical.00095.wav\n",
      "Successfully loaded genres_original\\classical\\classical.00096.wav\n",
      "Successfully loaded genres_original\\classical\\classical.00097.wav\n",
      "Successfully loaded genres_original\\classical\\classical.00098.wav\n",
      "Successfully loaded genres_original\\classical\\classical.00099.wav\n",
      "Successfully loaded genres_original\\country\\country.00000.wav\n",
      "Successfully loaded genres_original\\country\\country.00001.wav\n",
      "Successfully loaded genres_original\\country\\country.00002.wav\n",
      "Successfully loaded genres_original\\country\\country.00003.wav\n",
      "Successfully loaded genres_original\\country\\country.00004.wav\n",
      "Successfully loaded genres_original\\country\\country.00005.wav\n",
      "Successfully loaded genres_original\\country\\country.00006.wav\n",
      "Successfully loaded genres_original\\country\\country.00007.wav\n",
      "Successfully loaded genres_original\\country\\country.00008.wav\n",
      "Successfully loaded genres_original\\country\\country.00009.wav\n",
      "Successfully loaded genres_original\\country\\country.00010.wav\n",
      "Successfully loaded genres_original\\country\\country.00011.wav\n",
      "Successfully loaded genres_original\\country\\country.00012.wav\n",
      "Successfully loaded genres_original\\country\\country.00013.wav\n",
      "Successfully loaded genres_original\\country\\country.00014.wav\n",
      "Successfully loaded genres_original\\country\\country.00015.wav\n",
      "Successfully loaded genres_original\\country\\country.00016.wav\n",
      "Successfully loaded genres_original\\country\\country.00017.wav\n",
      "Successfully loaded genres_original\\country\\country.00018.wav\n",
      "Successfully loaded genres_original\\country\\country.00019.wav\n",
      "Successfully loaded genres_original\\country\\country.00020.wav\n",
      "Successfully loaded genres_original\\country\\country.00021.wav\n",
      "Successfully loaded genres_original\\country\\country.00022.wav\n",
      "Successfully loaded genres_original\\country\\country.00023.wav\n",
      "Successfully loaded genres_original\\country\\country.00024.wav\n",
      "Successfully loaded genres_original\\country\\country.00025.wav\n",
      "Successfully loaded genres_original\\country\\country.00026.wav\n",
      "Successfully loaded genres_original\\country\\country.00027.wav\n",
      "Successfully loaded genres_original\\country\\country.00028.wav\n",
      "Successfully loaded genres_original\\country\\country.00029.wav\n",
      "Successfully loaded genres_original\\country\\country.00030.wav\n",
      "Successfully loaded genres_original\\country\\country.00031.wav\n",
      "Successfully loaded genres_original\\country\\country.00032.wav\n",
      "Successfully loaded genres_original\\country\\country.00033.wav\n",
      "Successfully loaded genres_original\\country\\country.00034.wav\n",
      "Successfully loaded genres_original\\country\\country.00035.wav\n",
      "Successfully loaded genres_original\\country\\country.00036.wav\n",
      "Successfully loaded genres_original\\country\\country.00037.wav\n",
      "Successfully loaded genres_original\\country\\country.00038.wav\n",
      "Successfully loaded genres_original\\country\\country.00039.wav\n",
      "Successfully loaded genres_original\\country\\country.00040.wav\n",
      "Successfully loaded genres_original\\country\\country.00041.wav\n",
      "Successfully loaded genres_original\\country\\country.00042.wav\n",
      "Successfully loaded genres_original\\country\\country.00043.wav\n",
      "Successfully loaded genres_original\\country\\country.00044.wav\n",
      "Successfully loaded genres_original\\country\\country.00045.wav\n",
      "Successfully loaded genres_original\\country\\country.00046.wav\n",
      "Successfully loaded genres_original\\country\\country.00047.wav\n",
      "Successfully loaded genres_original\\country\\country.00048.wav\n",
      "Successfully loaded genres_original\\country\\country.00049.wav\n",
      "Successfully loaded genres_original\\country\\country.00050.wav\n",
      "Successfully loaded genres_original\\country\\country.00051.wav\n",
      "Successfully loaded genres_original\\country\\country.00052.wav\n",
      "Successfully loaded genres_original\\country\\country.00053.wav\n",
      "Successfully loaded genres_original\\country\\country.00054.wav\n",
      "Successfully loaded genres_original\\country\\country.00055.wav\n",
      "Successfully loaded genres_original\\country\\country.00056.wav\n",
      "Successfully loaded genres_original\\country\\country.00057.wav\n",
      "Successfully loaded genres_original\\country\\country.00058.wav\n",
      "Successfully loaded genres_original\\country\\country.00059.wav\n",
      "Successfully loaded genres_original\\country\\country.00060.wav\n",
      "Successfully loaded genres_original\\country\\country.00061.wav\n",
      "Successfully loaded genres_original\\country\\country.00062.wav\n",
      "Successfully loaded genres_original\\country\\country.00063.wav\n",
      "Successfully loaded genres_original\\country\\country.00064.wav\n",
      "Successfully loaded genres_original\\country\\country.00065.wav\n",
      "Successfully loaded genres_original\\country\\country.00066.wav\n",
      "Successfully loaded genres_original\\country\\country.00067.wav\n",
      "Successfully loaded genres_original\\country\\country.00068.wav\n",
      "Successfully loaded genres_original\\country\\country.00069.wav\n",
      "Successfully loaded genres_original\\country\\country.00070.wav\n",
      "Successfully loaded genres_original\\country\\country.00071.wav\n",
      "Successfully loaded genres_original\\country\\country.00072.wav\n",
      "Successfully loaded genres_original\\country\\country.00073.wav\n",
      "Successfully loaded genres_original\\country\\country.00074.wav\n",
      "Successfully loaded genres_original\\country\\country.00075.wav\n",
      "Successfully loaded genres_original\\country\\country.00076.wav\n",
      "Successfully loaded genres_original\\country\\country.00077.wav\n",
      "Successfully loaded genres_original\\country\\country.00078.wav\n",
      "Successfully loaded genres_original\\country\\country.00079.wav\n",
      "Successfully loaded genres_original\\country\\country.00080.wav\n",
      "Successfully loaded genres_original\\country\\country.00081.wav\n",
      "Successfully loaded genres_original\\country\\country.00082.wav\n",
      "Successfully loaded genres_original\\country\\country.00083.wav\n",
      "Successfully loaded genres_original\\country\\country.00084.wav\n",
      "Successfully loaded genres_original\\country\\country.00085.wav\n",
      "Successfully loaded genres_original\\country\\country.00086.wav\n",
      "Successfully loaded genres_original\\country\\country.00087.wav\n",
      "Successfully loaded genres_original\\country\\country.00088.wav\n",
      "Successfully loaded genres_original\\country\\country.00089.wav\n",
      "Successfully loaded genres_original\\country\\country.00090.wav\n",
      "Successfully loaded genres_original\\country\\country.00091.wav\n",
      "Successfully loaded genres_original\\country\\country.00092.wav\n",
      "Successfully loaded genres_original\\country\\country.00093.wav\n",
      "Successfully loaded genres_original\\country\\country.00094.wav\n",
      "Successfully loaded genres_original\\country\\country.00095.wav\n",
      "Successfully loaded genres_original\\country\\country.00096.wav\n",
      "Successfully loaded genres_original\\country\\country.00097.wav\n",
      "Successfully loaded genres_original\\country\\country.00098.wav\n",
      "Successfully loaded genres_original\\country\\country.00099.wav\n",
      "Successfully loaded genres_original\\disco\\disco.00000.wav\n",
      "Successfully loaded genres_original\\disco\\disco.00001.wav\n",
      "Successfully loaded genres_original\\disco\\disco.00002.wav\n",
      "Successfully loaded genres_original\\disco\\disco.00003.wav\n",
      "Successfully loaded genres_original\\disco\\disco.00004.wav\n",
      "Successfully loaded genres_original\\disco\\disco.00005.wav\n",
      "Successfully loaded genres_original\\disco\\disco.00006.wav\n",
      "Successfully loaded genres_original\\disco\\disco.00007.wav\n",
      "Successfully loaded genres_original\\disco\\disco.00008.wav\n",
      "Successfully loaded genres_original\\disco\\disco.00009.wav\n",
      "Successfully loaded genres_original\\disco\\disco.00010.wav\n",
      "Successfully loaded genres_original\\disco\\disco.00011.wav\n",
      "Successfully loaded genres_original\\disco\\disco.00012.wav\n",
      "Successfully loaded genres_original\\disco\\disco.00013.wav\n",
      "Successfully loaded genres_original\\disco\\disco.00014.wav\n",
      "Successfully loaded genres_original\\disco\\disco.00015.wav\n",
      "Successfully loaded genres_original\\disco\\disco.00016.wav\n",
      "Successfully loaded genres_original\\disco\\disco.00017.wav\n",
      "Successfully loaded genres_original\\disco\\disco.00018.wav\n",
      "Successfully loaded genres_original\\disco\\disco.00019.wav\n",
      "Successfully loaded genres_original\\disco\\disco.00020.wav\n",
      "Successfully loaded genres_original\\disco\\disco.00021.wav\n",
      "Successfully loaded genres_original\\disco\\disco.00022.wav\n",
      "Successfully loaded genres_original\\disco\\disco.00023.wav\n",
      "Successfully loaded genres_original\\disco\\disco.00024.wav\n",
      "Successfully loaded genres_original\\disco\\disco.00025.wav\n",
      "Successfully loaded genres_original\\disco\\disco.00026.wav\n",
      "Successfully loaded genres_original\\disco\\disco.00027.wav\n",
      "Successfully loaded genres_original\\disco\\disco.00028.wav\n",
      "Successfully loaded genres_original\\disco\\disco.00029.wav\n",
      "Successfully loaded genres_original\\disco\\disco.00030.wav\n",
      "Successfully loaded genres_original\\disco\\disco.00031.wav\n",
      "Successfully loaded genres_original\\disco\\disco.00032.wav\n",
      "Successfully loaded genres_original\\disco\\disco.00033.wav\n",
      "Successfully loaded genres_original\\disco\\disco.00034.wav\n",
      "Successfully loaded genres_original\\disco\\disco.00035.wav\n",
      "Successfully loaded genres_original\\disco\\disco.00036.wav\n",
      "Successfully loaded genres_original\\disco\\disco.00037.wav\n",
      "Successfully loaded genres_original\\disco\\disco.00038.wav\n",
      "Successfully loaded genres_original\\disco\\disco.00039.wav\n",
      "Successfully loaded genres_original\\disco\\disco.00040.wav\n",
      "Successfully loaded genres_original\\disco\\disco.00041.wav\n",
      "Successfully loaded genres_original\\disco\\disco.00042.wav\n",
      "Successfully loaded genres_original\\disco\\disco.00043.wav\n",
      "Successfully loaded genres_original\\disco\\disco.00044.wav\n",
      "Successfully loaded genres_original\\disco\\disco.00045.wav\n",
      "Successfully loaded genres_original\\disco\\disco.00046.wav\n",
      "Successfully loaded genres_original\\disco\\disco.00047.wav\n",
      "Successfully loaded genres_original\\disco\\disco.00048.wav\n",
      "Successfully loaded genres_original\\disco\\disco.00049.wav\n",
      "Successfully loaded genres_original\\disco\\disco.00050.wav\n",
      "Successfully loaded genres_original\\disco\\disco.00051.wav\n",
      "Successfully loaded genres_original\\disco\\disco.00052.wav\n",
      "Successfully loaded genres_original\\disco\\disco.00053.wav\n",
      "Successfully loaded genres_original\\disco\\disco.00054.wav\n",
      "Successfully loaded genres_original\\disco\\disco.00055.wav\n",
      "Successfully loaded genres_original\\disco\\disco.00056.wav\n",
      "Successfully loaded genres_original\\disco\\disco.00057.wav\n",
      "Successfully loaded genres_original\\disco\\disco.00058.wav\n",
      "Successfully loaded genres_original\\disco\\disco.00059.wav\n",
      "Successfully loaded genres_original\\disco\\disco.00060.wav\n",
      "Successfully loaded genres_original\\disco\\disco.00061.wav\n",
      "Successfully loaded genres_original\\disco\\disco.00062.wav\n",
      "Successfully loaded genres_original\\disco\\disco.00063.wav\n",
      "Successfully loaded genres_original\\disco\\disco.00064.wav\n",
      "Successfully loaded genres_original\\disco\\disco.00065.wav\n",
      "Successfully loaded genres_original\\disco\\disco.00066.wav\n",
      "Successfully loaded genres_original\\disco\\disco.00067.wav\n",
      "Successfully loaded genres_original\\disco\\disco.00068.wav\n",
      "Successfully loaded genres_original\\disco\\disco.00069.wav\n",
      "Successfully loaded genres_original\\disco\\disco.00070.wav\n",
      "Successfully loaded genres_original\\disco\\disco.00071.wav\n",
      "Successfully loaded genres_original\\disco\\disco.00072.wav\n",
      "Successfully loaded genres_original\\disco\\disco.00073.wav\n",
      "Successfully loaded genres_original\\disco\\disco.00074.wav\n",
      "Successfully loaded genres_original\\disco\\disco.00075.wav\n",
      "Successfully loaded genres_original\\disco\\disco.00076.wav\n",
      "Successfully loaded genres_original\\disco\\disco.00077.wav\n",
      "Successfully loaded genres_original\\disco\\disco.00078.wav\n",
      "Successfully loaded genres_original\\disco\\disco.00079.wav\n",
      "Successfully loaded genres_original\\disco\\disco.00080.wav\n",
      "Successfully loaded genres_original\\disco\\disco.00081.wav\n",
      "Successfully loaded genres_original\\disco\\disco.00082.wav\n",
      "Successfully loaded genres_original\\disco\\disco.00083.wav\n",
      "Successfully loaded genres_original\\disco\\disco.00084.wav\n",
      "Successfully loaded genres_original\\disco\\disco.00085.wav\n",
      "Successfully loaded genres_original\\disco\\disco.00086.wav\n",
      "Successfully loaded genres_original\\disco\\disco.00087.wav\n",
      "Successfully loaded genres_original\\disco\\disco.00088.wav\n",
      "Successfully loaded genres_original\\disco\\disco.00089.wav\n",
      "Successfully loaded genres_original\\disco\\disco.00090.wav\n",
      "Successfully loaded genres_original\\disco\\disco.00091.wav\n",
      "Successfully loaded genres_original\\disco\\disco.00092.wav\n",
      "Successfully loaded genres_original\\disco\\disco.00093.wav\n",
      "Successfully loaded genres_original\\disco\\disco.00094.wav\n",
      "Successfully loaded genres_original\\disco\\disco.00095.wav\n",
      "Successfully loaded genres_original\\disco\\disco.00096.wav\n",
      "Successfully loaded genres_original\\disco\\disco.00097.wav\n",
      "Successfully loaded genres_original\\disco\\disco.00098.wav\n",
      "Successfully loaded genres_original\\disco\\disco.00099.wav\n",
      "Successfully loaded genres_original\\hiphop\\hiphop.00000.wav\n",
      "Successfully loaded genres_original\\hiphop\\hiphop.00001.wav\n",
      "Successfully loaded genres_original\\hiphop\\hiphop.00002.wav\n",
      "Successfully loaded genres_original\\hiphop\\hiphop.00003.wav\n",
      "Successfully loaded genres_original\\hiphop\\hiphop.00004.wav\n",
      "Successfully loaded genres_original\\hiphop\\hiphop.00005.wav\n",
      "Successfully loaded genres_original\\hiphop\\hiphop.00006.wav\n",
      "Successfully loaded genres_original\\hiphop\\hiphop.00007.wav\n",
      "Successfully loaded genres_original\\hiphop\\hiphop.00008.wav\n",
      "Successfully loaded genres_original\\hiphop\\hiphop.00009.wav\n",
      "Successfully loaded genres_original\\hiphop\\hiphop.00010.wav\n",
      "Successfully loaded genres_original\\hiphop\\hiphop.00011.wav\n",
      "Successfully loaded genres_original\\hiphop\\hiphop.00012.wav\n",
      "Successfully loaded genres_original\\hiphop\\hiphop.00013.wav\n",
      "Successfully loaded genres_original\\hiphop\\hiphop.00014.wav\n",
      "Successfully loaded genres_original\\hiphop\\hiphop.00015.wav\n",
      "Successfully loaded genres_original\\hiphop\\hiphop.00016.wav\n",
      "Successfully loaded genres_original\\hiphop\\hiphop.00017.wav\n",
      "Successfully loaded genres_original\\hiphop\\hiphop.00018.wav\n",
      "Successfully loaded genres_original\\hiphop\\hiphop.00019.wav\n",
      "Successfully loaded genres_original\\hiphop\\hiphop.00020.wav\n",
      "Successfully loaded genres_original\\hiphop\\hiphop.00021.wav\n",
      "Successfully loaded genres_original\\hiphop\\hiphop.00022.wav\n",
      "Successfully loaded genres_original\\hiphop\\hiphop.00023.wav\n",
      "Successfully loaded genres_original\\hiphop\\hiphop.00024.wav\n",
      "Successfully loaded genres_original\\hiphop\\hiphop.00025.wav\n",
      "Successfully loaded genres_original\\hiphop\\hiphop.00026.wav\n",
      "Successfully loaded genres_original\\hiphop\\hiphop.00027.wav\n",
      "Successfully loaded genres_original\\hiphop\\hiphop.00028.wav\n",
      "Successfully loaded genres_original\\hiphop\\hiphop.00029.wav\n",
      "Successfully loaded genres_original\\hiphop\\hiphop.00030.wav\n",
      "Successfully loaded genres_original\\hiphop\\hiphop.00031.wav\n",
      "Successfully loaded genres_original\\hiphop\\hiphop.00032.wav\n",
      "Successfully loaded genres_original\\hiphop\\hiphop.00033.wav\n",
      "Successfully loaded genres_original\\hiphop\\hiphop.00034.wav\n",
      "Successfully loaded genres_original\\hiphop\\hiphop.00035.wav\n",
      "Successfully loaded genres_original\\hiphop\\hiphop.00036.wav\n",
      "Successfully loaded genres_original\\hiphop\\hiphop.00037.wav\n",
      "Successfully loaded genres_original\\hiphop\\hiphop.00038.wav\n",
      "Successfully loaded genres_original\\hiphop\\hiphop.00039.wav\n",
      "Successfully loaded genres_original\\hiphop\\hiphop.00040.wav\n",
      "Successfully loaded genres_original\\hiphop\\hiphop.00041.wav\n",
      "Successfully loaded genres_original\\hiphop\\hiphop.00042.wav\n",
      "Successfully loaded genres_original\\hiphop\\hiphop.00043.wav\n",
      "Successfully loaded genres_original\\hiphop\\hiphop.00044.wav\n",
      "Successfully loaded genres_original\\hiphop\\hiphop.00045.wav\n",
      "Successfully loaded genres_original\\hiphop\\hiphop.00046.wav\n",
      "Successfully loaded genres_original\\hiphop\\hiphop.00047.wav\n",
      "Successfully loaded genres_original\\hiphop\\hiphop.00048.wav\n",
      "Successfully loaded genres_original\\hiphop\\hiphop.00049.wav\n",
      "Successfully loaded genres_original\\hiphop\\hiphop.00050.wav\n",
      "Successfully loaded genres_original\\hiphop\\hiphop.00051.wav\n",
      "Successfully loaded genres_original\\hiphop\\hiphop.00052.wav\n",
      "Successfully loaded genres_original\\hiphop\\hiphop.00053.wav\n",
      "Successfully loaded genres_original\\hiphop\\hiphop.00054.wav\n",
      "Successfully loaded genres_original\\hiphop\\hiphop.00055.wav\n",
      "Successfully loaded genres_original\\hiphop\\hiphop.00056.wav\n",
      "Successfully loaded genres_original\\hiphop\\hiphop.00057.wav\n",
      "Successfully loaded genres_original\\hiphop\\hiphop.00058.wav\n",
      "Successfully loaded genres_original\\hiphop\\hiphop.00059.wav\n",
      "Successfully loaded genres_original\\hiphop\\hiphop.00060.wav\n",
      "Successfully loaded genres_original\\hiphop\\hiphop.00061.wav\n",
      "Successfully loaded genres_original\\hiphop\\hiphop.00062.wav\n",
      "Successfully loaded genres_original\\hiphop\\hiphop.00063.wav\n",
      "Successfully loaded genres_original\\hiphop\\hiphop.00064.wav\n",
      "Successfully loaded genres_original\\hiphop\\hiphop.00065.wav\n",
      "Successfully loaded genres_original\\hiphop\\hiphop.00066.wav\n",
      "Successfully loaded genres_original\\hiphop\\hiphop.00067.wav\n",
      "Successfully loaded genres_original\\hiphop\\hiphop.00068.wav\n",
      "Successfully loaded genres_original\\hiphop\\hiphop.00069.wav\n",
      "Successfully loaded genres_original\\hiphop\\hiphop.00070.wav\n",
      "Successfully loaded genres_original\\hiphop\\hiphop.00071.wav\n",
      "Successfully loaded genres_original\\hiphop\\hiphop.00072.wav\n",
      "Successfully loaded genres_original\\hiphop\\hiphop.00073.wav\n",
      "Successfully loaded genres_original\\hiphop\\hiphop.00074.wav\n",
      "Successfully loaded genres_original\\hiphop\\hiphop.00075.wav\n",
      "Successfully loaded genres_original\\hiphop\\hiphop.00076.wav\n",
      "Successfully loaded genres_original\\hiphop\\hiphop.00077.wav\n",
      "Successfully loaded genres_original\\hiphop\\hiphop.00078.wav\n",
      "Successfully loaded genres_original\\hiphop\\hiphop.00079.wav\n",
      "Successfully loaded genres_original\\hiphop\\hiphop.00080.wav\n",
      "Successfully loaded genres_original\\hiphop\\hiphop.00081.wav\n",
      "Successfully loaded genres_original\\hiphop\\hiphop.00082.wav\n",
      "Successfully loaded genres_original\\hiphop\\hiphop.00083.wav\n",
      "Successfully loaded genres_original\\hiphop\\hiphop.00084.wav\n",
      "Successfully loaded genres_original\\hiphop\\hiphop.00085.wav\n",
      "Successfully loaded genres_original\\hiphop\\hiphop.00086.wav\n",
      "Successfully loaded genres_original\\hiphop\\hiphop.00087.wav\n",
      "Successfully loaded genres_original\\hiphop\\hiphop.00088.wav\n",
      "Successfully loaded genres_original\\hiphop\\hiphop.00089.wav\n",
      "Successfully loaded genres_original\\hiphop\\hiphop.00090.wav\n",
      "Successfully loaded genres_original\\hiphop\\hiphop.00091.wav\n",
      "Successfully loaded genres_original\\hiphop\\hiphop.00092.wav\n",
      "Successfully loaded genres_original\\hiphop\\hiphop.00093.wav\n",
      "Successfully loaded genres_original\\hiphop\\hiphop.00094.wav\n",
      "Successfully loaded genres_original\\hiphop\\hiphop.00095.wav\n",
      "Successfully loaded genres_original\\hiphop\\hiphop.00096.wav\n",
      "Successfully loaded genres_original\\hiphop\\hiphop.00097.wav\n",
      "Successfully loaded genres_original\\hiphop\\hiphop.00098.wav\n",
      "Successfully loaded genres_original\\hiphop\\hiphop.00099.wav\n",
      "Successfully loaded genres_original\\jazz\\jazz.00000.wav\n",
      "Successfully loaded genres_original\\jazz\\jazz.00001.wav\n",
      "Successfully loaded genres_original\\jazz\\jazz.00002.wav\n",
      "Successfully loaded genres_original\\jazz\\jazz.00003.wav\n",
      "Successfully loaded genres_original\\jazz\\jazz.00004.wav\n",
      "Successfully loaded genres_original\\jazz\\jazz.00005.wav\n",
      "Successfully loaded genres_original\\jazz\\jazz.00006.wav\n",
      "Successfully loaded genres_original\\jazz\\jazz.00007.wav\n",
      "Successfully loaded genres_original\\jazz\\jazz.00008.wav\n",
      "Successfully loaded genres_original\\jazz\\jazz.00009.wav\n",
      "Successfully loaded genres_original\\jazz\\jazz.00010.wav\n",
      "Successfully loaded genres_original\\jazz\\jazz.00011.wav\n",
      "Successfully loaded genres_original\\jazz\\jazz.00012.wav\n",
      "Successfully loaded genres_original\\jazz\\jazz.00013.wav\n",
      "Successfully loaded genres_original\\jazz\\jazz.00014.wav\n",
      "Successfully loaded genres_original\\jazz\\jazz.00015.wav\n",
      "Successfully loaded genres_original\\jazz\\jazz.00016.wav\n",
      "Successfully loaded genres_original\\jazz\\jazz.00017.wav\n",
      "Successfully loaded genres_original\\jazz\\jazz.00018.wav\n",
      "Successfully loaded genres_original\\jazz\\jazz.00019.wav\n",
      "Successfully loaded genres_original\\jazz\\jazz.00020.wav\n",
      "Successfully loaded genres_original\\jazz\\jazz.00021.wav\n",
      "Successfully loaded genres_original\\jazz\\jazz.00022.wav\n",
      "Successfully loaded genres_original\\jazz\\jazz.00023.wav\n",
      "Successfully loaded genres_original\\jazz\\jazz.00024.wav\n",
      "Successfully loaded genres_original\\jazz\\jazz.00025.wav\n",
      "Successfully loaded genres_original\\jazz\\jazz.00026.wav\n",
      "Successfully loaded genres_original\\jazz\\jazz.00027.wav\n",
      "Successfully loaded genres_original\\jazz\\jazz.00028.wav\n",
      "Successfully loaded genres_original\\jazz\\jazz.00029.wav\n",
      "Successfully loaded genres_original\\jazz\\jazz.00030.wav\n",
      "Successfully loaded genres_original\\jazz\\jazz.00031.wav\n",
      "Successfully loaded genres_original\\jazz\\jazz.00032.wav\n",
      "Successfully loaded genres_original\\jazz\\jazz.00033.wav\n",
      "Successfully loaded genres_original\\jazz\\jazz.00034.wav\n",
      "Successfully loaded genres_original\\jazz\\jazz.00035.wav\n",
      "Successfully loaded genres_original\\jazz\\jazz.00036.wav\n",
      "Successfully loaded genres_original\\jazz\\jazz.00037.wav\n",
      "Successfully loaded genres_original\\jazz\\jazz.00038.wav\n",
      "Successfully loaded genres_original\\jazz\\jazz.00039.wav\n",
      "Successfully loaded genres_original\\jazz\\jazz.00040.wav\n",
      "Successfully loaded genres_original\\jazz\\jazz.00041.wav\n",
      "Successfully loaded genres_original\\jazz\\jazz.00042.wav\n",
      "Successfully loaded genres_original\\jazz\\jazz.00043.wav\n",
      "Successfully loaded genres_original\\jazz\\jazz.00044.wav\n",
      "Successfully loaded genres_original\\jazz\\jazz.00045.wav\n",
      "Successfully loaded genres_original\\jazz\\jazz.00046.wav\n",
      "Successfully loaded genres_original\\jazz\\jazz.00047.wav\n",
      "Successfully loaded genres_original\\jazz\\jazz.00048.wav\n",
      "Successfully loaded genres_original\\jazz\\jazz.00049.wav\n",
      "Successfully loaded genres_original\\jazz\\jazz.00050.wav\n",
      "Successfully loaded genres_original\\jazz\\jazz.00051.wav\n",
      "Successfully loaded genres_original\\jazz\\jazz.00052.wav\n",
      "Successfully loaded genres_original\\jazz\\jazz.00053.wav\n",
      "Failed to load genres_original\\jazz\\jazz.00054.wav: \n",
      "Successfully loaded genres_original\\jazz\\jazz.00055.wav\n",
      "Successfully loaded genres_original\\jazz\\jazz.00056.wav\n",
      "Successfully loaded genres_original\\jazz\\jazz.00057.wav\n",
      "Successfully loaded genres_original\\jazz\\jazz.00058.wav\n",
      "Successfully loaded genres_original\\jazz\\jazz.00059.wav\n",
      "Successfully loaded genres_original\\jazz\\jazz.00060.wav\n",
      "Successfully loaded genres_original\\jazz\\jazz.00061.wav\n",
      "Successfully loaded genres_original\\jazz\\jazz.00062.wav\n",
      "Successfully loaded genres_original\\jazz\\jazz.00063.wav\n",
      "Successfully loaded genres_original\\jazz\\jazz.00064.wav\n",
      "Successfully loaded genres_original\\jazz\\jazz.00065.wav\n",
      "Successfully loaded genres_original\\jazz\\jazz.00066.wav\n",
      "Successfully loaded genres_original\\jazz\\jazz.00067.wav\n",
      "Successfully loaded genres_original\\jazz\\jazz.00068.wav\n",
      "Successfully loaded genres_original\\jazz\\jazz.00069.wav\n",
      "Successfully loaded genres_original\\jazz\\jazz.00070.wav\n",
      "Successfully loaded genres_original\\jazz\\jazz.00071.wav\n",
      "Successfully loaded genres_original\\jazz\\jazz.00072.wav\n",
      "Successfully loaded genres_original\\jazz\\jazz.00073.wav\n",
      "Successfully loaded genres_original\\jazz\\jazz.00074.wav\n",
      "Successfully loaded genres_original\\jazz\\jazz.00075.wav\n",
      "Successfully loaded genres_original\\jazz\\jazz.00076.wav\n",
      "Successfully loaded genres_original\\jazz\\jazz.00077.wav\n",
      "Successfully loaded genres_original\\jazz\\jazz.00078.wav\n",
      "Successfully loaded genres_original\\jazz\\jazz.00079.wav\n",
      "Successfully loaded genres_original\\jazz\\jazz.00080.wav\n",
      "Successfully loaded genres_original\\jazz\\jazz.00081.wav\n",
      "Successfully loaded genres_original\\jazz\\jazz.00082.wav\n",
      "Successfully loaded genres_original\\jazz\\jazz.00083.wav\n",
      "Successfully loaded genres_original\\jazz\\jazz.00084.wav\n",
      "Successfully loaded genres_original\\jazz\\jazz.00085.wav\n",
      "Successfully loaded genres_original\\jazz\\jazz.00086.wav\n",
      "Successfully loaded genres_original\\jazz\\jazz.00087.wav\n",
      "Successfully loaded genres_original\\jazz\\jazz.00088.wav\n",
      "Successfully loaded genres_original\\jazz\\jazz.00089.wav\n",
      "Successfully loaded genres_original\\jazz\\jazz.00090.wav\n",
      "Successfully loaded genres_original\\jazz\\jazz.00091.wav\n",
      "Successfully loaded genres_original\\jazz\\jazz.00092.wav\n",
      "Successfully loaded genres_original\\jazz\\jazz.00093.wav\n",
      "Successfully loaded genres_original\\jazz\\jazz.00094.wav\n",
      "Successfully loaded genres_original\\jazz\\jazz.00095.wav\n"
     ]
    },
    {
     "name": "stderr",
     "output_type": "stream",
     "text": [
      "C:\\Users\\ricky\\AppData\\Local\\Temp\\ipykernel_18548\\2605882628.py:10: UserWarning: PySoundFile failed. Trying audioread instead.\n",
      "  _, _ = librosa.load(filepath, sr=None)\n"
     ]
    },
    {
     "name": "stdout",
     "output_type": "stream",
     "text": [
      "Successfully loaded genres_original\\jazz\\jazz.00096.wav\n",
      "Successfully loaded genres_original\\jazz\\jazz.00097.wav\n",
      "Successfully loaded genres_original\\jazz\\jazz.00098.wav\n",
      "Successfully loaded genres_original\\jazz\\jazz.00099.wav\n",
      "Successfully loaded genres_original\\metal\\metal.00000.wav\n",
      "Successfully loaded genres_original\\metal\\metal.00001.wav\n",
      "Successfully loaded genres_original\\metal\\metal.00002.wav\n",
      "Successfully loaded genres_original\\metal\\metal.00003.wav\n",
      "Successfully loaded genres_original\\metal\\metal.00004.wav\n",
      "Successfully loaded genres_original\\metal\\metal.00005.wav\n",
      "Successfully loaded genres_original\\metal\\metal.00006.wav\n",
      "Successfully loaded genres_original\\metal\\metal.00007.wav\n",
      "Successfully loaded genres_original\\metal\\metal.00008.wav\n",
      "Successfully loaded genres_original\\metal\\metal.00009.wav\n",
      "Successfully loaded genres_original\\metal\\metal.00010.wav\n",
      "Successfully loaded genres_original\\metal\\metal.00011.wav\n",
      "Successfully loaded genres_original\\metal\\metal.00012.wav\n",
      "Successfully loaded genres_original\\metal\\metal.00013.wav\n",
      "Successfully loaded genres_original\\metal\\metal.00014.wav\n",
      "Successfully loaded genres_original\\metal\\metal.00015.wav\n",
      "Successfully loaded genres_original\\metal\\metal.00016.wav\n",
      "Successfully loaded genres_original\\metal\\metal.00017.wav\n",
      "Successfully loaded genres_original\\metal\\metal.00018.wav\n",
      "Successfully loaded genres_original\\metal\\metal.00019.wav\n",
      "Successfully loaded genres_original\\metal\\metal.00020.wav\n",
      "Successfully loaded genres_original\\metal\\metal.00021.wav\n",
      "Successfully loaded genres_original\\metal\\metal.00022.wav\n",
      "Successfully loaded genres_original\\metal\\metal.00023.wav\n",
      "Successfully loaded genres_original\\metal\\metal.00024.wav\n",
      "Successfully loaded genres_original\\metal\\metal.00025.wav\n",
      "Successfully loaded genres_original\\metal\\metal.00026.wav\n",
      "Successfully loaded genres_original\\metal\\metal.00027.wav\n",
      "Successfully loaded genres_original\\metal\\metal.00028.wav\n",
      "Successfully loaded genres_original\\metal\\metal.00029.wav\n",
      "Successfully loaded genres_original\\metal\\metal.00030.wav\n",
      "Successfully loaded genres_original\\metal\\metal.00031.wav\n",
      "Successfully loaded genres_original\\metal\\metal.00032.wav\n",
      "Successfully loaded genres_original\\metal\\metal.00033.wav\n",
      "Successfully loaded genres_original\\metal\\metal.00034.wav\n",
      "Successfully loaded genres_original\\metal\\metal.00035.wav\n",
      "Successfully loaded genres_original\\metal\\metal.00036.wav\n",
      "Successfully loaded genres_original\\metal\\metal.00037.wav\n",
      "Successfully loaded genres_original\\metal\\metal.00038.wav\n",
      "Successfully loaded genres_original\\metal\\metal.00039.wav\n",
      "Successfully loaded genres_original\\metal\\metal.00040.wav\n",
      "Successfully loaded genres_original\\metal\\metal.00041.wav\n",
      "Successfully loaded genres_original\\metal\\metal.00042.wav\n",
      "Successfully loaded genres_original\\metal\\metal.00043.wav\n",
      "Successfully loaded genres_original\\metal\\metal.00044.wav\n",
      "Successfully loaded genres_original\\metal\\metal.00045.wav\n",
      "Successfully loaded genres_original\\metal\\metal.00046.wav\n",
      "Successfully loaded genres_original\\metal\\metal.00047.wav\n",
      "Successfully loaded genres_original\\metal\\metal.00048.wav\n",
      "Successfully loaded genres_original\\metal\\metal.00049.wav\n",
      "Successfully loaded genres_original\\metal\\metal.00050.wav\n",
      "Successfully loaded genres_original\\metal\\metal.00051.wav\n",
      "Successfully loaded genres_original\\metal\\metal.00052.wav\n",
      "Successfully loaded genres_original\\metal\\metal.00053.wav\n",
      "Successfully loaded genres_original\\metal\\metal.00054.wav\n",
      "Successfully loaded genres_original\\metal\\metal.00055.wav\n",
      "Successfully loaded genres_original\\metal\\metal.00056.wav\n",
      "Successfully loaded genres_original\\metal\\metal.00057.wav\n",
      "Successfully loaded genres_original\\metal\\metal.00058.wav\n",
      "Successfully loaded genres_original\\metal\\metal.00059.wav\n",
      "Successfully loaded genres_original\\metal\\metal.00060.wav\n",
      "Successfully loaded genres_original\\metal\\metal.00061.wav\n",
      "Successfully loaded genres_original\\metal\\metal.00062.wav\n",
      "Successfully loaded genres_original\\metal\\metal.00063.wav\n",
      "Successfully loaded genres_original\\metal\\metal.00064.wav\n",
      "Successfully loaded genres_original\\metal\\metal.00065.wav\n",
      "Successfully loaded genres_original\\metal\\metal.00066.wav\n",
      "Successfully loaded genres_original\\metal\\metal.00067.wav\n",
      "Successfully loaded genres_original\\metal\\metal.00068.wav\n",
      "Successfully loaded genres_original\\metal\\metal.00069.wav\n",
      "Successfully loaded genres_original\\metal\\metal.00070.wav\n",
      "Successfully loaded genres_original\\metal\\metal.00071.wav\n",
      "Successfully loaded genres_original\\metal\\metal.00072.wav\n",
      "Successfully loaded genres_original\\metal\\metal.00073.wav\n",
      "Successfully loaded genres_original\\metal\\metal.00074.wav\n",
      "Successfully loaded genres_original\\metal\\metal.00075.wav\n",
      "Successfully loaded genres_original\\metal\\metal.00076.wav\n",
      "Successfully loaded genres_original\\metal\\metal.00077.wav\n",
      "Successfully loaded genres_original\\metal\\metal.00078.wav\n",
      "Successfully loaded genres_original\\metal\\metal.00079.wav\n",
      "Successfully loaded genres_original\\metal\\metal.00080.wav\n",
      "Successfully loaded genres_original\\metal\\metal.00081.wav\n",
      "Successfully loaded genres_original\\metal\\metal.00082.wav\n",
      "Successfully loaded genres_original\\metal\\metal.00083.wav\n",
      "Successfully loaded genres_original\\metal\\metal.00084.wav\n",
      "Successfully loaded genres_original\\metal\\metal.00085.wav\n",
      "Successfully loaded genres_original\\metal\\metal.00086.wav\n",
      "Successfully loaded genres_original\\metal\\metal.00087.wav\n",
      "Successfully loaded genres_original\\metal\\metal.00088.wav\n",
      "Successfully loaded genres_original\\metal\\metal.00089.wav\n",
      "Successfully loaded genres_original\\metal\\metal.00090.wav\n",
      "Successfully loaded genres_original\\metal\\metal.00091.wav\n",
      "Successfully loaded genres_original\\metal\\metal.00092.wav\n",
      "Successfully loaded genres_original\\metal\\metal.00093.wav\n",
      "Successfully loaded genres_original\\metal\\metal.00094.wav\n",
      "Successfully loaded genres_original\\metal\\metal.00095.wav\n",
      "Successfully loaded genres_original\\metal\\metal.00096.wav\n",
      "Successfully loaded genres_original\\metal\\metal.00097.wav\n",
      "Successfully loaded genres_original\\metal\\metal.00098.wav\n",
      "Successfully loaded genres_original\\metal\\metal.00099.wav\n",
      "Successfully loaded genres_original\\pop\\pop.00000.wav\n",
      "Successfully loaded genres_original\\pop\\pop.00001.wav\n",
      "Successfully loaded genres_original\\pop\\pop.00002.wav\n",
      "Successfully loaded genres_original\\pop\\pop.00003.wav\n",
      "Successfully loaded genres_original\\pop\\pop.00004.wav\n",
      "Successfully loaded genres_original\\pop\\pop.00005.wav\n",
      "Successfully loaded genres_original\\pop\\pop.00006.wav\n",
      "Successfully loaded genres_original\\pop\\pop.00007.wav\n",
      "Successfully loaded genres_original\\pop\\pop.00008.wav\n",
      "Successfully loaded genres_original\\pop\\pop.00009.wav\n",
      "Successfully loaded genres_original\\pop\\pop.00010.wav\n",
      "Successfully loaded genres_original\\pop\\pop.00011.wav\n",
      "Successfully loaded genres_original\\pop\\pop.00012.wav\n",
      "Successfully loaded genres_original\\pop\\pop.00013.wav\n",
      "Successfully loaded genres_original\\pop\\pop.00014.wav\n",
      "Successfully loaded genres_original\\pop\\pop.00015.wav\n",
      "Successfully loaded genres_original\\pop\\pop.00016.wav\n",
      "Successfully loaded genres_original\\pop\\pop.00017.wav\n",
      "Successfully loaded genres_original\\pop\\pop.00018.wav\n",
      "Successfully loaded genres_original\\pop\\pop.00019.wav\n",
      "Successfully loaded genres_original\\pop\\pop.00020.wav\n",
      "Successfully loaded genres_original\\pop\\pop.00021.wav\n",
      "Successfully loaded genres_original\\pop\\pop.00022.wav\n",
      "Successfully loaded genres_original\\pop\\pop.00023.wav\n",
      "Successfully loaded genres_original\\pop\\pop.00024.wav\n",
      "Successfully loaded genres_original\\pop\\pop.00025.wav\n",
      "Successfully loaded genres_original\\pop\\pop.00026.wav\n",
      "Successfully loaded genres_original\\pop\\pop.00027.wav\n",
      "Successfully loaded genres_original\\pop\\pop.00028.wav\n",
      "Successfully loaded genres_original\\pop\\pop.00029.wav\n",
      "Successfully loaded genres_original\\pop\\pop.00030.wav\n",
      "Successfully loaded genres_original\\pop\\pop.00031.wav\n",
      "Successfully loaded genres_original\\pop\\pop.00032.wav\n",
      "Successfully loaded genres_original\\pop\\pop.00033.wav\n",
      "Successfully loaded genres_original\\pop\\pop.00034.wav\n",
      "Successfully loaded genres_original\\pop\\pop.00035.wav\n",
      "Successfully loaded genres_original\\pop\\pop.00036.wav\n",
      "Successfully loaded genres_original\\pop\\pop.00037.wav\n",
      "Successfully loaded genres_original\\pop\\pop.00038.wav\n",
      "Successfully loaded genres_original\\pop\\pop.00039.wav\n",
      "Successfully loaded genres_original\\pop\\pop.00040.wav\n",
      "Successfully loaded genres_original\\pop\\pop.00041.wav\n",
      "Successfully loaded genres_original\\pop\\pop.00042.wav\n",
      "Successfully loaded genres_original\\pop\\pop.00043.wav\n",
      "Successfully loaded genres_original\\pop\\pop.00044.wav\n",
      "Successfully loaded genres_original\\pop\\pop.00045.wav\n",
      "Successfully loaded genres_original\\pop\\pop.00046.wav\n",
      "Successfully loaded genres_original\\pop\\pop.00047.wav\n",
      "Successfully loaded genres_original\\pop\\pop.00048.wav\n",
      "Successfully loaded genres_original\\pop\\pop.00049.wav\n",
      "Successfully loaded genres_original\\pop\\pop.00050.wav\n",
      "Successfully loaded genres_original\\pop\\pop.00051.wav\n",
      "Successfully loaded genres_original\\pop\\pop.00052.wav\n",
      "Successfully loaded genres_original\\pop\\pop.00053.wav\n",
      "Successfully loaded genres_original\\pop\\pop.00054.wav\n",
      "Successfully loaded genres_original\\pop\\pop.00055.wav\n",
      "Successfully loaded genres_original\\pop\\pop.00056.wav\n",
      "Successfully loaded genres_original\\pop\\pop.00057.wav\n",
      "Successfully loaded genres_original\\pop\\pop.00058.wav\n",
      "Successfully loaded genres_original\\pop\\pop.00059.wav\n",
      "Successfully loaded genres_original\\pop\\pop.00060.wav\n",
      "Successfully loaded genres_original\\pop\\pop.00061.wav\n",
      "Successfully loaded genres_original\\pop\\pop.00062.wav\n",
      "Successfully loaded genres_original\\pop\\pop.00063.wav\n",
      "Successfully loaded genres_original\\pop\\pop.00064.wav\n",
      "Successfully loaded genres_original\\pop\\pop.00065.wav\n",
      "Successfully loaded genres_original\\pop\\pop.00066.wav\n",
      "Successfully loaded genres_original\\pop\\pop.00067.wav\n",
      "Successfully loaded genres_original\\pop\\pop.00068.wav\n",
      "Successfully loaded genres_original\\pop\\pop.00069.wav\n",
      "Successfully loaded genres_original\\pop\\pop.00070.wav\n",
      "Successfully loaded genres_original\\pop\\pop.00071.wav\n",
      "Successfully loaded genres_original\\pop\\pop.00072.wav\n",
      "Successfully loaded genres_original\\pop\\pop.00073.wav\n",
      "Successfully loaded genres_original\\pop\\pop.00074.wav\n",
      "Successfully loaded genres_original\\pop\\pop.00075.wav\n",
      "Successfully loaded genres_original\\pop\\pop.00076.wav\n",
      "Successfully loaded genres_original\\pop\\pop.00077.wav\n",
      "Successfully loaded genres_original\\pop\\pop.00078.wav\n",
      "Successfully loaded genres_original\\pop\\pop.00079.wav\n",
      "Successfully loaded genres_original\\pop\\pop.00080.wav\n",
      "Successfully loaded genres_original\\pop\\pop.00081.wav\n",
      "Successfully loaded genres_original\\pop\\pop.00082.wav\n",
      "Successfully loaded genres_original\\pop\\pop.00083.wav\n",
      "Successfully loaded genres_original\\pop\\pop.00084.wav\n",
      "Successfully loaded genres_original\\pop\\pop.00085.wav\n",
      "Successfully loaded genres_original\\pop\\pop.00086.wav\n",
      "Successfully loaded genres_original\\pop\\pop.00087.wav\n",
      "Successfully loaded genres_original\\pop\\pop.00088.wav\n",
      "Successfully loaded genres_original\\pop\\pop.00089.wav\n",
      "Successfully loaded genres_original\\pop\\pop.00090.wav\n",
      "Successfully loaded genres_original\\pop\\pop.00091.wav\n",
      "Successfully loaded genres_original\\pop\\pop.00092.wav\n",
      "Successfully loaded genres_original\\pop\\pop.00093.wav\n",
      "Successfully loaded genres_original\\pop\\pop.00094.wav\n",
      "Successfully loaded genres_original\\pop\\pop.00095.wav\n",
      "Successfully loaded genres_original\\pop\\pop.00096.wav\n",
      "Successfully loaded genres_original\\pop\\pop.00097.wav\n",
      "Successfully loaded genres_original\\pop\\pop.00098.wav\n",
      "Successfully loaded genres_original\\pop\\pop.00099.wav\n",
      "Successfully loaded genres_original\\reggae\\reggae.00000.wav\n",
      "Successfully loaded genres_original\\reggae\\reggae.00001.wav\n",
      "Successfully loaded genres_original\\reggae\\reggae.00002.wav\n",
      "Successfully loaded genres_original\\reggae\\reggae.00003.wav\n",
      "Successfully loaded genres_original\\reggae\\reggae.00004.wav\n",
      "Successfully loaded genres_original\\reggae\\reggae.00005.wav\n",
      "Successfully loaded genres_original\\reggae\\reggae.00006.wav\n",
      "Successfully loaded genres_original\\reggae\\reggae.00007.wav\n",
      "Successfully loaded genres_original\\reggae\\reggae.00008.wav\n",
      "Successfully loaded genres_original\\reggae\\reggae.00009.wav\n",
      "Successfully loaded genres_original\\reggae\\reggae.00010.wav\n",
      "Successfully loaded genres_original\\reggae\\reggae.00011.wav\n",
      "Successfully loaded genres_original\\reggae\\reggae.00012.wav\n",
      "Successfully loaded genres_original\\reggae\\reggae.00013.wav\n",
      "Successfully loaded genres_original\\reggae\\reggae.00014.wav\n",
      "Successfully loaded genres_original\\reggae\\reggae.00015.wav\n",
      "Successfully loaded genres_original\\reggae\\reggae.00016.wav\n",
      "Successfully loaded genres_original\\reggae\\reggae.00017.wav\n",
      "Successfully loaded genres_original\\reggae\\reggae.00018.wav\n",
      "Successfully loaded genres_original\\reggae\\reggae.00019.wav\n",
      "Successfully loaded genres_original\\reggae\\reggae.00020.wav\n",
      "Successfully loaded genres_original\\reggae\\reggae.00021.wav\n",
      "Successfully loaded genres_original\\reggae\\reggae.00022.wav\n",
      "Successfully loaded genres_original\\reggae\\reggae.00023.wav\n",
      "Successfully loaded genres_original\\reggae\\reggae.00024.wav\n",
      "Successfully loaded genres_original\\reggae\\reggae.00025.wav\n",
      "Successfully loaded genres_original\\reggae\\reggae.00026.wav\n",
      "Successfully loaded genres_original\\reggae\\reggae.00027.wav\n",
      "Successfully loaded genres_original\\reggae\\reggae.00028.wav\n",
      "Successfully loaded genres_original\\reggae\\reggae.00029.wav\n",
      "Successfully loaded genres_original\\reggae\\reggae.00030.wav\n",
      "Successfully loaded genres_original\\reggae\\reggae.00031.wav\n",
      "Successfully loaded genres_original\\reggae\\reggae.00032.wav\n",
      "Successfully loaded genres_original\\reggae\\reggae.00033.wav\n",
      "Successfully loaded genres_original\\reggae\\reggae.00034.wav\n",
      "Successfully loaded genres_original\\reggae\\reggae.00035.wav\n",
      "Successfully loaded genres_original\\reggae\\reggae.00036.wav\n",
      "Successfully loaded genres_original\\reggae\\reggae.00037.wav\n",
      "Successfully loaded genres_original\\reggae\\reggae.00038.wav\n",
      "Successfully loaded genres_original\\reggae\\reggae.00039.wav\n",
      "Successfully loaded genres_original\\reggae\\reggae.00040.wav\n",
      "Successfully loaded genres_original\\reggae\\reggae.00041.wav\n",
      "Successfully loaded genres_original\\reggae\\reggae.00042.wav\n",
      "Successfully loaded genres_original\\reggae\\reggae.00043.wav\n",
      "Successfully loaded genres_original\\reggae\\reggae.00044.wav\n",
      "Successfully loaded genres_original\\reggae\\reggae.00045.wav\n",
      "Successfully loaded genres_original\\reggae\\reggae.00046.wav\n",
      "Successfully loaded genres_original\\reggae\\reggae.00047.wav\n",
      "Successfully loaded genres_original\\reggae\\reggae.00048.wav\n",
      "Successfully loaded genres_original\\reggae\\reggae.00049.wav\n",
      "Successfully loaded genres_original\\reggae\\reggae.00050.wav\n",
      "Successfully loaded genres_original\\reggae\\reggae.00051.wav\n",
      "Successfully loaded genres_original\\reggae\\reggae.00052.wav\n",
      "Successfully loaded genres_original\\reggae\\reggae.00053.wav\n",
      "Successfully loaded genres_original\\reggae\\reggae.00054.wav\n",
      "Successfully loaded genres_original\\reggae\\reggae.00055.wav\n",
      "Successfully loaded genres_original\\reggae\\reggae.00056.wav\n",
      "Successfully loaded genres_original\\reggae\\reggae.00057.wav\n",
      "Successfully loaded genres_original\\reggae\\reggae.00058.wav\n",
      "Successfully loaded genres_original\\reggae\\reggae.00059.wav\n",
      "Successfully loaded genres_original\\reggae\\reggae.00060.wav\n",
      "Successfully loaded genres_original\\reggae\\reggae.00061.wav\n",
      "Successfully loaded genres_original\\reggae\\reggae.00062.wav\n",
      "Successfully loaded genres_original\\reggae\\reggae.00063.wav\n",
      "Successfully loaded genres_original\\reggae\\reggae.00064.wav\n",
      "Successfully loaded genres_original\\reggae\\reggae.00065.wav\n",
      "Successfully loaded genres_original\\reggae\\reggae.00066.wav\n",
      "Successfully loaded genres_original\\reggae\\reggae.00067.wav\n",
      "Successfully loaded genres_original\\reggae\\reggae.00068.wav\n",
      "Successfully loaded genres_original\\reggae\\reggae.00069.wav\n",
      "Successfully loaded genres_original\\reggae\\reggae.00070.wav\n",
      "Successfully loaded genres_original\\reggae\\reggae.00071.wav\n",
      "Successfully loaded genres_original\\reggae\\reggae.00072.wav\n",
      "Successfully loaded genres_original\\reggae\\reggae.00073.wav\n",
      "Successfully loaded genres_original\\reggae\\reggae.00074.wav\n",
      "Successfully loaded genres_original\\reggae\\reggae.00075.wav\n",
      "Successfully loaded genres_original\\reggae\\reggae.00076.wav\n",
      "Successfully loaded genres_original\\reggae\\reggae.00077.wav\n",
      "Successfully loaded genres_original\\reggae\\reggae.00078.wav\n",
      "Successfully loaded genres_original\\reggae\\reggae.00079.wav\n",
      "Successfully loaded genres_original\\reggae\\reggae.00080.wav\n",
      "Successfully loaded genres_original\\reggae\\reggae.00081.wav\n",
      "Successfully loaded genres_original\\reggae\\reggae.00082.wav\n",
      "Successfully loaded genres_original\\reggae\\reggae.00083.wav\n",
      "Successfully loaded genres_original\\reggae\\reggae.00084.wav\n",
      "Successfully loaded genres_original\\reggae\\reggae.00085.wav\n",
      "Successfully loaded genres_original\\reggae\\reggae.00086.wav\n",
      "Successfully loaded genres_original\\reggae\\reggae.00087.wav\n",
      "Successfully loaded genres_original\\reggae\\reggae.00088.wav\n",
      "Successfully loaded genres_original\\reggae\\reggae.00089.wav\n",
      "Successfully loaded genres_original\\reggae\\reggae.00090.wav\n",
      "Successfully loaded genres_original\\reggae\\reggae.00091.wav\n",
      "Successfully loaded genres_original\\reggae\\reggae.00092.wav\n",
      "Successfully loaded genres_original\\reggae\\reggae.00093.wav\n",
      "Successfully loaded genres_original\\reggae\\reggae.00094.wav\n",
      "Successfully loaded genres_original\\reggae\\reggae.00095.wav\n",
      "Successfully loaded genres_original\\reggae\\reggae.00096.wav\n",
      "Successfully loaded genres_original\\reggae\\reggae.00097.wav\n",
      "Successfully loaded genres_original\\reggae\\reggae.00098.wav\n",
      "Successfully loaded genres_original\\reggae\\reggae.00099.wav\n",
      "Successfully loaded genres_original\\rock\\rock.00000.wav\n",
      "Successfully loaded genres_original\\rock\\rock.00001.wav\n",
      "Successfully loaded genres_original\\rock\\rock.00002.wav\n",
      "Successfully loaded genres_original\\rock\\rock.00003.wav\n",
      "Successfully loaded genres_original\\rock\\rock.00004.wav\n",
      "Successfully loaded genres_original\\rock\\rock.00005.wav\n",
      "Successfully loaded genres_original\\rock\\rock.00006.wav\n",
      "Successfully loaded genres_original\\rock\\rock.00007.wav\n",
      "Successfully loaded genres_original\\rock\\rock.00008.wav\n",
      "Successfully loaded genres_original\\rock\\rock.00009.wav\n",
      "Successfully loaded genres_original\\rock\\rock.00010.wav\n",
      "Successfully loaded genres_original\\rock\\rock.00011.wav\n",
      "Successfully loaded genres_original\\rock\\rock.00012.wav\n",
      "Successfully loaded genres_original\\rock\\rock.00013.wav\n",
      "Successfully loaded genres_original\\rock\\rock.00014.wav\n",
      "Successfully loaded genres_original\\rock\\rock.00015.wav\n",
      "Successfully loaded genres_original\\rock\\rock.00016.wav\n",
      "Successfully loaded genres_original\\rock\\rock.00017.wav\n",
      "Successfully loaded genres_original\\rock\\rock.00018.wav\n",
      "Successfully loaded genres_original\\rock\\rock.00019.wav\n",
      "Successfully loaded genres_original\\rock\\rock.00020.wav\n",
      "Successfully loaded genres_original\\rock\\rock.00021.wav\n",
      "Successfully loaded genres_original\\rock\\rock.00022.wav\n",
      "Successfully loaded genres_original\\rock\\rock.00023.wav\n",
      "Successfully loaded genres_original\\rock\\rock.00024.wav\n",
      "Successfully loaded genres_original\\rock\\rock.00025.wav\n",
      "Successfully loaded genres_original\\rock\\rock.00026.wav\n",
      "Successfully loaded genres_original\\rock\\rock.00027.wav\n",
      "Successfully loaded genres_original\\rock\\rock.00028.wav\n",
      "Successfully loaded genres_original\\rock\\rock.00029.wav\n",
      "Successfully loaded genres_original\\rock\\rock.00030.wav\n",
      "Successfully loaded genres_original\\rock\\rock.00031.wav\n",
      "Successfully loaded genres_original\\rock\\rock.00032.wav\n",
      "Successfully loaded genres_original\\rock\\rock.00033.wav\n",
      "Successfully loaded genres_original\\rock\\rock.00034.wav\n",
      "Successfully loaded genres_original\\rock\\rock.00035.wav\n",
      "Successfully loaded genres_original\\rock\\rock.00036.wav\n",
      "Successfully loaded genres_original\\rock\\rock.00037.wav\n",
      "Successfully loaded genres_original\\rock\\rock.00038.wav\n",
      "Successfully loaded genres_original\\rock\\rock.00039.wav\n",
      "Successfully loaded genres_original\\rock\\rock.00040.wav\n",
      "Successfully loaded genres_original\\rock\\rock.00041.wav\n",
      "Successfully loaded genres_original\\rock\\rock.00042.wav\n",
      "Successfully loaded genres_original\\rock\\rock.00043.wav\n",
      "Successfully loaded genres_original\\rock\\rock.00044.wav\n",
      "Successfully loaded genres_original\\rock\\rock.00045.wav\n",
      "Successfully loaded genres_original\\rock\\rock.00046.wav\n",
      "Successfully loaded genres_original\\rock\\rock.00047.wav\n",
      "Successfully loaded genres_original\\rock\\rock.00048.wav\n",
      "Successfully loaded genres_original\\rock\\rock.00049.wav\n",
      "Successfully loaded genres_original\\rock\\rock.00050.wav\n",
      "Successfully loaded genres_original\\rock\\rock.00051.wav\n",
      "Successfully loaded genres_original\\rock\\rock.00052.wav\n",
      "Successfully loaded genres_original\\rock\\rock.00053.wav\n",
      "Successfully loaded genres_original\\rock\\rock.00054.wav\n",
      "Successfully loaded genres_original\\rock\\rock.00055.wav\n",
      "Successfully loaded genres_original\\rock\\rock.00056.wav\n",
      "Successfully loaded genres_original\\rock\\rock.00057.wav\n",
      "Successfully loaded genres_original\\rock\\rock.00058.wav\n",
      "Successfully loaded genres_original\\rock\\rock.00059.wav\n",
      "Successfully loaded genres_original\\rock\\rock.00060.wav\n",
      "Successfully loaded genres_original\\rock\\rock.00061.wav\n",
      "Successfully loaded genres_original\\rock\\rock.00062.wav\n",
      "Successfully loaded genres_original\\rock\\rock.00063.wav\n",
      "Successfully loaded genres_original\\rock\\rock.00064.wav\n",
      "Successfully loaded genres_original\\rock\\rock.00065.wav\n",
      "Successfully loaded genres_original\\rock\\rock.00066.wav\n",
      "Successfully loaded genres_original\\rock\\rock.00067.wav\n",
      "Successfully loaded genres_original\\rock\\rock.00068.wav\n",
      "Successfully loaded genres_original\\rock\\rock.00069.wav\n",
      "Successfully loaded genres_original\\rock\\rock.00070.wav\n",
      "Successfully loaded genres_original\\rock\\rock.00071.wav\n",
      "Successfully loaded genres_original\\rock\\rock.00072.wav\n",
      "Successfully loaded genres_original\\rock\\rock.00073.wav\n",
      "Successfully loaded genres_original\\rock\\rock.00074.wav\n",
      "Successfully loaded genres_original\\rock\\rock.00075.wav\n",
      "Successfully loaded genres_original\\rock\\rock.00076.wav\n",
      "Successfully loaded genres_original\\rock\\rock.00077.wav\n",
      "Successfully loaded genres_original\\rock\\rock.00078.wav\n",
      "Successfully loaded genres_original\\rock\\rock.00079.wav\n",
      "Successfully loaded genres_original\\rock\\rock.00080.wav\n",
      "Successfully loaded genres_original\\rock\\rock.00081.wav\n",
      "Successfully loaded genres_original\\rock\\rock.00082.wav\n",
      "Successfully loaded genres_original\\rock\\rock.00083.wav\n",
      "Successfully loaded genres_original\\rock\\rock.00084.wav\n",
      "Successfully loaded genres_original\\rock\\rock.00085.wav\n",
      "Successfully loaded genres_original\\rock\\rock.00086.wav\n",
      "Successfully loaded genres_original\\rock\\rock.00087.wav\n",
      "Successfully loaded genres_original\\rock\\rock.00088.wav\n",
      "Successfully loaded genres_original\\rock\\rock.00089.wav\n",
      "Successfully loaded genres_original\\rock\\rock.00090.wav\n",
      "Successfully loaded genres_original\\rock\\rock.00091.wav\n",
      "Successfully loaded genres_original\\rock\\rock.00092.wav\n",
      "Successfully loaded genres_original\\rock\\rock.00093.wav\n",
      "Successfully loaded genres_original\\rock\\rock.00094.wav\n",
      "Successfully loaded genres_original\\rock\\rock.00095.wav\n",
      "Successfully loaded genres_original\\rock\\rock.00096.wav\n",
      "Successfully loaded genres_original\\rock\\rock.00097.wav\n",
      "Successfully loaded genres_original\\rock\\rock.00098.wav\n",
      "Successfully loaded genres_original\\rock\\rock.00099.wav\n",
      "Corrupted files:\n",
      "genres_original\\jazz\\jazz.00054.wav\n"
     ]
    }
   ],
   "source": [
    "import os\n",
    "import librosa\n",
    "\n",
    "#corrupted file let my model cant work\n",
    "#find the corrupted files\n",
    "def find_corrupted_files(directory):\n",
    "    corrupted_files = []\n",
    "    for subdir, dirs, files in os.walk(directory):\n",
    "        for file in files:\n",
    "            filepath = os.path.join(subdir, file)\n",
    "            try:\n",
    "                _, _ = librosa.load(filepath, sr=None)\n",
    "                print(f\"Successfully loaded {filepath}\")\n",
    "            except Exception as e:\n",
    "                print(f\"Failed to load {filepath}: {e}\")\n",
    "                corrupted_files.append(filepath)\n",
    "    return corrupted_files\n",
    "\n",
    "\n",
    "audio_directory = 'genres_original'\n",
    "corrupted_files = find_corrupted_files(audio_directory)\n",
    "\n",
    "if corrupted_files:\n",
    "    print(\"Corrupted files:\")\n",
    "    for filepath in corrupted_files:\n",
    "        print(filepath)\n",
    "else:\n",
    "    print(\"No corrupted files found.\")"
   ]
  },
  {
   "cell_type": "code",
   "execution_count": 10,
   "id": "0cc6502c",
   "metadata": {},
   "outputs": [
    {
     "name": "stdout",
     "output_type": "stream",
     "text": [
      "Successfully loaded genres_original\\blues\\blues.00000.wav\n",
      "Successfully loaded genres_original\\blues\\blues.00001.wav\n",
      "Successfully loaded genres_original\\blues\\blues.00002.wav\n",
      "Successfully loaded genres_original\\blues\\blues.00003.wav\n",
      "Successfully loaded genres_original\\blues\\blues.00004.wav\n",
      "Successfully loaded genres_original\\blues\\blues.00005.wav\n",
      "Successfully loaded genres_original\\blues\\blues.00006.wav\n",
      "Successfully loaded genres_original\\blues\\blues.00007.wav\n",
      "Successfully loaded genres_original\\blues\\blues.00008.wav\n",
      "Successfully loaded genres_original\\blues\\blues.00009.wav\n",
      "Successfully loaded genres_original\\blues\\blues.00010.wav\n",
      "Successfully loaded genres_original\\blues\\blues.00011.wav\n",
      "Successfully loaded genres_original\\blues\\blues.00012.wav\n",
      "Successfully loaded genres_original\\blues\\blues.00013.wav\n",
      "Successfully loaded genres_original\\blues\\blues.00014.wav\n",
      "Successfully loaded genres_original\\blues\\blues.00015.wav\n",
      "Successfully loaded genres_original\\blues\\blues.00016.wav\n",
      "Successfully loaded genres_original\\blues\\blues.00017.wav\n",
      "Successfully loaded genres_original\\blues\\blues.00018.wav\n",
      "Successfully loaded genres_original\\blues\\blues.00019.wav\n",
      "Successfully loaded genres_original\\blues\\blues.00020.wav\n",
      "Successfully loaded genres_original\\blues\\blues.00021.wav\n",
      "Successfully loaded genres_original\\blues\\blues.00022.wav\n",
      "Successfully loaded genres_original\\blues\\blues.00023.wav\n",
      "Successfully loaded genres_original\\blues\\blues.00024.wav\n",
      "Successfully loaded genres_original\\blues\\blues.00025.wav\n",
      "Successfully loaded genres_original\\blues\\blues.00026.wav\n",
      "Successfully loaded genres_original\\blues\\blues.00027.wav\n",
      "Successfully loaded genres_original\\blues\\blues.00028.wav\n",
      "Successfully loaded genres_original\\blues\\blues.00029.wav\n",
      "Successfully loaded genres_original\\blues\\blues.00030.wav\n",
      "Successfully loaded genres_original\\blues\\blues.00031.wav\n",
      "Successfully loaded genres_original\\blues\\blues.00032.wav\n",
      "Successfully loaded genres_original\\blues\\blues.00033.wav\n",
      "Successfully loaded genres_original\\blues\\blues.00034.wav\n",
      "Successfully loaded genres_original\\blues\\blues.00035.wav\n",
      "Successfully loaded genres_original\\blues\\blues.00036.wav\n",
      "Successfully loaded genres_original\\blues\\blues.00037.wav\n",
      "Successfully loaded genres_original\\blues\\blues.00038.wav\n",
      "Successfully loaded genres_original\\blues\\blues.00039.wav\n",
      "Successfully loaded genres_original\\blues\\blues.00040.wav\n",
      "Successfully loaded genres_original\\blues\\blues.00041.wav\n",
      "Successfully loaded genres_original\\blues\\blues.00042.wav\n",
      "Successfully loaded genres_original\\blues\\blues.00043.wav\n",
      "Successfully loaded genres_original\\blues\\blues.00044.wav\n",
      "Successfully loaded genres_original\\blues\\blues.00045.wav\n",
      "Successfully loaded genres_original\\blues\\blues.00046.wav\n",
      "Successfully loaded genres_original\\blues\\blues.00047.wav\n",
      "Successfully loaded genres_original\\blues\\blues.00048.wav\n",
      "Successfully loaded genres_original\\blues\\blues.00049.wav\n",
      "Successfully loaded genres_original\\blues\\blues.00050.wav\n",
      "Successfully loaded genres_original\\blues\\blues.00051.wav\n",
      "Successfully loaded genres_original\\blues\\blues.00052.wav\n",
      "Successfully loaded genres_original\\blues\\blues.00053.wav\n",
      "Successfully loaded genres_original\\blues\\blues.00054.wav\n",
      "Successfully loaded genres_original\\blues\\blues.00055.wav\n",
      "Successfully loaded genres_original\\blues\\blues.00056.wav\n",
      "Successfully loaded genres_original\\blues\\blues.00057.wav\n",
      "Successfully loaded genres_original\\blues\\blues.00058.wav\n",
      "Successfully loaded genres_original\\blues\\blues.00059.wav\n",
      "Successfully loaded genres_original\\blues\\blues.00060.wav\n",
      "Successfully loaded genres_original\\blues\\blues.00061.wav\n",
      "Successfully loaded genres_original\\blues\\blues.00062.wav\n",
      "Successfully loaded genres_original\\blues\\blues.00063.wav\n",
      "Successfully loaded genres_original\\blues\\blues.00064.wav\n",
      "Successfully loaded genres_original\\blues\\blues.00065.wav\n",
      "Successfully loaded genres_original\\blues\\blues.00066.wav\n",
      "Successfully loaded genres_original\\blues\\blues.00067.wav\n",
      "Successfully loaded genres_original\\blues\\blues.00068.wav\n",
      "Successfully loaded genres_original\\blues\\blues.00069.wav\n",
      "Successfully loaded genres_original\\blues\\blues.00070.wav\n",
      "Successfully loaded genres_original\\blues\\blues.00071.wav\n",
      "Successfully loaded genres_original\\blues\\blues.00072.wav\n",
      "Successfully loaded genres_original\\blues\\blues.00073.wav\n",
      "Successfully loaded genres_original\\blues\\blues.00074.wav\n",
      "Successfully loaded genres_original\\blues\\blues.00075.wav\n",
      "Successfully loaded genres_original\\blues\\blues.00076.wav\n",
      "Successfully loaded genres_original\\blues\\blues.00077.wav\n",
      "Successfully loaded genres_original\\blues\\blues.00078.wav\n",
      "Successfully loaded genres_original\\blues\\blues.00079.wav\n",
      "Successfully loaded genres_original\\blues\\blues.00080.wav\n",
      "Successfully loaded genres_original\\blues\\blues.00081.wav\n",
      "Successfully loaded genres_original\\blues\\blues.00082.wav\n",
      "Successfully loaded genres_original\\blues\\blues.00083.wav\n",
      "Successfully loaded genres_original\\blues\\blues.00084.wav\n",
      "Successfully loaded genres_original\\blues\\blues.00085.wav\n",
      "Successfully loaded genres_original\\blues\\blues.00086.wav\n",
      "Successfully loaded genres_original\\blues\\blues.00087.wav\n",
      "Successfully loaded genres_original\\blues\\blues.00088.wav\n",
      "Successfully loaded genres_original\\blues\\blues.00089.wav\n",
      "Successfully loaded genres_original\\blues\\blues.00090.wav\n",
      "Successfully loaded genres_original\\blues\\blues.00091.wav\n",
      "Successfully loaded genres_original\\blues\\blues.00092.wav\n",
      "Successfully loaded genres_original\\blues\\blues.00093.wav\n",
      "Successfully loaded genres_original\\blues\\blues.00094.wav\n",
      "Successfully loaded genres_original\\blues\\blues.00095.wav\n",
      "Successfully loaded genres_original\\blues\\blues.00096.wav\n",
      "Successfully loaded genres_original\\blues\\blues.00097.wav\n",
      "Successfully loaded genres_original\\blues\\blues.00098.wav\n",
      "Successfully loaded genres_original\\blues\\blues.00099.wav\n",
      "Successfully loaded genres_original\\classical\\classical.00000.wav\n",
      "Successfully loaded genres_original\\classical\\classical.00001.wav\n",
      "Successfully loaded genres_original\\classical\\classical.00002.wav\n",
      "Successfully loaded genres_original\\classical\\classical.00003.wav\n",
      "Successfully loaded genres_original\\classical\\classical.00004.wav\n",
      "Successfully loaded genres_original\\classical\\classical.00005.wav\n",
      "Successfully loaded genres_original\\classical\\classical.00006.wav\n",
      "Successfully loaded genres_original\\classical\\classical.00007.wav\n",
      "Successfully loaded genres_original\\classical\\classical.00008.wav\n",
      "Successfully loaded genres_original\\classical\\classical.00009.wav\n",
      "Successfully loaded genres_original\\classical\\classical.00010.wav\n",
      "Successfully loaded genres_original\\classical\\classical.00011.wav\n",
      "Successfully loaded genres_original\\classical\\classical.00012.wav\n",
      "Successfully loaded genres_original\\classical\\classical.00013.wav\n",
      "Successfully loaded genres_original\\classical\\classical.00014.wav\n",
      "Successfully loaded genres_original\\classical\\classical.00015.wav\n",
      "Successfully loaded genres_original\\classical\\classical.00016.wav\n",
      "Successfully loaded genres_original\\classical\\classical.00017.wav\n",
      "Successfully loaded genres_original\\classical\\classical.00018.wav\n",
      "Successfully loaded genres_original\\classical\\classical.00019.wav\n",
      "Successfully loaded genres_original\\classical\\classical.00020.wav\n",
      "Successfully loaded genres_original\\classical\\classical.00021.wav\n",
      "Successfully loaded genres_original\\classical\\classical.00022.wav\n",
      "Successfully loaded genres_original\\classical\\classical.00023.wav\n",
      "Successfully loaded genres_original\\classical\\classical.00024.wav\n",
      "Successfully loaded genres_original\\classical\\classical.00025.wav\n",
      "Successfully loaded genres_original\\classical\\classical.00026.wav\n",
      "Successfully loaded genres_original\\classical\\classical.00027.wav\n",
      "Successfully loaded genres_original\\classical\\classical.00028.wav\n",
      "Successfully loaded genres_original\\classical\\classical.00029.wav\n",
      "Successfully loaded genres_original\\classical\\classical.00030.wav\n",
      "Successfully loaded genres_original\\classical\\classical.00031.wav\n",
      "Successfully loaded genres_original\\classical\\classical.00032.wav\n",
      "Successfully loaded genres_original\\classical\\classical.00033.wav\n",
      "Successfully loaded genres_original\\classical\\classical.00034.wav\n",
      "Successfully loaded genres_original\\classical\\classical.00035.wav\n",
      "Successfully loaded genres_original\\classical\\classical.00036.wav\n",
      "Successfully loaded genres_original\\classical\\classical.00037.wav\n",
      "Successfully loaded genres_original\\classical\\classical.00038.wav\n",
      "Successfully loaded genres_original\\classical\\classical.00039.wav\n",
      "Successfully loaded genres_original\\classical\\classical.00040.wav\n",
      "Successfully loaded genres_original\\classical\\classical.00041.wav\n",
      "Successfully loaded genres_original\\classical\\classical.00042.wav\n",
      "Successfully loaded genres_original\\classical\\classical.00043.wav\n",
      "Successfully loaded genres_original\\classical\\classical.00044.wav\n",
      "Successfully loaded genres_original\\classical\\classical.00045.wav\n",
      "Successfully loaded genres_original\\classical\\classical.00046.wav\n",
      "Successfully loaded genres_original\\classical\\classical.00047.wav\n",
      "Successfully loaded genres_original\\classical\\classical.00048.wav\n",
      "Successfully loaded genres_original\\classical\\classical.00049.wav\n",
      "Successfully loaded genres_original\\classical\\classical.00050.wav\n",
      "Successfully loaded genres_original\\classical\\classical.00051.wav\n",
      "Successfully loaded genres_original\\classical\\classical.00052.wav\n",
      "Successfully loaded genres_original\\classical\\classical.00053.wav\n",
      "Successfully loaded genres_original\\classical\\classical.00054.wav\n",
      "Successfully loaded genres_original\\classical\\classical.00055.wav\n",
      "Successfully loaded genres_original\\classical\\classical.00056.wav\n",
      "Successfully loaded genres_original\\classical\\classical.00057.wav\n",
      "Successfully loaded genres_original\\classical\\classical.00058.wav\n",
      "Successfully loaded genres_original\\classical\\classical.00059.wav\n",
      "Successfully loaded genres_original\\classical\\classical.00060.wav\n",
      "Successfully loaded genres_original\\classical\\classical.00061.wav\n",
      "Successfully loaded genres_original\\classical\\classical.00062.wav\n",
      "Successfully loaded genres_original\\classical\\classical.00063.wav\n",
      "Successfully loaded genres_original\\classical\\classical.00064.wav\n",
      "Successfully loaded genres_original\\classical\\classical.00065.wav\n",
      "Successfully loaded genres_original\\classical\\classical.00066.wav\n",
      "Successfully loaded genres_original\\classical\\classical.00067.wav\n",
      "Successfully loaded genres_original\\classical\\classical.00068.wav\n",
      "Successfully loaded genres_original\\classical\\classical.00069.wav\n",
      "Successfully loaded genres_original\\classical\\classical.00070.wav\n",
      "Successfully loaded genres_original\\classical\\classical.00071.wav\n",
      "Successfully loaded genres_original\\classical\\classical.00072.wav\n",
      "Successfully loaded genres_original\\classical\\classical.00073.wav\n",
      "Successfully loaded genres_original\\classical\\classical.00074.wav\n",
      "Successfully loaded genres_original\\classical\\classical.00075.wav\n",
      "Successfully loaded genres_original\\classical\\classical.00076.wav\n",
      "Successfully loaded genres_original\\classical\\classical.00077.wav\n",
      "Successfully loaded genres_original\\classical\\classical.00078.wav\n",
      "Successfully loaded genres_original\\classical\\classical.00079.wav\n",
      "Successfully loaded genres_original\\classical\\classical.00080.wav\n",
      "Successfully loaded genres_original\\classical\\classical.00081.wav\n",
      "Successfully loaded genres_original\\classical\\classical.00082.wav\n",
      "Successfully loaded genres_original\\classical\\classical.00083.wav\n",
      "Successfully loaded genres_original\\classical\\classical.00084.wav\n",
      "Successfully loaded genres_original\\classical\\classical.00085.wav\n",
      "Successfully loaded genres_original\\classical\\classical.00086.wav\n",
      "Successfully loaded genres_original\\classical\\classical.00087.wav\n",
      "Successfully loaded genres_original\\classical\\classical.00088.wav\n",
      "Successfully loaded genres_original\\classical\\classical.00089.wav\n",
      "Successfully loaded genres_original\\classical\\classical.00090.wav\n",
      "Successfully loaded genres_original\\classical\\classical.00091.wav\n",
      "Successfully loaded genres_original\\classical\\classical.00092.wav\n",
      "Successfully loaded genres_original\\classical\\classical.00093.wav\n",
      "Successfully loaded genres_original\\classical\\classical.00094.wav\n",
      "Successfully loaded genres_original\\classical\\classical.00095.wav\n",
      "Successfully loaded genres_original\\classical\\classical.00096.wav\n",
      "Successfully loaded genres_original\\classical\\classical.00097.wav\n",
      "Successfully loaded genres_original\\classical\\classical.00098.wav\n",
      "Successfully loaded genres_original\\classical\\classical.00099.wav\n",
      "Successfully loaded genres_original\\country\\country.00000.wav\n",
      "Successfully loaded genres_original\\country\\country.00001.wav\n",
      "Successfully loaded genres_original\\country\\country.00002.wav\n",
      "Successfully loaded genres_original\\country\\country.00003.wav\n",
      "Successfully loaded genres_original\\country\\country.00004.wav\n",
      "Successfully loaded genres_original\\country\\country.00005.wav\n",
      "Successfully loaded genres_original\\country\\country.00006.wav\n",
      "Successfully loaded genres_original\\country\\country.00007.wav\n",
      "Successfully loaded genres_original\\country\\country.00008.wav\n",
      "Successfully loaded genres_original\\country\\country.00009.wav\n",
      "Successfully loaded genres_original\\country\\country.00010.wav\n",
      "Successfully loaded genres_original\\country\\country.00011.wav\n",
      "Successfully loaded genres_original\\country\\country.00012.wav\n",
      "Successfully loaded genres_original\\country\\country.00013.wav\n",
      "Successfully loaded genres_original\\country\\country.00014.wav\n",
      "Successfully loaded genres_original\\country\\country.00015.wav\n",
      "Successfully loaded genres_original\\country\\country.00016.wav\n",
      "Successfully loaded genres_original\\country\\country.00017.wav\n",
      "Successfully loaded genres_original\\country\\country.00018.wav\n",
      "Successfully loaded genres_original\\country\\country.00019.wav\n",
      "Successfully loaded genres_original\\country\\country.00020.wav\n",
      "Successfully loaded genres_original\\country\\country.00021.wav\n",
      "Successfully loaded genres_original\\country\\country.00022.wav\n",
      "Successfully loaded genres_original\\country\\country.00023.wav\n",
      "Successfully loaded genres_original\\country\\country.00024.wav\n",
      "Successfully loaded genres_original\\country\\country.00025.wav\n",
      "Successfully loaded genres_original\\country\\country.00026.wav\n",
      "Successfully loaded genres_original\\country\\country.00027.wav\n",
      "Successfully loaded genres_original\\country\\country.00028.wav\n",
      "Successfully loaded genres_original\\country\\country.00029.wav\n",
      "Successfully loaded genres_original\\country\\country.00030.wav\n",
      "Successfully loaded genres_original\\country\\country.00031.wav\n",
      "Successfully loaded genres_original\\country\\country.00032.wav\n",
      "Successfully loaded genres_original\\country\\country.00033.wav\n",
      "Successfully loaded genres_original\\country\\country.00034.wav\n",
      "Successfully loaded genres_original\\country\\country.00035.wav\n",
      "Successfully loaded genres_original\\country\\country.00036.wav\n",
      "Successfully loaded genres_original\\country\\country.00037.wav\n",
      "Successfully loaded genres_original\\country\\country.00038.wav\n",
      "Successfully loaded genres_original\\country\\country.00039.wav\n",
      "Successfully loaded genres_original\\country\\country.00040.wav\n",
      "Successfully loaded genres_original\\country\\country.00041.wav\n",
      "Successfully loaded genres_original\\country\\country.00042.wav\n",
      "Successfully loaded genres_original\\country\\country.00043.wav\n",
      "Successfully loaded genres_original\\country\\country.00044.wav\n",
      "Successfully loaded genres_original\\country\\country.00045.wav\n",
      "Successfully loaded genres_original\\country\\country.00046.wav\n",
      "Successfully loaded genres_original\\country\\country.00047.wav\n",
      "Successfully loaded genres_original\\country\\country.00048.wav\n",
      "Successfully loaded genres_original\\country\\country.00049.wav\n",
      "Successfully loaded genres_original\\country\\country.00050.wav\n",
      "Successfully loaded genres_original\\country\\country.00051.wav\n",
      "Successfully loaded genres_original\\country\\country.00052.wav\n",
      "Successfully loaded genres_original\\country\\country.00053.wav\n",
      "Successfully loaded genres_original\\country\\country.00054.wav\n",
      "Successfully loaded genres_original\\country\\country.00055.wav\n",
      "Successfully loaded genres_original\\country\\country.00056.wav\n",
      "Successfully loaded genres_original\\country\\country.00057.wav\n",
      "Successfully loaded genres_original\\country\\country.00058.wav\n",
      "Successfully loaded genres_original\\country\\country.00059.wav\n",
      "Successfully loaded genres_original\\country\\country.00060.wav\n",
      "Successfully loaded genres_original\\country\\country.00061.wav\n",
      "Successfully loaded genres_original\\country\\country.00062.wav\n",
      "Successfully loaded genres_original\\country\\country.00063.wav\n",
      "Successfully loaded genres_original\\country\\country.00064.wav\n",
      "Successfully loaded genres_original\\country\\country.00065.wav\n",
      "Successfully loaded genres_original\\country\\country.00066.wav\n",
      "Successfully loaded genres_original\\country\\country.00067.wav\n",
      "Successfully loaded genres_original\\country\\country.00068.wav\n",
      "Successfully loaded genres_original\\country\\country.00069.wav\n",
      "Successfully loaded genres_original\\country\\country.00070.wav\n",
      "Successfully loaded genres_original\\country\\country.00071.wav\n",
      "Successfully loaded genres_original\\country\\country.00072.wav\n",
      "Successfully loaded genres_original\\country\\country.00073.wav\n",
      "Successfully loaded genres_original\\country\\country.00074.wav\n",
      "Successfully loaded genres_original\\country\\country.00075.wav\n",
      "Successfully loaded genres_original\\country\\country.00076.wav\n",
      "Successfully loaded genres_original\\country\\country.00077.wav\n",
      "Successfully loaded genres_original\\country\\country.00078.wav\n",
      "Successfully loaded genres_original\\country\\country.00079.wav\n",
      "Successfully loaded genres_original\\country\\country.00080.wav\n",
      "Successfully loaded genres_original\\country\\country.00081.wav\n",
      "Successfully loaded genres_original\\country\\country.00082.wav\n",
      "Successfully loaded genres_original\\country\\country.00083.wav\n",
      "Successfully loaded genres_original\\country\\country.00084.wav\n",
      "Successfully loaded genres_original\\country\\country.00085.wav\n",
      "Successfully loaded genres_original\\country\\country.00086.wav\n",
      "Successfully loaded genres_original\\country\\country.00087.wav\n",
      "Successfully loaded genres_original\\country\\country.00088.wav\n",
      "Successfully loaded genres_original\\country\\country.00089.wav\n",
      "Successfully loaded genres_original\\country\\country.00090.wav\n",
      "Successfully loaded genres_original\\country\\country.00091.wav\n",
      "Successfully loaded genres_original\\country\\country.00092.wav\n",
      "Successfully loaded genres_original\\country\\country.00093.wav\n",
      "Successfully loaded genres_original\\country\\country.00094.wav\n",
      "Successfully loaded genres_original\\country\\country.00095.wav\n",
      "Successfully loaded genres_original\\country\\country.00096.wav\n",
      "Successfully loaded genres_original\\country\\country.00097.wav\n",
      "Successfully loaded genres_original\\country\\country.00098.wav\n",
      "Successfully loaded genres_original\\country\\country.00099.wav\n",
      "Successfully loaded genres_original\\disco\\disco.00000.wav\n",
      "Successfully loaded genres_original\\disco\\disco.00001.wav\n",
      "Successfully loaded genres_original\\disco\\disco.00002.wav\n",
      "Successfully loaded genres_original\\disco\\disco.00003.wav\n",
      "Successfully loaded genres_original\\disco\\disco.00004.wav\n",
      "Successfully loaded genres_original\\disco\\disco.00005.wav\n",
      "Successfully loaded genres_original\\disco\\disco.00006.wav\n",
      "Successfully loaded genres_original\\disco\\disco.00007.wav\n",
      "Successfully loaded genres_original\\disco\\disco.00008.wav\n",
      "Successfully loaded genres_original\\disco\\disco.00009.wav\n",
      "Successfully loaded genres_original\\disco\\disco.00010.wav\n",
      "Successfully loaded genres_original\\disco\\disco.00011.wav\n",
      "Successfully loaded genres_original\\disco\\disco.00012.wav\n",
      "Successfully loaded genres_original\\disco\\disco.00013.wav\n",
      "Successfully loaded genres_original\\disco\\disco.00014.wav\n",
      "Successfully loaded genres_original\\disco\\disco.00015.wav\n",
      "Successfully loaded genres_original\\disco\\disco.00016.wav\n",
      "Successfully loaded genres_original\\disco\\disco.00017.wav\n",
      "Successfully loaded genres_original\\disco\\disco.00018.wav\n",
      "Successfully loaded genres_original\\disco\\disco.00019.wav\n",
      "Successfully loaded genres_original\\disco\\disco.00020.wav\n",
      "Successfully loaded genres_original\\disco\\disco.00021.wav\n",
      "Successfully loaded genres_original\\disco\\disco.00022.wav\n",
      "Successfully loaded genres_original\\disco\\disco.00023.wav\n",
      "Successfully loaded genres_original\\disco\\disco.00024.wav\n",
      "Successfully loaded genres_original\\disco\\disco.00025.wav\n",
      "Successfully loaded genres_original\\disco\\disco.00026.wav\n",
      "Successfully loaded genres_original\\disco\\disco.00027.wav\n",
      "Successfully loaded genres_original\\disco\\disco.00028.wav\n",
      "Successfully loaded genres_original\\disco\\disco.00029.wav\n",
      "Successfully loaded genres_original\\disco\\disco.00030.wav\n",
      "Successfully loaded genres_original\\disco\\disco.00031.wav\n",
      "Successfully loaded genres_original\\disco\\disco.00032.wav\n",
      "Successfully loaded genres_original\\disco\\disco.00033.wav\n",
      "Successfully loaded genres_original\\disco\\disco.00034.wav\n",
      "Successfully loaded genres_original\\disco\\disco.00035.wav\n",
      "Successfully loaded genres_original\\disco\\disco.00036.wav\n",
      "Successfully loaded genres_original\\disco\\disco.00037.wav\n",
      "Successfully loaded genres_original\\disco\\disco.00038.wav\n",
      "Successfully loaded genres_original\\disco\\disco.00039.wav\n",
      "Successfully loaded genres_original\\disco\\disco.00040.wav\n",
      "Successfully loaded genres_original\\disco\\disco.00041.wav\n",
      "Successfully loaded genres_original\\disco\\disco.00042.wav\n",
      "Successfully loaded genres_original\\disco\\disco.00043.wav\n",
      "Successfully loaded genres_original\\disco\\disco.00044.wav\n",
      "Successfully loaded genres_original\\disco\\disco.00045.wav\n",
      "Successfully loaded genres_original\\disco\\disco.00046.wav\n",
      "Successfully loaded genres_original\\disco\\disco.00047.wav\n",
      "Successfully loaded genres_original\\disco\\disco.00048.wav\n",
      "Successfully loaded genres_original\\disco\\disco.00049.wav\n",
      "Successfully loaded genres_original\\disco\\disco.00050.wav\n",
      "Successfully loaded genres_original\\disco\\disco.00051.wav\n",
      "Successfully loaded genres_original\\disco\\disco.00052.wav\n",
      "Successfully loaded genres_original\\disco\\disco.00053.wav\n",
      "Successfully loaded genres_original\\disco\\disco.00054.wav\n",
      "Successfully loaded genres_original\\disco\\disco.00055.wav\n",
      "Successfully loaded genres_original\\disco\\disco.00056.wav\n",
      "Successfully loaded genres_original\\disco\\disco.00057.wav\n",
      "Successfully loaded genres_original\\disco\\disco.00058.wav\n",
      "Successfully loaded genres_original\\disco\\disco.00059.wav\n",
      "Successfully loaded genres_original\\disco\\disco.00060.wav\n",
      "Successfully loaded genres_original\\disco\\disco.00061.wav\n",
      "Successfully loaded genres_original\\disco\\disco.00062.wav\n",
      "Successfully loaded genres_original\\disco\\disco.00063.wav\n",
      "Successfully loaded genres_original\\disco\\disco.00064.wav\n",
      "Successfully loaded genres_original\\disco\\disco.00065.wav\n",
      "Successfully loaded genres_original\\disco\\disco.00066.wav\n",
      "Successfully loaded genres_original\\disco\\disco.00067.wav\n",
      "Successfully loaded genres_original\\disco\\disco.00068.wav\n",
      "Successfully loaded genres_original\\disco\\disco.00069.wav\n",
      "Successfully loaded genres_original\\disco\\disco.00070.wav\n",
      "Successfully loaded genres_original\\disco\\disco.00071.wav\n",
      "Successfully loaded genres_original\\disco\\disco.00072.wav\n",
      "Successfully loaded genres_original\\disco\\disco.00073.wav\n",
      "Successfully loaded genres_original\\disco\\disco.00074.wav\n",
      "Successfully loaded genres_original\\disco\\disco.00075.wav\n",
      "Successfully loaded genres_original\\disco\\disco.00076.wav\n",
      "Successfully loaded genres_original\\disco\\disco.00077.wav\n",
      "Successfully loaded genres_original\\disco\\disco.00078.wav\n",
      "Successfully loaded genres_original\\disco\\disco.00079.wav\n",
      "Successfully loaded genres_original\\disco\\disco.00080.wav\n",
      "Successfully loaded genres_original\\disco\\disco.00081.wav\n",
      "Successfully loaded genres_original\\disco\\disco.00082.wav\n",
      "Successfully loaded genres_original\\disco\\disco.00083.wav\n",
      "Successfully loaded genres_original\\disco\\disco.00084.wav\n",
      "Successfully loaded genres_original\\disco\\disco.00085.wav\n",
      "Successfully loaded genres_original\\disco\\disco.00086.wav\n",
      "Successfully loaded genres_original\\disco\\disco.00087.wav\n",
      "Successfully loaded genres_original\\disco\\disco.00088.wav\n",
      "Successfully loaded genres_original\\disco\\disco.00089.wav\n",
      "Successfully loaded genres_original\\disco\\disco.00090.wav\n",
      "Successfully loaded genres_original\\disco\\disco.00091.wav\n",
      "Successfully loaded genres_original\\disco\\disco.00092.wav\n",
      "Successfully loaded genres_original\\disco\\disco.00093.wav\n",
      "Successfully loaded genres_original\\disco\\disco.00094.wav\n",
      "Successfully loaded genres_original\\disco\\disco.00095.wav\n",
      "Successfully loaded genres_original\\disco\\disco.00096.wav\n",
      "Successfully loaded genres_original\\disco\\disco.00097.wav\n",
      "Successfully loaded genres_original\\disco\\disco.00098.wav\n",
      "Successfully loaded genres_original\\disco\\disco.00099.wav\n",
      "Successfully loaded genres_original\\hiphop\\hiphop.00000.wav\n",
      "Successfully loaded genres_original\\hiphop\\hiphop.00001.wav\n",
      "Successfully loaded genres_original\\hiphop\\hiphop.00002.wav\n",
      "Successfully loaded genres_original\\hiphop\\hiphop.00003.wav\n",
      "Successfully loaded genres_original\\hiphop\\hiphop.00004.wav\n",
      "Successfully loaded genres_original\\hiphop\\hiphop.00005.wav\n",
      "Successfully loaded genres_original\\hiphop\\hiphop.00006.wav\n",
      "Successfully loaded genres_original\\hiphop\\hiphop.00007.wav\n",
      "Successfully loaded genres_original\\hiphop\\hiphop.00008.wav\n",
      "Successfully loaded genres_original\\hiphop\\hiphop.00009.wav\n",
      "Successfully loaded genres_original\\hiphop\\hiphop.00010.wav\n",
      "Successfully loaded genres_original\\hiphop\\hiphop.00011.wav\n",
      "Successfully loaded genres_original\\hiphop\\hiphop.00012.wav\n",
      "Successfully loaded genres_original\\hiphop\\hiphop.00013.wav\n",
      "Successfully loaded genres_original\\hiphop\\hiphop.00014.wav\n",
      "Successfully loaded genres_original\\hiphop\\hiphop.00015.wav\n",
      "Successfully loaded genres_original\\hiphop\\hiphop.00016.wav\n",
      "Successfully loaded genres_original\\hiphop\\hiphop.00017.wav\n",
      "Successfully loaded genres_original\\hiphop\\hiphop.00018.wav\n",
      "Successfully loaded genres_original\\hiphop\\hiphop.00019.wav\n",
      "Successfully loaded genres_original\\hiphop\\hiphop.00020.wav\n",
      "Successfully loaded genres_original\\hiphop\\hiphop.00021.wav\n",
      "Successfully loaded genres_original\\hiphop\\hiphop.00022.wav\n",
      "Successfully loaded genres_original\\hiphop\\hiphop.00023.wav\n",
      "Successfully loaded genres_original\\hiphop\\hiphop.00024.wav\n",
      "Successfully loaded genres_original\\hiphop\\hiphop.00025.wav\n",
      "Successfully loaded genres_original\\hiphop\\hiphop.00026.wav\n",
      "Successfully loaded genres_original\\hiphop\\hiphop.00027.wav\n",
      "Successfully loaded genres_original\\hiphop\\hiphop.00028.wav\n",
      "Successfully loaded genres_original\\hiphop\\hiphop.00029.wav\n",
      "Successfully loaded genres_original\\hiphop\\hiphop.00030.wav\n",
      "Successfully loaded genres_original\\hiphop\\hiphop.00031.wav\n",
      "Successfully loaded genres_original\\hiphop\\hiphop.00032.wav\n",
      "Successfully loaded genres_original\\hiphop\\hiphop.00033.wav\n",
      "Successfully loaded genres_original\\hiphop\\hiphop.00034.wav\n",
      "Successfully loaded genres_original\\hiphop\\hiphop.00035.wav\n",
      "Successfully loaded genres_original\\hiphop\\hiphop.00036.wav\n",
      "Successfully loaded genres_original\\hiphop\\hiphop.00037.wav\n",
      "Successfully loaded genres_original\\hiphop\\hiphop.00038.wav\n",
      "Successfully loaded genres_original\\hiphop\\hiphop.00039.wav\n",
      "Successfully loaded genres_original\\hiphop\\hiphop.00040.wav\n",
      "Successfully loaded genres_original\\hiphop\\hiphop.00041.wav\n",
      "Successfully loaded genres_original\\hiphop\\hiphop.00042.wav\n",
      "Successfully loaded genres_original\\hiphop\\hiphop.00043.wav\n",
      "Successfully loaded genres_original\\hiphop\\hiphop.00044.wav\n",
      "Successfully loaded genres_original\\hiphop\\hiphop.00045.wav\n",
      "Successfully loaded genres_original\\hiphop\\hiphop.00046.wav\n",
      "Successfully loaded genres_original\\hiphop\\hiphop.00047.wav\n",
      "Successfully loaded genres_original\\hiphop\\hiphop.00048.wav\n",
      "Successfully loaded genres_original\\hiphop\\hiphop.00049.wav\n",
      "Successfully loaded genres_original\\hiphop\\hiphop.00050.wav\n",
      "Successfully loaded genres_original\\hiphop\\hiphop.00051.wav\n",
      "Successfully loaded genres_original\\hiphop\\hiphop.00052.wav\n",
      "Successfully loaded genres_original\\hiphop\\hiphop.00053.wav\n",
      "Successfully loaded genres_original\\hiphop\\hiphop.00054.wav\n",
      "Successfully loaded genres_original\\hiphop\\hiphop.00055.wav\n",
      "Successfully loaded genres_original\\hiphop\\hiphop.00056.wav\n",
      "Successfully loaded genres_original\\hiphop\\hiphop.00057.wav\n",
      "Successfully loaded genres_original\\hiphop\\hiphop.00058.wav\n",
      "Successfully loaded genres_original\\hiphop\\hiphop.00059.wav\n",
      "Successfully loaded genres_original\\hiphop\\hiphop.00060.wav\n",
      "Successfully loaded genres_original\\hiphop\\hiphop.00061.wav\n",
      "Successfully loaded genres_original\\hiphop\\hiphop.00062.wav\n",
      "Successfully loaded genres_original\\hiphop\\hiphop.00063.wav\n",
      "Successfully loaded genres_original\\hiphop\\hiphop.00064.wav\n",
      "Successfully loaded genres_original\\hiphop\\hiphop.00065.wav\n",
      "Successfully loaded genres_original\\hiphop\\hiphop.00066.wav\n",
      "Successfully loaded genres_original\\hiphop\\hiphop.00067.wav\n",
      "Successfully loaded genres_original\\hiphop\\hiphop.00068.wav\n",
      "Successfully loaded genres_original\\hiphop\\hiphop.00069.wav\n",
      "Successfully loaded genres_original\\hiphop\\hiphop.00070.wav\n",
      "Successfully loaded genres_original\\hiphop\\hiphop.00071.wav\n",
      "Successfully loaded genres_original\\hiphop\\hiphop.00072.wav\n",
      "Successfully loaded genres_original\\hiphop\\hiphop.00073.wav\n",
      "Successfully loaded genres_original\\hiphop\\hiphop.00074.wav\n",
      "Successfully loaded genres_original\\hiphop\\hiphop.00075.wav\n",
      "Successfully loaded genres_original\\hiphop\\hiphop.00076.wav\n",
      "Successfully loaded genres_original\\hiphop\\hiphop.00077.wav\n",
      "Successfully loaded genres_original\\hiphop\\hiphop.00078.wav\n",
      "Successfully loaded genres_original\\hiphop\\hiphop.00079.wav\n",
      "Successfully loaded genres_original\\hiphop\\hiphop.00080.wav\n",
      "Successfully loaded genres_original\\hiphop\\hiphop.00081.wav\n",
      "Successfully loaded genres_original\\hiphop\\hiphop.00082.wav\n",
      "Successfully loaded genres_original\\hiphop\\hiphop.00083.wav\n",
      "Successfully loaded genres_original\\hiphop\\hiphop.00084.wav\n",
      "Successfully loaded genres_original\\hiphop\\hiphop.00085.wav\n",
      "Successfully loaded genres_original\\hiphop\\hiphop.00086.wav\n",
      "Successfully loaded genres_original\\hiphop\\hiphop.00087.wav\n",
      "Successfully loaded genres_original\\hiphop\\hiphop.00088.wav\n",
      "Successfully loaded genres_original\\hiphop\\hiphop.00089.wav\n",
      "Successfully loaded genres_original\\hiphop\\hiphop.00090.wav\n",
      "Successfully loaded genres_original\\hiphop\\hiphop.00091.wav\n",
      "Successfully loaded genres_original\\hiphop\\hiphop.00092.wav\n",
      "Successfully loaded genres_original\\hiphop\\hiphop.00093.wav\n",
      "Successfully loaded genres_original\\hiphop\\hiphop.00094.wav\n",
      "Successfully loaded genres_original\\hiphop\\hiphop.00095.wav\n",
      "Successfully loaded genres_original\\hiphop\\hiphop.00096.wav\n",
      "Successfully loaded genres_original\\hiphop\\hiphop.00097.wav\n",
      "Successfully loaded genres_original\\hiphop\\hiphop.00098.wav\n",
      "Successfully loaded genres_original\\hiphop\\hiphop.00099.wav\n",
      "Successfully loaded genres_original\\jazz\\jazz.00000.wav\n",
      "Successfully loaded genres_original\\jazz\\jazz.00001.wav\n",
      "Successfully loaded genres_original\\jazz\\jazz.00002.wav\n",
      "Successfully loaded genres_original\\jazz\\jazz.00003.wav\n",
      "Successfully loaded genres_original\\jazz\\jazz.00004.wav\n",
      "Successfully loaded genres_original\\jazz\\jazz.00005.wav\n",
      "Successfully loaded genres_original\\jazz\\jazz.00006.wav\n",
      "Successfully loaded genres_original\\jazz\\jazz.00007.wav\n",
      "Successfully loaded genres_original\\jazz\\jazz.00008.wav\n",
      "Successfully loaded genres_original\\jazz\\jazz.00009.wav\n",
      "Successfully loaded genres_original\\jazz\\jazz.00010.wav\n",
      "Successfully loaded genres_original\\jazz\\jazz.00011.wav\n",
      "Successfully loaded genres_original\\jazz\\jazz.00012.wav\n",
      "Successfully loaded genres_original\\jazz\\jazz.00013.wav\n",
      "Successfully loaded genres_original\\jazz\\jazz.00014.wav\n",
      "Successfully loaded genres_original\\jazz\\jazz.00015.wav\n",
      "Successfully loaded genres_original\\jazz\\jazz.00016.wav\n",
      "Successfully loaded genres_original\\jazz\\jazz.00017.wav\n",
      "Successfully loaded genres_original\\jazz\\jazz.00018.wav\n",
      "Successfully loaded genres_original\\jazz\\jazz.00019.wav\n",
      "Successfully loaded genres_original\\jazz\\jazz.00020.wav\n",
      "Successfully loaded genres_original\\jazz\\jazz.00021.wav\n",
      "Successfully loaded genres_original\\jazz\\jazz.00022.wav\n",
      "Successfully loaded genres_original\\jazz\\jazz.00023.wav\n",
      "Successfully loaded genres_original\\jazz\\jazz.00024.wav\n",
      "Successfully loaded genres_original\\jazz\\jazz.00025.wav\n",
      "Successfully loaded genres_original\\jazz\\jazz.00026.wav\n",
      "Successfully loaded genres_original\\jazz\\jazz.00027.wav\n",
      "Successfully loaded genres_original\\jazz\\jazz.00028.wav\n",
      "Successfully loaded genres_original\\jazz\\jazz.00029.wav\n",
      "Successfully loaded genres_original\\jazz\\jazz.00030.wav\n",
      "Successfully loaded genres_original\\jazz\\jazz.00031.wav\n",
      "Successfully loaded genres_original\\jazz\\jazz.00032.wav\n",
      "Successfully loaded genres_original\\jazz\\jazz.00033.wav\n",
      "Successfully loaded genres_original\\jazz\\jazz.00034.wav\n",
      "Successfully loaded genres_original\\jazz\\jazz.00035.wav\n",
      "Successfully loaded genres_original\\jazz\\jazz.00036.wav\n",
      "Successfully loaded genres_original\\jazz\\jazz.00037.wav\n",
      "Successfully loaded genres_original\\jazz\\jazz.00038.wav\n",
      "Successfully loaded genres_original\\jazz\\jazz.00039.wav\n",
      "Successfully loaded genres_original\\jazz\\jazz.00040.wav\n",
      "Successfully loaded genres_original\\jazz\\jazz.00041.wav\n",
      "Successfully loaded genres_original\\jazz\\jazz.00042.wav\n",
      "Successfully loaded genres_original\\jazz\\jazz.00043.wav\n",
      "Successfully loaded genres_original\\jazz\\jazz.00044.wav\n",
      "Successfully loaded genres_original\\jazz\\jazz.00045.wav\n",
      "Successfully loaded genres_original\\jazz\\jazz.00046.wav\n",
      "Successfully loaded genres_original\\jazz\\jazz.00047.wav\n",
      "Successfully loaded genres_original\\jazz\\jazz.00048.wav\n",
      "Successfully loaded genres_original\\jazz\\jazz.00049.wav\n",
      "Successfully loaded genres_original\\jazz\\jazz.00050.wav\n",
      "Successfully loaded genres_original\\jazz\\jazz.00051.wav\n",
      "Successfully loaded genres_original\\jazz\\jazz.00052.wav\n",
      "Successfully loaded genres_original\\jazz\\jazz.00053.wav\n",
      "Deleting corrupted file genres_original\\jazz\\jazz.00054.wav: \n",
      "Successfully loaded genres_original\\jazz\\jazz.00055.wav\n",
      "Successfully loaded genres_original\\jazz\\jazz.00056.wav\n",
      "Successfully loaded genres_original\\jazz\\jazz.00057.wav\n",
      "Successfully loaded genres_original\\jazz\\jazz.00058.wav\n",
      "Successfully loaded genres_original\\jazz\\jazz.00059.wav\n",
      "Successfully loaded genres_original\\jazz\\jazz.00060.wav\n",
      "Successfully loaded genres_original\\jazz\\jazz.00061.wav\n",
      "Successfully loaded genres_original\\jazz\\jazz.00062.wav\n",
      "Successfully loaded genres_original\\jazz\\jazz.00063.wav\n",
      "Successfully loaded genres_original\\jazz\\jazz.00064.wav\n",
      "Successfully loaded genres_original\\jazz\\jazz.00065.wav\n",
      "Successfully loaded genres_original\\jazz\\jazz.00066.wav\n",
      "Successfully loaded genres_original\\jazz\\jazz.00067.wav\n",
      "Successfully loaded genres_original\\jazz\\jazz.00068.wav\n",
      "Successfully loaded genres_original\\jazz\\jazz.00069.wav\n",
      "Successfully loaded genres_original\\jazz\\jazz.00070.wav\n",
      "Successfully loaded genres_original\\jazz\\jazz.00071.wav\n",
      "Successfully loaded genres_original\\jazz\\jazz.00072.wav\n",
      "Successfully loaded genres_original\\jazz\\jazz.00073.wav\n",
      "Successfully loaded genres_original\\jazz\\jazz.00074.wav\n",
      "Successfully loaded genres_original\\jazz\\jazz.00075.wav\n",
      "Successfully loaded genres_original\\jazz\\jazz.00076.wav\n",
      "Successfully loaded genres_original\\jazz\\jazz.00077.wav\n",
      "Successfully loaded genres_original\\jazz\\jazz.00078.wav\n",
      "Successfully loaded genres_original\\jazz\\jazz.00079.wav\n",
      "Successfully loaded genres_original\\jazz\\jazz.00080.wav\n",
      "Successfully loaded genres_original\\jazz\\jazz.00081.wav\n",
      "Successfully loaded genres_original\\jazz\\jazz.00082.wav\n",
      "Successfully loaded genres_original\\jazz\\jazz.00083.wav\n",
      "Successfully loaded genres_original\\jazz\\jazz.00084.wav\n",
      "Successfully loaded genres_original\\jazz\\jazz.00085.wav\n",
      "Successfully loaded genres_original\\jazz\\jazz.00086.wav\n",
      "Successfully loaded genres_original\\jazz\\jazz.00087.wav\n",
      "Successfully loaded genres_original\\jazz\\jazz.00088.wav\n",
      "Successfully loaded genres_original\\jazz\\jazz.00089.wav\n",
      "Successfully loaded genres_original\\jazz\\jazz.00090.wav\n",
      "Successfully loaded genres_original\\jazz\\jazz.00091.wav\n",
      "Successfully loaded genres_original\\jazz\\jazz.00092.wav\n",
      "Successfully loaded genres_original\\jazz\\jazz.00093.wav\n",
      "Successfully loaded genres_original\\jazz\\jazz.00094.wav\n",
      "Successfully loaded genres_original\\jazz\\jazz.00095.wav\n",
      "Successfully loaded genres_original\\jazz\\jazz.00096.wav\n",
      "Successfully loaded genres_original\\jazz\\jazz.00097.wav\n",
      "Successfully loaded genres_original\\jazz\\jazz.00098.wav\n",
      "Successfully loaded genres_original\\jazz\\jazz.00099.wav\n",
      "Successfully loaded genres_original\\metal\\metal.00000.wav\n",
      "Successfully loaded genres_original\\metal\\metal.00001.wav\n",
      "Successfully loaded genres_original\\metal\\metal.00002.wav\n",
      "Successfully loaded genres_original\\metal\\metal.00003.wav\n",
      "Successfully loaded genres_original\\metal\\metal.00004.wav\n",
      "Successfully loaded genres_original\\metal\\metal.00005.wav\n",
      "Successfully loaded genres_original\\metal\\metal.00006.wav\n",
      "Successfully loaded genres_original\\metal\\metal.00007.wav\n",
      "Successfully loaded genres_original\\metal\\metal.00008.wav\n",
      "Successfully loaded genres_original\\metal\\metal.00009.wav\n",
      "Successfully loaded genres_original\\metal\\metal.00010.wav\n",
      "Successfully loaded genres_original\\metal\\metal.00011.wav\n",
      "Successfully loaded genres_original\\metal\\metal.00012.wav\n",
      "Successfully loaded genres_original\\metal\\metal.00013.wav\n",
      "Successfully loaded genres_original\\metal\\metal.00014.wav\n",
      "Successfully loaded genres_original\\metal\\metal.00015.wav\n",
      "Successfully loaded genres_original\\metal\\metal.00016.wav\n",
      "Successfully loaded genres_original\\metal\\metal.00017.wav\n",
      "Successfully loaded genres_original\\metal\\metal.00018.wav\n",
      "Successfully loaded genres_original\\metal\\metal.00019.wav\n",
      "Successfully loaded genres_original\\metal\\metal.00020.wav\n",
      "Successfully loaded genres_original\\metal\\metal.00021.wav\n",
      "Successfully loaded genres_original\\metal\\metal.00022.wav\n",
      "Successfully loaded genres_original\\metal\\metal.00023.wav\n",
      "Successfully loaded genres_original\\metal\\metal.00024.wav\n",
      "Successfully loaded genres_original\\metal\\metal.00025.wav\n",
      "Successfully loaded genres_original\\metal\\metal.00026.wav\n",
      "Successfully loaded genres_original\\metal\\metal.00027.wav\n",
      "Successfully loaded genres_original\\metal\\metal.00028.wav\n",
      "Successfully loaded genres_original\\metal\\metal.00029.wav\n",
      "Successfully loaded genres_original\\metal\\metal.00030.wav\n",
      "Successfully loaded genres_original\\metal\\metal.00031.wav\n",
      "Successfully loaded genres_original\\metal\\metal.00032.wav\n",
      "Successfully loaded genres_original\\metal\\metal.00033.wav\n",
      "Successfully loaded genres_original\\metal\\metal.00034.wav\n",
      "Successfully loaded genres_original\\metal\\metal.00035.wav\n"
     ]
    },
    {
     "name": "stderr",
     "output_type": "stream",
     "text": [
      "C:\\Users\\ricky\\AppData\\Local\\Temp\\ipykernel_18548\\710421390.py:9: UserWarning: PySoundFile failed. Trying audioread instead.\n",
      "  _, _ = librosa.load(filepath, sr=None)\n"
     ]
    },
    {
     "name": "stdout",
     "output_type": "stream",
     "text": [
      "Successfully loaded genres_original\\metal\\metal.00036.wav\n",
      "Successfully loaded genres_original\\metal\\metal.00037.wav\n",
      "Successfully loaded genres_original\\metal\\metal.00038.wav\n",
      "Successfully loaded genres_original\\metal\\metal.00039.wav\n",
      "Successfully loaded genres_original\\metal\\metal.00040.wav\n",
      "Successfully loaded genres_original\\metal\\metal.00041.wav\n",
      "Successfully loaded genres_original\\metal\\metal.00042.wav\n",
      "Successfully loaded genres_original\\metal\\metal.00043.wav\n",
      "Successfully loaded genres_original\\metal\\metal.00044.wav\n",
      "Successfully loaded genres_original\\metal\\metal.00045.wav\n",
      "Successfully loaded genres_original\\metal\\metal.00046.wav\n",
      "Successfully loaded genres_original\\metal\\metal.00047.wav\n",
      "Successfully loaded genres_original\\metal\\metal.00048.wav\n",
      "Successfully loaded genres_original\\metal\\metal.00049.wav\n",
      "Successfully loaded genres_original\\metal\\metal.00050.wav\n",
      "Successfully loaded genres_original\\metal\\metal.00051.wav\n",
      "Successfully loaded genres_original\\metal\\metal.00052.wav\n",
      "Successfully loaded genres_original\\metal\\metal.00053.wav\n",
      "Successfully loaded genres_original\\metal\\metal.00054.wav\n",
      "Successfully loaded genres_original\\metal\\metal.00055.wav\n",
      "Successfully loaded genres_original\\metal\\metal.00056.wav\n",
      "Successfully loaded genres_original\\metal\\metal.00057.wav\n",
      "Successfully loaded genres_original\\metal\\metal.00058.wav\n",
      "Successfully loaded genres_original\\metal\\metal.00059.wav\n",
      "Successfully loaded genres_original\\metal\\metal.00060.wav\n",
      "Successfully loaded genres_original\\metal\\metal.00061.wav\n",
      "Successfully loaded genres_original\\metal\\metal.00062.wav\n",
      "Successfully loaded genres_original\\metal\\metal.00063.wav\n",
      "Successfully loaded genres_original\\metal\\metal.00064.wav\n",
      "Successfully loaded genres_original\\metal\\metal.00065.wav\n",
      "Successfully loaded genres_original\\metal\\metal.00066.wav\n",
      "Successfully loaded genres_original\\metal\\metal.00067.wav\n",
      "Successfully loaded genres_original\\metal\\metal.00068.wav\n",
      "Successfully loaded genres_original\\metal\\metal.00069.wav\n",
      "Successfully loaded genres_original\\metal\\metal.00070.wav\n",
      "Successfully loaded genres_original\\metal\\metal.00071.wav\n",
      "Successfully loaded genres_original\\metal\\metal.00072.wav\n",
      "Successfully loaded genres_original\\metal\\metal.00073.wav\n",
      "Successfully loaded genres_original\\metal\\metal.00074.wav\n",
      "Successfully loaded genres_original\\metal\\metal.00075.wav\n",
      "Successfully loaded genres_original\\metal\\metal.00076.wav\n",
      "Successfully loaded genres_original\\metal\\metal.00077.wav\n",
      "Successfully loaded genres_original\\metal\\metal.00078.wav\n",
      "Successfully loaded genres_original\\metal\\metal.00079.wav\n",
      "Successfully loaded genres_original\\metal\\metal.00080.wav\n",
      "Successfully loaded genres_original\\metal\\metal.00081.wav\n",
      "Successfully loaded genres_original\\metal\\metal.00082.wav\n",
      "Successfully loaded genres_original\\metal\\metal.00083.wav\n",
      "Successfully loaded genres_original\\metal\\metal.00084.wav\n",
      "Successfully loaded genres_original\\metal\\metal.00085.wav\n",
      "Successfully loaded genres_original\\metal\\metal.00086.wav\n",
      "Successfully loaded genres_original\\metal\\metal.00087.wav\n",
      "Successfully loaded genres_original\\metal\\metal.00088.wav\n",
      "Successfully loaded genres_original\\metal\\metal.00089.wav\n",
      "Successfully loaded genres_original\\metal\\metal.00090.wav\n",
      "Successfully loaded genres_original\\metal\\metal.00091.wav\n",
      "Successfully loaded genres_original\\metal\\metal.00092.wav\n",
      "Successfully loaded genres_original\\metal\\metal.00093.wav\n",
      "Successfully loaded genres_original\\metal\\metal.00094.wav\n",
      "Successfully loaded genres_original\\metal\\metal.00095.wav\n",
      "Successfully loaded genres_original\\metal\\metal.00096.wav\n",
      "Successfully loaded genres_original\\metal\\metal.00097.wav\n",
      "Successfully loaded genres_original\\metal\\metal.00098.wav\n",
      "Successfully loaded genres_original\\metal\\metal.00099.wav\n",
      "Successfully loaded genres_original\\pop\\pop.00000.wav\n",
      "Successfully loaded genres_original\\pop\\pop.00001.wav\n",
      "Successfully loaded genres_original\\pop\\pop.00002.wav\n",
      "Successfully loaded genres_original\\pop\\pop.00003.wav\n",
      "Successfully loaded genres_original\\pop\\pop.00004.wav\n",
      "Successfully loaded genres_original\\pop\\pop.00005.wav\n",
      "Successfully loaded genres_original\\pop\\pop.00006.wav\n",
      "Successfully loaded genres_original\\pop\\pop.00007.wav\n",
      "Successfully loaded genres_original\\pop\\pop.00008.wav\n",
      "Successfully loaded genres_original\\pop\\pop.00009.wav\n",
      "Successfully loaded genres_original\\pop\\pop.00010.wav\n",
      "Successfully loaded genres_original\\pop\\pop.00011.wav\n",
      "Successfully loaded genres_original\\pop\\pop.00012.wav\n",
      "Successfully loaded genres_original\\pop\\pop.00013.wav\n",
      "Successfully loaded genres_original\\pop\\pop.00014.wav\n",
      "Successfully loaded genres_original\\pop\\pop.00015.wav\n",
      "Successfully loaded genres_original\\pop\\pop.00016.wav\n",
      "Successfully loaded genres_original\\pop\\pop.00017.wav\n",
      "Successfully loaded genres_original\\pop\\pop.00018.wav\n",
      "Successfully loaded genres_original\\pop\\pop.00019.wav\n",
      "Successfully loaded genres_original\\pop\\pop.00020.wav\n",
      "Successfully loaded genres_original\\pop\\pop.00021.wav\n",
      "Successfully loaded genres_original\\pop\\pop.00022.wav\n",
      "Successfully loaded genres_original\\pop\\pop.00023.wav\n",
      "Successfully loaded genres_original\\pop\\pop.00024.wav\n",
      "Successfully loaded genres_original\\pop\\pop.00025.wav\n",
      "Successfully loaded genres_original\\pop\\pop.00026.wav\n",
      "Successfully loaded genres_original\\pop\\pop.00027.wav\n",
      "Successfully loaded genres_original\\pop\\pop.00028.wav\n",
      "Successfully loaded genres_original\\pop\\pop.00029.wav\n",
      "Successfully loaded genres_original\\pop\\pop.00030.wav\n",
      "Successfully loaded genres_original\\pop\\pop.00031.wav\n",
      "Successfully loaded genres_original\\pop\\pop.00032.wav\n",
      "Successfully loaded genres_original\\pop\\pop.00033.wav\n",
      "Successfully loaded genres_original\\pop\\pop.00034.wav\n",
      "Successfully loaded genres_original\\pop\\pop.00035.wav\n",
      "Successfully loaded genres_original\\pop\\pop.00036.wav\n",
      "Successfully loaded genres_original\\pop\\pop.00037.wav\n",
      "Successfully loaded genres_original\\pop\\pop.00038.wav\n",
      "Successfully loaded genres_original\\pop\\pop.00039.wav\n",
      "Successfully loaded genres_original\\pop\\pop.00040.wav\n",
      "Successfully loaded genres_original\\pop\\pop.00041.wav\n",
      "Successfully loaded genres_original\\pop\\pop.00042.wav\n",
      "Successfully loaded genres_original\\pop\\pop.00043.wav\n",
      "Successfully loaded genres_original\\pop\\pop.00044.wav\n",
      "Successfully loaded genres_original\\pop\\pop.00045.wav\n",
      "Successfully loaded genres_original\\pop\\pop.00046.wav\n",
      "Successfully loaded genres_original\\pop\\pop.00047.wav\n",
      "Successfully loaded genres_original\\pop\\pop.00048.wav\n",
      "Successfully loaded genres_original\\pop\\pop.00049.wav\n",
      "Successfully loaded genres_original\\pop\\pop.00050.wav\n",
      "Successfully loaded genres_original\\pop\\pop.00051.wav\n",
      "Successfully loaded genres_original\\pop\\pop.00052.wav\n",
      "Successfully loaded genres_original\\pop\\pop.00053.wav\n",
      "Successfully loaded genres_original\\pop\\pop.00054.wav\n",
      "Successfully loaded genres_original\\pop\\pop.00055.wav\n",
      "Successfully loaded genres_original\\pop\\pop.00056.wav\n",
      "Successfully loaded genres_original\\pop\\pop.00057.wav\n",
      "Successfully loaded genres_original\\pop\\pop.00058.wav\n",
      "Successfully loaded genres_original\\pop\\pop.00059.wav\n",
      "Successfully loaded genres_original\\pop\\pop.00060.wav\n",
      "Successfully loaded genres_original\\pop\\pop.00061.wav\n",
      "Successfully loaded genres_original\\pop\\pop.00062.wav\n",
      "Successfully loaded genres_original\\pop\\pop.00063.wav\n",
      "Successfully loaded genres_original\\pop\\pop.00064.wav\n",
      "Successfully loaded genres_original\\pop\\pop.00065.wav\n",
      "Successfully loaded genres_original\\pop\\pop.00066.wav\n",
      "Successfully loaded genres_original\\pop\\pop.00067.wav\n",
      "Successfully loaded genres_original\\pop\\pop.00068.wav\n",
      "Successfully loaded genres_original\\pop\\pop.00069.wav\n",
      "Successfully loaded genres_original\\pop\\pop.00070.wav\n",
      "Successfully loaded genres_original\\pop\\pop.00071.wav\n",
      "Successfully loaded genres_original\\pop\\pop.00072.wav\n",
      "Successfully loaded genres_original\\pop\\pop.00073.wav\n",
      "Successfully loaded genres_original\\pop\\pop.00074.wav\n",
      "Successfully loaded genres_original\\pop\\pop.00075.wav\n",
      "Successfully loaded genres_original\\pop\\pop.00076.wav\n",
      "Successfully loaded genres_original\\pop\\pop.00077.wav\n",
      "Successfully loaded genres_original\\pop\\pop.00078.wav\n",
      "Successfully loaded genres_original\\pop\\pop.00079.wav\n",
      "Successfully loaded genres_original\\pop\\pop.00080.wav\n",
      "Successfully loaded genres_original\\pop\\pop.00081.wav\n",
      "Successfully loaded genres_original\\pop\\pop.00082.wav\n",
      "Successfully loaded genres_original\\pop\\pop.00083.wav\n",
      "Successfully loaded genres_original\\pop\\pop.00084.wav\n",
      "Successfully loaded genres_original\\pop\\pop.00085.wav\n",
      "Successfully loaded genres_original\\pop\\pop.00086.wav\n",
      "Successfully loaded genres_original\\pop\\pop.00087.wav\n",
      "Successfully loaded genres_original\\pop\\pop.00088.wav\n",
      "Successfully loaded genres_original\\pop\\pop.00089.wav\n",
      "Successfully loaded genres_original\\pop\\pop.00090.wav\n",
      "Successfully loaded genres_original\\pop\\pop.00091.wav\n",
      "Successfully loaded genres_original\\pop\\pop.00092.wav\n",
      "Successfully loaded genres_original\\pop\\pop.00093.wav\n",
      "Successfully loaded genres_original\\pop\\pop.00094.wav\n",
      "Successfully loaded genres_original\\pop\\pop.00095.wav\n",
      "Successfully loaded genres_original\\pop\\pop.00096.wav\n",
      "Successfully loaded genres_original\\pop\\pop.00097.wav\n",
      "Successfully loaded genres_original\\pop\\pop.00098.wav\n",
      "Successfully loaded genres_original\\pop\\pop.00099.wav\n",
      "Successfully loaded genres_original\\reggae\\reggae.00000.wav\n",
      "Successfully loaded genres_original\\reggae\\reggae.00001.wav\n",
      "Successfully loaded genres_original\\reggae\\reggae.00002.wav\n",
      "Successfully loaded genres_original\\reggae\\reggae.00003.wav\n",
      "Successfully loaded genres_original\\reggae\\reggae.00004.wav\n",
      "Successfully loaded genres_original\\reggae\\reggae.00005.wav\n",
      "Successfully loaded genres_original\\reggae\\reggae.00006.wav\n",
      "Successfully loaded genres_original\\reggae\\reggae.00007.wav\n",
      "Successfully loaded genres_original\\reggae\\reggae.00008.wav\n",
      "Successfully loaded genres_original\\reggae\\reggae.00009.wav\n",
      "Successfully loaded genres_original\\reggae\\reggae.00010.wav\n",
      "Successfully loaded genres_original\\reggae\\reggae.00011.wav\n",
      "Successfully loaded genres_original\\reggae\\reggae.00012.wav\n",
      "Successfully loaded genres_original\\reggae\\reggae.00013.wav\n",
      "Successfully loaded genres_original\\reggae\\reggae.00014.wav\n",
      "Successfully loaded genres_original\\reggae\\reggae.00015.wav\n",
      "Successfully loaded genres_original\\reggae\\reggae.00016.wav\n",
      "Successfully loaded genres_original\\reggae\\reggae.00017.wav\n",
      "Successfully loaded genres_original\\reggae\\reggae.00018.wav\n",
      "Successfully loaded genres_original\\reggae\\reggae.00019.wav\n",
      "Successfully loaded genres_original\\reggae\\reggae.00020.wav\n",
      "Successfully loaded genres_original\\reggae\\reggae.00021.wav\n",
      "Successfully loaded genres_original\\reggae\\reggae.00022.wav\n",
      "Successfully loaded genres_original\\reggae\\reggae.00023.wav\n",
      "Successfully loaded genres_original\\reggae\\reggae.00024.wav\n",
      "Successfully loaded genres_original\\reggae\\reggae.00025.wav\n",
      "Successfully loaded genres_original\\reggae\\reggae.00026.wav\n",
      "Successfully loaded genres_original\\reggae\\reggae.00027.wav\n",
      "Successfully loaded genres_original\\reggae\\reggae.00028.wav\n",
      "Successfully loaded genres_original\\reggae\\reggae.00029.wav\n",
      "Successfully loaded genres_original\\reggae\\reggae.00030.wav\n",
      "Successfully loaded genres_original\\reggae\\reggae.00031.wav\n",
      "Successfully loaded genres_original\\reggae\\reggae.00032.wav\n",
      "Successfully loaded genres_original\\reggae\\reggae.00033.wav\n",
      "Successfully loaded genres_original\\reggae\\reggae.00034.wav\n",
      "Successfully loaded genres_original\\reggae\\reggae.00035.wav\n",
      "Successfully loaded genres_original\\reggae\\reggae.00036.wav\n",
      "Successfully loaded genres_original\\reggae\\reggae.00037.wav\n",
      "Successfully loaded genres_original\\reggae\\reggae.00038.wav\n",
      "Successfully loaded genres_original\\reggae\\reggae.00039.wav\n",
      "Successfully loaded genres_original\\reggae\\reggae.00040.wav\n",
      "Successfully loaded genres_original\\reggae\\reggae.00041.wav\n",
      "Successfully loaded genres_original\\reggae\\reggae.00042.wav\n",
      "Successfully loaded genres_original\\reggae\\reggae.00043.wav\n",
      "Successfully loaded genres_original\\reggae\\reggae.00044.wav\n",
      "Successfully loaded genres_original\\reggae\\reggae.00045.wav\n",
      "Successfully loaded genres_original\\reggae\\reggae.00046.wav\n",
      "Successfully loaded genres_original\\reggae\\reggae.00047.wav\n",
      "Successfully loaded genres_original\\reggae\\reggae.00048.wav\n",
      "Successfully loaded genres_original\\reggae\\reggae.00049.wav\n",
      "Successfully loaded genres_original\\reggae\\reggae.00050.wav\n",
      "Successfully loaded genres_original\\reggae\\reggae.00051.wav\n",
      "Successfully loaded genres_original\\reggae\\reggae.00052.wav\n",
      "Successfully loaded genres_original\\reggae\\reggae.00053.wav\n",
      "Successfully loaded genres_original\\reggae\\reggae.00054.wav\n",
      "Successfully loaded genres_original\\reggae\\reggae.00055.wav\n",
      "Successfully loaded genres_original\\reggae\\reggae.00056.wav\n",
      "Successfully loaded genres_original\\reggae\\reggae.00057.wav\n",
      "Successfully loaded genres_original\\reggae\\reggae.00058.wav\n",
      "Successfully loaded genres_original\\reggae\\reggae.00059.wav\n",
      "Successfully loaded genres_original\\reggae\\reggae.00060.wav\n",
      "Successfully loaded genres_original\\reggae\\reggae.00061.wav\n",
      "Successfully loaded genres_original\\reggae\\reggae.00062.wav\n",
      "Successfully loaded genres_original\\reggae\\reggae.00063.wav\n",
      "Successfully loaded genres_original\\reggae\\reggae.00064.wav\n",
      "Successfully loaded genres_original\\reggae\\reggae.00065.wav\n",
      "Successfully loaded genres_original\\reggae\\reggae.00066.wav\n",
      "Successfully loaded genres_original\\reggae\\reggae.00067.wav\n",
      "Successfully loaded genres_original\\reggae\\reggae.00068.wav\n",
      "Successfully loaded genres_original\\reggae\\reggae.00069.wav\n",
      "Successfully loaded genres_original\\reggae\\reggae.00070.wav\n",
      "Successfully loaded genres_original\\reggae\\reggae.00071.wav\n",
      "Successfully loaded genres_original\\reggae\\reggae.00072.wav\n",
      "Successfully loaded genres_original\\reggae\\reggae.00073.wav\n",
      "Successfully loaded genres_original\\reggae\\reggae.00074.wav\n",
      "Successfully loaded genres_original\\reggae\\reggae.00075.wav\n",
      "Successfully loaded genres_original\\reggae\\reggae.00076.wav\n",
      "Successfully loaded genres_original\\reggae\\reggae.00077.wav\n",
      "Successfully loaded genres_original\\reggae\\reggae.00078.wav\n",
      "Successfully loaded genres_original\\reggae\\reggae.00079.wav\n",
      "Successfully loaded genres_original\\reggae\\reggae.00080.wav\n",
      "Successfully loaded genres_original\\reggae\\reggae.00081.wav\n",
      "Successfully loaded genres_original\\reggae\\reggae.00082.wav\n",
      "Successfully loaded genres_original\\reggae\\reggae.00083.wav\n",
      "Successfully loaded genres_original\\reggae\\reggae.00084.wav\n",
      "Successfully loaded genres_original\\reggae\\reggae.00085.wav\n",
      "Successfully loaded genres_original\\reggae\\reggae.00086.wav\n",
      "Successfully loaded genres_original\\reggae\\reggae.00087.wav\n",
      "Successfully loaded genres_original\\reggae\\reggae.00088.wav\n",
      "Successfully loaded genres_original\\reggae\\reggae.00089.wav\n",
      "Successfully loaded genres_original\\reggae\\reggae.00090.wav\n",
      "Successfully loaded genres_original\\reggae\\reggae.00091.wav\n",
      "Successfully loaded genres_original\\reggae\\reggae.00092.wav\n",
      "Successfully loaded genres_original\\reggae\\reggae.00093.wav\n",
      "Successfully loaded genres_original\\reggae\\reggae.00094.wav\n",
      "Successfully loaded genres_original\\reggae\\reggae.00095.wav\n",
      "Successfully loaded genres_original\\reggae\\reggae.00096.wav\n",
      "Successfully loaded genres_original\\reggae\\reggae.00097.wav\n",
      "Successfully loaded genres_original\\reggae\\reggae.00098.wav\n",
      "Successfully loaded genres_original\\reggae\\reggae.00099.wav\n",
      "Successfully loaded genres_original\\rock\\rock.00000.wav\n",
      "Successfully loaded genres_original\\rock\\rock.00001.wav\n",
      "Successfully loaded genres_original\\rock\\rock.00002.wav\n",
      "Successfully loaded genres_original\\rock\\rock.00003.wav\n",
      "Successfully loaded genres_original\\rock\\rock.00004.wav\n",
      "Successfully loaded genres_original\\rock\\rock.00005.wav\n",
      "Successfully loaded genres_original\\rock\\rock.00006.wav\n",
      "Successfully loaded genres_original\\rock\\rock.00007.wav\n",
      "Successfully loaded genres_original\\rock\\rock.00008.wav\n",
      "Successfully loaded genres_original\\rock\\rock.00009.wav\n",
      "Successfully loaded genres_original\\rock\\rock.00010.wav\n",
      "Successfully loaded genres_original\\rock\\rock.00011.wav\n",
      "Successfully loaded genres_original\\rock\\rock.00012.wav\n",
      "Successfully loaded genres_original\\rock\\rock.00013.wav\n",
      "Successfully loaded genres_original\\rock\\rock.00014.wav\n",
      "Successfully loaded genres_original\\rock\\rock.00015.wav\n",
      "Successfully loaded genres_original\\rock\\rock.00016.wav\n",
      "Successfully loaded genres_original\\rock\\rock.00017.wav\n",
      "Successfully loaded genres_original\\rock\\rock.00018.wav\n",
      "Successfully loaded genres_original\\rock\\rock.00019.wav\n",
      "Successfully loaded genres_original\\rock\\rock.00020.wav\n",
      "Successfully loaded genres_original\\rock\\rock.00021.wav\n",
      "Successfully loaded genres_original\\rock\\rock.00022.wav\n",
      "Successfully loaded genres_original\\rock\\rock.00023.wav\n",
      "Successfully loaded genres_original\\rock\\rock.00024.wav\n",
      "Successfully loaded genres_original\\rock\\rock.00025.wav\n",
      "Successfully loaded genres_original\\rock\\rock.00026.wav\n",
      "Successfully loaded genres_original\\rock\\rock.00027.wav\n",
      "Successfully loaded genres_original\\rock\\rock.00028.wav\n",
      "Successfully loaded genres_original\\rock\\rock.00029.wav\n",
      "Successfully loaded genres_original\\rock\\rock.00030.wav\n",
      "Successfully loaded genres_original\\rock\\rock.00031.wav\n",
      "Successfully loaded genres_original\\rock\\rock.00032.wav\n",
      "Successfully loaded genres_original\\rock\\rock.00033.wav\n",
      "Successfully loaded genres_original\\rock\\rock.00034.wav\n",
      "Successfully loaded genres_original\\rock\\rock.00035.wav\n",
      "Successfully loaded genres_original\\rock\\rock.00036.wav\n",
      "Successfully loaded genres_original\\rock\\rock.00037.wav\n",
      "Successfully loaded genres_original\\rock\\rock.00038.wav\n",
      "Successfully loaded genres_original\\rock\\rock.00039.wav\n",
      "Successfully loaded genres_original\\rock\\rock.00040.wav\n",
      "Successfully loaded genres_original\\rock\\rock.00041.wav\n",
      "Successfully loaded genres_original\\rock\\rock.00042.wav\n",
      "Successfully loaded genres_original\\rock\\rock.00043.wav\n",
      "Successfully loaded genres_original\\rock\\rock.00044.wav\n",
      "Successfully loaded genres_original\\rock\\rock.00045.wav\n",
      "Successfully loaded genres_original\\rock\\rock.00046.wav\n",
      "Successfully loaded genres_original\\rock\\rock.00047.wav\n",
      "Successfully loaded genres_original\\rock\\rock.00048.wav\n",
      "Successfully loaded genres_original\\rock\\rock.00049.wav\n",
      "Successfully loaded genres_original\\rock\\rock.00050.wav\n",
      "Successfully loaded genres_original\\rock\\rock.00051.wav\n",
      "Successfully loaded genres_original\\rock\\rock.00052.wav\n",
      "Successfully loaded genres_original\\rock\\rock.00053.wav\n",
      "Successfully loaded genres_original\\rock\\rock.00054.wav\n",
      "Successfully loaded genres_original\\rock\\rock.00055.wav\n",
      "Successfully loaded genres_original\\rock\\rock.00056.wav\n",
      "Successfully loaded genres_original\\rock\\rock.00057.wav\n",
      "Successfully loaded genres_original\\rock\\rock.00058.wav\n",
      "Successfully loaded genres_original\\rock\\rock.00059.wav\n",
      "Successfully loaded genres_original\\rock\\rock.00060.wav\n",
      "Successfully loaded genres_original\\rock\\rock.00061.wav\n",
      "Successfully loaded genres_original\\rock\\rock.00062.wav\n",
      "Successfully loaded genres_original\\rock\\rock.00063.wav\n",
      "Successfully loaded genres_original\\rock\\rock.00064.wav\n",
      "Successfully loaded genres_original\\rock\\rock.00065.wav\n",
      "Successfully loaded genres_original\\rock\\rock.00066.wav\n",
      "Successfully loaded genres_original\\rock\\rock.00067.wav\n",
      "Successfully loaded genres_original\\rock\\rock.00068.wav\n",
      "Successfully loaded genres_original\\rock\\rock.00069.wav\n",
      "Successfully loaded genres_original\\rock\\rock.00070.wav\n",
      "Successfully loaded genres_original\\rock\\rock.00071.wav\n",
      "Successfully loaded genres_original\\rock\\rock.00072.wav\n",
      "Successfully loaded genres_original\\rock\\rock.00073.wav\n",
      "Successfully loaded genres_original\\rock\\rock.00074.wav\n",
      "Successfully loaded genres_original\\rock\\rock.00075.wav\n",
      "Successfully loaded genres_original\\rock\\rock.00076.wav\n",
      "Successfully loaded genres_original\\rock\\rock.00077.wav\n",
      "Successfully loaded genres_original\\rock\\rock.00078.wav\n",
      "Successfully loaded genres_original\\rock\\rock.00079.wav\n",
      "Successfully loaded genres_original\\rock\\rock.00080.wav\n",
      "Successfully loaded genres_original\\rock\\rock.00081.wav\n",
      "Successfully loaded genres_original\\rock\\rock.00082.wav\n",
      "Successfully loaded genres_original\\rock\\rock.00083.wav\n",
      "Successfully loaded genres_original\\rock\\rock.00084.wav\n",
      "Successfully loaded genres_original\\rock\\rock.00085.wav\n",
      "Successfully loaded genres_original\\rock\\rock.00086.wav\n",
      "Successfully loaded genres_original\\rock\\rock.00087.wav\n",
      "Successfully loaded genres_original\\rock\\rock.00088.wav\n",
      "Successfully loaded genres_original\\rock\\rock.00089.wav\n",
      "Successfully loaded genres_original\\rock\\rock.00090.wav\n",
      "Successfully loaded genres_original\\rock\\rock.00091.wav\n",
      "Successfully loaded genres_original\\rock\\rock.00092.wav\n",
      "Successfully loaded genres_original\\rock\\rock.00093.wav\n",
      "Successfully loaded genres_original\\rock\\rock.00094.wav\n",
      "Successfully loaded genres_original\\rock\\rock.00095.wav\n",
      "Successfully loaded genres_original\\rock\\rock.00096.wav\n",
      "Successfully loaded genres_original\\rock\\rock.00097.wav\n",
      "Successfully loaded genres_original\\rock\\rock.00098.wav\n",
      "Successfully loaded genres_original\\rock\\rock.00099.wav\n"
     ]
    }
   ],
   "source": [
    "#here I delete the corrupted file\n",
    "#def to delete corrupted files\n",
    "\n",
    "def delete_corrupted_files(directory):\n",
    "    for subdir, dirs, files in os.walk(directory):\n",
    "        for file in files:\n",
    "            filepath = os.path.join(subdir, file)\n",
    "            try:\n",
    "                _, _ = librosa.load(filepath, sr=None)\n",
    "                print(f\"Successfully loaded {filepath}\")\n",
    "            except Exception as e:\n",
    "                print(f\"Deleting corrupted file {filepath}: {e}\")\n",
    "                os.remove(filepath)\n",
    "\n",
    "#path of audio files\n",
    "audio_directory = 'genres_original'\n",
    "delete_corrupted_files(audio_directory)"
   ]
  },
  {
   "cell_type": "markdown",
   "id": "4710d9aa",
   "metadata": {},
   "source": [
    "# Check the Mel Look Like"
   ]
  },
  {
   "cell_type": "code",
   "execution_count": 5,
   "id": "de7ce9e4",
   "metadata": {},
   "outputs": [
    {
     "name": "stdout",
     "output_type": "stream",
     "text": [
      "Mel Spectrogram Dimensions:  (128, 1293)\n"
     ]
    },
    {
     "data": {
      "image/png": "[encoded data removed]",
      "text/plain": [
       "<Figure size 1000x400 with 2 Axes>"
      ]
     },
     "metadata": {},
     "output_type": "display_data"
    }
   ],
   "source": [
    "import librosa.display\n",
    "import matplotlib.pyplot as plt\n",
    "import numpy as np\n",
    "#load an audio file\n",
    "audio_path = 'genres_original/blues/blues.00000.wav'\n",
    "y, sr = librosa.load(audio_path)\n",
    "\n",
    "#Generate one of Mel spectrogram\n",
    "n_fft = 2048  #window size\n",
    "hop_length = 512  #number of samples between successive frames\n",
    "n_mels = 128  #number of Mel bands to generate\n",
    "\n",
    "mel_spec = librosa.feature.melspectrogram(y=y, sr=sr, n_fft=n_fft, hop_length=hop_length, n_mels=n_mels)\n",
    "\n",
    "#convert to dB\n",
    "mel_spec_dB = librosa.power_to_db(mel_spec, ref=np.max)\n",
    "\n",
    "#show the spectrogram dimensions, will use later\n",
    "print(\"Mel Spectrogram Dimensions: \", mel_spec_dB.shape)\n",
    "\n",
    "#Visualise Mel Spectrogram\n",
    "plt.figure(figsize=(10, 4))\n",
    "librosa.display.specshow(mel_spec_dB, sr=sr, hop_length=hop_length, x_axis='time', y_axis='mel')\n",
    "plt.colorbar(format='%+2.0f dB')\n",
    "plt.title('Mel Spectrogram')\n",
    "plt.tight_layout()\n",
    "plt.show()"
   ]
  },
  {
   "cell_type": "markdown",
   "id": "e3725493",
   "metadata": {},
   "source": [
    "# Split Dataset and Data Charateristic"
   ]
  },
  {
   "cell_type": "code",
   "execution_count": 30,
   "id": "73e28441",
   "metadata": {},
   "outputs": [
    {
     "name": "stdout",
     "output_type": "stream",
     "text": [
      "['blues', 'classical', 'country', 'disco', 'hiphop', 'jazz', 'metal', 'pop', 'reggae', 'rock']\n"
     ]
    }
   ],
   "source": [
    "#to check the order of categories for confusion matrix\n",
    "root_dir = 'genres_original'\n",
    "music_categories = sorted(os.listdir(root_dir))\n",
    "print(music_categories)"
   ]
  },
  {
   "cell_type": "code",
   "execution_count": 5,
   "id": "05fa5808",
   "metadata": {},
   "outputs": [],
   "source": [
    "import torch\n",
    "from torch.utils.data import Dataset, DataLoader, random_split\n",
    "from sklearn.preprocessing import LabelEncoder\n",
    "\n",
    "#audio parameters\n",
    "n_mels = 128\n",
    "n_fft = 2048\n",
    "hop_length = 512\n",
    "max_pad_len = 174  #assume the longest MEL spectrogram has 174 frames\n",
    "\n",
    "#label encoder\n",
    "label_encoder = LabelEncoder()\n",
    "\n",
    "#class dataset\n",
    "class AudioDataset(Dataset):\n",
    "    def __init__(self, audio_paths, labels, n_mels, n_fft, hop_length, max_pad_len):\n",
    "        self.audio_paths = audio_paths\n",
    "        self.labels = labels\n",
    "        self.n_mels = n_mels\n",
    "        self.n_fft = n_fft\n",
    "        self.hop_length = hop_length\n",
    "        self.max_pad_len = max_pad_len\n",
    "\n",
    "    def __len__(self):\n",
    "        return len(self.audio_paths)\n",
    "\n",
    "    def __getitem__(self, index):\n",
    "        filepath = self.audio_paths[index]\n",
    "        label = self.labels[index]\n",
    "        audio, sample_rate = librosa.load(filepath, sr=None)\n",
    "    \n",
    "        #keyword arguments when calling melspectrogram\n",
    "        mel_spec = librosa.feature.melspectrogram(y=audio, sr=sample_rate, n_mels=self.n_mels, n_fft=self.n_fft, hop_length=self.hop_length)\n",
    "        mel_spec = librosa.power_to_db(mel_spec, ref=np.max)\n",
    "    \n",
    "        # MEL spectrogram -> fixed size\n",
    "        pad_width = self.max_pad_len - mel_spec.shape[1]\n",
    "        if pad_width > 0:\n",
    "            mel_spec = np.pad(mel_spec, pad_width=((0, 0), (0, pad_width)), mode='constant')\n",
    "        else:\n",
    "            mel_spec = mel_spec[:, :self.max_pad_len]\n",
    "    \n",
    "        #transfer to pytorch tensor and add a channel dimension to fit LSTM input\n",
    "        mel_spec_tensor = torch.tensor(mel_spec).float().unsqueeze(0)  #(1, n_mels, max_pad_len)\n",
    "\n",
    "        # Convert label to tensor\n",
    "        label_tensor = torch.tensor(label).long()\n",
    "\n",
    "        return mel_spec_tensor, label_tensor\n",
    "\n",
    "\n",
    "#loading audio files and labels\n",
    "def load_audio_files(root_dir):\n",
    "    audio_paths = []\n",
    "    labels = []\n",
    "    genres = os.listdir(root_dir)\n",
    "    for genre in genres:\n",
    "        genre_path = os.path.join(root_dir, genre)\n",
    "        for audio_file in os.listdir(genre_path):\n",
    "            if audio_file.endswith('.wav'):\n",
    "                audio_paths.append(os.path.join(genre_path, audio_file))\n",
    "                labels.append(genre)\n",
    "    return audio_paths, labels\n",
    "\n",
    "#root directory path for audio files\n",
    "root_dir = 'genres_original'\n",
    "audio_paths, labels = load_audio_files(root_dir)\n",
    "\n",
    "#encode labels\n",
    "labels_encoded = label_encoder.fit_transform(labels)\n",
    "\n",
    "#create dataset\n",
    "audio_dataset = AudioDataset(audio_paths, labels_encoded, n_mels, n_fft, hop_length, max_pad_len)\n",
    "\n",
    "#split dataset as cw require\n",
    "train_size = int(0.7 * len(audio_dataset))\n",
    "val_size = int(0.2 * len(audio_dataset))\n",
    "test_size = len(audio_dataset) - train_size - val_size\n",
    "\n",
    "train_dataset, val_dataset, test_dataset = random_split(audio_dataset, [train_size, val_size, test_size])\n",
    "\n",
    "#dataloader\n",
    "train_loader = DataLoader(train_dataset, batch_size=32, shuffle=True)\n",
    "val_loader = DataLoader(val_dataset, batch_size=32, shuffle=True)\n",
    "test_loader = DataLoader(test_dataset, batch_size=32, shuffle=True)"
   ]
  },
  {
   "cell_type": "code",
   "execution_count": 6,
   "id": "5af38b5a",
   "metadata": {},
   "outputs": [
    {
     "name": "stdout",
     "output_type": "stream",
     "text": [
      "Total number of samples in train_loader: 699\n"
     ]
    }
   ],
   "source": [
    "#show the number of training set\n",
    "num_samples = len(train_loader.dataset)\n",
    "print(\"Total number of samples in train_loader:\", num_samples)"
   ]
  },
  {
   "cell_type": "code",
   "execution_count": 7,
   "id": "91f567fa",
   "metadata": {},
   "outputs": [
    {
     "name": "stdout",
     "output_type": "stream",
     "text": [
      "torch.Size([32, 1, 128, 174])\n",
      "torch.Size([32, 1, 128, 174])\n",
      "torch.Size([32, 1, 128, 174])\n",
      "torch.Size([32, 1, 128, 174])\n",
      "torch.Size([32, 1, 128, 174])\n",
      "torch.Size([32, 1, 128, 174])\n",
      "torch.Size([32, 1, 128, 174])\n",
      "torch.Size([32, 1, 128, 174])\n",
      "torch.Size([32, 1, 128, 174])\n",
      "torch.Size([32, 1, 128, 174])\n",
      "torch.Size([32, 1, 128, 174])\n",
      "torch.Size([32, 1, 128, 174])\n",
      "torch.Size([32, 1, 128, 174])\n",
      "torch.Size([32, 1, 128, 174])\n",
      "torch.Size([32, 1, 128, 174])\n",
      "torch.Size([32, 1, 128, 174])\n",
      "torch.Size([32, 1, 128, 174])\n",
      "torch.Size([32, 1, 128, 174])\n",
      "torch.Size([32, 1, 128, 174])\n",
      "torch.Size([32, 1, 128, 174])\n",
      "torch.Size([32, 1, 128, 174])\n",
      "torch.Size([27, 1, 128, 174])\n"
     ]
    }
   ],
   "source": [
    "#check mel shape(will use later\n",
    "for mel_specs, _ in train_loader:\n",
    "    print(mel_specs.shape)"
   ]
  },
  {
   "cell_type": "code",
   "execution_count": 8,
   "id": "20a1cca4",
   "metadata": {},
   "outputs": [
    {
     "name": "stdout",
     "output_type": "stream",
     "text": [
      "torch.Size([32, 1, 128, 174]) torch.Size([32])\n",
      "torch.Size([32, 1, 128, 174]) torch.Size([32])\n",
      "torch.Size([32, 1, 128, 174]) torch.Size([32])\n",
      "torch.Size([32, 1, 128, 174]) torch.Size([32])\n",
      "torch.Size([32, 1, 128, 174]) torch.Size([32])\n",
      "torch.Size([32, 1, 128, 174]) torch.Size([32])\n",
      "torch.Size([32, 1, 128, 174]) torch.Size([32])\n",
      "torch.Size([32, 1, 128, 174]) torch.Size([32])\n",
      "torch.Size([32, 1, 128, 174]) torch.Size([32])\n",
      "torch.Size([32, 1, 128, 174]) torch.Size([32])\n",
      "torch.Size([32, 1, 128, 174]) torch.Size([32])\n",
      "torch.Size([32, 1, 128, 174]) torch.Size([32])\n",
      "torch.Size([32, 1, 128, 174]) torch.Size([32])\n",
      "torch.Size([32, 1, 128, 174]) torch.Size([32])\n",
      "torch.Size([32, 1, 128, 174]) torch.Size([32])\n",
      "torch.Size([32, 1, 128, 174]) torch.Size([32])\n",
      "torch.Size([32, 1, 128, 174]) torch.Size([32])\n",
      "torch.Size([32, 1, 128, 174]) torch.Size([32])\n",
      "torch.Size([32, 1, 128, 174]) torch.Size([32])\n",
      "torch.Size([32, 1, 128, 174]) torch.Size([32])\n",
      "torch.Size([32, 1, 128, 174]) torch.Size([32])\n",
      "torch.Size([27, 1, 128, 174]) torch.Size([27])\n"
     ]
    }
   ],
   "source": [
    "for features, labels in train_loader:\n",
    "    print(features.shape, labels.shape)"
   ]
  },
  {
   "cell_type": "markdown",
   "id": "c2408607",
   "metadata": {},
   "source": [
    "# RNN+LSTM with original training set"
   ]
  },
  {
   "cell_type": "code",
   "execution_count": 171,
   "id": "581635fd",
   "metadata": {},
   "outputs": [
    {
     "data": {
      "application/vnd.jupyter.widget-view+json": {
       "model_id": "60c439e181534f36a294e6ed57d77d8d",
       "version_major": 2,
       "version_minor": 0
      },
      "text/plain": [
       "Epoch 1/120:   0%|          | 0/22 [00:00<?, ?it/s]"
      ]
     },
     "metadata": {},
     "output_type": "display_data"
    },
    {
     "name": "stdout",
     "output_type": "stream",
     "text": [
      "Epoch [1/120], Loss: 2.4810, Val Accuracy: 0.1357\n"
     ]
    },
    {
     "data": {
      "application/vnd.jupyter.widget-view+json": {
       "model_id": "2400f966e5204269afef17a79d17a2b1",
       "version_major": 2,
       "version_minor": 0
      },
      "text/plain": [
       "Epoch 2/120:   0%|          | 0/22 [00:00<?, ?it/s]"
      ]
     },
     "metadata": {},
     "output_type": "display_data"
    },
    {
     "name": "stdout",
     "output_type": "stream",
     "text": [
      "Epoch [2/120], Loss: 2.2859, Val Accuracy: 0.2312\n"
     ]
    },
    {
     "data": {
      "application/vnd.jupyter.widget-view+json": {
       "model_id": "f04f29953f6d460295331189bce37faa",
       "version_major": 2,
       "version_minor": 0
      },
      "text/plain": [
       "Epoch 3/120:   0%|          | 0/22 [00:00<?, ?it/s]"
      ]
     },
     "metadata": {},
     "output_type": "display_data"
    },
    {
     "name": "stdout",
     "output_type": "stream",
     "text": [
      "Epoch [3/120], Loss: 2.1912, Val Accuracy: 0.2462\n"
     ]
    },
    {
     "data": {
      "application/vnd.jupyter.widget-view+json": {
       "model_id": "7e3d7ad2a7934196a56b956b40b2c46b",
       "version_major": 2,
       "version_minor": 0
      },
      "text/plain": [
       "Epoch 4/120:   0%|          | 0/22 [00:00<?, ?it/s]"
      ]
     },
     "metadata": {},
     "output_type": "display_data"
    },
    {
     "name": "stdout",
     "output_type": "stream",
     "text": [
      "Epoch [4/120], Loss: 2.0997, Val Accuracy: 0.2864\n"
     ]
    },
    {
     "data": {
      "application/vnd.jupyter.widget-view+json": {
       "model_id": "cf908dd6c2704f498483c42f4976c41e",
       "version_major": 2,
       "version_minor": 0
      },
      "text/plain": [
       "Epoch 5/120:   0%|          | 0/22 [00:00<?, ?it/s]"
      ]
     },
     "metadata": {},
     "output_type": "display_data"
    },
    {
     "name": "stdout",
     "output_type": "stream",
     "text": [
      "Epoch [5/120], Loss: 2.0643, Val Accuracy: 0.3065\n"
     ]
    },
    {
     "data": {
      "application/vnd.jupyter.widget-view+json": {
       "model_id": "e4391346e02143a285b5a6f797f0f930",
       "version_major": 2,
       "version_minor": 0
      },
      "text/plain": [
       "Epoch 6/120:   0%|          | 0/22 [00:00<?, ?it/s]"
      ]
     },
     "metadata": {},
     "output_type": "display_data"
    },
    {
     "name": "stdout",
     "output_type": "stream",
     "text": [
      "Epoch [6/120], Loss: 2.0131, Val Accuracy: 0.3015\n"
     ]
    },
    {
     "data": {
      "application/vnd.jupyter.widget-view+json": {
       "model_id": "cba6a2e920f84265961e6731e6d8bb76",
       "version_major": 2,
       "version_minor": 0
      },
      "text/plain": [
       "Epoch 7/120:   0%|          | 0/22 [00:00<?, ?it/s]"
      ]
     },
     "metadata": {},
     "output_type": "display_data"
    },
    {
     "name": "stdout",
     "output_type": "stream",
     "text": [
      "Epoch [7/120], Loss: 1.9606, Val Accuracy: 0.2965\n"
     ]
    },
    {
     "data": {
      "application/vnd.jupyter.widget-view+json": {
       "model_id": "ae1d03b088ea4a0da3213ec8f8e19701",
       "version_major": 2,
       "version_minor": 0
      },
      "text/plain": [
       "Epoch 8/120:   0%|          | 0/22 [00:00<?, ?it/s]"
      ]
     },
     "metadata": {},
     "output_type": "display_data"
    },
    {
     "name": "stdout",
     "output_type": "stream",
     "text": [
      "Epoch [8/120], Loss: 1.9463, Val Accuracy: 0.2915\n"
     ]
    },
    {
     "data": {
      "application/vnd.jupyter.widget-view+json": {
       "model_id": "81a5af6dbe8043fd991a49d69a092b62",
       "version_major": 2,
       "version_minor": 0
      },
      "text/plain": [
       "Epoch 9/120:   0%|          | 0/22 [00:00<?, ?it/s]"
      ]
     },
     "metadata": {},
     "output_type": "display_data"
    },
    {
     "name": "stdout",
     "output_type": "stream",
     "text": [
      "Epoch [9/120], Loss: 1.9153, Val Accuracy: 0.3015\n"
     ]
    },
    {
     "data": {
      "application/vnd.jupyter.widget-view+json": {
       "model_id": "f9edf897ce854a49827ff7d29e70aab6",
       "version_major": 2,
       "version_minor": 0
      },
      "text/plain": [
       "Epoch 10/120:   0%|          | 0/22 [00:00<?, ?it/s]"
      ]
     },
     "metadata": {},
     "output_type": "display_data"
    },
    {
     "name": "stdout",
     "output_type": "stream",
     "text": [
      "Epoch [10/120], Loss: 1.8811, Val Accuracy: 0.3166\n"
     ]
    },
    {
     "data": {
      "application/vnd.jupyter.widget-view+json": {
       "model_id": "f09f5b27bdcc4d509ada272bfea37b60",
       "version_major": 2,
       "version_minor": 0
      },
      "text/plain": [
       "Epoch 11/120:   0%|          | 0/22 [00:00<?, ?it/s]"
      ]
     },
     "metadata": {},
     "output_type": "display_data"
    },
    {
     "name": "stdout",
     "output_type": "stream",
     "text": [
      "Epoch [11/120], Loss: 1.8498, Val Accuracy: 0.3166\n"
     ]
    },
    {
     "data": {
      "application/vnd.jupyter.widget-view+json": {
       "model_id": "c41f749795b04743b9c215d2cca41c08",
       "version_major": 2,
       "version_minor": 0
      },
      "text/plain": [
       "Epoch 12/120:   0%|          | 0/22 [00:00<?, ?it/s]"
      ]
     },
     "metadata": {},
     "output_type": "display_data"
    },
    {
     "name": "stdout",
     "output_type": "stream",
     "text": [
      "Epoch [12/120], Loss: 1.8081, Val Accuracy: 0.3417\n"
     ]
    },
    {
     "data": {
      "application/vnd.jupyter.widget-view+json": {
       "model_id": "205211cbb5094a1ebae4428e9b19ee7f",
       "version_major": 2,
       "version_minor": 0
      },
      "text/plain": [
       "Epoch 13/120:   0%|          | 0/22 [00:00<?, ?it/s]"
      ]
     },
     "metadata": {},
     "output_type": "display_data"
    },
    {
     "name": "stdout",
     "output_type": "stream",
     "text": [
      "Epoch [13/120], Loss: 1.7635, Val Accuracy: 0.3367\n"
     ]
    },
    {
     "data": {
      "application/vnd.jupyter.widget-view+json": {
       "model_id": "d7dc252b1849435e8ec886eb260019e1",
       "version_major": 2,
       "version_minor": 0
      },
      "text/plain": [
       "Epoch 14/120:   0%|          | 0/22 [00:00<?, ?it/s]"
      ]
     },
     "metadata": {},
     "output_type": "display_data"
    },
    {
     "name": "stdout",
     "output_type": "stream",
     "text": [
      "Epoch [14/120], Loss: 1.7260, Val Accuracy: 0.3317\n"
     ]
    },
    {
     "data": {
      "application/vnd.jupyter.widget-view+json": {
       "model_id": "d852b9f1cdf54e3cb24cff25b7724a86",
       "version_major": 2,
       "version_minor": 0
      },
      "text/plain": [
       "Epoch 15/120:   0%|          | 0/22 [00:00<?, ?it/s]"
      ]
     },
     "metadata": {},
     "output_type": "display_data"
    },
    {
     "name": "stdout",
     "output_type": "stream",
     "text": [
      "Epoch [15/120], Loss: 1.7011, Val Accuracy: 0.3668\n"
     ]
    },
    {
     "data": {
      "application/vnd.jupyter.widget-view+json": {
       "model_id": "59cb2e0272c84a7ab90a062587e138ce",
       "version_major": 2,
       "version_minor": 0
      },
      "text/plain": [
       "Epoch 16/120:   0%|          | 0/22 [00:00<?, ?it/s]"
      ]
     },
     "metadata": {},
     "output_type": "display_data"
    },
    {
     "name": "stdout",
     "output_type": "stream",
     "text": [
      "Epoch [16/120], Loss: 1.6770, Val Accuracy: 0.3467\n"
     ]
    },
    {
     "data": {
      "application/vnd.jupyter.widget-view+json": {
       "model_id": "a64968805548428f829432992a4c4cc6",
       "version_major": 2,
       "version_minor": 0
      },
      "text/plain": [
       "Epoch 17/120:   0%|          | 0/22 [00:00<?, ?it/s]"
      ]
     },
     "metadata": {},
     "output_type": "display_data"
    },
    {
     "name": "stdout",
     "output_type": "stream",
     "text": [
      "Epoch [17/120], Loss: 1.6744, Val Accuracy: 0.3417\n"
     ]
    },
    {
     "data": {
      "application/vnd.jupyter.widget-view+json": {
       "model_id": "6efe6d4190384982add4bbb1c24d4df3",
       "version_major": 2,
       "version_minor": 0
      },
      "text/plain": [
       "Epoch 18/120:   0%|          | 0/22 [00:00<?, ?it/s]"
      ]
     },
     "metadata": {},
     "output_type": "display_data"
    },
    {
     "name": "stdout",
     "output_type": "stream",
     "text": [
      "Epoch [18/120], Loss: 1.6496, Val Accuracy: 0.3819\n"
     ]
    },
    {
     "data": {
      "application/vnd.jupyter.widget-view+json": {
       "model_id": "47dd178711b54eecb0a990384ef56445",
       "version_major": 2,
       "version_minor": 0
      },
      "text/plain": [
       "Epoch 19/120:   0%|          | 0/22 [00:00<?, ?it/s]"
      ]
     },
     "metadata": {},
     "output_type": "display_data"
    },
    {
     "name": "stdout",
     "output_type": "stream",
     "text": [
      "Epoch [19/120], Loss: 1.6361, Val Accuracy: 0.3869\n"
     ]
    },
    {
     "data": {
      "application/vnd.jupyter.widget-view+json": {
       "model_id": "fae87d739f6e44bbb5beac4da47805ee",
       "version_major": 2,
       "version_minor": 0
      },
      "text/plain": [
       "Epoch 20/120:   0%|          | 0/22 [00:00<?, ?it/s]"
      ]
     },
     "metadata": {},
     "output_type": "display_data"
    },
    {
     "name": "stdout",
     "output_type": "stream",
     "text": [
      "Epoch [20/120], Loss: 1.6153, Val Accuracy: 0.3869\n"
     ]
    },
    {
     "data": {
      "application/vnd.jupyter.widget-view+json": {
       "model_id": "d15e138137f54477a0d73920fb48f431",
       "version_major": 2,
       "version_minor": 0
      },
      "text/plain": [
       "Epoch 21/120:   0%|          | 0/22 [00:00<?, ?it/s]"
      ]
     },
     "metadata": {},
     "output_type": "display_data"
    },
    {
     "name": "stdout",
     "output_type": "stream",
     "text": [
      "Epoch [21/120], Loss: 1.5729, Val Accuracy: 0.3668\n"
     ]
    },
    {
     "data": {
      "application/vnd.jupyter.widget-view+json": {
       "model_id": "b6a8e40cacf8449a8dc48a6597016853",
       "version_major": 2,
       "version_minor": 0
      },
      "text/plain": [
       "Epoch 22/120:   0%|          | 0/22 [00:00<?, ?it/s]"
      ]
     },
     "metadata": {},
     "output_type": "display_data"
    },
    {
     "name": "stdout",
     "output_type": "stream",
     "text": [
      "Epoch [22/120], Loss: 1.5532, Val Accuracy: 0.3869\n"
     ]
    },
    {
     "data": {
      "application/vnd.jupyter.widget-view+json": {
       "model_id": "55fcd3a5ca4a4a639192a7ce3cf666fe",
       "version_major": 2,
       "version_minor": 0
      },
      "text/plain": [
       "Epoch 23/120:   0%|          | 0/22 [00:00<?, ?it/s]"
      ]
     },
     "metadata": {},
     "output_type": "display_data"
    },
    {
     "name": "stdout",
     "output_type": "stream",
     "text": [
      "Epoch [23/120], Loss: 1.4837, Val Accuracy: 0.4070\n"
     ]
    },
    {
     "data": {
      "application/vnd.jupyter.widget-view+json": {
       "model_id": "58c100795b90435b8b034c381b1430f6",
       "version_major": 2,
       "version_minor": 0
      },
      "text/plain": [
       "Epoch 24/120:   0%|          | 0/22 [00:00<?, ?it/s]"
      ]
     },
     "metadata": {},
     "output_type": "display_data"
    },
    {
     "name": "stdout",
     "output_type": "stream",
     "text": [
      "Epoch [24/120], Loss: 1.4487, Val Accuracy: 0.3920\n"
     ]
    },
    {
     "data": {
      "application/vnd.jupyter.widget-view+json": {
       "model_id": "878b549dd55742f59adeedf4eed22a16",
       "version_major": 2,
       "version_minor": 0
      },
      "text/plain": [
       "Epoch 25/120:   0%|          | 0/22 [00:00<?, ?it/s]"
      ]
     },
     "metadata": {},
     "output_type": "display_data"
    },
    {
     "name": "stdout",
     "output_type": "stream",
     "text": [
      "Epoch [25/120], Loss: 1.4747, Val Accuracy: 0.3769\n"
     ]
    },
    {
     "data": {
      "application/vnd.jupyter.widget-view+json": {
       "model_id": "143031a4f37042d791351332b92e2c89",
       "version_major": 2,
       "version_minor": 0
      },
      "text/plain": [
       "Epoch 26/120:   0%|          | 0/22 [00:00<?, ?it/s]"
      ]
     },
     "metadata": {},
     "output_type": "display_data"
    },
    {
     "name": "stdout",
     "output_type": "stream",
     "text": [
      "Epoch [26/120], Loss: 1.4800, Val Accuracy: 0.4171\n"
     ]
    },
    {
     "data": {
      "application/vnd.jupyter.widget-view+json": {
       "model_id": "d0e41aabdc944acd89613113f421bb1f",
       "version_major": 2,
       "version_minor": 0
      },
      "text/plain": [
       "Epoch 27/120:   0%|          | 0/22 [00:00<?, ?it/s]"
      ]
     },
     "metadata": {},
     "output_type": "display_data"
    },
    {
     "name": "stdout",
     "output_type": "stream",
     "text": [
      "Epoch [27/120], Loss: 1.4638, Val Accuracy: 0.3819\n"
     ]
    },
    {
     "data": {
      "application/vnd.jupyter.widget-view+json": {
       "model_id": "dad792a585c8411283707cd03e9e9985",
       "version_major": 2,
       "version_minor": 0
      },
      "text/plain": [
       "Epoch 28/120:   0%|          | 0/22 [00:00<?, ?it/s]"
      ]
     },
     "metadata": {},
     "output_type": "display_data"
    },
    {
     "name": "stdout",
     "output_type": "stream",
     "text": [
      "Epoch [28/120], Loss: 1.4129, Val Accuracy: 0.4020\n"
     ]
    },
    {
     "data": {
      "application/vnd.jupyter.widget-view+json": {
       "model_id": "dccfc90b7c3b4b97a446aaf052f0de68",
       "version_major": 2,
       "version_minor": 0
      },
      "text/plain": [
       "Epoch 29/120:   0%|          | 0/22 [00:00<?, ?it/s]"
      ]
     },
     "metadata": {},
     "output_type": "display_data"
    },
    {
     "name": "stdout",
     "output_type": "stream",
     "text": [
      "Epoch [29/120], Loss: 1.3967, Val Accuracy: 0.4271\n"
     ]
    },
    {
     "data": {
      "application/vnd.jupyter.widget-view+json": {
       "model_id": "0254b6ff3fe141ea9dc6fe3ccfd973d8",
       "version_major": 2,
       "version_minor": 0
      },
      "text/plain": [
       "Epoch 30/120:   0%|          | 0/22 [00:00<?, ?it/s]"
      ]
     },
     "metadata": {},
     "output_type": "display_data"
    },
    {
     "name": "stdout",
     "output_type": "stream",
     "text": [
      "Epoch [30/120], Loss: 1.3597, Val Accuracy: 0.4070\n"
     ]
    },
    {
     "data": {
      "application/vnd.jupyter.widget-view+json": {
       "model_id": "21f09a4218a041478d507122a4cb0a5d",
       "version_major": 2,
       "version_minor": 0
      },
      "text/plain": [
       "Epoch 31/120:   0%|          | 0/22 [00:00<?, ?it/s]"
      ]
     },
     "metadata": {},
     "output_type": "display_data"
    },
    {
     "name": "stdout",
     "output_type": "stream",
     "text": [
      "Epoch [31/120], Loss: 1.3708, Val Accuracy: 0.4422\n"
     ]
    },
    {
     "data": {
      "application/vnd.jupyter.widget-view+json": {
       "model_id": "9824fb2d6fb341d98b1c7065dbc52f72",
       "version_major": 2,
       "version_minor": 0
      },
      "text/plain": [
       "Epoch 32/120:   0%|          | 0/22 [00:00<?, ?it/s]"
      ]
     },
     "metadata": {},
     "output_type": "display_data"
    },
    {
     "name": "stdout",
     "output_type": "stream",
     "text": [
      "Epoch [32/120], Loss: 1.3327, Val Accuracy: 0.4372\n"
     ]
    },
    {
     "data": {
      "application/vnd.jupyter.widget-view+json": {
       "model_id": "5e93c0daef504ea5bc1124e749b14784",
       "version_major": 2,
       "version_minor": 0
      },
      "text/plain": [
       "Epoch 33/120:   0%|          | 0/22 [00:00<?, ?it/s]"
      ]
     },
     "metadata": {},
     "output_type": "display_data"
    },
    {
     "name": "stdout",
     "output_type": "stream",
     "text": [
      "Epoch [33/120], Loss: 1.3076, Val Accuracy: 0.4121\n"
     ]
    },
    {
     "data": {
      "application/vnd.jupyter.widget-view+json": {
       "model_id": "24f3f151a436493ab54dd18bbd970218",
       "version_major": 2,
       "version_minor": 0
      },
      "text/plain": [
       "Epoch 34/120:   0%|          | 0/22 [00:00<?, ?it/s]"
      ]
     },
     "metadata": {},
     "output_type": "display_data"
    },
    {
     "name": "stdout",
     "output_type": "stream",
     "text": [
      "Epoch [34/120], Loss: 1.2786, Val Accuracy: 0.4623\n"
     ]
    },
    {
     "data": {
      "application/vnd.jupyter.widget-view+json": {
       "model_id": "320cf78580f1455182ed8c9daee51c89",
       "version_major": 2,
       "version_minor": 0
      },
      "text/plain": [
       "Epoch 35/120:   0%|          | 0/22 [00:00<?, ?it/s]"
      ]
     },
     "metadata": {},
     "output_type": "display_data"
    },
    {
     "name": "stdout",
     "output_type": "stream",
     "text": [
      "Epoch [35/120], Loss: 1.2572, Val Accuracy: 0.4422\n"
     ]
    },
    {
     "data": {
      "application/vnd.jupyter.widget-view+json": {
       "model_id": "b5fe094a2dcc4770baac9ebec088dd8e",
       "version_major": 2,
       "version_minor": 0
      },
      "text/plain": [
       "Epoch 36/120:   0%|          | 0/22 [00:00<?, ?it/s]"
      ]
     },
     "metadata": {},
     "output_type": "display_data"
    },
    {
     "name": "stdout",
     "output_type": "stream",
     "text": [
      "Epoch [36/120], Loss: 1.2251, Val Accuracy: 0.4221\n"
     ]
    },
    {
     "data": {
      "application/vnd.jupyter.widget-view+json": {
       "model_id": "ffab49662ff34f5fbb5993cd420f181d",
       "version_major": 2,
       "version_minor": 0
      },
      "text/plain": [
       "Epoch 37/120:   0%|          | 0/22 [00:00<?, ?it/s]"
      ]
     },
     "metadata": {},
     "output_type": "display_data"
    },
    {
     "name": "stdout",
     "output_type": "stream",
     "text": [
      "Epoch [37/120], Loss: 1.2131, Val Accuracy: 0.4774\n"
     ]
    },
    {
     "data": {
      "application/vnd.jupyter.widget-view+json": {
       "model_id": "341cde717b30488f92d783725303279d",
       "version_major": 2,
       "version_minor": 0
      },
      "text/plain": [
       "Epoch 38/120:   0%|          | 0/22 [00:00<?, ?it/s]"
      ]
     },
     "metadata": {},
     "output_type": "display_data"
    },
    {
     "name": "stdout",
     "output_type": "stream",
     "text": [
      "Epoch [38/120], Loss: 1.1850, Val Accuracy: 0.4573\n"
     ]
    },
    {
     "data": {
      "application/vnd.jupyter.widget-view+json": {
       "model_id": "f2a341378beb47fa909d737eac8b8fd1",
       "version_major": 2,
       "version_minor": 0
      },
      "text/plain": [
       "Epoch 39/120:   0%|          | 0/22 [00:00<?, ?it/s]"
      ]
     },
     "metadata": {},
     "output_type": "display_data"
    },
    {
     "name": "stdout",
     "output_type": "stream",
     "text": [
      "Epoch [39/120], Loss: 1.1737, Val Accuracy: 0.4020\n"
     ]
    },
    {
     "data": {
      "application/vnd.jupyter.widget-view+json": {
       "model_id": "a2627be298b44754bf0d67e2b12efed9",
       "version_major": 2,
       "version_minor": 0
      },
      "text/plain": [
       "Epoch 40/120:   0%|          | 0/22 [00:00<?, ?it/s]"
      ]
     },
     "metadata": {},
     "output_type": "display_data"
    },
    {
     "name": "stdout",
     "output_type": "stream",
     "text": [
      "Epoch [40/120], Loss: 1.1461, Val Accuracy: 0.4422\n"
     ]
    },
    {
     "data": {
      "application/vnd.jupyter.widget-view+json": {
       "model_id": "5aa2a162d8864975a0f1141f08c7d8d5",
       "version_major": 2,
       "version_minor": 0
      },
      "text/plain": [
       "Epoch 41/120:   0%|          | 0/22 [00:00<?, ?it/s]"
      ]
     },
     "metadata": {},
     "output_type": "display_data"
    },
    {
     "name": "stdout",
     "output_type": "stream",
     "text": [
      "Epoch [41/120], Loss: 1.1226, Val Accuracy: 0.4623\n"
     ]
    },
    {
     "data": {
      "application/vnd.jupyter.widget-view+json": {
       "model_id": "dedbe8ad31534842aaf522d7ecbb5e04",
       "version_major": 2,
       "version_minor": 0
      },
      "text/plain": [
       "Epoch 42/120:   0%|          | 0/22 [00:00<?, ?it/s]"
      ]
     },
     "metadata": {},
     "output_type": "display_data"
    },
    {
     "name": "stdout",
     "output_type": "stream",
     "text": [
      "Epoch [42/120], Loss: 1.1224, Val Accuracy: 0.4724\n"
     ]
    },
    {
     "data": {
      "application/vnd.jupyter.widget-view+json": {
       "model_id": "46784dfdb2d346b1ab667306a2050971",
       "version_major": 2,
       "version_minor": 0
      },
      "text/plain": [
       "Epoch 43/120:   0%|          | 0/22 [00:00<?, ?it/s]"
      ]
     },
     "metadata": {},
     "output_type": "display_data"
    },
    {
     "name": "stdout",
     "output_type": "stream",
     "text": [
      "Epoch [43/120], Loss: 1.0904, Val Accuracy: 0.4774\n"
     ]
    },
    {
     "data": {
      "application/vnd.jupyter.widget-view+json": {
       "model_id": "b7bf9fd6c9924a9eac9abe13e835b2f6",
       "version_major": 2,
       "version_minor": 0
      },
      "text/plain": [
       "Epoch 44/120:   0%|          | 0/22 [00:00<?, ?it/s]"
      ]
     },
     "metadata": {},
     "output_type": "display_data"
    },
    {
     "name": "stdout",
     "output_type": "stream",
     "text": [
      "Epoch [44/120], Loss: 1.0634, Val Accuracy: 0.4874\n"
     ]
    },
    {
     "data": {
      "application/vnd.jupyter.widget-view+json": {
       "model_id": "ec2d39be1add4fd6bd1a7c7e46f1f5d5",
       "version_major": 2,
       "version_minor": 0
      },
      "text/plain": [
       "Epoch 45/120:   0%|          | 0/22 [00:00<?, ?it/s]"
      ]
     },
     "metadata": {},
     "output_type": "display_data"
    },
    {
     "name": "stdout",
     "output_type": "stream",
     "text": [
      "Epoch [45/120], Loss: 1.0219, Val Accuracy: 0.4874\n"
     ]
    },
    {
     "data": {
      "application/vnd.jupyter.widget-view+json": {
       "model_id": "36f28b3a63d84256aefdcc3fa0700e81",
       "version_major": 2,
       "version_minor": 0
      },
      "text/plain": [
       "Epoch 46/120:   0%|          | 0/22 [00:00<?, ?it/s]"
      ]
     },
     "metadata": {},
     "output_type": "display_data"
    },
    {
     "name": "stdout",
     "output_type": "stream",
     "text": [
      "Epoch [46/120], Loss: 1.0170, Val Accuracy: 0.4673\n"
     ]
    },
    {
     "data": {
      "application/vnd.jupyter.widget-view+json": {
       "model_id": "4617fa09e9834ab7bb7320b8543ac2b4",
       "version_major": 2,
       "version_minor": 0
      },
      "text/plain": [
       "Epoch 47/120:   0%|          | 0/22 [00:00<?, ?it/s]"
      ]
     },
     "metadata": {},
     "output_type": "display_data"
    },
    {
     "name": "stdout",
     "output_type": "stream",
     "text": [
      "Epoch [47/120], Loss: 0.9799, Val Accuracy: 0.4874\n"
     ]
    },
    {
     "data": {
      "application/vnd.jupyter.widget-view+json": {
       "model_id": "8570d35c000048e099743f702e120975",
       "version_major": 2,
       "version_minor": 0
      },
      "text/plain": [
       "Epoch 48/120:   0%|          | 0/22 [00:00<?, ?it/s]"
      ]
     },
     "metadata": {},
     "output_type": "display_data"
    },
    {
     "name": "stdout",
     "output_type": "stream",
     "text": [
      "Epoch [48/120], Loss: 0.9429, Val Accuracy: 0.4975\n"
     ]
    },
    {
     "data": {
      "application/vnd.jupyter.widget-view+json": {
       "model_id": "c1ba000108b54613ad8b5bdaa78e216e",
       "version_major": 2,
       "version_minor": 0
      },
      "text/plain": [
       "Epoch 49/120:   0%|          | 0/22 [00:00<?, ?it/s]"
      ]
     },
     "metadata": {},
     "output_type": "display_data"
    },
    {
     "name": "stdout",
     "output_type": "stream",
     "text": [
      "Epoch [49/120], Loss: 0.9279, Val Accuracy: 0.4724\n"
     ]
    },
    {
     "data": {
      "application/vnd.jupyter.widget-view+json": {
       "model_id": "9aab85ed1c8b4c66897834e31fd09b9e",
       "version_major": 2,
       "version_minor": 0
      },
      "text/plain": [
       "Epoch 50/120:   0%|          | 0/22 [00:00<?, ?it/s]"
      ]
     },
     "metadata": {},
     "output_type": "display_data"
    },
    {
     "name": "stdout",
     "output_type": "stream",
     "text": [
      "Epoch [50/120], Loss: 0.8990, Val Accuracy: 0.4774\n"
     ]
    },
    {
     "data": {
      "application/vnd.jupyter.widget-view+json": {
       "model_id": "a7e69bee8d7a48bd9652b4a7ff310051",
       "version_major": 2,
       "version_minor": 0
      },
      "text/plain": [
       "Epoch 51/120:   0%|          | 0/22 [00:00<?, ?it/s]"
      ]
     },
     "metadata": {},
     "output_type": "display_data"
    },
    {
     "name": "stdout",
     "output_type": "stream",
     "text": [
      "Epoch [51/120], Loss: 0.8975, Val Accuracy: 0.4372\n"
     ]
    },
    {
     "data": {
      "application/vnd.jupyter.widget-view+json": {
       "model_id": "289b2d1082364596bc159663a9737daf",
       "version_major": 2,
       "version_minor": 0
      },
      "text/plain": [
       "Epoch 52/120:   0%|          | 0/22 [00:00<?, ?it/s]"
      ]
     },
     "metadata": {},
     "output_type": "display_data"
    },
    {
     "name": "stdout",
     "output_type": "stream",
     "text": [
      "Epoch [52/120], Loss: 0.8563, Val Accuracy: 0.4874\n"
     ]
    },
    {
     "data": {
      "application/vnd.jupyter.widget-view+json": {
       "model_id": "8dc61dafdb2646598d3ecf3fff9ffd54",
       "version_major": 2,
       "version_minor": 0
      },
      "text/plain": [
       "Epoch 53/120:   0%|          | 0/22 [00:00<?, ?it/s]"
      ]
     },
     "metadata": {},
     "output_type": "display_data"
    },
    {
     "name": "stdout",
     "output_type": "stream",
     "text": [
      "Epoch [53/120], Loss: 0.8579, Val Accuracy: 0.4724\n"
     ]
    },
    {
     "data": {
      "application/vnd.jupyter.widget-view+json": {
       "model_id": "f656667055f344de9a8e3d84f8c4cd9d",
       "version_major": 2,
       "version_minor": 0
      },
      "text/plain": [
       "Epoch 54/120:   0%|          | 0/22 [00:00<?, ?it/s]"
      ]
     },
     "metadata": {},
     "output_type": "display_data"
    },
    {
     "name": "stdout",
     "output_type": "stream",
     "text": [
      "Epoch [54/120], Loss: 0.8019, Val Accuracy: 0.4874\n"
     ]
    },
    {
     "data": {
      "application/vnd.jupyter.widget-view+json": {
       "model_id": "121c297963b7479595a50c2575dad54d",
       "version_major": 2,
       "version_minor": 0
      },
      "text/plain": [
       "Epoch 55/120:   0%|          | 0/22 [00:00<?, ?it/s]"
      ]
     },
     "metadata": {},
     "output_type": "display_data"
    },
    {
     "name": "stdout",
     "output_type": "stream",
     "text": [
      "Epoch [55/120], Loss: 0.7993, Val Accuracy: 0.4472\n"
     ]
    },
    {
     "data": {
      "application/vnd.jupyter.widget-view+json": {
       "model_id": "1bc805651d7948078bc479ec09c9e503",
       "version_major": 2,
       "version_minor": 0
      },
      "text/plain": [
       "Epoch 56/120:   0%|          | 0/22 [00:00<?, ?it/s]"
      ]
     },
     "metadata": {},
     "output_type": "display_data"
    },
    {
     "name": "stdout",
     "output_type": "stream",
     "text": [
      "Epoch [56/120], Loss: 0.8158, Val Accuracy: 0.4824\n"
     ]
    },
    {
     "data": {
      "application/vnd.jupyter.widget-view+json": {
       "model_id": "5d8b485ee2bd42299524b100454bd3d5",
       "version_major": 2,
       "version_minor": 0
      },
      "text/plain": [
       "Epoch 57/120:   0%|          | 0/22 [00:00<?, ?it/s]"
      ]
     },
     "metadata": {},
     "output_type": "display_data"
    },
    {
     "name": "stdout",
     "output_type": "stream",
     "text": [
      "Epoch [57/120], Loss: 0.7842, Val Accuracy: 0.4874\n"
     ]
    },
    {
     "data": {
      "application/vnd.jupyter.widget-view+json": {
       "model_id": "7abf2aecf5804153aebc26b1974e3040",
       "version_major": 2,
       "version_minor": 0
      },
      "text/plain": [
       "Epoch 58/120:   0%|          | 0/22 [00:00<?, ?it/s]"
      ]
     },
     "metadata": {},
     "output_type": "display_data"
    },
    {
     "name": "stdout",
     "output_type": "stream",
     "text": [
      "Epoch [58/120], Loss: 0.7935, Val Accuracy: 0.5025\n"
     ]
    },
    {
     "data": {
      "application/vnd.jupyter.widget-view+json": {
       "model_id": "8cf2b90728f045a589c3365c54d809b2",
       "version_major": 2,
       "version_minor": 0
      },
      "text/plain": [
       "Epoch 59/120:   0%|          | 0/22 [00:00<?, ?it/s]"
      ]
     },
     "metadata": {},
     "output_type": "display_data"
    },
    {
     "name": "stdout",
     "output_type": "stream",
     "text": [
      "Epoch [59/120], Loss: 0.7957, Val Accuracy: 0.4925\n"
     ]
    },
    {
     "data": {
      "application/vnd.jupyter.widget-view+json": {
       "model_id": "73cf1ef8db2f43e19f12e16a50bd4a15",
       "version_major": 2,
       "version_minor": 0
      },
      "text/plain": [
       "Epoch 60/120:   0%|          | 0/22 [00:00<?, ?it/s]"
      ]
     },
     "metadata": {},
     "output_type": "display_data"
    },
    {
     "name": "stdout",
     "output_type": "stream",
     "text": [
      "Epoch [60/120], Loss: 0.7422, Val Accuracy: 0.4774\n"
     ]
    },
    {
     "data": {
      "application/vnd.jupyter.widget-view+json": {
       "model_id": "9b37da5c1dfc4c368d2d91aa29173bb3",
       "version_major": 2,
       "version_minor": 0
      },
      "text/plain": [
       "Epoch 61/120:   0%|          | 0/22 [00:00<?, ?it/s]"
      ]
     },
     "metadata": {},
     "output_type": "display_data"
    },
    {
     "name": "stdout",
     "output_type": "stream",
     "text": [
      "Epoch [61/120], Loss: 0.7211, Val Accuracy: 0.4774\n"
     ]
    },
    {
     "data": {
      "application/vnd.jupyter.widget-view+json": {
       "model_id": "fd0177d75bbb4887b2ea10aa42367f90",
       "version_major": 2,
       "version_minor": 0
      },
      "text/plain": [
       "Epoch 62/120:   0%|          | 0/22 [00:00<?, ?it/s]"
      ]
     },
     "metadata": {},
     "output_type": "display_data"
    },
    {
     "name": "stdout",
     "output_type": "stream",
     "text": [
      "Epoch [62/120], Loss: 0.7286, Val Accuracy: 0.4623\n"
     ]
    },
    {
     "data": {
      "application/vnd.jupyter.widget-view+json": {
       "model_id": "f6d13954817d48d28e667f355a3ddb9c",
       "version_major": 2,
       "version_minor": 0
      },
      "text/plain": [
       "Epoch 63/120:   0%|          | 0/22 [00:00<?, ?it/s]"
      ]
     },
     "metadata": {},
     "output_type": "display_data"
    },
    {
     "name": "stdout",
     "output_type": "stream",
     "text": [
      "Epoch [63/120], Loss: 0.7405, Val Accuracy: 0.4774\n"
     ]
    },
    {
     "data": {
      "application/vnd.jupyter.widget-view+json": {
       "model_id": "74547b783df74ee2a5d312f920618b30",
       "version_major": 2,
       "version_minor": 0
      },
      "text/plain": [
       "Epoch 64/120:   0%|          | 0/22 [00:00<?, ?it/s]"
      ]
     },
     "metadata": {},
     "output_type": "display_data"
    },
    {
     "name": "stdout",
     "output_type": "stream",
     "text": [
      "Epoch [64/120], Loss: 0.6752, Val Accuracy: 0.4824\n"
     ]
    },
    {
     "data": {
      "application/vnd.jupyter.widget-view+json": {
       "model_id": "3f415cb9df04460aafa362025c9b1b15",
       "version_major": 2,
       "version_minor": 0
      },
      "text/plain": [
       "Epoch 65/120:   0%|          | 0/22 [00:00<?, ?it/s]"
      ]
     },
     "metadata": {},
     "output_type": "display_data"
    },
    {
     "name": "stdout",
     "output_type": "stream",
     "text": [
      "Epoch [65/120], Loss: 0.7266, Val Accuracy: 0.4623\n"
     ]
    },
    {
     "data": {
      "application/vnd.jupyter.widget-view+json": {
       "model_id": "aaeb4bb4de214b77bfb711ebb1f3a86b",
       "version_major": 2,
       "version_minor": 0
      },
      "text/plain": [
       "Epoch 66/120:   0%|          | 0/22 [00:00<?, ?it/s]"
      ]
     },
     "metadata": {},
     "output_type": "display_data"
    },
    {
     "name": "stdout",
     "output_type": "stream",
     "text": [
      "Epoch [66/120], Loss: 0.6835, Val Accuracy: 0.4774\n"
     ]
    },
    {
     "data": {
      "application/vnd.jupyter.widget-view+json": {
       "model_id": "818c01eafc3b4649a4852c435fe88462",
       "version_major": 2,
       "version_minor": 0
      },
      "text/plain": [
       "Epoch 67/120:   0%|          | 0/22 [00:00<?, ?it/s]"
      ]
     },
     "metadata": {},
     "output_type": "display_data"
    },
    {
     "name": "stdout",
     "output_type": "stream",
     "text": [
      "Epoch [67/120], Loss: 0.6210, Val Accuracy: 0.4975\n"
     ]
    },
    {
     "data": {
      "application/vnd.jupyter.widget-view+json": {
       "model_id": "2578fff596b34972be04a8f7a3cb67c2",
       "version_major": 2,
       "version_minor": 0
      },
      "text/plain": [
       "Epoch 68/120:   0%|          | 0/22 [00:00<?, ?it/s]"
      ]
     },
     "metadata": {},
     "output_type": "display_data"
    },
    {
     "name": "stdout",
     "output_type": "stream",
     "text": [
      "Epoch [68/120], Loss: 0.6348, Val Accuracy: 0.4824\n"
     ]
    },
    {
     "data": {
      "application/vnd.jupyter.widget-view+json": {
       "model_id": "215916ff80b74900b3c366475885f544",
       "version_major": 2,
       "version_minor": 0
      },
      "text/plain": [
       "Epoch 69/120:   0%|          | 0/22 [00:00<?, ?it/s]"
      ]
     },
     "metadata": {},
     "output_type": "display_data"
    },
    {
     "name": "stdout",
     "output_type": "stream",
     "text": [
      "Epoch [69/120], Loss: 0.5982, Val Accuracy: 0.4673\n"
     ]
    },
    {
     "data": {
      "application/vnd.jupyter.widget-view+json": {
       "model_id": "5aa4c492737a4321a3953c3088595fc3",
       "version_major": 2,
       "version_minor": 0
      },
      "text/plain": [
       "Epoch 70/120:   0%|          | 0/22 [00:00<?, ?it/s]"
      ]
     },
     "metadata": {},
     "output_type": "display_data"
    },
    {
     "name": "stdout",
     "output_type": "stream",
     "text": [
      "Epoch [70/120], Loss: 0.6315, Val Accuracy: 0.4724\n"
     ]
    },
    {
     "data": {
      "application/vnd.jupyter.widget-view+json": {
       "model_id": "9feaaa29b4604512abe91c06ddd11a99",
       "version_major": 2,
       "version_minor": 0
      },
      "text/plain": [
       "Epoch 71/120:   0%|          | 0/22 [00:00<?, ?it/s]"
      ]
     },
     "metadata": {},
     "output_type": "display_data"
    },
    {
     "name": "stdout",
     "output_type": "stream",
     "text": [
      "Epoch [71/120], Loss: 0.5956, Val Accuracy: 0.4623\n"
     ]
    },
    {
     "data": {
      "application/vnd.jupyter.widget-view+json": {
       "model_id": "6cac82d751f84794ae3138894a18c3c6",
       "version_major": 2,
       "version_minor": 0
      },
      "text/plain": [
       "Epoch 72/120:   0%|          | 0/22 [00:00<?, ?it/s]"
      ]
     },
     "metadata": {},
     "output_type": "display_data"
    },
    {
     "name": "stdout",
     "output_type": "stream",
     "text": [
      "Epoch [72/120], Loss: 0.6479, Val Accuracy: 0.4724\n"
     ]
    },
    {
     "data": {
      "application/vnd.jupyter.widget-view+json": {
       "model_id": "ed48622c8f5340b382801b92a2b329ee",
       "version_major": 2,
       "version_minor": 0
      },
      "text/plain": [
       "Epoch 73/120:   0%|          | 0/22 [00:00<?, ?it/s]"
      ]
     },
     "metadata": {},
     "output_type": "display_data"
    },
    {
     "name": "stdout",
     "output_type": "stream",
     "text": [
      "Epoch [73/120], Loss: 0.5899, Val Accuracy: 0.5075\n"
     ]
    },
    {
     "data": {
      "application/vnd.jupyter.widget-view+json": {
       "model_id": "1639fba6af6d46f38fa0422687adaf6f",
       "version_major": 2,
       "version_minor": 0
      },
      "text/plain": [
       "Epoch 74/120:   0%|          | 0/22 [00:00<?, ?it/s]"
      ]
     },
     "metadata": {},
     "output_type": "display_data"
    },
    {
     "name": "stdout",
     "output_type": "stream",
     "text": [
      "Epoch [74/120], Loss: 0.5773, Val Accuracy: 0.4975\n"
     ]
    },
    {
     "data": {
      "application/vnd.jupyter.widget-view+json": {
       "model_id": "5c38eaf2b868490088c2db19a2534533",
       "version_major": 2,
       "version_minor": 0
      },
      "text/plain": [
       "Epoch 75/120:   0%|          | 0/22 [00:00<?, ?it/s]"
      ]
     },
     "metadata": {},
     "output_type": "display_data"
    },
    {
     "name": "stdout",
     "output_type": "stream",
     "text": [
      "Epoch [75/120], Loss: 0.5427, Val Accuracy: 0.5276\n"
     ]
    },
    {
     "data": {
      "application/vnd.jupyter.widget-view+json": {
       "model_id": "4e352cde9c9a4516b552c5c98230b0fa",
       "version_major": 2,
       "version_minor": 0
      },
      "text/plain": [
       "Epoch 76/120:   0%|          | 0/22 [00:00<?, ?it/s]"
      ]
     },
     "metadata": {},
     "output_type": "display_data"
    },
    {
     "name": "stdout",
     "output_type": "stream",
     "text": [
      "Epoch [76/120], Loss: 0.5310, Val Accuracy: 0.4925\n"
     ]
    },
    {
     "data": {
      "application/vnd.jupyter.widget-view+json": {
       "model_id": "b7e771ff2aa8423e900b4dd8e27abd69",
       "version_major": 2,
       "version_minor": 0
      },
      "text/plain": [
       "Epoch 77/120:   0%|          | 0/22 [00:00<?, ?it/s]"
      ]
     },
     "metadata": {},
     "output_type": "display_data"
    },
    {
     "name": "stdout",
     "output_type": "stream",
     "text": [
      "Epoch [77/120], Loss: 0.5149, Val Accuracy: 0.5025\n"
     ]
    },
    {
     "data": {
      "application/vnd.jupyter.widget-view+json": {
       "model_id": "7b4d32bc40964826b5b457651857b023",
       "version_major": 2,
       "version_minor": 0
      },
      "text/plain": [
       "Epoch 78/120:   0%|          | 0/22 [00:00<?, ?it/s]"
      ]
     },
     "metadata": {},
     "output_type": "display_data"
    },
    {
     "name": "stdout",
     "output_type": "stream",
     "text": [
      "Epoch [78/120], Loss: 0.4939, Val Accuracy: 0.5276\n"
     ]
    },
    {
     "data": {
      "application/vnd.jupyter.widget-view+json": {
       "model_id": "6e18d76ca6e749ad9d49b7488260ed56",
       "version_major": 2,
       "version_minor": 0
      },
      "text/plain": [
       "Epoch 79/120:   0%|          | 0/22 [00:00<?, ?it/s]"
      ]
     },
     "metadata": {},
     "output_type": "display_data"
    },
    {
     "name": "stdout",
     "output_type": "stream",
     "text": [
      "Epoch [79/120], Loss: 0.5001, Val Accuracy: 0.4925\n"
     ]
    },
    {
     "data": {
      "application/vnd.jupyter.widget-view+json": {
       "model_id": "623bbc82c4004f3ba36ea63e3652f072",
       "version_major": 2,
       "version_minor": 0
      },
      "text/plain": [
       "Epoch 80/120:   0%|          | 0/22 [00:00<?, ?it/s]"
      ]
     },
     "metadata": {},
     "output_type": "display_data"
    },
    {
     "name": "stdout",
     "output_type": "stream",
     "text": [
      "Epoch [80/120], Loss: 0.5040, Val Accuracy: 0.4874\n"
     ]
    },
    {
     "data": {
      "application/vnd.jupyter.widget-view+json": {
       "model_id": "f37765fcdb9345f88f0c71539b0623c9",
       "version_major": 2,
       "version_minor": 0
      },
      "text/plain": [
       "Epoch 81/120:   0%|          | 0/22 [00:00<?, ?it/s]"
      ]
     },
     "metadata": {},
     "output_type": "display_data"
    },
    {
     "name": "stdout",
     "output_type": "stream",
     "text": [
      "Epoch [81/120], Loss: 0.4514, Val Accuracy: 0.5176\n"
     ]
    },
    {
     "data": {
      "application/vnd.jupyter.widget-view+json": {
       "model_id": "9380ca4d6acf4592bbeb1caeff64751b",
       "version_major": 2,
       "version_minor": 0
      },
      "text/plain": [
       "Epoch 82/120:   0%|          | 0/22 [00:00<?, ?it/s]"
      ]
     },
     "metadata": {},
     "output_type": "display_data"
    },
    {
     "name": "stdout",
     "output_type": "stream",
     "text": [
      "Epoch [82/120], Loss: 0.4314, Val Accuracy: 0.4824\n"
     ]
    },
    {
     "data": {
      "application/vnd.jupyter.widget-view+json": {
       "model_id": "29eb52889ca54b1d81de2029d83b4e0c",
       "version_major": 2,
       "version_minor": 0
      },
      "text/plain": [
       "Epoch 83/120:   0%|          | 0/22 [00:00<?, ?it/s]"
      ]
     },
     "metadata": {},
     "output_type": "display_data"
    },
    {
     "name": "stdout",
     "output_type": "stream",
     "text": [
      "Epoch [83/120], Loss: 0.4580, Val Accuracy: 0.5327\n"
     ]
    },
    {
     "data": {
      "application/vnd.jupyter.widget-view+json": {
       "model_id": "4c359324827a49b2b6ef669e5afdeb6c",
       "version_major": 2,
       "version_minor": 0
      },
      "text/plain": [
       "Epoch 84/120:   0%|          | 0/22 [00:00<?, ?it/s]"
      ]
     },
     "metadata": {},
     "output_type": "display_data"
    },
    {
     "name": "stdout",
     "output_type": "stream",
     "text": [
      "Epoch [84/120], Loss: 0.4153, Val Accuracy: 0.4874\n"
     ]
    },
    {
     "data": {
      "application/vnd.jupyter.widget-view+json": {
       "model_id": "ab23ba5ce70d4c258c61c04d5a192e8e",
       "version_major": 2,
       "version_minor": 0
      },
      "text/plain": [
       "Epoch 85/120:   0%|          | 0/22 [00:00<?, ?it/s]"
      ]
     },
     "metadata": {},
     "output_type": "display_data"
    },
    {
     "name": "stdout",
     "output_type": "stream",
     "text": [
      "Epoch [85/120], Loss: 0.4037, Val Accuracy: 0.4874\n"
     ]
    },
    {
     "data": {
      "application/vnd.jupyter.widget-view+json": {
       "model_id": "9c3d89de144c46128597c9267e11a182",
       "version_major": 2,
       "version_minor": 0
      },
      "text/plain": [
       "Epoch 86/120:   0%|          | 0/22 [00:00<?, ?it/s]"
      ]
     },
     "metadata": {},
     "output_type": "display_data"
    },
    {
     "name": "stdout",
     "output_type": "stream",
     "text": [
      "Epoch [86/120], Loss: 0.4290, Val Accuracy: 0.4724\n"
     ]
    },
    {
     "data": {
      "application/vnd.jupyter.widget-view+json": {
       "model_id": "87c121a6c07d49f5be87af2f4e4a1a17",
       "version_major": 2,
       "version_minor": 0
      },
      "text/plain": [
       "Epoch 87/120:   0%|          | 0/22 [00:00<?, ?it/s]"
      ]
     },
     "metadata": {},
     "output_type": "display_data"
    },
    {
     "name": "stdout",
     "output_type": "stream",
     "text": [
      "Epoch [87/120], Loss: 0.3930, Val Accuracy: 0.4673\n"
     ]
    },
    {
     "data": {
      "application/vnd.jupyter.widget-view+json": {
       "model_id": "0ec8b918d69a4613bd721f120272e0f0",
       "version_major": 2,
       "version_minor": 0
      },
      "text/plain": [
       "Epoch 88/120:   0%|          | 0/22 [00:00<?, ?it/s]"
      ]
     },
     "metadata": {},
     "output_type": "display_data"
    },
    {
     "name": "stdout",
     "output_type": "stream",
     "text": [
      "Epoch [88/120], Loss: 0.4169, Val Accuracy: 0.4523\n"
     ]
    },
    {
     "data": {
      "application/vnd.jupyter.widget-view+json": {
       "model_id": "23dc498373a5408fbd065a7d334964f5",
       "version_major": 2,
       "version_minor": 0
      },
      "text/plain": [
       "Epoch 89/120:   0%|          | 0/22 [00:00<?, ?it/s]"
      ]
     },
     "metadata": {},
     "output_type": "display_data"
    },
    {
     "name": "stdout",
     "output_type": "stream",
     "text": [
      "Epoch [89/120], Loss: 0.4391, Val Accuracy: 0.5025\n"
     ]
    },
    {
     "data": {
      "application/vnd.jupyter.widget-view+json": {
       "model_id": "df62faa311a24935994dd7c0593ac33f",
       "version_major": 2,
       "version_minor": 0
      },
      "text/plain": [
       "Epoch 90/120:   0%|          | 0/22 [00:00<?, ?it/s]"
      ]
     },
     "metadata": {},
     "output_type": "display_data"
    },
    {
     "name": "stdout",
     "output_type": "stream",
     "text": [
      "Epoch [90/120], Loss: 0.3893, Val Accuracy: 0.5176\n"
     ]
    },
    {
     "data": {
      "application/vnd.jupyter.widget-view+json": {
       "model_id": "368da54104fa4f988f67c0c1fe6f953b",
       "version_major": 2,
       "version_minor": 0
      },
      "text/plain": [
       "Epoch 91/120:   0%|          | 0/22 [00:00<?, ?it/s]"
      ]
     },
     "metadata": {},
     "output_type": "display_data"
    },
    {
     "name": "stdout",
     "output_type": "stream",
     "text": [
      "Epoch [91/120], Loss: 0.4203, Val Accuracy: 0.4874\n"
     ]
    },
    {
     "data": {
      "application/vnd.jupyter.widget-view+json": {
       "model_id": "6a74549c8b264b1fa03b074b8c6167f2",
       "version_major": 2,
       "version_minor": 0
      },
      "text/plain": [
       "Epoch 92/120:   0%|          | 0/22 [00:00<?, ?it/s]"
      ]
     },
     "metadata": {},
     "output_type": "display_data"
    },
    {
     "name": "stdout",
     "output_type": "stream",
     "text": [
      "Epoch [92/120], Loss: 0.4204, Val Accuracy: 0.4975\n"
     ]
    },
    {
     "data": {
      "application/vnd.jupyter.widget-view+json": {
       "model_id": "d9545991504a4d86a7abdb64aaffdb20",
       "version_major": 2,
       "version_minor": 0
      },
      "text/plain": [
       "Epoch 93/120:   0%|          | 0/22 [00:00<?, ?it/s]"
      ]
     },
     "metadata": {},
     "output_type": "display_data"
    },
    {
     "name": "stdout",
     "output_type": "stream",
     "text": [
      "Epoch [93/120], Loss: 0.3823, Val Accuracy: 0.4724\n"
     ]
    },
    {
     "data": {
      "application/vnd.jupyter.widget-view+json": {
       "model_id": "03a7d3c1e194475398e252e660f7ad3e",
       "version_major": 2,
       "version_minor": 0
      },
      "text/plain": [
       "Epoch 94/120:   0%|          | 0/22 [00:00<?, ?it/s]"
      ]
     },
     "metadata": {},
     "output_type": "display_data"
    },
    {
     "name": "stdout",
     "output_type": "stream",
     "text": [
      "Epoch [94/120], Loss: 0.3754, Val Accuracy: 0.4724\n"
     ]
    },
    {
     "data": {
      "application/vnd.jupyter.widget-view+json": {
       "model_id": "59f31a95f9bb47a880779f98922c21b9",
       "version_major": 2,
       "version_minor": 0
      },
      "text/plain": [
       "Epoch 95/120:   0%|          | 0/22 [00:00<?, ?it/s]"
      ]
     },
     "metadata": {},
     "output_type": "display_data"
    },
    {
     "name": "stdout",
     "output_type": "stream",
     "text": [
      "Epoch [95/120], Loss: 0.3644, Val Accuracy: 0.4925\n"
     ]
    },
    {
     "data": {
      "application/vnd.jupyter.widget-view+json": {
       "model_id": "b876a0f4366d4382b044d8d17fe1adc8",
       "version_major": 2,
       "version_minor": 0
      },
      "text/plain": [
       "Epoch 96/120:   0%|          | 0/22 [00:00<?, ?it/s]"
      ]
     },
     "metadata": {},
     "output_type": "display_data"
    },
    {
     "name": "stdout",
     "output_type": "stream",
     "text": [
      "Epoch [96/120], Loss: 0.3766, Val Accuracy: 0.5226\n"
     ]
    },
    {
     "data": {
      "application/vnd.jupyter.widget-view+json": {
       "model_id": "daebe008238c4f039762b89b0f8bba1c",
       "version_major": 2,
       "version_minor": 0
      },
      "text/plain": [
       "Epoch 97/120:   0%|          | 0/22 [00:00<?, ?it/s]"
      ]
     },
     "metadata": {},
     "output_type": "display_data"
    },
    {
     "name": "stdout",
     "output_type": "stream",
     "text": [
      "Epoch [97/120], Loss: 0.3580, Val Accuracy: 0.4673\n"
     ]
    },
    {
     "data": {
      "application/vnd.jupyter.widget-view+json": {
       "model_id": "a2da4c89bbcd452abc5265c5092f3721",
       "version_major": 2,
       "version_minor": 0
      },
      "text/plain": [
       "Epoch 98/120:   0%|          | 0/22 [00:00<?, ?it/s]"
      ]
     },
     "metadata": {},
     "output_type": "display_data"
    },
    {
     "name": "stdout",
     "output_type": "stream",
     "text": [
      "Epoch [98/120], Loss: 0.3522, Val Accuracy: 0.4874\n"
     ]
    },
    {
     "data": {
      "application/vnd.jupyter.widget-view+json": {
       "model_id": "993e80955d254f1ca525ff5afd70365d",
       "version_major": 2,
       "version_minor": 0
      },
      "text/plain": [
       "Epoch 99/120:   0%|          | 0/22 [00:00<?, ?it/s]"
      ]
     },
     "metadata": {},
     "output_type": "display_data"
    },
    {
     "name": "stdout",
     "output_type": "stream",
     "text": [
      "Epoch [99/120], Loss: 0.3533, Val Accuracy: 0.4874\n"
     ]
    },
    {
     "data": {
      "application/vnd.jupyter.widget-view+json": {
       "model_id": "7ce430bf9a8c40d5b2e8f5ad39779d1b",
       "version_major": 2,
       "version_minor": 0
      },
      "text/plain": [
       "Epoch 100/120:   0%|          | 0/22 [00:00<?, ?it/s]"
      ]
     },
     "metadata": {},
     "output_type": "display_data"
    },
    {
     "name": "stdout",
     "output_type": "stream",
     "text": [
      "Epoch [100/120], Loss: 0.3352, Val Accuracy: 0.4975\n"
     ]
    },
    {
     "data": {
      "application/vnd.jupyter.widget-view+json": {
       "model_id": "36a6a532c3e3444e9c3c2dcae76bed1c",
       "version_major": 2,
       "version_minor": 0
      },
      "text/plain": [
       "Epoch 101/120:   0%|          | 0/22 [00:00<?, ?it/s]"
      ]
     },
     "metadata": {},
     "output_type": "display_data"
    },
    {
     "name": "stdout",
     "output_type": "stream",
     "text": [
      "Epoch [101/120], Loss: 0.3194, Val Accuracy: 0.5075\n"
     ]
    },
    {
     "data": {
      "application/vnd.jupyter.widget-view+json": {
       "model_id": "b2104f48904e474d88f9f988b65e0dea",
       "version_major": 2,
       "version_minor": 0
      },
      "text/plain": [
       "Epoch 102/120:   0%|          | 0/22 [00:00<?, ?it/s]"
      ]
     },
     "metadata": {},
     "output_type": "display_data"
    },
    {
     "name": "stdout",
     "output_type": "stream",
     "text": [
      "Epoch [102/120], Loss: 0.3088, Val Accuracy: 0.4824\n"
     ]
    },
    {
     "data": {
      "application/vnd.jupyter.widget-view+json": {
       "model_id": "a50f8ffe64244075a99888e975cf29a4",
       "version_major": 2,
       "version_minor": 0
      },
      "text/plain": [
       "Epoch 103/120:   0%|          | 0/22 [00:00<?, ?it/s]"
      ]
     },
     "metadata": {},
     "output_type": "display_data"
    },
    {
     "name": "stdout",
     "output_type": "stream",
     "text": [
      "Epoch [103/120], Loss: 0.3195, Val Accuracy: 0.4874\n"
     ]
    },
    {
     "data": {
      "application/vnd.jupyter.widget-view+json": {
       "model_id": "23ab752e9a8b47f1b13e1efbb9b6abcf",
       "version_major": 2,
       "version_minor": 0
      },
      "text/plain": [
       "Epoch 104/120:   0%|          | 0/22 [00:00<?, ?it/s]"
      ]
     },
     "metadata": {},
     "output_type": "display_data"
    },
    {
     "name": "stdout",
     "output_type": "stream",
     "text": [
      "Epoch [104/120], Loss: 0.2727, Val Accuracy: 0.4824\n"
     ]
    },
    {
     "data": {
      "application/vnd.jupyter.widget-view+json": {
       "model_id": "ad3d9d750949499ebc238f9d98cf25d4",
       "version_major": 2,
       "version_minor": 0
      },
      "text/plain": [
       "Epoch 105/120:   0%|          | 0/22 [00:00<?, ?it/s]"
      ]
     },
     "metadata": {},
     "output_type": "display_data"
    },
    {
     "name": "stdout",
     "output_type": "stream",
     "text": [
      "Epoch [105/120], Loss: 0.2844, Val Accuracy: 0.4925\n"
     ]
    },
    {
     "data": {
      "application/vnd.jupyter.widget-view+json": {
       "model_id": "f7d06383834e4a0f990367f38992a963",
       "version_major": 2,
       "version_minor": 0
      },
      "text/plain": [
       "Epoch 106/120:   0%|          | 0/22 [00:00<?, ?it/s]"
      ]
     },
     "metadata": {},
     "output_type": "display_data"
    },
    {
     "name": "stdout",
     "output_type": "stream",
     "text": [
      "Epoch [106/120], Loss: 0.3035, Val Accuracy: 0.4975\n"
     ]
    },
    {
     "data": {
      "application/vnd.jupyter.widget-view+json": {
       "model_id": "3565574628c54110ab2d9572a36115b0",
       "version_major": 2,
       "version_minor": 0
      },
      "text/plain": [
       "Epoch 107/120:   0%|          | 0/22 [00:00<?, ?it/s]"
      ]
     },
     "metadata": {},
     "output_type": "display_data"
    },
    {
     "name": "stdout",
     "output_type": "stream",
     "text": [
      "Epoch [107/120], Loss: 0.2863, Val Accuracy: 0.4422\n"
     ]
    },
    {
     "data": {
      "application/vnd.jupyter.widget-view+json": {
       "model_id": "e194c5052eaa4be4ae85d37cfe738ef6",
       "version_major": 2,
       "version_minor": 0
      },
      "text/plain": [
       "Epoch 108/120:   0%|          | 0/22 [00:00<?, ?it/s]"
      ]
     },
     "metadata": {},
     "output_type": "display_data"
    },
    {
     "name": "stdout",
     "output_type": "stream",
     "text": [
      "Epoch [108/120], Loss: 0.2424, Val Accuracy: 0.4623\n"
     ]
    },
    {
     "data": {
      "application/vnd.jupyter.widget-view+json": {
       "model_id": "bcba8585e44542db8d790f7f62cb62de",
       "version_major": 2,
       "version_minor": 0
      },
      "text/plain": [
       "Epoch 109/120:   0%|          | 0/22 [00:00<?, ?it/s]"
      ]
     },
     "metadata": {},
     "output_type": "display_data"
    },
    {
     "name": "stdout",
     "output_type": "stream",
     "text": [
      "Epoch [109/120], Loss: 0.2664, Val Accuracy: 0.4874\n"
     ]
    },
    {
     "data": {
      "application/vnd.jupyter.widget-view+json": {
       "model_id": "2e20d386db4a4b8c9a16433597adfa87",
       "version_major": 2,
       "version_minor": 0
      },
      "text/plain": [
       "Epoch 110/120:   0%|          | 0/22 [00:00<?, ?it/s]"
      ]
     },
     "metadata": {},
     "output_type": "display_data"
    },
    {
     "name": "stdout",
     "output_type": "stream",
     "text": [
      "Epoch [110/120], Loss: 0.2653, Val Accuracy: 0.5025\n"
     ]
    },
    {
     "data": {
      "application/vnd.jupyter.widget-view+json": {
       "model_id": "def3fea0ff1e45d4bebf5271bd4135a5",
       "version_major": 2,
       "version_minor": 0
      },
      "text/plain": [
       "Epoch 111/120:   0%|          | 0/22 [00:00<?, ?it/s]"
      ]
     },
     "metadata": {},
     "output_type": "display_data"
    },
    {
     "name": "stdout",
     "output_type": "stream",
     "text": [
      "Epoch [111/120], Loss: 0.2714, Val Accuracy: 0.4774\n"
     ]
    },
    {
     "data": {
      "application/vnd.jupyter.widget-view+json": {
       "model_id": "1362cabefbe946f1b87211bc798d4354",
       "version_major": 2,
       "version_minor": 0
      },
      "text/plain": [
       "Epoch 112/120:   0%|          | 0/22 [00:00<?, ?it/s]"
      ]
     },
     "metadata": {},
     "output_type": "display_data"
    },
    {
     "name": "stdout",
     "output_type": "stream",
     "text": [
      "Epoch [112/120], Loss: 0.2658, Val Accuracy: 0.4925\n"
     ]
    },
    {
     "data": {
      "application/vnd.jupyter.widget-view+json": {
       "model_id": "ba5600ca8bd34518a72d8f45281d4998",
       "version_major": 2,
       "version_minor": 0
      },
      "text/plain": [
       "Epoch 113/120:   0%|          | 0/22 [00:00<?, ?it/s]"
      ]
     },
     "metadata": {},
     "output_type": "display_data"
    },
    {
     "name": "stdout",
     "output_type": "stream",
     "text": [
      "Epoch [113/120], Loss: 0.2619, Val Accuracy: 0.4925\n"
     ]
    },
    {
     "data": {
      "application/vnd.jupyter.widget-view+json": {
       "model_id": "e6140f315c534264a74cdc6da7d5f32a",
       "version_major": 2,
       "version_minor": 0
      },
      "text/plain": [
       "Epoch 114/120:   0%|          | 0/22 [00:00<?, ?it/s]"
      ]
     },
     "metadata": {},
     "output_type": "display_data"
    },
    {
     "name": "stdout",
     "output_type": "stream",
     "text": [
      "Epoch [114/120], Loss: 0.2533, Val Accuracy: 0.5075\n"
     ]
    },
    {
     "data": {
      "application/vnd.jupyter.widget-view+json": {
       "model_id": "0bc3bae8b7f64e7a9970b607c6e153d9",
       "version_major": 2,
       "version_minor": 0
      },
      "text/plain": [
       "Epoch 115/120:   0%|          | 0/22 [00:00<?, ?it/s]"
      ]
     },
     "metadata": {},
     "output_type": "display_data"
    },
    {
     "name": "stdout",
     "output_type": "stream",
     "text": [
      "Epoch [115/120], Loss: 0.2551, Val Accuracy: 0.4472\n"
     ]
    },
    {
     "data": {
      "application/vnd.jupyter.widget-view+json": {
       "model_id": "0da809f767f845ed9924e0140d8f4ba9",
       "version_major": 2,
       "version_minor": 0
      },
      "text/plain": [
       "Epoch 116/120:   0%|          | 0/22 [00:00<?, ?it/s]"
      ]
     },
     "metadata": {},
     "output_type": "display_data"
    },
    {
     "name": "stdout",
     "output_type": "stream",
     "text": [
      "Epoch [116/120], Loss: 0.2673, Val Accuracy: 0.4975\n"
     ]
    },
    {
     "data": {
      "application/vnd.jupyter.widget-view+json": {
       "model_id": "6dea45516f664c94857a6359c36d971d",
       "version_major": 2,
       "version_minor": 0
      },
      "text/plain": [
       "Epoch 117/120:   0%|          | 0/22 [00:00<?, ?it/s]"
      ]
     },
     "metadata": {},
     "output_type": "display_data"
    },
    {
     "name": "stdout",
     "output_type": "stream",
     "text": [
      "Epoch [117/120], Loss: 0.2524, Val Accuracy: 0.4472\n"
     ]
    },
    {
     "data": {
      "application/vnd.jupyter.widget-view+json": {
       "model_id": "c64d016b42fa45a08120bd0c23e3e7ab",
       "version_major": 2,
       "version_minor": 0
      },
      "text/plain": [
       "Epoch 118/120:   0%|          | 0/22 [00:00<?, ?it/s]"
      ]
     },
     "metadata": {},
     "output_type": "display_data"
    },
    {
     "name": "stdout",
     "output_type": "stream",
     "text": [
      "Epoch [118/120], Loss: 0.2482, Val Accuracy: 0.4774\n"
     ]
    },
    {
     "data": {
      "application/vnd.jupyter.widget-view+json": {
       "model_id": "ee4e99d44cf347bdb60d38b7ff818e81",
       "version_major": 2,
       "version_minor": 0
      },
      "text/plain": [
       "Epoch 119/120:   0%|          | 0/22 [00:00<?, ?it/s]"
      ]
     },
     "metadata": {},
     "output_type": "display_data"
    },
    {
     "name": "stdout",
     "output_type": "stream",
     "text": [
      "Epoch [119/120], Loss: 0.2368, Val Accuracy: 0.5226\n"
     ]
    },
    {
     "data": {
      "application/vnd.jupyter.widget-view+json": {
       "model_id": "123e6b2541d84ba48428db5b314cddb7",
       "version_major": 2,
       "version_minor": 0
      },
      "text/plain": [
       "Epoch 120/120:   0%|          | 0/22 [00:00<?, ?it/s]"
      ]
     },
     "metadata": {},
     "output_type": "display_data"
    },
    {
     "name": "stdout",
     "output_type": "stream",
     "text": [
      "Epoch [120/120], Loss: 0.1872, Val Accuracy: 0.4774\n"
     ]
    }
   ],
   "source": [
    "import torch\n",
    "import torch.nn as nn\n",
    "import torch.optim as optim\n",
    "from torch.utils.data import DataLoader\n",
    "from tqdm.auto import tqdm\n",
    "\n",
    "#calss lstm\n",
    "\n",
    "class MusicGenreLSTM(nn.Module):\n",
    "    def __init__(self, input_size, hidden_size, num_layers, num_classes, dropout_rate=0.5):\n",
    "        super(MusicGenreLSTM, self).__init__()\n",
    "        self.lstm = nn.LSTM(input_size=input_size, hidden_size=hidden_size, \n",
    "                            num_layers=num_layers, batch_first=True, dropout=dropout_rate)\n",
    "        self.batch_norm = nn.BatchNorm1d(hidden_size)  #batch normalization\n",
    "        self.dropout = nn.Dropout(dropout_rate)\n",
    "        self.fc = nn.Linear(in_features=hidden_size, out_features=num_classes)\n",
    "        self.relu = nn.ReLU()  #ReLU activation function\n",
    "\n",
    "    def forward(self, x):\n",
    "        x = x.squeeze(1).transpose(1, 2)  #input dimensions for LSTM\n",
    "        _, (hn, _) = self.lstm(x)\n",
    "        hn = self.relu(hn[-1, :, :])  #ReLU after LSTM\n",
    "        hn = self.batch_norm(hn) #Apply batch normalization\n",
    "        hn = self.dropout(hn)\n",
    "        out = self.fc(hn)\n",
    "        return out\n",
    "\n",
    "#model\n",
    "model = MusicGenreLSTM(input_size=128, hidden_size=256, num_layers=2, num_classes=10, dropout_rate=0.3).cuda()\n",
    "\n",
    "loss_fn = nn.CrossEntropyLoss()\n",
    "optimizer = optim.Adam(model.parameters(), lr=0.00005) #best learning rate I tried\n",
    "\n",
    "def calculate_accuracy(loader, model):\n",
    "    model.eval()\n",
    "    correct = 0\n",
    "    total = 0\n",
    "    with torch.no_grad():\n",
    "        for features, labels in loader:\n",
    "            features, labels = features.cuda(), labels.cuda()\n",
    "            outputs = model(features)\n",
    "            _, predicted = torch.max(outputs.data, 1)\n",
    "            total += labels.size(0)\n",
    "            correct += (predicted == labels).sum().item()\n",
    "    accuracy = correct / total\n",
    "    model.train()\n",
    "    return accuracy\n",
    "\n",
    "def train(model, train_loader, val_loader, epochs, loss_fn, optimizer):\n",
    "    for epoch in range(epochs):\n",
    "        model.train()\n",
    "        total_loss = 0\n",
    "        for features, labels in tqdm(train_loader, desc=f\"Epoch {epoch+1}/{epochs}\"):\n",
    "            features, labels = features.cuda(), labels.cuda()\n",
    "            optimizer.zero_grad()\n",
    "            outputs = model(features)\n",
    "            loss = loss_fn(outputs, labels)\n",
    "            loss.backward()\n",
    "            torch.nn.utils.clip_grad_norm_(model.parameters(), max_norm=1)\n",
    "            optimizer.step()\n",
    "            total_loss += loss.item()\n",
    "\n",
    "      \n",
    "        val_accuracy = calculate_accuracy(val_loader, model)\n",
    "        print(f\"Epoch [{epoch+1}/{epochs}], Loss: {total_loss/len(train_loader):.4f}, Val Accuracy: {val_accuracy:.4f}\")\n",
    "\n",
    "train(model, train_loader, val_loader, epochs=120, loss_fn=loss_fn, optimizer=optimizer) #best epochs i tried"
   ]
  },
  {
   "cell_type": "code",
   "execution_count": 172,
   "id": "981240cd",
   "metadata": {},
   "outputs": [
    {
     "name": "stdout",
     "output_type": "stream",
     "text": [
      "Test Accuracy: 0.5248\n"
     ]
    }
   ],
   "source": [
    "def test_model(model, test_loader):\n",
    "    model.eval()  #evaluation mode\n",
    "    correct = 0\n",
    "    total = 0\n",
    "    with torch.no_grad():\n",
    "        for features, labels in test_loader:\n",
    "            features, labels = features.cuda(), labels.cuda()\n",
    "            outputs = model(features)\n",
    "            _, predicted = torch.max(outputs.data, 1)\n",
    "            total += labels.size(0)\n",
    "            correct += (predicted == labels).sum().item()\n",
    "    test_accuracy = correct / total\n",
    "    print(f'Test Accuracy: {test_accuracy:.4f}')\n",
    "    return test_accuracy\n",
    "\n",
    "\n",
    "test_accuracy = test_model(model, test_loader)"
   ]
  },
  {
   "cell_type": "code",
   "execution_count": 173,
   "id": "0a1fa835",
   "metadata": {},
   "outputs": [
    {
     "data": {
      "image/png": "[encoded data removed]",
      "text/plain": [
       "<Figure size 1000x800 with 2 Axes>"
      ]
     },
     "metadata": {},
     "output_type": "display_data"
    }
   ],
   "source": [
    "from torchmetrics import ConfusionMatrix\n",
    "import matplotlib.pyplot as plt\n",
    "import seaborn as sns\n",
    "\n",
    "def get_confusion_matrix(model, loader, num_classes):\n",
    "    model.eval()\n",
    "    #multiclass classification\n",
    "    confusion_matrix = ConfusionMatrix(num_classes=num_classes, task='multiclass')\n",
    "    confusion_matrix = confusion_matrix.to('cuda') \n",
    "    with torch.no_grad():\n",
    "        for features, labels in loader:\n",
    "            features, labels = features.cuda(), labels.cuda()\n",
    "            outputs = model(features)\n",
    "            _, preds = torch.max(outputs, 1)\n",
    "            confusion_matrix.update(preds, labels)\n",
    "    cm = confusion_matrix.compute()\n",
    "    return cm.cpu().numpy()  #for easy use with seaborn\n",
    "\n",
    "\n",
    "num_classes = 10 \n",
    "model.cuda()  \n",
    "\n",
    "#confusion matrix\n",
    "conf_matrix = get_confusion_matrix(model, test_loader, num_classes)\n",
    "\n",
    "#plot the confusion matrix\n",
    "plt.figure(figsize=(10, 8))\n",
    "music_categories = ['blues', 'classical', 'country', 'disco', 'hiphop', 'jazz', 'metal', 'pop', 'reggae', 'rock']\n",
    "sns.heatmap(conf_matrix, annot=True, fmt=\"d\", xticklabels=music_categories, yticklabels=music_categories)\n",
    "plt.title('Confusion Matrix')\n",
    "plt.xlabel('Predicted Labels')\n",
    "plt.ylabel('True Labels')\n",
    "plt.show()"
   ]
  },
  {
   "cell_type": "markdown",
   "id": "53c21721",
   "metadata": {},
   "source": [
    "# MEL + MFCCS (Bad Result so Give up)"
   ]
  },
  {
   "cell_type": "code",
   "execution_count": 11,
   "id": "068e053a",
   "metadata": {},
   "outputs": [],
   "source": [
    "#import numpy as np\n",
    "#import torch\n",
    "#from torch.utils.data import Dataset, DataLoader, random_split\n",
    "#import librosa\n",
    "#from sklearn.preprocessing import LabelEncoder\n",
    "\n",
    "#class AudioDataset(Dataset):\n",
    "    #def __init__(self, audio_paths, labels, n_mels, n_mfcc, n_fft, hop_length, max_pad_len):\n",
    "        #self.audio_paths = audio_paths\n",
    "        #self.labels = labels\n",
    "        #self.n_mels = n_mels\n",
    "        #self.n_mfcc = n_mfcc\n",
    "        #self.n_fft = n_fft\n",
    "        #self.hop_length = hop_length\n",
    "        #self.max_pad_len = max_pad_len\n",
    "\n",
    "    #def __len__(self):\n",
    "        #return len(self.audio_paths)\n",
    "\n",
    "    #def __getitem__(self, index):\n",
    "        #filepath = self.audio_paths[index]\n",
    "        #label = self.labels[index]\n",
    "        #audio, sample_rate = librosa.load(filepath, sr=None)\n",
    "        \n",
    "        # Compute Mel spectrogram and MFCC\n",
    "        #mel_spec = librosa.feature.melspectrogram(y=audio, sr=sample_rate, n_fft=self.n_fft,\n",
    "                                                  #hop_length=self.hop_length, n_mels=self.n_mels)\n",
    "        #mel_spec = librosa.power_to_db(mel_spec, ref=np.max)\n",
    "        #mfcc = librosa.feature.mfcc(y=audio, sr=sample_rate, n_mfcc=self.n_mfcc,\n",
    "                                    #n_fft=self.n_fft, hop_length=self.hop_length)\n",
    "\n",
    "        # Normalize features\n",
    "        #mel_spec = librosa.util.normalize(mel_spec)\n",
    "        #mfcc = librosa.util.normalize(mfcc)\n",
    "\n",
    "        # Pad or truncate the features to a fixed size\n",
    "        #if mel_spec.shape[1] < self.max_pad_len:\n",
    "            #mel_pad_width = self.max_pad_len - mel_spec.shape[1]\n",
    "            #mel_spec = np.pad(mel_spec, ((0, 0), (0, mel_pad_width)), mode='constant')\n",
    "        #else:\n",
    "            #mel_spec = mel_spec[:, :self.max_pad_len]\n",
    "\n",
    "        #if mfcc.shape[1] < self.max_pad_len:\n",
    "            #mfcc_pad_width = self.max_pad_len - mfcc.shape[1]\n",
    "            #mfcc = np.pad(mfcc, ((0, 0), (0, mfcc_pad_width)), mode='constant')\n",
    "        #else:\n",
    "            #mfcc = mfcc[:, :self.max_pad_len]\n",
    "\n",
    "        # Stack Mel spectrogram and MFCC (as new channels)\n",
    "        #combined_features = np.vstack([mel_spec, mfcc])\n",
    "        #combined_features_tensor = torch.tensor(combined_features).float().unsqueeze(0)  # Add channel dimension\n",
    "\n",
    "        #label_tensor = torch.tensor(label).long()\n",
    "        #return combined_features_tensor, label_tensor\n",
    "\n",
    "# Assuming audio_paths and labels are loaded correctly\n",
    "#root_dir = 'genres_original'\n",
    "#audio_paths, labels = load_audio_files(root_dir)  # make sure load_audio_files is defined correctly\n",
    "#labels_encoded = LabelEncoder().fit_transform(labels)\n",
    "\n",
    "# Create dataset\n",
    "#audio_dataset = AudioDataset(audio_paths, labels_encoded, n_mels=128, n_mfcc=20, n_fft=2048, hop_length=512, max_pad_len=174)\n",
    "#train_size = int(0.7 * len(audio_dataset))\n",
    "#val_size = int(0.2 * len(audio_dataset))\n",
    "#test_size = len(audio_dataset) - train_size - val_size\n",
    "#train_dataset, val_dataset, test_dataset = random_split(audio_dataset, [train_size, val_size, test_size])\n",
    "\n",
    "# DataLoaders\n",
    "#train_loader = DataLoader(train_dataset, batch_size=32, shuffle=True)\n",
    "#val_loader = DataLoader(val_dataset, batch_size=32, shuffle=True)\n",
    "#test_loader = DataLoader(test_dataset, batch_size=32, shuffle=False)"
   ]
  },
  {
   "cell_type": "code",
   "execution_count": 21,
   "id": "6d887762",
   "metadata": {
    "scrolled": false
   },
   "outputs": [
    {
     "data": {
      "application/vnd.jupyter.widget-view+json": {
       "model_id": "1e51a24b00d3472395a1833bbeb182db",
       "version_major": 2,
       "version_minor": 0
      },
      "text/plain": [
       "Epoch 1/100:   0%|          | 0/22 [00:00<?, ?it/s]"
      ]
     },
     "metadata": {},
     "output_type": "display_data"
    },
    {
     "name": "stdout",
     "output_type": "stream",
     "text": [
      "Epoch [1/100], Loss: 2.3009, Val Loss: 2.3018, Val Accuracy: 0.0905\n"
     ]
    },
    {
     "data": {
      "application/vnd.jupyter.widget-view+json": {
       "model_id": "2555f13416a14cda8d3d7f64601b77f9",
       "version_major": 2,
       "version_minor": 0
      },
      "text/plain": [
       "Epoch 2/100:   0%|          | 0/22 [00:00<?, ?it/s]"
      ]
     },
     "metadata": {},
     "output_type": "display_data"
    },
    {
     "name": "stdout",
     "output_type": "stream",
     "text": [
      "Epoch [2/100], Loss: 2.3020, Val Loss: 2.3065, Val Accuracy: 0.0905\n"
     ]
    },
    {
     "data": {
      "application/vnd.jupyter.widget-view+json": {
       "model_id": "b0f217e1cd0a47f380c1295e35dd92dc",
       "version_major": 2,
       "version_minor": 0
      },
      "text/plain": [
       "Epoch 3/100:   0%|          | 0/22 [00:00<?, ?it/s]"
      ]
     },
     "metadata": {},
     "output_type": "display_data"
    },
    {
     "name": "stdout",
     "output_type": "stream",
     "text": [
      "Epoch [3/100], Loss: 2.2993, Val Loss: 2.3049, Val Accuracy: 0.0905\n"
     ]
    },
    {
     "data": {
      "application/vnd.jupyter.widget-view+json": {
       "model_id": "cee13b770c5045869db64dc2c8c72c20",
       "version_major": 2,
       "version_minor": 0
      },
      "text/plain": [
       "Epoch 4/100:   0%|          | 0/22 [00:00<?, ?it/s]"
      ]
     },
     "metadata": {},
     "output_type": "display_data"
    },
    {
     "name": "stdout",
     "output_type": "stream",
     "text": [
      "Epoch [4/100], Loss: 2.2997, Val Loss: 2.3074, Val Accuracy: 0.0905\n"
     ]
    },
    {
     "data": {
      "application/vnd.jupyter.widget-view+json": {
       "model_id": "616f71487149413f84b32353b078247f",
       "version_major": 2,
       "version_minor": 0
      },
      "text/plain": [
       "Epoch 5/100:   0%|          | 0/22 [00:00<?, ?it/s]"
      ]
     },
     "metadata": {},
     "output_type": "display_data"
    },
    {
     "name": "stdout",
     "output_type": "stream",
     "text": [
      "Epoch [5/100], Loss: 2.2988, Val Loss: 2.2993, Val Accuracy: 0.0905\n"
     ]
    },
    {
     "data": {
      "application/vnd.jupyter.widget-view+json": {
       "model_id": "b69c4cb6c46641c7aee37428d49ed17c",
       "version_major": 2,
       "version_minor": 0
      },
      "text/plain": [
       "Epoch 6/100:   0%|          | 0/22 [00:00<?, ?it/s]"
      ]
     },
     "metadata": {},
     "output_type": "display_data"
    },
    {
     "name": "stdout",
     "output_type": "stream",
     "text": [
      "Epoch [6/100], Loss: 2.2976, Val Loss: 2.3042, Val Accuracy: 0.0905\n"
     ]
    },
    {
     "data": {
      "application/vnd.jupyter.widget-view+json": {
       "model_id": "93b57988dd804a1398ec83afaede21a0",
       "version_major": 2,
       "version_minor": 0
      },
      "text/plain": [
       "Epoch 7/100:   0%|          | 0/22 [00:00<?, ?it/s]"
      ]
     },
     "metadata": {},
     "output_type": "display_data"
    },
    {
     "name": "stdout",
     "output_type": "stream",
     "text": [
      "Epoch [7/100], Loss: 2.2978, Val Loss: 2.2991, Val Accuracy: 0.0905\n"
     ]
    },
    {
     "data": {
      "application/vnd.jupyter.widget-view+json": {
       "model_id": "501aaff691284877aaba172418217de0",
       "version_major": 2,
       "version_minor": 0
      },
      "text/plain": [
       "Epoch 8/100:   0%|          | 0/22 [00:00<?, ?it/s]"
      ]
     },
     "metadata": {},
     "output_type": "display_data"
    },
    {
     "name": "stdout",
     "output_type": "stream",
     "text": [
      "Epoch [8/100], Loss: 2.2966, Val Loss: 2.2987, Val Accuracy: 0.0955\n"
     ]
    },
    {
     "data": {
      "application/vnd.jupyter.widget-view+json": {
       "model_id": "88e98277813949b3b4c8bb82e85c48bd",
       "version_major": 2,
       "version_minor": 0
      },
      "text/plain": [
       "Epoch 9/100:   0%|          | 0/22 [00:00<?, ?it/s]"
      ]
     },
     "metadata": {},
     "output_type": "display_data"
    },
    {
     "name": "stdout",
     "output_type": "stream",
     "text": [
      "Epoch [9/100], Loss: 2.2944, Val Loss: 2.3016, Val Accuracy: 0.1206\n"
     ]
    },
    {
     "data": {
      "application/vnd.jupyter.widget-view+json": {
       "model_id": "1cd60eeeb4de464a89b8b7ca64723356",
       "version_major": 2,
       "version_minor": 0
      },
      "text/plain": [
       "Epoch 10/100:   0%|          | 0/22 [00:00<?, ?it/s]"
      ]
     },
     "metadata": {},
     "output_type": "display_data"
    },
    {
     "name": "stdout",
     "output_type": "stream",
     "text": [
      "Epoch [10/100], Loss: 2.2928, Val Loss: 2.2940, Val Accuracy: 0.1457\n"
     ]
    },
    {
     "data": {
      "application/vnd.jupyter.widget-view+json": {
       "model_id": "6701145974f945308e32c60cd4ab2a68",
       "version_major": 2,
       "version_minor": 0
      },
      "text/plain": [
       "Epoch 11/100:   0%|          | 0/22 [00:00<?, ?it/s]"
      ]
     },
     "metadata": {},
     "output_type": "display_data"
    },
    {
     "name": "stdout",
     "output_type": "stream",
     "text": [
      "Epoch [11/100], Loss: 2.2910, Val Loss: 2.2915, Val Accuracy: 0.1508\n"
     ]
    },
    {
     "data": {
      "application/vnd.jupyter.widget-view+json": {
       "model_id": "781b00b62b4e40bba6636c283419ac18",
       "version_major": 2,
       "version_minor": 0
      },
      "text/plain": [
       "Epoch 12/100:   0%|          | 0/22 [00:00<?, ?it/s]"
      ]
     },
     "metadata": {},
     "output_type": "display_data"
    },
    {
     "name": "stdout",
     "output_type": "stream",
     "text": [
      "Epoch [12/100], Loss: 2.2911, Val Loss: 2.2982, Val Accuracy: 0.1407\n"
     ]
    },
    {
     "data": {
      "application/vnd.jupyter.widget-view+json": {
       "model_id": "3752905b0af7411c9bab940f52108c28",
       "version_major": 2,
       "version_minor": 0
      },
      "text/plain": [
       "Epoch 13/100:   0%|          | 0/22 [00:00<?, ?it/s]"
      ]
     },
     "metadata": {},
     "output_type": "display_data"
    },
    {
     "name": "stdout",
     "output_type": "stream",
     "text": [
      "Epoch [13/100], Loss: 2.2883, Val Loss: 2.2917, Val Accuracy: 0.1357\n"
     ]
    },
    {
     "data": {
      "application/vnd.jupyter.widget-view+json": {
       "model_id": "262671948dde4facbe8ade86150104ef",
       "version_major": 2,
       "version_minor": 0
      },
      "text/plain": [
       "Epoch 14/100:   0%|          | 0/22 [00:00<?, ?it/s]"
      ]
     },
     "metadata": {},
     "output_type": "display_data"
    },
    {
     "name": "stdout",
     "output_type": "stream",
     "text": [
      "Epoch [14/100], Loss: 2.2861, Val Loss: 2.2952, Val Accuracy: 0.1256\n"
     ]
    },
    {
     "data": {
      "application/vnd.jupyter.widget-view+json": {
       "model_id": "6fad0bbd68a642819f907233f82d7ba1",
       "version_major": 2,
       "version_minor": 0
      },
      "text/plain": [
       "Epoch 15/100:   0%|          | 0/22 [00:00<?, ?it/s]"
      ]
     },
     "metadata": {},
     "output_type": "display_data"
    },
    {
     "name": "stdout",
     "output_type": "stream",
     "text": [
      "Epoch [15/100], Loss: 2.2858, Val Loss: 2.2886, Val Accuracy: 0.1156\n"
     ]
    },
    {
     "data": {
      "application/vnd.jupyter.widget-view+json": {
       "model_id": "1039b246532d4536b79dae353394dd93",
       "version_major": 2,
       "version_minor": 0
      },
      "text/plain": [
       "Epoch 16/100:   0%|          | 0/22 [00:00<?, ?it/s]"
      ]
     },
     "metadata": {},
     "output_type": "display_data"
    },
    {
     "name": "stdout",
     "output_type": "stream",
     "text": [
      "Epoch [16/100], Loss: 2.2824, Val Loss: 2.2874, Val Accuracy: 0.1106\n"
     ]
    },
    {
     "data": {
      "application/vnd.jupyter.widget-view+json": {
       "model_id": "51fdba8103bb4ba9a24c0cf559b73d2b",
       "version_major": 2,
       "version_minor": 0
      },
      "text/plain": [
       "Epoch 17/100:   0%|          | 0/22 [00:00<?, ?it/s]"
      ]
     },
     "metadata": {},
     "output_type": "display_data"
    },
    {
     "name": "stdout",
     "output_type": "stream",
     "text": [
      "Epoch [17/100], Loss: 2.2787, Val Loss: 2.2952, Val Accuracy: 0.1005\n"
     ]
    },
    {
     "data": {
      "application/vnd.jupyter.widget-view+json": {
       "model_id": "9a59561127034e81b24358dfd1ce1a05",
       "version_major": 2,
       "version_minor": 0
      },
      "text/plain": [
       "Epoch 18/100:   0%|          | 0/22 [00:00<?, ?it/s]"
      ]
     },
     "metadata": {},
     "output_type": "display_data"
    },
    {
     "name": "stdout",
     "output_type": "stream",
     "text": [
      "Epoch [18/100], Loss: 2.2774, Val Loss: 2.2780, Val Accuracy: 0.1005\n"
     ]
    },
    {
     "data": {
      "application/vnd.jupyter.widget-view+json": {
       "model_id": "3fc78d20cc1844e5ab90c757216487e6",
       "version_major": 2,
       "version_minor": 0
      },
      "text/plain": [
       "Epoch 19/100:   0%|          | 0/22 [00:00<?, ?it/s]"
      ]
     },
     "metadata": {},
     "output_type": "display_data"
    },
    {
     "name": "stdout",
     "output_type": "stream",
     "text": [
      "Epoch [19/100], Loss: 2.2709, Val Loss: 2.2790, Val Accuracy: 0.0955\n"
     ]
    },
    {
     "data": {
      "application/vnd.jupyter.widget-view+json": {
       "model_id": "04e5da67bc064554af6d356b5d970f2b",
       "version_major": 2,
       "version_minor": 0
      },
      "text/plain": [
       "Epoch 20/100:   0%|          | 0/22 [00:00<?, ?it/s]"
      ]
     },
     "metadata": {},
     "output_type": "display_data"
    },
    {
     "name": "stdout",
     "output_type": "stream",
     "text": [
      "Epoch [20/100], Loss: 2.2693, Val Loss: 2.2733, Val Accuracy: 0.0905\n"
     ]
    },
    {
     "data": {
      "application/vnd.jupyter.widget-view+json": {
       "model_id": "f20c04ca778d4329accbce1f157ccda7",
       "version_major": 2,
       "version_minor": 0
      },
      "text/plain": [
       "Epoch 21/100:   0%|          | 0/22 [00:00<?, ?it/s]"
      ]
     },
     "metadata": {},
     "output_type": "display_data"
    },
    {
     "name": "stdout",
     "output_type": "stream",
     "text": [
      "Epoch [21/100], Loss: 2.2610, Val Loss: 2.2699, Val Accuracy: 0.0905\n"
     ]
    },
    {
     "data": {
      "application/vnd.jupyter.widget-view+json": {
       "model_id": "151c24def9ee4a09a5296a8ae43af109",
       "version_major": 2,
       "version_minor": 0
      },
      "text/plain": [
       "Epoch 22/100:   0%|          | 0/22 [00:00<?, ?it/s]"
      ]
     },
     "metadata": {},
     "output_type": "display_data"
    },
    {
     "name": "stdout",
     "output_type": "stream",
     "text": [
      "Epoch [22/100], Loss: 2.2533, Val Loss: 2.2594, Val Accuracy: 0.1005\n"
     ]
    },
    {
     "data": {
      "application/vnd.jupyter.widget-view+json": {
       "model_id": "c0a4877382234d3cb8d89d202d8f1170",
       "version_major": 2,
       "version_minor": 0
      },
      "text/plain": [
       "Epoch 23/100:   0%|          | 0/22 [00:00<?, ?it/s]"
      ]
     },
     "metadata": {},
     "output_type": "display_data"
    },
    {
     "name": "stdout",
     "output_type": "stream",
     "text": [
      "Epoch [23/100], Loss: 2.2443, Val Loss: 2.2418, Val Accuracy: 0.1005\n"
     ]
    },
    {
     "data": {
      "application/vnd.jupyter.widget-view+json": {
       "model_id": "f5789a739e2d4863a7d55900f7cdc1b8",
       "version_major": 2,
       "version_minor": 0
      },
      "text/plain": [
       "Epoch 24/100:   0%|          | 0/22 [00:00<?, ?it/s]"
      ]
     },
     "metadata": {},
     "output_type": "display_data"
    },
    {
     "name": "stdout",
     "output_type": "stream",
     "text": [
      "Epoch [24/100], Loss: 2.2346, Val Loss: 2.2509, Val Accuracy: 0.1256\n"
     ]
    },
    {
     "data": {
      "application/vnd.jupyter.widget-view+json": {
       "model_id": "22cff0ce477145cc9d6c417a9647841f",
       "version_major": 2,
       "version_minor": 0
      },
      "text/plain": [
       "Epoch 25/100:   0%|          | 0/22 [00:00<?, ?it/s]"
      ]
     },
     "metadata": {},
     "output_type": "display_data"
    },
    {
     "name": "stdout",
     "output_type": "stream",
     "text": [
      "Epoch [25/100], Loss: 2.2208, Val Loss: 2.2123, Val Accuracy: 0.2010\n"
     ]
    },
    {
     "data": {
      "application/vnd.jupyter.widget-view+json": {
       "model_id": "ecfc62f4be15448ba1f005c0e31a57dd",
       "version_major": 2,
       "version_minor": 0
      },
      "text/plain": [
       "Epoch 26/100:   0%|          | 0/22 [00:00<?, ?it/s]"
      ]
     },
     "metadata": {},
     "output_type": "display_data"
    },
    {
     "name": "stdout",
     "output_type": "stream",
     "text": [
      "Epoch [26/100], Loss: 2.2060, Val Loss: 2.2261, Val Accuracy: 0.2111\n"
     ]
    },
    {
     "data": {
      "application/vnd.jupyter.widget-view+json": {
       "model_id": "dcc8de4e53a54bcaa87c1f0f27c961af",
       "version_major": 2,
       "version_minor": 0
      },
      "text/plain": [
       "Epoch 27/100:   0%|          | 0/22 [00:00<?, ?it/s]"
      ]
     },
     "metadata": {},
     "output_type": "display_data"
    },
    {
     "name": "stdout",
     "output_type": "stream",
     "text": [
      "Epoch [27/100], Loss: 2.1852, Val Loss: 2.2166, Val Accuracy: 0.2010\n"
     ]
    },
    {
     "data": {
      "application/vnd.jupyter.widget-view+json": {
       "model_id": "db448c75ac8d4ca9880c6798808cbdba",
       "version_major": 2,
       "version_minor": 0
      },
      "text/plain": [
       "Epoch 28/100:   0%|          | 0/22 [00:00<?, ?it/s]"
      ]
     },
     "metadata": {},
     "output_type": "display_data"
    },
    {
     "name": "stdout",
     "output_type": "stream",
     "text": [
      "Epoch [28/100], Loss: 2.1707, Val Loss: 2.1995, Val Accuracy: 0.2211\n"
     ]
    },
    {
     "data": {
      "application/vnd.jupyter.widget-view+json": {
       "model_id": "0b13b7b9f61c4fd7b963a323eab10f6c",
       "version_major": 2,
       "version_minor": 0
      },
      "text/plain": [
       "Epoch 29/100:   0%|          | 0/22 [00:00<?, ?it/s]"
      ]
     },
     "metadata": {},
     "output_type": "display_data"
    },
    {
     "name": "stdout",
     "output_type": "stream",
     "text": [
      "Epoch [29/100], Loss: 2.1531, Val Loss: 2.1621, Val Accuracy: 0.2412\n"
     ]
    },
    {
     "data": {
      "application/vnd.jupyter.widget-view+json": {
       "model_id": "a5f55b8b85314b9ca21a44dbbc58112f",
       "version_major": 2,
       "version_minor": 0
      },
      "text/plain": [
       "Epoch 30/100:   0%|          | 0/22 [00:00<?, ?it/s]"
      ]
     },
     "metadata": {},
     "output_type": "display_data"
    },
    {
     "name": "stdout",
     "output_type": "stream",
     "text": [
      "Epoch [30/100], Loss: 2.1306, Val Loss: 2.1539, Val Accuracy: 0.2462\n"
     ]
    },
    {
     "data": {
      "application/vnd.jupyter.widget-view+json": {
       "model_id": "dc038bdac54b4d2a9336401e61c43b34",
       "version_major": 2,
       "version_minor": 0
      },
      "text/plain": [
       "Epoch 31/100:   0%|          | 0/22 [00:00<?, ?it/s]"
      ]
     },
     "metadata": {},
     "output_type": "display_data"
    },
    {
     "name": "stdout",
     "output_type": "stream",
     "text": [
      "Epoch [31/100], Loss: 2.1259, Val Loss: 2.1333, Val Accuracy: 0.2362\n"
     ]
    },
    {
     "data": {
      "application/vnd.jupyter.widget-view+json": {
       "model_id": "69429ff06c6b4d17a2b49e94adcd9658",
       "version_major": 2,
       "version_minor": 0
      },
      "text/plain": [
       "Epoch 32/100:   0%|          | 0/22 [00:00<?, ?it/s]"
      ]
     },
     "metadata": {},
     "output_type": "display_data"
    },
    {
     "name": "stdout",
     "output_type": "stream",
     "text": [
      "Epoch [32/100], Loss: 2.0947, Val Loss: 2.1352, Val Accuracy: 0.2714\n"
     ]
    },
    {
     "data": {
      "application/vnd.jupyter.widget-view+json": {
       "model_id": "ea67e8ac16ba4a039011f6f61fd922b3",
       "version_major": 2,
       "version_minor": 0
      },
      "text/plain": [
       "Epoch 33/100:   0%|          | 0/22 [00:00<?, ?it/s]"
      ]
     },
     "metadata": {},
     "output_type": "display_data"
    },
    {
     "name": "stdout",
     "output_type": "stream",
     "text": [
      "Epoch [33/100], Loss: 2.0843, Val Loss: 2.1033, Val Accuracy: 0.2462\n"
     ]
    },
    {
     "data": {
      "application/vnd.jupyter.widget-view+json": {
       "model_id": "2e5506b9b6be46bea69d41d739f7b729",
       "version_major": 2,
       "version_minor": 0
      },
      "text/plain": [
       "Epoch 34/100:   0%|          | 0/22 [00:00<?, ?it/s]"
      ]
     },
     "metadata": {},
     "output_type": "display_data"
    },
    {
     "name": "stdout",
     "output_type": "stream",
     "text": [
      "Epoch [34/100], Loss: 2.0547, Val Loss: 2.1131, Val Accuracy: 0.2563\n"
     ]
    },
    {
     "data": {
      "application/vnd.jupyter.widget-view+json": {
       "model_id": "421c6806829f4a07ae3c1e98974f11c2",
       "version_major": 2,
       "version_minor": 0
      },
      "text/plain": [
       "Epoch 35/100:   0%|          | 0/22 [00:00<?, ?it/s]"
      ]
     },
     "metadata": {},
     "output_type": "display_data"
    },
    {
     "name": "stdout",
     "output_type": "stream",
     "text": [
      "Epoch [35/100], Loss: 2.0416, Val Loss: 2.0757, Val Accuracy: 0.2613\n"
     ]
    },
    {
     "data": {
      "application/vnd.jupyter.widget-view+json": {
       "model_id": "718072e338804435887083c80728e72f",
       "version_major": 2,
       "version_minor": 0
      },
      "text/plain": [
       "Epoch 36/100:   0%|          | 0/22 [00:00<?, ?it/s]"
      ]
     },
     "metadata": {},
     "output_type": "display_data"
    },
    {
     "name": "stdout",
     "output_type": "stream",
     "text": [
      "Epoch [36/100], Loss: 2.0119, Val Loss: 2.0100, Val Accuracy: 0.2864\n"
     ]
    },
    {
     "data": {
      "application/vnd.jupyter.widget-view+json": {
       "model_id": "72e3dd6bda554e7e82cbc4ff18e4a787",
       "version_major": 2,
       "version_minor": 0
      },
      "text/plain": [
       "Epoch 37/100:   0%|          | 0/22 [00:00<?, ?it/s]"
      ]
     },
     "metadata": {},
     "output_type": "display_data"
    },
    {
     "name": "stdout",
     "output_type": "stream",
     "text": [
      "Epoch [37/100], Loss: 1.9858, Val Loss: 2.0608, Val Accuracy: 0.3015\n"
     ]
    },
    {
     "data": {
      "application/vnd.jupyter.widget-view+json": {
       "model_id": "840badca16574a009931634bb8879353",
       "version_major": 2,
       "version_minor": 0
      },
      "text/plain": [
       "Epoch 38/100:   0%|          | 0/22 [00:00<?, ?it/s]"
      ]
     },
     "metadata": {},
     "output_type": "display_data"
    },
    {
     "name": "stdout",
     "output_type": "stream",
     "text": [
      "Epoch [38/100], Loss: 1.9614, Val Loss: 2.0456, Val Accuracy: 0.2965\n"
     ]
    },
    {
     "data": {
      "application/vnd.jupyter.widget-view+json": {
       "model_id": "9954fc4329d64d58a3bb1503396c8abe",
       "version_major": 2,
       "version_minor": 0
      },
      "text/plain": [
       "Epoch 39/100:   0%|          | 0/22 [00:00<?, ?it/s]"
      ]
     },
     "metadata": {},
     "output_type": "display_data"
    },
    {
     "name": "stdout",
     "output_type": "stream",
     "text": [
      "Epoch [39/100], Loss: 1.9404, Val Loss: 2.0198, Val Accuracy: 0.3065\n"
     ]
    },
    {
     "data": {
      "application/vnd.jupyter.widget-view+json": {
       "model_id": "6d7a18cba2574f5e8060e50c7d1292c4",
       "version_major": 2,
       "version_minor": 0
      },
      "text/plain": [
       "Epoch 40/100:   0%|          | 0/22 [00:00<?, ?it/s]"
      ]
     },
     "metadata": {},
     "output_type": "display_data"
    },
    {
     "name": "stdout",
     "output_type": "stream",
     "text": [
      "Epoch [40/100], Loss: 1.9192, Val Loss: 2.0069, Val Accuracy: 0.3015\n"
     ]
    },
    {
     "data": {
      "application/vnd.jupyter.widget-view+json": {
       "model_id": "4a8fe0439c374f849f03556605789bb8",
       "version_major": 2,
       "version_minor": 0
      },
      "text/plain": [
       "Epoch 41/100:   0%|          | 0/22 [00:00<?, ?it/s]"
      ]
     },
     "metadata": {},
     "output_type": "display_data"
    },
    {
     "name": "stdout",
     "output_type": "stream",
     "text": [
      "Epoch [41/100], Loss: 1.9995, Val Loss: 2.0586, Val Accuracy: 0.2814\n"
     ]
    },
    {
     "data": {
      "application/vnd.jupyter.widget-view+json": {
       "model_id": "22e4862bfb724392b2bf20564f61f08b",
       "version_major": 2,
       "version_minor": 0
      },
      "text/plain": [
       "Epoch 42/100:   0%|          | 0/22 [00:00<?, ?it/s]"
      ]
     },
     "metadata": {},
     "output_type": "display_data"
    },
    {
     "name": "stdout",
     "output_type": "stream",
     "text": [
      "Epoch [42/100], Loss: 1.9458, Val Loss: 2.0140, Val Accuracy: 0.2814\n"
     ]
    },
    {
     "data": {
      "application/vnd.jupyter.widget-view+json": {
       "model_id": "0f87b43839c343f9ae5ffe48e1288484",
       "version_major": 2,
       "version_minor": 0
      },
      "text/plain": [
       "Epoch 43/100:   0%|          | 0/22 [00:00<?, ?it/s]"
      ]
     },
     "metadata": {},
     "output_type": "display_data"
    },
    {
     "name": "stdout",
     "output_type": "stream",
     "text": [
      "Epoch [43/100], Loss: 1.9170, Val Loss: 2.0028, Val Accuracy: 0.3065\n"
     ]
    },
    {
     "data": {
      "application/vnd.jupyter.widget-view+json": {
       "model_id": "fcf1d78996aa4096b3af24046d625171",
       "version_major": 2,
       "version_minor": 0
      },
      "text/plain": [
       "Epoch 44/100:   0%|          | 0/22 [00:00<?, ?it/s]"
      ]
     },
     "metadata": {},
     "output_type": "display_data"
    },
    {
     "name": "stdout",
     "output_type": "stream",
     "text": [
      "Epoch [44/100], Loss: 1.9054, Val Loss: 1.9071, Val Accuracy: 0.3166\n"
     ]
    },
    {
     "data": {
      "application/vnd.jupyter.widget-view+json": {
       "model_id": "b9b8231ad15b4ebfb9f7bf65a63d5d4a",
       "version_major": 2,
       "version_minor": 0
      },
      "text/plain": [
       "Epoch 45/100:   0%|          | 0/22 [00:00<?, ?it/s]"
      ]
     },
     "metadata": {},
     "output_type": "display_data"
    },
    {
     "name": "stdout",
     "output_type": "stream",
     "text": [
      "Epoch [45/100], Loss: 1.8758, Val Loss: 1.9249, Val Accuracy: 0.2915\n"
     ]
    },
    {
     "data": {
      "application/vnd.jupyter.widget-view+json": {
       "model_id": "c7b8938a190447ceb622d1bf9c4d5fc2",
       "version_major": 2,
       "version_minor": 0
      },
      "text/plain": [
       "Epoch 46/100:   0%|          | 0/22 [00:00<?, ?it/s]"
      ]
     },
     "metadata": {},
     "output_type": "display_data"
    },
    {
     "name": "stdout",
     "output_type": "stream",
     "text": [
      "Epoch [46/100], Loss: 1.8603, Val Loss: 1.9457, Val Accuracy: 0.2814\n"
     ]
    },
    {
     "data": {
      "application/vnd.jupyter.widget-view+json": {
       "model_id": "1b2d6017b7274ad58e1f1051c4713b3f",
       "version_major": 2,
       "version_minor": 0
      },
      "text/plain": [
       "Epoch 47/100:   0%|          | 0/22 [00:00<?, ?it/s]"
      ]
     },
     "metadata": {},
     "output_type": "display_data"
    },
    {
     "name": "stdout",
     "output_type": "stream",
     "text": [
      "Epoch [47/100], Loss: 1.8454, Val Loss: 1.9358, Val Accuracy: 0.3317\n"
     ]
    },
    {
     "data": {
      "application/vnd.jupyter.widget-view+json": {
       "model_id": "fb60c36922f8405e8330d9247d9b492a",
       "version_major": 2,
       "version_minor": 0
      },
      "text/plain": [
       "Epoch 48/100:   0%|          | 0/22 [00:00<?, ?it/s]"
      ]
     },
     "metadata": {},
     "output_type": "display_data"
    },
    {
     "name": "stdout",
     "output_type": "stream",
     "text": [
      "Epoch [48/100], Loss: 1.8353, Val Loss: 1.9659, Val Accuracy: 0.3367\n"
     ]
    },
    {
     "data": {
      "application/vnd.jupyter.widget-view+json": {
       "model_id": "ede1964ca0fb463999210ba0d0b0f915",
       "version_major": 2,
       "version_minor": 0
      },
      "text/plain": [
       "Epoch 49/100:   0%|          | 0/22 [00:00<?, ?it/s]"
      ]
     },
     "metadata": {},
     "output_type": "display_data"
    },
    {
     "name": "stdout",
     "output_type": "stream",
     "text": [
      "Epoch [49/100], Loss: 1.8245, Val Loss: 1.9080, Val Accuracy: 0.3065\n"
     ]
    },
    {
     "data": {
      "application/vnd.jupyter.widget-view+json": {
       "model_id": "2feb459e296e46578ac4e152cf16bfe4",
       "version_major": 2,
       "version_minor": 0
      },
      "text/plain": [
       "Epoch 50/100:   0%|          | 0/22 [00:00<?, ?it/s]"
      ]
     },
     "metadata": {},
     "output_type": "display_data"
    },
    {
     "name": "stdout",
     "output_type": "stream",
     "text": [
      "Epoch [50/100], Loss: 1.8057, Val Loss: 1.9064, Val Accuracy: 0.2965\n"
     ]
    },
    {
     "data": {
      "application/vnd.jupyter.widget-view+json": {
       "model_id": "b89d35820101461796a244997e7d4ffe",
       "version_major": 2,
       "version_minor": 0
      },
      "text/plain": [
       "Epoch 51/100:   0%|          | 0/22 [00:00<?, ?it/s]"
      ]
     },
     "metadata": {},
     "output_type": "display_data"
    },
    {
     "name": "stdout",
     "output_type": "stream",
     "text": [
      "Epoch [51/100], Loss: 1.7978, Val Loss: 1.8978, Val Accuracy: 0.3266\n"
     ]
    },
    {
     "data": {
      "application/vnd.jupyter.widget-view+json": {
       "model_id": "0556074d74d64706a577b2ab833cca0c",
       "version_major": 2,
       "version_minor": 0
      },
      "text/plain": [
       "Epoch 52/100:   0%|          | 0/22 [00:00<?, ?it/s]"
      ]
     },
     "metadata": {},
     "output_type": "display_data"
    },
    {
     "name": "stdout",
     "output_type": "stream",
     "text": [
      "Epoch [52/100], Loss: 1.8855, Val Loss: 1.9322, Val Accuracy: 0.3367\n"
     ]
    },
    {
     "data": {
      "application/vnd.jupyter.widget-view+json": {
       "model_id": "597bd1674a7a4bf8ae1156b08de81b5b",
       "version_major": 2,
       "version_minor": 0
      },
      "text/plain": [
       "Epoch 53/100:   0%|          | 0/22 [00:00<?, ?it/s]"
      ]
     },
     "metadata": {},
     "output_type": "display_data"
    },
    {
     "name": "stdout",
     "output_type": "stream",
     "text": [
      "Epoch [53/100], Loss: 1.8581, Val Loss: 1.9029, Val Accuracy: 0.3015\n"
     ]
    },
    {
     "data": {
      "application/vnd.jupyter.widget-view+json": {
       "model_id": "ab8227df3b5547d28cdfd6897b71e681",
       "version_major": 2,
       "version_minor": 0
      },
      "text/plain": [
       "Epoch 54/100:   0%|          | 0/22 [00:00<?, ?it/s]"
      ]
     },
     "metadata": {},
     "output_type": "display_data"
    },
    {
     "name": "stdout",
     "output_type": "stream",
     "text": [
      "Epoch [54/100], Loss: 1.8683, Val Loss: 1.8776, Val Accuracy: 0.3216\n"
     ]
    },
    {
     "data": {
      "application/vnd.jupyter.widget-view+json": {
       "model_id": "f559f18d1a324d76a3409341dc062361",
       "version_major": 2,
       "version_minor": 0
      },
      "text/plain": [
       "Epoch 55/100:   0%|          | 0/22 [00:00<?, ?it/s]"
      ]
     },
     "metadata": {},
     "output_type": "display_data"
    },
    {
     "name": "stdout",
     "output_type": "stream",
     "text": [
      "Epoch [55/100], Loss: 1.8374, Val Loss: 1.8697, Val Accuracy: 0.3116\n"
     ]
    },
    {
     "data": {
      "application/vnd.jupyter.widget-view+json": {
       "model_id": "eb74c32385964cd690bbc555c523818a",
       "version_major": 2,
       "version_minor": 0
      },
      "text/plain": [
       "Epoch 56/100:   0%|          | 0/22 [00:00<?, ?it/s]"
      ]
     },
     "metadata": {},
     "output_type": "display_data"
    },
    {
     "name": "stdout",
     "output_type": "stream",
     "text": [
      "Epoch [56/100], Loss: 1.8142, Val Loss: 1.8276, Val Accuracy: 0.3317\n"
     ]
    },
    {
     "data": {
      "application/vnd.jupyter.widget-view+json": {
       "model_id": "cb8a591f17674d769359ab541cb13a93",
       "version_major": 2,
       "version_minor": 0
      },
      "text/plain": [
       "Epoch 57/100:   0%|          | 0/22 [00:00<?, ?it/s]"
      ]
     },
     "metadata": {},
     "output_type": "display_data"
    },
    {
     "name": "stdout",
     "output_type": "stream",
     "text": [
      "Epoch [57/100], Loss: 1.7922, Val Loss: 1.8799, Val Accuracy: 0.3266\n"
     ]
    },
    {
     "data": {
      "application/vnd.jupyter.widget-view+json": {
       "model_id": "dddf81dfd12c4617b9df0a83d1a2959b",
       "version_major": 2,
       "version_minor": 0
      },
      "text/plain": [
       "Epoch 58/100:   0%|          | 0/22 [00:00<?, ?it/s]"
      ]
     },
     "metadata": {},
     "output_type": "display_data"
    },
    {
     "name": "stdout",
     "output_type": "stream",
     "text": [
      "Epoch [58/100], Loss: 1.7987, Val Loss: 1.9209, Val Accuracy: 0.3015\n"
     ]
    },
    {
     "data": {
      "application/vnd.jupyter.widget-view+json": {
       "model_id": "ee20d058bbf84adb93aaab6ab4d45160",
       "version_major": 2,
       "version_minor": 0
      },
      "text/plain": [
       "Epoch 59/100:   0%|          | 0/22 [00:00<?, ?it/s]"
      ]
     },
     "metadata": {},
     "output_type": "display_data"
    },
    {
     "name": "stdout",
     "output_type": "stream",
     "text": [
      "Epoch [59/100], Loss: 1.7883, Val Loss: 1.9016, Val Accuracy: 0.3015\n"
     ]
    },
    {
     "data": {
      "application/vnd.jupyter.widget-view+json": {
       "model_id": "b67c2aca34944dd8b2a3462c704cb59a",
       "version_major": 2,
       "version_minor": 0
      },
      "text/plain": [
       "Epoch 60/100:   0%|          | 0/22 [00:00<?, ?it/s]"
      ]
     },
     "metadata": {},
     "output_type": "display_data"
    },
    {
     "name": "stdout",
     "output_type": "stream",
     "text": [
      "Epoch [60/100], Loss: 1.7667, Val Loss: 1.8499, Val Accuracy: 0.3116\n"
     ]
    },
    {
     "data": {
      "application/vnd.jupyter.widget-view+json": {
       "model_id": "3302443f4e4942da97c5fd28fb84e260",
       "version_major": 2,
       "version_minor": 0
      },
      "text/plain": [
       "Epoch 61/100:   0%|          | 0/22 [00:00<?, ?it/s]"
      ]
     },
     "metadata": {},
     "output_type": "display_data"
    },
    {
     "name": "stdout",
     "output_type": "stream",
     "text": [
      "Epoch [61/100], Loss: 1.7710, Val Loss: 1.8139, Val Accuracy: 0.3417\n"
     ]
    },
    {
     "data": {
      "application/vnd.jupyter.widget-view+json": {
       "model_id": "60351dd0472344acb66c6945fbff2b86",
       "version_major": 2,
       "version_minor": 0
      },
      "text/plain": [
       "Epoch 62/100:   0%|          | 0/22 [00:00<?, ?it/s]"
      ]
     },
     "metadata": {},
     "output_type": "display_data"
    },
    {
     "name": "stdout",
     "output_type": "stream",
     "text": [
      "Epoch [62/100], Loss: 1.7565, Val Loss: 1.8156, Val Accuracy: 0.3065\n"
     ]
    },
    {
     "data": {
      "application/vnd.jupyter.widget-view+json": {
       "model_id": "3607057e01874bd9a9b94a5a450a3cf1",
       "version_major": 2,
       "version_minor": 0
      },
      "text/plain": [
       "Epoch 63/100:   0%|          | 0/22 [00:00<?, ?it/s]"
      ]
     },
     "metadata": {},
     "output_type": "display_data"
    },
    {
     "name": "stdout",
     "output_type": "stream",
     "text": [
      "Epoch [63/100], Loss: 1.7324, Val Loss: 1.8748, Val Accuracy: 0.3015\n"
     ]
    },
    {
     "data": {
      "application/vnd.jupyter.widget-view+json": {
       "model_id": "7c31541c978b4cccab5ca59a6ae253cb",
       "version_major": 2,
       "version_minor": 0
      },
      "text/plain": [
       "Epoch 64/100:   0%|          | 0/22 [00:00<?, ?it/s]"
      ]
     },
     "metadata": {},
     "output_type": "display_data"
    },
    {
     "name": "stdout",
     "output_type": "stream",
     "text": [
      "Epoch [64/100], Loss: 1.7367, Val Loss: 1.8214, Val Accuracy: 0.3216\n"
     ]
    },
    {
     "data": {
      "application/vnd.jupyter.widget-view+json": {
       "model_id": "4364f40e193241f9b33f4768583877bc",
       "version_major": 2,
       "version_minor": 0
      },
      "text/plain": [
       "Epoch 65/100:   0%|          | 0/22 [00:00<?, ?it/s]"
      ]
     },
     "metadata": {},
     "output_type": "display_data"
    },
    {
     "name": "stdout",
     "output_type": "stream",
     "text": [
      "Epoch [65/100], Loss: 1.7221, Val Loss: 1.7859, Val Accuracy: 0.3166\n"
     ]
    },
    {
     "data": {
      "application/vnd.jupyter.widget-view+json": {
       "model_id": "1f6b8567d2cc4c54a778ff8d3198f398",
       "version_major": 2,
       "version_minor": 0
      },
      "text/plain": [
       "Epoch 66/100:   0%|          | 0/22 [00:00<?, ?it/s]"
      ]
     },
     "metadata": {},
     "output_type": "display_data"
    },
    {
     "name": "stdout",
     "output_type": "stream",
     "text": [
      "Epoch [66/100], Loss: 1.7194, Val Loss: 1.8121, Val Accuracy: 0.3266\n"
     ]
    },
    {
     "data": {
      "application/vnd.jupyter.widget-view+json": {
       "model_id": "f5763a7c0d124f5887969625215dd8be",
       "version_major": 2,
       "version_minor": 0
      },
      "text/plain": [
       "Epoch 67/100:   0%|          | 0/22 [00:00<?, ?it/s]"
      ]
     },
     "metadata": {},
     "output_type": "display_data"
    },
    {
     "name": "stdout",
     "output_type": "stream",
     "text": [
      "Epoch [67/100], Loss: 1.7257, Val Loss: 1.8072, Val Accuracy: 0.3618\n"
     ]
    },
    {
     "data": {
      "application/vnd.jupyter.widget-view+json": {
       "model_id": "895a2b18d14b46c48a4cfb558f2349a1",
       "version_major": 2,
       "version_minor": 0
      },
      "text/plain": [
       "Epoch 68/100:   0%|          | 0/22 [00:00<?, ?it/s]"
      ]
     },
     "metadata": {},
     "output_type": "display_data"
    },
    {
     "name": "stdout",
     "output_type": "stream",
     "text": [
      "Epoch [68/100], Loss: 1.6949, Val Loss: 1.8369, Val Accuracy: 0.3266\n"
     ]
    },
    {
     "data": {
      "application/vnd.jupyter.widget-view+json": {
       "model_id": "79413af868124e80b8221eb6e46e8509",
       "version_major": 2,
       "version_minor": 0
      },
      "text/plain": [
       "Epoch 69/100:   0%|          | 0/22 [00:00<?, ?it/s]"
      ]
     },
     "metadata": {},
     "output_type": "display_data"
    },
    {
     "name": "stdout",
     "output_type": "stream",
     "text": [
      "Epoch [69/100], Loss: 1.7140, Val Loss: 1.8408, Val Accuracy: 0.3216\n"
     ]
    },
    {
     "data": {
      "application/vnd.jupyter.widget-view+json": {
       "model_id": "28e4640a20a348609b41a79c73857b0a",
       "version_major": 2,
       "version_minor": 0
      },
      "text/plain": [
       "Epoch 70/100:   0%|          | 0/22 [00:00<?, ?it/s]"
      ]
     },
     "metadata": {},
     "output_type": "display_data"
    },
    {
     "name": "stdout",
     "output_type": "stream",
     "text": [
      "Epoch [70/100], Loss: 1.6855, Val Loss: 1.7370, Val Accuracy: 0.3518\n"
     ]
    },
    {
     "data": {
      "application/vnd.jupyter.widget-view+json": {
       "model_id": "a6274ff1111744feb789299662fe0790",
       "version_major": 2,
       "version_minor": 0
      },
      "text/plain": [
       "Epoch 71/100:   0%|          | 0/22 [00:00<?, ?it/s]"
      ]
     },
     "metadata": {},
     "output_type": "display_data"
    },
    {
     "name": "stdout",
     "output_type": "stream",
     "text": [
      "Epoch [71/100], Loss: 1.6953, Val Loss: 1.7275, Val Accuracy: 0.3317\n"
     ]
    },
    {
     "data": {
      "application/vnd.jupyter.widget-view+json": {
       "model_id": "8f97ceae66234219845c827b1c5534ef",
       "version_major": 2,
       "version_minor": 0
      },
      "text/plain": [
       "Epoch 72/100:   0%|          | 0/22 [00:00<?, ?it/s]"
      ]
     },
     "metadata": {},
     "output_type": "display_data"
    },
    {
     "name": "stdout",
     "output_type": "stream",
     "text": [
      "Epoch [72/100], Loss: 1.7210, Val Loss: 1.8492, Val Accuracy: 0.3116\n"
     ]
    },
    {
     "data": {
      "application/vnd.jupyter.widget-view+json": {
       "model_id": "fe8e49c90db141e8ab11af665172840c",
       "version_major": 2,
       "version_minor": 0
      },
      "text/plain": [
       "Epoch 73/100:   0%|          | 0/22 [00:00<?, ?it/s]"
      ]
     },
     "metadata": {},
     "output_type": "display_data"
    },
    {
     "name": "stdout",
     "output_type": "stream",
     "text": [
      "Epoch [73/100], Loss: 1.6749, Val Loss: 1.8388, Val Accuracy: 0.2764\n"
     ]
    },
    {
     "data": {
      "application/vnd.jupyter.widget-view+json": {
       "model_id": "f2923851bb664308ab63e02680480090",
       "version_major": 2,
       "version_minor": 0
      },
      "text/plain": [
       "Epoch 74/100:   0%|          | 0/22 [00:00<?, ?it/s]"
      ]
     },
     "metadata": {},
     "output_type": "display_data"
    },
    {
     "name": "stdout",
     "output_type": "stream",
     "text": [
      "Epoch [74/100], Loss: 1.6749, Val Loss: 1.7553, Val Accuracy: 0.3065\n"
     ]
    },
    {
     "data": {
      "application/vnd.jupyter.widget-view+json": {
       "model_id": "469cd986b4e649ee87849052cb48ec2a",
       "version_major": 2,
       "version_minor": 0
      },
      "text/plain": [
       "Epoch 75/100:   0%|          | 0/22 [00:00<?, ?it/s]"
      ]
     },
     "metadata": {},
     "output_type": "display_data"
    },
    {
     "name": "stdout",
     "output_type": "stream",
     "text": [
      "Epoch [75/100], Loss: 1.6747, Val Loss: 1.7882, Val Accuracy: 0.3266\n"
     ]
    },
    {
     "data": {
      "application/vnd.jupyter.widget-view+json": {
       "model_id": "f7b6165a56b942a8b1033eb684149a15",
       "version_major": 2,
       "version_minor": 0
      },
      "text/plain": [
       "Epoch 76/100:   0%|          | 0/22 [00:00<?, ?it/s]"
      ]
     },
     "metadata": {},
     "output_type": "display_data"
    },
    {
     "name": "stdout",
     "output_type": "stream",
     "text": [
      "Epoch [76/100], Loss: 1.6649, Val Loss: 1.7513, Val Accuracy: 0.3317\n"
     ]
    },
    {
     "data": {
      "application/vnd.jupyter.widget-view+json": {
       "model_id": "e262fccb58b84e2ca7b9ef8e7bf4bdbf",
       "version_major": 2,
       "version_minor": 0
      },
      "text/plain": [
       "Epoch 77/100:   0%|          | 0/22 [00:00<?, ?it/s]"
      ]
     },
     "metadata": {},
     "output_type": "display_data"
    },
    {
     "name": "stdout",
     "output_type": "stream",
     "text": [
      "Epoch [77/100], Loss: 1.6510, Val Loss: 1.8098, Val Accuracy: 0.3266\n"
     ]
    },
    {
     "data": {
      "application/vnd.jupyter.widget-view+json": {
       "model_id": "89c78af10efc44869a42a3ff917aa659",
       "version_major": 2,
       "version_minor": 0
      },
      "text/plain": [
       "Epoch 78/100:   0%|          | 0/22 [00:00<?, ?it/s]"
      ]
     },
     "metadata": {},
     "output_type": "display_data"
    },
    {
     "name": "stdout",
     "output_type": "stream",
     "text": [
      "Epoch [78/100], Loss: 1.6254, Val Loss: 1.8251, Val Accuracy: 0.3166\n"
     ]
    },
    {
     "data": {
      "application/vnd.jupyter.widget-view+json": {
       "model_id": "faad9345ec8540839795e6f8c0c3f9ed",
       "version_major": 2,
       "version_minor": 0
      },
      "text/plain": [
       "Epoch 79/100:   0%|          | 0/22 [00:00<?, ?it/s]"
      ]
     },
     "metadata": {},
     "output_type": "display_data"
    },
    {
     "name": "stdout",
     "output_type": "stream",
     "text": [
      "Epoch [79/100], Loss: 1.6446, Val Loss: 1.7437, Val Accuracy: 0.3367\n"
     ]
    },
    {
     "data": {
      "application/vnd.jupyter.widget-view+json": {
       "model_id": "a26a8a52f09a4efe8079e1df2057c413",
       "version_major": 2,
       "version_minor": 0
      },
      "text/plain": [
       "Epoch 80/100:   0%|          | 0/22 [00:00<?, ?it/s]"
      ]
     },
     "metadata": {},
     "output_type": "display_data"
    },
    {
     "name": "stdout",
     "output_type": "stream",
     "text": [
      "Epoch [80/100], Loss: 1.6692, Val Loss: 1.7515, Val Accuracy: 0.3417\n"
     ]
    },
    {
     "data": {
      "application/vnd.jupyter.widget-view+json": {
       "model_id": "fa1e1d42180c4550b9df209bc4f15ba5",
       "version_major": 2,
       "version_minor": 0
      },
      "text/plain": [
       "Epoch 81/100:   0%|          | 0/22 [00:00<?, ?it/s]"
      ]
     },
     "metadata": {},
     "output_type": "display_data"
    },
    {
     "name": "stdout",
     "output_type": "stream",
     "text": [
      "Epoch [81/100], Loss: 1.6264, Val Loss: 1.7569, Val Accuracy: 0.3367\n"
     ]
    },
    {
     "data": {
      "application/vnd.jupyter.widget-view+json": {
       "model_id": "45319b0cac1a4cb1a67bed38e7cfed1c",
       "version_major": 2,
       "version_minor": 0
      },
      "text/plain": [
       "Epoch 82/100:   0%|          | 0/22 [00:00<?, ?it/s]"
      ]
     },
     "metadata": {},
     "output_type": "display_data"
    },
    {
     "name": "stdout",
     "output_type": "stream",
     "text": [
      "Epoch [82/100], Loss: 1.6398, Val Loss: 1.7571, Val Accuracy: 0.3417\n"
     ]
    },
    {
     "data": {
      "application/vnd.jupyter.widget-view+json": {
       "model_id": "14478a6a67134ec8a3216339ec5e7afc",
       "version_major": 2,
       "version_minor": 0
      },
      "text/plain": [
       "Epoch 83/100:   0%|          | 0/22 [00:00<?, ?it/s]"
      ]
     },
     "metadata": {},
     "output_type": "display_data"
    },
    {
     "name": "stdout",
     "output_type": "stream",
     "text": [
      "Epoch [83/100], Loss: 1.6439, Val Loss: 1.8047, Val Accuracy: 0.2965\n"
     ]
    },
    {
     "data": {
      "application/vnd.jupyter.widget-view+json": {
       "model_id": "12599728767149f4adbb99f97f372c6b",
       "version_major": 2,
       "version_minor": 0
      },
      "text/plain": [
       "Epoch 84/100:   0%|          | 0/22 [00:00<?, ?it/s]"
      ]
     },
     "metadata": {},
     "output_type": "display_data"
    },
    {
     "name": "stdout",
     "output_type": "stream",
     "text": [
      "Epoch [84/100], Loss: 1.6423, Val Loss: 1.7150, Val Accuracy: 0.3618\n"
     ]
    },
    {
     "data": {
      "application/vnd.jupyter.widget-view+json": {
       "model_id": "d6add06640cb421696b1464b5e2eec48",
       "version_major": 2,
       "version_minor": 0
      },
      "text/plain": [
       "Epoch 85/100:   0%|          | 0/22 [00:00<?, ?it/s]"
      ]
     },
     "metadata": {},
     "output_type": "display_data"
    },
    {
     "name": "stdout",
     "output_type": "stream",
     "text": [
      "Epoch [85/100], Loss: 1.6195, Val Loss: 1.7835, Val Accuracy: 0.3367\n"
     ]
    },
    {
     "data": {
      "application/vnd.jupyter.widget-view+json": {
       "model_id": "a11fcce3810044cdb546e744df72e29a",
       "version_major": 2,
       "version_minor": 0
      },
      "text/plain": [
       "Epoch 86/100:   0%|          | 0/22 [00:00<?, ?it/s]"
      ]
     },
     "metadata": {},
     "output_type": "display_data"
    },
    {
     "name": "stdout",
     "output_type": "stream",
     "text": [
      "Epoch [86/100], Loss: 1.6319, Val Loss: 1.7708, Val Accuracy: 0.3467\n"
     ]
    },
    {
     "data": {
      "application/vnd.jupyter.widget-view+json": {
       "model_id": "2823e8820382425996a6703189fb9a63",
       "version_major": 2,
       "version_minor": 0
      },
      "text/plain": [
       "Epoch 87/100:   0%|          | 0/22 [00:00<?, ?it/s]"
      ]
     },
     "metadata": {},
     "output_type": "display_data"
    },
    {
     "name": "stdout",
     "output_type": "stream",
     "text": [
      "Epoch [87/100], Loss: 1.6071, Val Loss: 1.7963, Val Accuracy: 0.3467\n"
     ]
    },
    {
     "data": {
      "application/vnd.jupyter.widget-view+json": {
       "model_id": "a66ef188c161422a8c9c481850e30ba3",
       "version_major": 2,
       "version_minor": 0
      },
      "text/plain": [
       "Epoch 88/100:   0%|          | 0/22 [00:00<?, ?it/s]"
      ]
     },
     "metadata": {},
     "output_type": "display_data"
    },
    {
     "name": "stdout",
     "output_type": "stream",
     "text": [
      "Epoch [88/100], Loss: 1.6067, Val Loss: 1.7646, Val Accuracy: 0.3518\n"
     ]
    },
    {
     "data": {
      "application/vnd.jupyter.widget-view+json": {
       "model_id": "9af8cdf82e1b458281d1f9fa7fa5a157",
       "version_major": 2,
       "version_minor": 0
      },
      "text/plain": [
       "Epoch 89/100:   0%|          | 0/22 [00:00<?, ?it/s]"
      ]
     },
     "metadata": {},
     "output_type": "display_data"
    },
    {
     "name": "stdout",
     "output_type": "stream",
     "text": [
      "Epoch [89/100], Loss: 1.6184, Val Loss: 1.7940, Val Accuracy: 0.3719\n"
     ]
    },
    {
     "data": {
      "application/vnd.jupyter.widget-view+json": {
       "model_id": "725de7ea677a44598d33fab4e700cb8d",
       "version_major": 2,
       "version_minor": 0
      },
      "text/plain": [
       "Epoch 90/100:   0%|          | 0/22 [00:00<?, ?it/s]"
      ]
     },
     "metadata": {},
     "output_type": "display_data"
    },
    {
     "name": "stdout",
     "output_type": "stream",
     "text": [
      "Epoch [90/100], Loss: 1.6112, Val Loss: 1.7851, Val Accuracy: 0.3668\n"
     ]
    },
    {
     "data": {
      "application/vnd.jupyter.widget-view+json": {
       "model_id": "dfc49015a43d4f988c43b3a57594bcfe",
       "version_major": 2,
       "version_minor": 0
      },
      "text/plain": [
       "Epoch 91/100:   0%|          | 0/22 [00:00<?, ?it/s]"
      ]
     },
     "metadata": {},
     "output_type": "display_data"
    },
    {
     "name": "stdout",
     "output_type": "stream",
     "text": [
      "Epoch [91/100], Loss: 1.6010, Val Loss: 1.7321, Val Accuracy: 0.3417\n"
     ]
    },
    {
     "data": {
      "application/vnd.jupyter.widget-view+json": {
       "model_id": "a9b1851c3d224d4fb5e3c53770b93fbc",
       "version_major": 2,
       "version_minor": 0
      },
      "text/plain": [
       "Epoch 92/100:   0%|          | 0/22 [00:00<?, ?it/s]"
      ]
     },
     "metadata": {},
     "output_type": "display_data"
    },
    {
     "name": "stdout",
     "output_type": "stream",
     "text": [
      "Epoch [92/100], Loss: 1.5970, Val Loss: 1.8296, Val Accuracy: 0.3467\n"
     ]
    },
    {
     "data": {
      "application/vnd.jupyter.widget-view+json": {
       "model_id": "f5d84fac222c44e8a672aee1bfb59ce2",
       "version_major": 2,
       "version_minor": 0
      },
      "text/plain": [
       "Epoch 93/100:   0%|          | 0/22 [00:00<?, ?it/s]"
      ]
     },
     "metadata": {},
     "output_type": "display_data"
    },
    {
     "name": "stdout",
     "output_type": "stream",
     "text": [
      "Epoch [93/100], Loss: 1.9426, Val Loss: 1.8510, Val Accuracy: 0.3467\n"
     ]
    },
    {
     "data": {
      "application/vnd.jupyter.widget-view+json": {
       "model_id": "2bbab6a737dd427a86ef964ce25315cb",
       "version_major": 2,
       "version_minor": 0
      },
      "text/plain": [
       "Epoch 94/100:   0%|          | 0/22 [00:00<?, ?it/s]"
      ]
     },
     "metadata": {},
     "output_type": "display_data"
    },
    {
     "name": "stdout",
     "output_type": "stream",
     "text": [
      "Epoch [94/100], Loss: 1.7172, Val Loss: 1.8369, Val Accuracy: 0.3467\n"
     ]
    },
    {
     "data": {
      "application/vnd.jupyter.widget-view+json": {
       "model_id": "c36a0940fe00417e8cf2acb360b67798",
       "version_major": 2,
       "version_minor": 0
      },
      "text/plain": [
       "Epoch 95/100:   0%|          | 0/22 [00:00<?, ?it/s]"
      ]
     },
     "metadata": {},
     "output_type": "display_data"
    },
    {
     "name": "stdout",
     "output_type": "stream",
     "text": [
      "Epoch [95/100], Loss: 1.6325, Val Loss: 1.8822, Val Accuracy: 0.3317\n"
     ]
    },
    {
     "data": {
      "application/vnd.jupyter.widget-view+json": {
       "model_id": "229a1c38a114436dbf9f83f31e8b487f",
       "version_major": 2,
       "version_minor": 0
      },
      "text/plain": [
       "Epoch 96/100:   0%|          | 0/22 [00:00<?, ?it/s]"
      ]
     },
     "metadata": {},
     "output_type": "display_data"
    },
    {
     "name": "stdout",
     "output_type": "stream",
     "text": [
      "Epoch [96/100], Loss: 1.6413, Val Loss: 1.8436, Val Accuracy: 0.3166\n"
     ]
    },
    {
     "data": {
      "application/vnd.jupyter.widget-view+json": {
       "model_id": "582071380c1b4c50b84ac47e73e7b830",
       "version_major": 2,
       "version_minor": 0
      },
      "text/plain": [
       "Epoch 97/100:   0%|          | 0/22 [00:00<?, ?it/s]"
      ]
     },
     "metadata": {},
     "output_type": "display_data"
    },
    {
     "name": "stdout",
     "output_type": "stream",
     "text": [
      "Epoch [97/100], Loss: 1.5941, Val Loss: 1.7525, Val Accuracy: 0.3266\n"
     ]
    },
    {
     "data": {
      "application/vnd.jupyter.widget-view+json": {
       "model_id": "56306106570541a9a1a23835b65c377a",
       "version_major": 2,
       "version_minor": 0
      },
      "text/plain": [
       "Epoch 98/100:   0%|          | 0/22 [00:00<?, ?it/s]"
      ]
     },
     "metadata": {},
     "output_type": "display_data"
    },
    {
     "name": "stdout",
     "output_type": "stream",
     "text": [
      "Epoch [98/100], Loss: 1.5841, Val Loss: 1.7819, Val Accuracy: 0.3266\n"
     ]
    },
    {
     "data": {
      "application/vnd.jupyter.widget-view+json": {
       "model_id": "df71ae291f2140c28aa14713ab60a683",
       "version_major": 2,
       "version_minor": 0
      },
      "text/plain": [
       "Epoch 99/100:   0%|          | 0/22 [00:00<?, ?it/s]"
      ]
     },
     "metadata": {},
     "output_type": "display_data"
    },
    {
     "name": "stdout",
     "output_type": "stream",
     "text": [
      "Epoch [99/100], Loss: 1.5815, Val Loss: 1.7632, Val Accuracy: 0.3015\n"
     ]
    },
    {
     "data": {
      "application/vnd.jupyter.widget-view+json": {
       "model_id": "83e70d1fccd54933bca3c90526879576",
       "version_major": 2,
       "version_minor": 0
      },
      "text/plain": [
       "Epoch 100/100:   0%|          | 0/22 [00:00<?, ?it/s]"
      ]
     },
     "metadata": {},
     "output_type": "display_data"
    },
    {
     "name": "stdout",
     "output_type": "stream",
     "text": [
      "Epoch [100/100], Loss: 1.5862, Val Loss: 1.7870, Val Accuracy: 0.3317\n"
     ]
    }
   ],
   "source": [
    "#import torch\n",
    "#import torch.nn as nn\n",
    "#import torch.optim as optim\n",
    "#from torch.utils.data import DataLoader\n",
    "#from tqdm.auto import tqdm\n",
    "\n",
    "#class MusicGenreLSTM(nn.Module):\n",
    "    #def __init__(self, input_size, hidden_size, num_layers, num_classes, dropout_rate=0.5):\n",
    "        #super(MusicGenreLSTM, self).__init__()\n",
    "        #self.lstm = nn.LSTM(input_size=input_size, hidden_size=hidden_size,\n",
    "                            #num_layers=num_layers, batch_first=True, dropout=dropout_rate)\n",
    "        #self.dropout = nn.Dropout(dropout_rate)\n",
    "        #self.fc = nn.Linear(in_features=hidden_size, out_features=num_classes)\n",
    "\n",
    "    #def forward(self, x):\n",
    "        #x = x.squeeze(1).transpose(1, 2)  # Adjusting the input dimensions for LSTM\n",
    "        #self.lstm.flatten_parameters()  # Ensure contiguous memory layout for performance\n",
    "        #_, (hn, _) = self.lstm(x)\n",
    "        #out = self.dropout(hn[-1, :, :])  # Using the last hidden state\n",
    "        #out = self.fc(out)\n",
    "        #return out\n",
    "\n",
    "\n",
    "# Initialize the model with the specified dropout rate and move to the correct device\n",
    "#model = MusicGenreLSTM(input_size=148, hidden_size=256, num_layers=2, num_classes=10, dropout_rate=0.3).cuda()\n",
    "\n",
    "#loss_fn = nn.CrossEntropyLoss()\n",
    "#optimizer = optim.Adam(model.parameters(), lr=0.00001)\n",
    "\n",
    "# Ensure you have defined your training and validation DataLoaders: train_loader and val_loader\n",
    "\n",
    "#def calculate_accuracy(loader, model):\n",
    "    #model.eval()\n",
    "    #correct = 0\n",
    "    #total = 0\n",
    "    #with torch.no_grad():\n",
    "        #for features, labels in loader:\n",
    "            #features, labels = features.cuda(), labels.cuda()\n",
    "            #outputs = model(features)\n",
    "            #_, predicted = torch.max(outputs.data, 1)\n",
    "            #total += labels.size(0)\n",
    "            #correct += (predicted == labels).sum().item()\n",
    "    #accuracy = correct / total\n",
    "    #model.train()\n",
    "    #return accuracy\n",
    "\n",
    "#def train(model, train_loader, val_loader, epochs, loss_fn, optimizer):\n",
    "    #for epoch in range(epochs):\n",
    "        #model.train()\n",
    "        #total_loss = 0\n",
    "        #for features, labels in tqdm(train_loader, desc=f\"Epoch {epoch + 1}/{epochs}\"):\n",
    "            #features, labels = features.cuda(), labels.cuda()\n",
    "            #optimizer.zero_grad()\n",
    "            #outputs = model(features)\n",
    "            #loss = loss_fn(outputs, labels)\n",
    "            #loss.backward()\n",
    "            #optimizer.step()\n",
    "            #total_loss += loss.item()\n",
    "\n",
    "        #avg_loss = total_loss / len(train_loader)\n",
    "\n",
    "        # Validation phase\n",
    "        #validation_loss = 0.0\n",
    "        #for features, labels in val_loader:\n",
    "            #features, labels = features.cuda(), labels.cuda()\n",
    "            #outputs = model(features)\n",
    "            #loss = loss_fn(outputs, labels)\n",
    "            #validation_loss += loss.item()\n",
    "        #validation_loss /= len(val_loader)\n",
    "        #val_accuracy = calculate_accuracy(val_loader, model)\n",
    "        \n",
    "        #print(f\"Epoch [{epoch + 1}/{epochs}], Loss: {avg_loss:.4f}, Val Loss: {validation_loss:.4f}, Val Accuracy: {val_accuracy:.4f}\")\n",
    "        \n",
    "        \n",
    "\n",
    "# Assuming enhanced_data_loader and val_loader are defined and loaded with your dataset\n",
    "#train(model, train_loader, val_loader, epochs=100, loss_fn=loss_fn, optimizer=optimizer)"
   ]
  },
  {
   "cell_type": "code",
   "execution_count": 22,
   "id": "e03c6915",
   "metadata": {},
   "outputs": [
    {
     "name": "stdout",
     "output_type": "stream",
     "text": [
      "Test Accuracy: 0.4059\n"
     ]
    }
   ],
   "source": [
    "#def test_model(model, test_loader):\n",
    "    #model.eval()  # 設置模型為評估模式\n",
    "    #correct = 0\n",
    "    #total = 0\n",
    "    #with torch.no_grad():\n",
    "        #for features, labels in test_loader:\n",
    "            #features, labels = features.cuda(), labels.cuda()\n",
    "            #outputs = model(features)\n",
    "            #_, predicted = torch.max(outputs.data, 1)\n",
    "            #total += labels.size(0)\n",
    "            #correct += (predicted == labels).sum().item()\n",
    "    #test_accuracy = correct / total\n",
    "    #print(f'Test Accuracy: {test_accuracy:.4f}')\n",
    "    #return test_accuracy\n",
    "\n",
    "\n",
    "#test_accuracy = test_model(model, test_loader)"
   ]
  },
  {
   "cell_type": "markdown",
   "id": "4550ee23",
   "metadata": {},
   "source": [
    "# Gan generate data"
   ]
  },
  {
   "cell_type": "code",
   "execution_count": 136,
   "id": "7ee9ccc5",
   "metadata": {},
   "outputs": [
    {
     "data": {
      "application/vnd.jupyter.widget-view+json": {
       "model_id": "fc30c7e49f374555a1774ec5a3518b36",
       "version_major": 2,
       "version_minor": 0
      },
      "text/plain": [
       "Epochs:   0%|          | 0/50 [00:00<?, ?it/s]"
      ]
     },
     "metadata": {},
     "output_type": "display_data"
    },
    {
     "data": {
      "application/vnd.jupyter.widget-view+json": {
       "model_id": "",
       "version_major": 2,
       "version_minor": 0
      },
      "text/plain": [
       "Batches:   0%|          | 0/22 [00:00<?, ?it/s]"
      ]
     },
     "metadata": {},
     "output_type": "display_data"
    },
    {
     "name": "stdout",
     "output_type": "stream",
     "text": [
      "[1/50][1/22] Loss_D: 3.9216 Loss_G: 0.6363\n"
     ]
    },
    {
     "data": {
      "application/vnd.jupyter.widget-view+json": {
       "model_id": "",
       "version_major": 2,
       "version_minor": 0
      },
      "text/plain": [
       "Batches:   0%|          | 0/22 [00:00<?, ?it/s]"
      ]
     },
     "metadata": {},
     "output_type": "display_data"
    },
    {
     "name": "stdout",
     "output_type": "stream",
     "text": [
      "[2/50][1/22] Loss_D: 0.7876 Loss_G: 0.6013\n"
     ]
    },
    {
     "data": {
      "application/vnd.jupyter.widget-view+json": {
       "model_id": "",
       "version_major": 2,
       "version_minor": 0
      },
      "text/plain": [
       "Batches:   0%|          | 0/22 [00:00<?, ?it/s]"
      ]
     },
     "metadata": {},
     "output_type": "display_data"
    },
    {
     "name": "stdout",
     "output_type": "stream",
     "text": [
      "[3/50][1/22] Loss_D: 0.8240 Loss_G: 0.5827\n"
     ]
    },
    {
     "data": {
      "application/vnd.jupyter.widget-view+json": {
       "model_id": "",
       "version_major": 2,
       "version_minor": 0
      },
      "text/plain": [
       "Batches:   0%|          | 0/22 [00:00<?, ?it/s]"
      ]
     },
     "metadata": {},
     "output_type": "display_data"
    },
    {
     "name": "stdout",
     "output_type": "stream",
     "text": [
      "[4/50][1/22] Loss_D: 0.8231 Loss_G: 0.5682\n"
     ]
    },
    {
     "data": {
      "application/vnd.jupyter.widget-view+json": {
       "model_id": "",
       "version_major": 2,
       "version_minor": 0
      },
      "text/plain": [
       "Batches:   0%|          | 0/22 [00:00<?, ?it/s]"
      ]
     },
     "metadata": {},
     "output_type": "display_data"
    },
    {
     "name": "stdout",
     "output_type": "stream",
     "text": [
      "[5/50][1/22] Loss_D: 1.2005 Loss_G: 0.5887\n"
     ]
    },
    {
     "data": {
      "application/vnd.jupyter.widget-view+json": {
       "model_id": "",
       "version_major": 2,
       "version_minor": 0
      },
      "text/plain": [
       "Batches:   0%|          | 0/22 [00:00<?, ?it/s]"
      ]
     },
     "metadata": {},
     "output_type": "display_data"
    },
    {
     "name": "stdout",
     "output_type": "stream",
     "text": [
      "[6/50][1/22] Loss_D: 0.8452 Loss_G: 0.5504\n"
     ]
    },
    {
     "data": {
      "application/vnd.jupyter.widget-view+json": {
       "model_id": "",
       "version_major": 2,
       "version_minor": 0
      },
      "text/plain": [
       "Batches:   0%|          | 0/22 [00:00<?, ?it/s]"
      ]
     },
     "metadata": {},
     "output_type": "display_data"
    },
    {
     "name": "stdout",
     "output_type": "stream",
     "text": [
      "[7/50][1/22] Loss_D: 0.8245 Loss_G: 0.5901\n"
     ]
    },
    {
     "data": {
      "application/vnd.jupyter.widget-view+json": {
       "model_id": "",
       "version_major": 2,
       "version_minor": 0
      },
      "text/plain": [
       "Batches:   0%|          | 0/22 [00:00<?, ?it/s]"
      ]
     },
     "metadata": {},
     "output_type": "display_data"
    },
    {
     "name": "stdout",
     "output_type": "stream",
     "text": [
      "[8/50][1/22] Loss_D: 0.8421 Loss_G: 0.5911\n"
     ]
    },
    {
     "data": {
      "application/vnd.jupyter.widget-view+json": {
       "model_id": "",
       "version_major": 2,
       "version_minor": 0
      },
      "text/plain": [
       "Batches:   0%|          | 0/22 [00:00<?, ?it/s]"
      ]
     },
     "metadata": {},
     "output_type": "display_data"
    },
    {
     "name": "stdout",
     "output_type": "stream",
     "text": [
      "[9/50][1/22] Loss_D: 0.7753 Loss_G: 0.6242\n"
     ]
    },
    {
     "data": {
      "application/vnd.jupyter.widget-view+json": {
       "model_id": "",
       "version_major": 2,
       "version_minor": 0
      },
      "text/plain": [
       "Batches:   0%|          | 0/22 [00:00<?, ?it/s]"
      ]
     },
     "metadata": {},
     "output_type": "display_data"
    },
    {
     "name": "stdout",
     "output_type": "stream",
     "text": [
      "[10/50][1/22] Loss_D: 0.6761 Loss_G: 0.7587\n"
     ]
    },
    {
     "data": {
      "application/vnd.jupyter.widget-view+json": {
       "model_id": "",
       "version_major": 2,
       "version_minor": 0
      },
      "text/plain": [
       "Batches:   0%|          | 0/22 [00:00<?, ?it/s]"
      ]
     },
     "metadata": {},
     "output_type": "display_data"
    },
    {
     "name": "stdout",
     "output_type": "stream",
     "text": [
      "[11/50][1/22] Loss_D: 0.7702 Loss_G: 0.6595\n"
     ]
    },
    {
     "data": {
      "application/vnd.jupyter.widget-view+json": {
       "model_id": "",
       "version_major": 2,
       "version_minor": 0
      },
      "text/plain": [
       "Batches:   0%|          | 0/22 [00:00<?, ?it/s]"
      ]
     },
     "metadata": {},
     "output_type": "display_data"
    },
    {
     "name": "stdout",
     "output_type": "stream",
     "text": [
      "[12/50][1/22] Loss_D: 0.7277 Loss_G: 0.7011\n"
     ]
    },
    {
     "data": {
      "application/vnd.jupyter.widget-view+json": {
       "model_id": "",
       "version_major": 2,
       "version_minor": 0
      },
      "text/plain": [
       "Batches:   0%|          | 0/22 [00:00<?, ?it/s]"
      ]
     },
     "metadata": {},
     "output_type": "display_data"
    },
    {
     "name": "stdout",
     "output_type": "stream",
     "text": [
      "[13/50][1/22] Loss_D: 0.7188 Loss_G: 0.6771\n"
     ]
    },
    {
     "data": {
      "application/vnd.jupyter.widget-view+json": {
       "model_id": "",
       "version_major": 2,
       "version_minor": 0
      },
      "text/plain": [
       "Batches:   0%|          | 0/22 [00:00<?, ?it/s]"
      ]
     },
     "metadata": {},
     "output_type": "display_data"
    },
    {
     "name": "stdout",
     "output_type": "stream",
     "text": [
      "[14/50][1/22] Loss_D: 0.7068 Loss_G: 0.6903\n"
     ]
    },
    {
     "data": {
      "application/vnd.jupyter.widget-view+json": {
       "model_id": "",
       "version_major": 2,
       "version_minor": 0
      },
      "text/plain": [
       "Batches:   0%|          | 0/22 [00:00<?, ?it/s]"
      ]
     },
     "metadata": {},
     "output_type": "display_data"
    },
    {
     "name": "stdout",
     "output_type": "stream",
     "text": [
      "[15/50][1/22] Loss_D: 0.6748 Loss_G: 0.7525\n"
     ]
    },
    {
     "data": {
      "application/vnd.jupyter.widget-view+json": {
       "model_id": "",
       "version_major": 2,
       "version_minor": 0
      },
      "text/plain": [
       "Batches:   0%|          | 0/22 [00:00<?, ?it/s]"
      ]
     },
     "metadata": {},
     "output_type": "display_data"
    },
    {
     "name": "stdout",
     "output_type": "stream",
     "text": [
      "[16/50][1/22] Loss_D: 1.0517 Loss_G: 0.4536\n"
     ]
    },
    {
     "data": {
      "application/vnd.jupyter.widget-view+json": {
       "model_id": "",
       "version_major": 2,
       "version_minor": 0
      },
      "text/plain": [
       "Batches:   0%|          | 0/22 [00:00<?, ?it/s]"
      ]
     },
     "metadata": {},
     "output_type": "display_data"
    },
    {
     "name": "stdout",
     "output_type": "stream",
     "text": [
      "[17/50][1/22] Loss_D: 0.9585 Loss_G: 0.5322\n"
     ]
    },
    {
     "data": {
      "application/vnd.jupyter.widget-view+json": {
       "model_id": "",
       "version_major": 2,
       "version_minor": 0
      },
      "text/plain": [
       "Batches:   0%|          | 0/22 [00:00<?, ?it/s]"
      ]
     },
     "metadata": {},
     "output_type": "display_data"
    },
    {
     "name": "stdout",
     "output_type": "stream",
     "text": [
      "[18/50][1/22] Loss_D: 0.9603 Loss_G: 0.5232\n"
     ]
    },
    {
     "data": {
      "application/vnd.jupyter.widget-view+json": {
       "model_id": "",
       "version_major": 2,
       "version_minor": 0
      },
      "text/plain": [
       "Batches:   0%|          | 0/22 [00:00<?, ?it/s]"
      ]
     },
     "metadata": {},
     "output_type": "display_data"
    },
    {
     "name": "stdout",
     "output_type": "stream",
     "text": [
      "[19/50][1/22] Loss_D: 0.9681 Loss_G: 0.4996\n"
     ]
    },
    {
     "data": {
      "application/vnd.jupyter.widget-view+json": {
       "model_id": "",
       "version_major": 2,
       "version_minor": 0
      },
      "text/plain": [
       "Batches:   0%|          | 0/22 [00:00<?, ?it/s]"
      ]
     },
     "metadata": {},
     "output_type": "display_data"
    },
    {
     "name": "stdout",
     "output_type": "stream",
     "text": [
      "[20/50][1/22] Loss_D: 0.8496 Loss_G: 0.5663\n"
     ]
    },
    {
     "data": {
      "application/vnd.jupyter.widget-view+json": {
       "model_id": "",
       "version_major": 2,
       "version_minor": 0
      },
      "text/plain": [
       "Batches:   0%|          | 0/22 [00:00<?, ?it/s]"
      ]
     },
     "metadata": {},
     "output_type": "display_data"
    },
    {
     "name": "stdout",
     "output_type": "stream",
     "text": [
      "[21/50][1/22] Loss_D: 1.0396 Loss_G: 0.4298\n"
     ]
    },
    {
     "data": {
      "application/vnd.jupyter.widget-view+json": {
       "model_id": "",
       "version_major": 2,
       "version_minor": 0
      },
      "text/plain": [
       "Batches:   0%|          | 0/22 [00:00<?, ?it/s]"
      ]
     },
     "metadata": {},
     "output_type": "display_data"
    },
    {
     "name": "stdout",
     "output_type": "stream",
     "text": [
      "[22/50][1/22] Loss_D: 0.8689 Loss_G: 0.6145\n"
     ]
    },
    {
     "data": {
      "application/vnd.jupyter.widget-view+json": {
       "model_id": "",
       "version_major": 2,
       "version_minor": 0
      },
      "text/plain": [
       "Batches:   0%|          | 0/22 [00:00<?, ?it/s]"
      ]
     },
     "metadata": {},
     "output_type": "display_data"
    },
    {
     "name": "stdout",
     "output_type": "stream",
     "text": [
      "[23/50][1/22] Loss_D: 1.2362 Loss_G: 0.3468\n"
     ]
    },
    {
     "data": {
      "application/vnd.jupyter.widget-view+json": {
       "model_id": "",
       "version_major": 2,
       "version_minor": 0
      },
      "text/plain": [
       "Batches:   0%|          | 0/22 [00:00<?, ?it/s]"
      ]
     },
     "metadata": {},
     "output_type": "display_data"
    },
    {
     "name": "stdout",
     "output_type": "stream",
     "text": [
      "[24/50][1/22] Loss_D: 0.8605 Loss_G: 0.5606\n"
     ]
    },
    {
     "data": {
      "application/vnd.jupyter.widget-view+json": {
       "model_id": "",
       "version_major": 2,
       "version_minor": 0
      },
      "text/plain": [
       "Batches:   0%|          | 0/22 [00:00<?, ?it/s]"
      ]
     },
     "metadata": {},
     "output_type": "display_data"
    },
    {
     "name": "stdout",
     "output_type": "stream",
     "text": [
      "[25/50][1/22] Loss_D: 1.0413 Loss_G: 0.4805\n"
     ]
    },
    {
     "data": {
      "application/vnd.jupyter.widget-view+json": {
       "model_id": "",
       "version_major": 2,
       "version_minor": 0
      },
      "text/plain": [
       "Batches:   0%|          | 0/22 [00:00<?, ?it/s]"
      ]
     },
     "metadata": {},
     "output_type": "display_data"
    },
    {
     "name": "stdout",
     "output_type": "stream",
     "text": [
      "[26/50][1/22] Loss_D: 1.3287 Loss_G: 0.3306\n"
     ]
    },
    {
     "data": {
      "application/vnd.jupyter.widget-view+json": {
       "model_id": "",
       "version_major": 2,
       "version_minor": 0
      },
      "text/plain": [
       "Batches:   0%|          | 0/22 [00:00<?, ?it/s]"
      ]
     },
     "metadata": {},
     "output_type": "display_data"
    },
    {
     "name": "stdout",
     "output_type": "stream",
     "text": [
      "[27/50][1/22] Loss_D: 2.5528 Loss_G: 0.5148\n"
     ]
    },
    {
     "data": {
      "application/vnd.jupyter.widget-view+json": {
       "model_id": "",
       "version_major": 2,
       "version_minor": 0
      },
      "text/plain": [
       "Batches:   0%|          | 0/22 [00:00<?, ?it/s]"
      ]
     },
     "metadata": {},
     "output_type": "display_data"
    },
    {
     "name": "stdout",
     "output_type": "stream",
     "text": [
      "[28/50][1/22] Loss_D: 1.5056 Loss_G: 0.2703\n"
     ]
    },
    {
     "data": {
      "application/vnd.jupyter.widget-view+json": {
       "model_id": "",
       "version_major": 2,
       "version_minor": 0
      },
      "text/plain": [
       "Batches:   0%|          | 0/22 [00:00<?, ?it/s]"
      ]
     },
     "metadata": {},
     "output_type": "display_data"
    },
    {
     "name": "stdout",
     "output_type": "stream",
     "text": [
      "[29/50][1/22] Loss_D: 0.8406 Loss_G: 0.5089\n"
     ]
    },
    {
     "data": {
      "application/vnd.jupyter.widget-view+json": {
       "model_id": "",
       "version_major": 2,
       "version_minor": 0
      },
      "text/plain": [
       "Batches:   0%|          | 0/22 [00:00<?, ?it/s]"
      ]
     },
     "metadata": {},
     "output_type": "display_data"
    },
    {
     "name": "stdout",
     "output_type": "stream",
     "text": [
      "[30/50][1/22] Loss_D: 1.0517 Loss_G: 0.4149\n"
     ]
    },
    {
     "data": {
      "application/vnd.jupyter.widget-view+json": {
       "model_id": "",
       "version_major": 2,
       "version_minor": 0
      },
      "text/plain": [
       "Batches:   0%|          | 0/22 [00:00<?, ?it/s]"
      ]
     },
     "metadata": {},
     "output_type": "display_data"
    },
    {
     "name": "stdout",
     "output_type": "stream",
     "text": [
      "[31/50][1/22] Loss_D: 1.1094 Loss_G: 0.4235\n"
     ]
    },
    {
     "data": {
      "application/vnd.jupyter.widget-view+json": {
       "model_id": "",
       "version_major": 2,
       "version_minor": 0
      },
      "text/plain": [
       "Batches:   0%|          | 0/22 [00:00<?, ?it/s]"
      ]
     },
     "metadata": {},
     "output_type": "display_data"
    },
    {
     "name": "stdout",
     "output_type": "stream",
     "text": [
      "[32/50][1/22] Loss_D: 1.1258 Loss_G: 0.4056\n"
     ]
    },
    {
     "data": {
      "application/vnd.jupyter.widget-view+json": {
       "model_id": "",
       "version_major": 2,
       "version_minor": 0
      },
      "text/plain": [
       "Batches:   0%|          | 0/22 [00:00<?, ?it/s]"
      ]
     },
     "metadata": {},
     "output_type": "display_data"
    },
    {
     "name": "stdout",
     "output_type": "stream",
     "text": [
      "[33/50][1/22] Loss_D: 1.4857 Loss_G: 0.2799\n"
     ]
    },
    {
     "data": {
      "application/vnd.jupyter.widget-view+json": {
       "model_id": "",
       "version_major": 2,
       "version_minor": 0
      },
      "text/plain": [
       "Batches:   0%|          | 0/22 [00:00<?, ?it/s]"
      ]
     },
     "metadata": {},
     "output_type": "display_data"
    },
    {
     "name": "stdout",
     "output_type": "stream",
     "text": [
      "[34/50][1/22] Loss_D: 1.2226 Loss_G: 0.3665\n"
     ]
    },
    {
     "data": {
      "application/vnd.jupyter.widget-view+json": {
       "model_id": "",
       "version_major": 2,
       "version_minor": 0
      },
      "text/plain": [
       "Batches:   0%|          | 0/22 [00:00<?, ?it/s]"
      ]
     },
     "metadata": {},
     "output_type": "display_data"
    },
    {
     "name": "stdout",
     "output_type": "stream",
     "text": [
      "[35/50][1/22] Loss_D: 1.1631 Loss_G: 0.4227\n"
     ]
    },
    {
     "data": {
      "application/vnd.jupyter.widget-view+json": {
       "model_id": "",
       "version_major": 2,
       "version_minor": 0
      },
      "text/plain": [
       "Batches:   0%|          | 0/22 [00:00<?, ?it/s]"
      ]
     },
     "metadata": {},
     "output_type": "display_data"
    },
    {
     "name": "stdout",
     "output_type": "stream",
     "text": [
      "[36/50][1/22] Loss_D: 1.1661 Loss_G: 0.3987\n"
     ]
    },
    {
     "data": {
      "application/vnd.jupyter.widget-view+json": {
       "model_id": "",
       "version_major": 2,
       "version_minor": 0
      },
      "text/plain": [
       "Batches:   0%|          | 0/22 [00:00<?, ?it/s]"
      ]
     },
     "metadata": {},
     "output_type": "display_data"
    },
    {
     "name": "stdout",
     "output_type": "stream",
     "text": [
      "[37/50][1/22] Loss_D: 1.2086 Loss_G: 0.4174\n"
     ]
    },
    {
     "data": {
      "application/vnd.jupyter.widget-view+json": {
       "model_id": "",
       "version_major": 2,
       "version_minor": 0
      },
      "text/plain": [
       "Batches:   0%|          | 0/22 [00:00<?, ?it/s]"
      ]
     },
     "metadata": {},
     "output_type": "display_data"
    },
    {
     "name": "stdout",
     "output_type": "stream",
     "text": [
      "[38/50][1/22] Loss_D: 1.1372 Loss_G: 0.4026\n"
     ]
    },
    {
     "data": {
      "application/vnd.jupyter.widget-view+json": {
       "model_id": "",
       "version_major": 2,
       "version_minor": 0
      },
      "text/plain": [
       "Batches:   0%|          | 0/22 [00:00<?, ?it/s]"
      ]
     },
     "metadata": {},
     "output_type": "display_data"
    },
    {
     "name": "stdout",
     "output_type": "stream",
     "text": [
      "[39/50][1/22] Loss_D: 1.0027 Loss_G: 0.5051\n"
     ]
    },
    {
     "data": {
      "application/vnd.jupyter.widget-view+json": {
       "model_id": "",
       "version_major": 2,
       "version_minor": 0
      },
      "text/plain": [
       "Batches:   0%|          | 0/22 [00:00<?, ?it/s]"
      ]
     },
     "metadata": {},
     "output_type": "display_data"
    },
    {
     "name": "stdout",
     "output_type": "stream",
     "text": [
      "[40/50][1/22] Loss_D: 1.1453 Loss_G: 0.4293\n"
     ]
    },
    {
     "data": {
      "application/vnd.jupyter.widget-view+json": {
       "model_id": "",
       "version_major": 2,
       "version_minor": 0
      },
      "text/plain": [
       "Batches:   0%|          | 0/22 [00:00<?, ?it/s]"
      ]
     },
     "metadata": {},
     "output_type": "display_data"
    },
    {
     "name": "stdout",
     "output_type": "stream",
     "text": [
      "[41/50][1/22] Loss_D: 1.0415 Loss_G: 0.5056\n"
     ]
    },
    {
     "data": {
      "application/vnd.jupyter.widget-view+json": {
       "model_id": "",
       "version_major": 2,
       "version_minor": 0
      },
      "text/plain": [
       "Batches:   0%|          | 0/22 [00:00<?, ?it/s]"
      ]
     },
     "metadata": {},
     "output_type": "display_data"
    },
    {
     "name": "stdout",
     "output_type": "stream",
     "text": [
      "[42/50][1/22] Loss_D: 1.4708 Loss_G: 0.2757\n"
     ]
    },
    {
     "data": {
      "application/vnd.jupyter.widget-view+json": {
       "model_id": "",
       "version_major": 2,
       "version_minor": 0
      },
      "text/plain": [
       "Batches:   0%|          | 0/22 [00:00<?, ?it/s]"
      ]
     },
     "metadata": {},
     "output_type": "display_data"
    },
    {
     "name": "stdout",
     "output_type": "stream",
     "text": [
      "[43/50][1/22] Loss_D: 1.1374 Loss_G: 0.4117\n"
     ]
    },
    {
     "data": {
      "application/vnd.jupyter.widget-view+json": {
       "model_id": "",
       "version_major": 2,
       "version_minor": 0
      },
      "text/plain": [
       "Batches:   0%|          | 0/22 [00:00<?, ?it/s]"
      ]
     },
     "metadata": {},
     "output_type": "display_data"
    },
    {
     "name": "stdout",
     "output_type": "stream",
     "text": [
      "[44/50][1/22] Loss_D: 1.2182 Loss_G: 0.3506\n"
     ]
    },
    {
     "data": {
      "application/vnd.jupyter.widget-view+json": {
       "model_id": "",
       "version_major": 2,
       "version_minor": 0
      },
      "text/plain": [
       "Batches:   0%|          | 0/22 [00:00<?, ?it/s]"
      ]
     },
     "metadata": {},
     "output_type": "display_data"
    },
    {
     "name": "stdout",
     "output_type": "stream",
     "text": [
      "[45/50][1/22] Loss_D: 1.0963 Loss_G: 0.4047\n"
     ]
    },
    {
     "data": {
      "application/vnd.jupyter.widget-view+json": {
       "model_id": "",
       "version_major": 2,
       "version_minor": 0
      },
      "text/plain": [
       "Batches:   0%|          | 0/22 [00:00<?, ?it/s]"
      ]
     },
     "metadata": {},
     "output_type": "display_data"
    },
    {
     "name": "stdout",
     "output_type": "stream",
     "text": [
      "[46/50][1/22] Loss_D: 0.8656 Loss_G: 0.5527\n"
     ]
    },
    {
     "data": {
      "application/vnd.jupyter.widget-view+json": {
       "model_id": "",
       "version_major": 2,
       "version_minor": 0
      },
      "text/plain": [
       "Batches:   0%|          | 0/22 [00:00<?, ?it/s]"
      ]
     },
     "metadata": {},
     "output_type": "display_data"
    },
    {
     "name": "stdout",
     "output_type": "stream",
     "text": [
      "[47/50][1/22] Loss_D: 0.9256 Loss_G: 0.5291\n"
     ]
    },
    {
     "data": {
      "application/vnd.jupyter.widget-view+json": {
       "model_id": "",
       "version_major": 2,
       "version_minor": 0
      },
      "text/plain": [
       "Batches:   0%|          | 0/22 [00:00<?, ?it/s]"
      ]
     },
     "metadata": {},
     "output_type": "display_data"
    },
    {
     "name": "stdout",
     "output_type": "stream",
     "text": [
      "[48/50][1/22] Loss_D: 1.8384 Loss_G: 0.4698\n"
     ]
    },
    {
     "data": {
      "application/vnd.jupyter.widget-view+json": {
       "model_id": "",
       "version_major": 2,
       "version_minor": 0
      },
      "text/plain": [
       "Batches:   0%|          | 0/22 [00:00<?, ?it/s]"
      ]
     },
     "metadata": {},
     "output_type": "display_data"
    },
    {
     "name": "stdout",
     "output_type": "stream",
     "text": [
      "[49/50][1/22] Loss_D: 0.7997 Loss_G: 0.6223\n"
     ]
    },
    {
     "data": {
      "application/vnd.jupyter.widget-view+json": {
       "model_id": "",
       "version_major": 2,
       "version_minor": 0
      },
      "text/plain": [
       "Batches:   0%|          | 0/22 [00:00<?, ?it/s]"
      ]
     },
     "metadata": {},
     "output_type": "display_data"
    },
    {
     "name": "stdout",
     "output_type": "stream",
     "text": [
      "[50/50][1/22] Loss_D: 0.8470 Loss_G: 0.5872\n"
     ]
    }
   ],
   "source": [
    "import torch\n",
    "import torch.nn as nn\n",
    "import torch.optim as optim\n",
    "from torch.utils.data import DataLoader, TensorDataset\n",
    "import numpy as np\n",
    "import os\n",
    "from tqdm.auto import tqdm\n",
    "import matplotlib.pyplot as plt\n",
    "\n",
    "#Generator\n",
    "class Generator(nn.Module):\n",
    "    def __init__(self, input_dim, output_dim=22272):  #output_dim suitable to [1, 128, 174]\n",
    "        super(Generator, self).__init__()\n",
    "        self.fc = nn.Sequential(\n",
    "            nn.Linear(input_dim, 256),\n",
    "            nn.ReLU(True),\n",
    "            nn.BatchNorm1d(256),\n",
    "            nn.Linear(256, 512),\n",
    "            nn.ReLU(True),\n",
    "            nn.BatchNorm1d(512),\n",
    "            nn.Linear(512, 1024),\n",
    "            nn.ReLU(True),\n",
    "            nn.BatchNorm1d(1024),\n",
    "            nn.Linear(1024, output_dim),\n",
    "            nn.Tanh()  #Tanh is used to get the output in a range [-1, 1]\n",
    "        )\n",
    "\n",
    "    def forward(self, z):\n",
    "        x = self.fc(z)\n",
    "        return x.view(-1, 1, 128, 174)  #reshape to [batch size, 1, 128, 174]\n",
    "    \n",
    "#Discriminator Architecture\n",
    "class Discriminator(nn.Module):\n",
    "    def __init__(self, input_dim=22272):  #flatten input\n",
    "        super(Discriminator, self).__init__()\n",
    "        self.fc = nn.Sequential(\n",
    "            nn.Linear(input_dim, 512),\n",
    "            nn.LeakyReLU(0.2, inplace=True),\n",
    "            nn.Dropout(0.3),\n",
    "            nn.Linear(512, 256),\n",
    "            nn.LeakyReLU(0.2, inplace=True),\n",
    "            nn.Dropout(0.3),\n",
    "            nn.Linear(256, 1),\n",
    "            nn.Sigmoid()\n",
    "        )\n",
    "\n",
    "    def forward(self, x):\n",
    "        x = x.view(x.size(0), -1)  #make sure input is flatten\n",
    "        return self.fc(x)\n",
    "\n",
    "def train_gan(generator, discriminator, data_loader, z_dim, epochs=50):\n",
    "    generator.cuda()\n",
    "    discriminator.cuda()\n",
    "\n",
    "    g_optimizer = optim.Adam(generator.parameters(), lr=0.00008)\n",
    "    d_optimizer = optim.Adam(discriminator.parameters(), lr=0.00005) #try to find the best learning rate\n",
    "    criterion = nn.BCELoss()\n",
    "\n",
    "    real_label = 1\n",
    "    fake_label = 0\n",
    "\n",
    "    for epoch in tqdm(range(epochs), desc='Epochs'):\n",
    "        for i, (mel_specs, _) in enumerate(tqdm(data_loader, desc='Batches', leave=False)):\n",
    "            mel_specs = mel_specs.cuda()\n",
    "            b_size = mel_specs.size(0)\n",
    "\n",
    "            #update discriminator: max log(D(x)) + log(1 - D(G(z)))\n",
    "            d_optimizer.zero_grad()\n",
    "            real_labels = torch.full((b_size,), real_label, dtype=torch.float).cuda()\n",
    "            output = discriminator(mel_specs).view(-1)\n",
    "            errD_real = criterion(output, real_labels)\n",
    "            errD_real.backward()\n",
    "\n",
    "            noise = torch.randn(b_size, z_dim).cuda()\n",
    "            fake = generator(noise)\n",
    "            fake_labels = torch.full((b_size,), fake_label, dtype=torch.float).cuda()\n",
    "            output = discriminator(fake.detach()).view(-1)\n",
    "            errD_fake = criterion(output, fake_labels)\n",
    "            errD_fake.backward()\n",
    "            errD = errD_real + errD_fake\n",
    "            d_optimizer.step()\n",
    "\n",
    "            #update generator: max log(D(G(z)))\n",
    "            g_optimizer.zero_grad()\n",
    "            output = discriminator(fake).view(-1)\n",
    "            errG = criterion(output, real_labels)\n",
    "            errG.backward()\n",
    "            g_optimizer.step()\n",
    "\n",
    "            if i % 50 == 0:\n",
    "                print(f'[{epoch+1}/{epochs}][{i+1}/{len(data_loader)}] Loss_D: {errD:.4f} Loss_G: {errG:.4f}')\n",
    "#defined z_dim and output_dim\n",
    "output_dim = 22272\n",
    "z_dim = 150 \n",
    "generator = Generator(z_dim, output_dim)\n",
    "discriminator = Discriminator(output_dim).cuda()\n",
    "\n",
    "#Train the GAN\n",
    "train_gan(generator, discriminator, train_loader, z_dim, epochs=50)"
   ]
  },
  {
   "cell_type": "code",
   "execution_count": 137,
   "id": "693628ca",
   "metadata": {},
   "outputs": [],
   "source": [
    "#number of new samples in one category\n",
    "num_new_samples = 70\n",
    "\n",
    "z_dim = 150  \n",
    "\n",
    "generator.eval()  #evaluation mode\n",
    "\n",
    "num_classes = 10  \n",
    "generated_spectrograms = []\n",
    "generated_labels = []\n",
    "\n",
    "for class_label in range(num_classes):\n",
    "    noise = torch.randn(num_new_samples, z_dim).cuda()\n",
    "    class_spectrograms = generator(noise).detach().cpu()\n",
    "    class_labels = torch.full((num_new_samples,), class_label, dtype=torch.long)\n",
    "    \n",
    "    generated_spectrograms.append(class_spectrograms)\n",
    "    generated_labels.append(class_labels)\n",
    "\n",
    "#linking all generated data\n",
    "generated_spectrograms = torch.cat(generated_spectrograms, dim=0)\n",
    "generated_labels = torch.cat(generated_labels, dim=0)\n",
    "\n",
    "#tensorDataset\n",
    "generated_dataset = TensorDataset(generated_spectrograms, generated_labels)"
   ]
  },
  {
   "cell_type": "code",
   "execution_count": 138,
   "id": "a87b1ff3",
   "metadata": {},
   "outputs": [
    {
     "name": "stdout",
     "output_type": "stream",
     "text": [
      "torch.Size([1, 128, 174])\n",
      "torch.Size([1, 128, 174])\n",
      "torch.Size([1, 128, 174])\n",
      "torch.Size([1, 128, 174])\n",
      "torch.Size([1, 128, 174])\n",
      "torch.Size([1, 128, 174])\n",
      "torch.Size([1, 128, 174])\n",
      "torch.Size([1, 128, 174])\n",
      "torch.Size([1, 128, 174])\n",
      "torch.Size([1, 128, 174])\n",
      "torch.Size([1, 128, 174])\n",
      "torch.Size([1, 128, 174])\n",
      "torch.Size([1, 128, 174])\n",
      "torch.Size([1, 128, 174])\n",
      "torch.Size([1, 128, 174])\n",
      "torch.Size([1, 128, 174])\n",
      "torch.Size([1, 128, 174])\n",
      "torch.Size([1, 128, 174])\n",
      "torch.Size([1, 128, 174])\n",
      "torch.Size([1, 128, 174])\n",
      "torch.Size([1, 128, 174])\n",
      "torch.Size([1, 128, 174])\n",
      "torch.Size([1, 128, 174])\n",
      "torch.Size([1, 128, 174])\n",
      "torch.Size([1, 128, 174])\n",
      "torch.Size([1, 128, 174])\n",
      "torch.Size([1, 128, 174])\n",
      "torch.Size([1, 128, 174])\n",
      "torch.Size([1, 128, 174])\n",
      "torch.Size([1, 128, 174])\n",
      "torch.Size([1, 128, 174])\n",
      "torch.Size([1, 128, 174])\n",
      "torch.Size([1, 128, 174])\n",
      "torch.Size([1, 128, 174])\n",
      "torch.Size([1, 128, 174])\n",
      "torch.Size([1, 128, 174])\n",
      "torch.Size([1, 128, 174])\n",
      "torch.Size([1, 128, 174])\n",
      "torch.Size([1, 128, 174])\n",
      "torch.Size([1, 128, 174])\n",
      "torch.Size([1, 128, 174])\n",
      "torch.Size([1, 128, 174])\n",
      "torch.Size([1, 128, 174])\n",
      "torch.Size([1, 128, 174])\n",
      "torch.Size([1, 128, 174])\n",
      "torch.Size([1, 128, 174])\n",
      "torch.Size([1, 128, 174])\n",
      "torch.Size([1, 128, 174])\n",
      "torch.Size([1, 128, 174])\n",
      "torch.Size([1, 128, 174])\n",
      "torch.Size([1, 128, 174])\n",
      "torch.Size([1, 128, 174])\n",
      "torch.Size([1, 128, 174])\n",
      "torch.Size([1, 128, 174])\n",
      "torch.Size([1, 128, 174])\n",
      "torch.Size([1, 128, 174])\n",
      "torch.Size([1, 128, 174])\n",
      "torch.Size([1, 128, 174])\n",
      "torch.Size([1, 128, 174])\n",
      "torch.Size([1, 128, 174])\n",
      "torch.Size([1, 128, 174])\n",
      "torch.Size([1, 128, 174])\n",
      "torch.Size([1, 128, 174])\n",
      "torch.Size([1, 128, 174])\n",
      "torch.Size([1, 128, 174])\n",
      "torch.Size([1, 128, 174])\n",
      "torch.Size([1, 128, 174])\n",
      "torch.Size([1, 128, 174])\n",
      "torch.Size([1, 128, 174])\n",
      "torch.Size([1, 128, 174])\n",
      "torch.Size([1, 128, 174])\n",
      "torch.Size([1, 128, 174])\n",
      "torch.Size([1, 128, 174])\n",
      "torch.Size([1, 128, 174])\n",
      "torch.Size([1, 128, 174])\n",
      "torch.Size([1, 128, 174])\n",
      "torch.Size([1, 128, 174])\n",
      "torch.Size([1, 128, 174])\n",
      "torch.Size([1, 128, 174])\n",
      "torch.Size([1, 128, 174])\n",
      "torch.Size([1, 128, 174])\n",
      "torch.Size([1, 128, 174])\n",
      "torch.Size([1, 128, 174])\n",
      "torch.Size([1, 128, 174])\n",
      "torch.Size([1, 128, 174])\n",
      "torch.Size([1, 128, 174])\n",
      "torch.Size([1, 128, 174])\n",
      "torch.Size([1, 128, 174])\n",
      "torch.Size([1, 128, 174])\n",
      "torch.Size([1, 128, 174])\n",
      "torch.Size([1, 128, 174])\n",
      "torch.Size([1, 128, 174])\n",
      "torch.Size([1, 128, 174])\n",
      "torch.Size([1, 128, 174])\n",
      "torch.Size([1, 128, 174])\n",
      "torch.Size([1, 128, 174])\n",
      "torch.Size([1, 128, 174])\n",
      "torch.Size([1, 128, 174])\n",
      "torch.Size([1, 128, 174])\n",
      "torch.Size([1, 128, 174])\n",
      "torch.Size([1, 128, 174])\n",
      "torch.Size([1, 128, 174])\n",
      "torch.Size([1, 128, 174])\n",
      "torch.Size([1, 128, 174])\n",
      "torch.Size([1, 128, 174])\n",
      "torch.Size([1, 128, 174])\n",
      "torch.Size([1, 128, 174])\n",
      "torch.Size([1, 128, 174])\n",
      "torch.Size([1, 128, 174])\n",
      "torch.Size([1, 128, 174])\n",
      "torch.Size([1, 128, 174])\n",
      "torch.Size([1, 128, 174])\n",
      "torch.Size([1, 128, 174])\n",
      "torch.Size([1, 128, 174])\n",
      "torch.Size([1, 128, 174])\n",
      "torch.Size([1, 128, 174])\n",
      "torch.Size([1, 128, 174])\n",
      "torch.Size([1, 128, 174])\n",
      "torch.Size([1, 128, 174])\n",
      "torch.Size([1, 128, 174])\n",
      "torch.Size([1, 128, 174])\n",
      "torch.Size([1, 128, 174])\n",
      "torch.Size([1, 128, 174])\n",
      "torch.Size([1, 128, 174])\n",
      "torch.Size([1, 128, 174])\n",
      "torch.Size([1, 128, 174])\n",
      "torch.Size([1, 128, 174])\n",
      "torch.Size([1, 128, 174])\n",
      "torch.Size([1, 128, 174])\n",
      "torch.Size([1, 128, 174])\n",
      "torch.Size([1, 128, 174])\n",
      "torch.Size([1, 128, 174])\n",
      "torch.Size([1, 128, 174])\n",
      "torch.Size([1, 128, 174])\n",
      "torch.Size([1, 128, 174])\n",
      "torch.Size([1, 128, 174])\n",
      "torch.Size([1, 128, 174])\n",
      "torch.Size([1, 128, 174])\n",
      "torch.Size([1, 128, 174])\n",
      "torch.Size([1, 128, 174])\n",
      "torch.Size([1, 128, 174])\n",
      "torch.Size([1, 128, 174])\n",
      "torch.Size([1, 128, 174])\n",
      "torch.Size([1, 128, 174])\n",
      "torch.Size([1, 128, 174])\n",
      "torch.Size([1, 128, 174])\n",
      "torch.Size([1, 128, 174])\n",
      "torch.Size([1, 128, 174])\n",
      "torch.Size([1, 128, 174])\n",
      "torch.Size([1, 128, 174])\n",
      "torch.Size([1, 128, 174])\n",
      "torch.Size([1, 128, 174])\n",
      "torch.Size([1, 128, 174])\n",
      "torch.Size([1, 128, 174])\n",
      "torch.Size([1, 128, 174])\n",
      "torch.Size([1, 128, 174])\n",
      "torch.Size([1, 128, 174])\n",
      "torch.Size([1, 128, 174])\n",
      "torch.Size([1, 128, 174])\n",
      "torch.Size([1, 128, 174])\n",
      "torch.Size([1, 128, 174])\n",
      "torch.Size([1, 128, 174])\n",
      "torch.Size([1, 128, 174])\n",
      "torch.Size([1, 128, 174])\n",
      "torch.Size([1, 128, 174])\n",
      "torch.Size([1, 128, 174])\n",
      "torch.Size([1, 128, 174])\n",
      "torch.Size([1, 128, 174])\n",
      "torch.Size([1, 128, 174])\n",
      "torch.Size([1, 128, 174])\n",
      "torch.Size([1, 128, 174])\n",
      "torch.Size([1, 128, 174])\n",
      "torch.Size([1, 128, 174])\n",
      "torch.Size([1, 128, 174])\n",
      "torch.Size([1, 128, 174])\n",
      "torch.Size([1, 128, 174])\n",
      "torch.Size([1, 128, 174])\n",
      "torch.Size([1, 128, 174])\n",
      "torch.Size([1, 128, 174])\n",
      "torch.Size([1, 128, 174])\n",
      "torch.Size([1, 128, 174])\n",
      "torch.Size([1, 128, 174])\n",
      "torch.Size([1, 128, 174])\n",
      "torch.Size([1, 128, 174])\n",
      "torch.Size([1, 128, 174])\n",
      "torch.Size([1, 128, 174])\n",
      "torch.Size([1, 128, 174])\n",
      "torch.Size([1, 128, 174])\n",
      "torch.Size([1, 128, 174])\n",
      "torch.Size([1, 128, 174])\n",
      "torch.Size([1, 128, 174])\n",
      "torch.Size([1, 128, 174])\n",
      "torch.Size([1, 128, 174])\n",
      "torch.Size([1, 128, 174])\n",
      "torch.Size([1, 128, 174])\n",
      "torch.Size([1, 128, 174])\n",
      "torch.Size([1, 128, 174])\n",
      "torch.Size([1, 128, 174])\n",
      "torch.Size([1, 128, 174])\n",
      "torch.Size([1, 128, 174])\n",
      "torch.Size([1, 128, 174])\n",
      "torch.Size([1, 128, 174])\n",
      "torch.Size([1, 128, 174])\n",
      "torch.Size([1, 128, 174])\n",
      "torch.Size([1, 128, 174])\n",
      "torch.Size([1, 128, 174])\n",
      "torch.Size([1, 128, 174])\n",
      "torch.Size([1, 128, 174])\n",
      "torch.Size([1, 128, 174])\n",
      "torch.Size([1, 128, 174])\n",
      "torch.Size([1, 128, 174])\n",
      "torch.Size([1, 128, 174])\n",
      "torch.Size([1, 128, 174])\n",
      "torch.Size([1, 128, 174])\n",
      "torch.Size([1, 128, 174])\n",
      "torch.Size([1, 128, 174])\n",
      "torch.Size([1, 128, 174])\n",
      "torch.Size([1, 128, 174])\n",
      "torch.Size([1, 128, 174])\n",
      "torch.Size([1, 128, 174])\n",
      "torch.Size([1, 128, 174])\n",
      "torch.Size([1, 128, 174])\n",
      "torch.Size([1, 128, 174])\n",
      "torch.Size([1, 128, 174])\n",
      "torch.Size([1, 128, 174])\n",
      "torch.Size([1, 128, 174])\n",
      "torch.Size([1, 128, 174])\n",
      "torch.Size([1, 128, 174])\n",
      "torch.Size([1, 128, 174])\n",
      "torch.Size([1, 128, 174])\n",
      "torch.Size([1, 128, 174])\n",
      "torch.Size([1, 128, 174])\n",
      "torch.Size([1, 128, 174])\n",
      "torch.Size([1, 128, 174])\n",
      "torch.Size([1, 128, 174])\n",
      "torch.Size([1, 128, 174])\n",
      "torch.Size([1, 128, 174])\n",
      "torch.Size([1, 128, 174])\n",
      "torch.Size([1, 128, 174])\n",
      "torch.Size([1, 128, 174])\n",
      "torch.Size([1, 128, 174])\n",
      "torch.Size([1, 128, 174])\n",
      "torch.Size([1, 128, 174])\n",
      "torch.Size([1, 128, 174])\n",
      "torch.Size([1, 128, 174])\n",
      "torch.Size([1, 128, 174])\n",
      "torch.Size([1, 128, 174])\n",
      "torch.Size([1, 128, 174])\n",
      "torch.Size([1, 128, 174])\n",
      "torch.Size([1, 128, 174])\n",
      "torch.Size([1, 128, 174])\n",
      "torch.Size([1, 128, 174])\n",
      "torch.Size([1, 128, 174])\n",
      "torch.Size([1, 128, 174])\n",
      "torch.Size([1, 128, 174])\n",
      "torch.Size([1, 128, 174])\n",
      "torch.Size([1, 128, 174])\n",
      "torch.Size([1, 128, 174])\n",
      "torch.Size([1, 128, 174])\n",
      "torch.Size([1, 128, 174])\n",
      "torch.Size([1, 128, 174])\n",
      "torch.Size([1, 128, 174])\n",
      "torch.Size([1, 128, 174])\n",
      "torch.Size([1, 128, 174])\n",
      "torch.Size([1, 128, 174])\n",
      "torch.Size([1, 128, 174])\n",
      "torch.Size([1, 128, 174])\n",
      "torch.Size([1, 128, 174])\n",
      "torch.Size([1, 128, 174])\n",
      "torch.Size([1, 128, 174])\n",
      "torch.Size([1, 128, 174])\n",
      "torch.Size([1, 128, 174])\n",
      "torch.Size([1, 128, 174])\n",
      "torch.Size([1, 128, 174])\n",
      "torch.Size([1, 128, 174])\n",
      "torch.Size([1, 128, 174])\n",
      "torch.Size([1, 128, 174])\n",
      "torch.Size([1, 128, 174])\n",
      "torch.Size([1, 128, 174])\n",
      "torch.Size([1, 128, 174])\n",
      "torch.Size([1, 128, 174])\n",
      "torch.Size([1, 128, 174])\n",
      "torch.Size([1, 128, 174])\n",
      "torch.Size([1, 128, 174])\n",
      "torch.Size([1, 128, 174])\n",
      "torch.Size([1, 128, 174])\n",
      "torch.Size([1, 128, 174])\n",
      "torch.Size([1, 128, 174])\n",
      "torch.Size([1, 128, 174])\n",
      "torch.Size([1, 128, 174])\n",
      "torch.Size([1, 128, 174])\n",
      "torch.Size([1, 128, 174])\n",
      "torch.Size([1, 128, 174])\n",
      "torch.Size([1, 128, 174])\n",
      "torch.Size([1, 128, 174])\n",
      "torch.Size([1, 128, 174])\n",
      "torch.Size([1, 128, 174])\n",
      "torch.Size([1, 128, 174])\n",
      "torch.Size([1, 128, 174])\n",
      "torch.Size([1, 128, 174])\n",
      "torch.Size([1, 128, 174])\n",
      "torch.Size([1, 128, 174])\n",
      "torch.Size([1, 128, 174])\n",
      "torch.Size([1, 128, 174])\n",
      "torch.Size([1, 128, 174])\n",
      "torch.Size([1, 128, 174])\n",
      "torch.Size([1, 128, 174])\n",
      "torch.Size([1, 128, 174])\n",
      "torch.Size([1, 128, 174])\n",
      "torch.Size([1, 128, 174])\n",
      "torch.Size([1, 128, 174])\n",
      "torch.Size([1, 128, 174])\n",
      "torch.Size([1, 128, 174])\n",
      "torch.Size([1, 128, 174])\n",
      "torch.Size([1, 128, 174])\n",
      "torch.Size([1, 128, 174])\n",
      "torch.Size([1, 128, 174])\n",
      "torch.Size([1, 128, 174])\n",
      "torch.Size([1, 128, 174])\n",
      "torch.Size([1, 128, 174])\n",
      "torch.Size([1, 128, 174])\n",
      "torch.Size([1, 128, 174])\n",
      "torch.Size([1, 128, 174])\n",
      "torch.Size([1, 128, 174])\n",
      "torch.Size([1, 128, 174])\n",
      "torch.Size([1, 128, 174])\n",
      "torch.Size([1, 128, 174])\n",
      "torch.Size([1, 128, 174])\n",
      "torch.Size([1, 128, 174])\n",
      "torch.Size([1, 128, 174])\n",
      "torch.Size([1, 128, 174])\n",
      "torch.Size([1, 128, 174])\n",
      "torch.Size([1, 128, 174])\n",
      "torch.Size([1, 128, 174])\n",
      "torch.Size([1, 128, 174])\n",
      "torch.Size([1, 128, 174])\n",
      "torch.Size([1, 128, 174])\n",
      "torch.Size([1, 128, 174])\n",
      "torch.Size([1, 128, 174])\n",
      "torch.Size([1, 128, 174])\n",
      "torch.Size([1, 128, 174])\n",
      "torch.Size([1, 128, 174])\n",
      "torch.Size([1, 128, 174])\n",
      "torch.Size([1, 128, 174])\n",
      "torch.Size([1, 128, 174])\n",
      "torch.Size([1, 128, 174])\n",
      "torch.Size([1, 128, 174])\n",
      "torch.Size([1, 128, 174])\n",
      "torch.Size([1, 128, 174])\n",
      "torch.Size([1, 128, 174])\n",
      "torch.Size([1, 128, 174])\n",
      "torch.Size([1, 128, 174])\n",
      "torch.Size([1, 128, 174])\n",
      "torch.Size([1, 128, 174])\n",
      "torch.Size([1, 128, 174])\n",
      "torch.Size([1, 128, 174])\n",
      "torch.Size([1, 128, 174])\n",
      "torch.Size([1, 128, 174])\n",
      "torch.Size([1, 128, 174])\n",
      "torch.Size([1, 128, 174])\n",
      "torch.Size([1, 128, 174])\n",
      "torch.Size([1, 128, 174])\n",
      "torch.Size([1, 128, 174])\n",
      "torch.Size([1, 128, 174])\n",
      "torch.Size([1, 128, 174])\n",
      "torch.Size([1, 128, 174])\n",
      "torch.Size([1, 128, 174])\n",
      "torch.Size([1, 128, 174])\n",
      "torch.Size([1, 128, 174])\n",
      "torch.Size([1, 128, 174])\n",
      "torch.Size([1, 128, 174])\n",
      "torch.Size([1, 128, 174])\n",
      "torch.Size([1, 128, 174])\n",
      "torch.Size([1, 128, 174])\n",
      "torch.Size([1, 128, 174])\n",
      "torch.Size([1, 128, 174])\n",
      "torch.Size([1, 128, 174])\n",
      "torch.Size([1, 128, 174])\n",
      "torch.Size([1, 128, 174])\n",
      "torch.Size([1, 128, 174])\n",
      "torch.Size([1, 128, 174])\n",
      "torch.Size([1, 128, 174])\n",
      "torch.Size([1, 128, 174])\n",
      "torch.Size([1, 128, 174])\n",
      "torch.Size([1, 128, 174])\n",
      "torch.Size([1, 128, 174])\n",
      "torch.Size([1, 128, 174])\n",
      "torch.Size([1, 128, 174])\n",
      "torch.Size([1, 128, 174])\n",
      "torch.Size([1, 128, 174])\n",
      "torch.Size([1, 128, 174])\n",
      "torch.Size([1, 128, 174])\n",
      "torch.Size([1, 128, 174])\n",
      "torch.Size([1, 128, 174])\n",
      "torch.Size([1, 128, 174])\n",
      "torch.Size([1, 128, 174])\n",
      "torch.Size([1, 128, 174])\n",
      "torch.Size([1, 128, 174])\n",
      "torch.Size([1, 128, 174])\n",
      "torch.Size([1, 128, 174])\n",
      "torch.Size([1, 128, 174])\n",
      "torch.Size([1, 128, 174])\n",
      "torch.Size([1, 128, 174])\n",
      "torch.Size([1, 128, 174])\n",
      "torch.Size([1, 128, 174])\n",
      "torch.Size([1, 128, 174])\n",
      "torch.Size([1, 128, 174])\n",
      "torch.Size([1, 128, 174])\n",
      "torch.Size([1, 128, 174])\n",
      "torch.Size([1, 128, 174])\n",
      "torch.Size([1, 128, 174])\n",
      "torch.Size([1, 128, 174])\n",
      "torch.Size([1, 128, 174])\n",
      "torch.Size([1, 128, 174])\n",
      "torch.Size([1, 128, 174])\n",
      "torch.Size([1, 128, 174])\n",
      "torch.Size([1, 128, 174])\n",
      "torch.Size([1, 128, 174])\n",
      "torch.Size([1, 128, 174])\n",
      "torch.Size([1, 128, 174])\n",
      "torch.Size([1, 128, 174])\n",
      "torch.Size([1, 128, 174])\n",
      "torch.Size([1, 128, 174])\n",
      "torch.Size([1, 128, 174])\n",
      "torch.Size([1, 128, 174])\n",
      "torch.Size([1, 128, 174])\n",
      "torch.Size([1, 128, 174])\n",
      "torch.Size([1, 128, 174])\n",
      "torch.Size([1, 128, 174])\n",
      "torch.Size([1, 128, 174])\n",
      "torch.Size([1, 128, 174])\n",
      "torch.Size([1, 128, 174])\n",
      "torch.Size([1, 128, 174])\n",
      "torch.Size([1, 128, 174])\n",
      "torch.Size([1, 128, 174])\n",
      "torch.Size([1, 128, 174])\n",
      "torch.Size([1, 128, 174])\n",
      "torch.Size([1, 128, 174])\n",
      "torch.Size([1, 128, 174])\n",
      "torch.Size([1, 128, 174])\n",
      "torch.Size([1, 128, 174])\n",
      "torch.Size([1, 128, 174])\n",
      "torch.Size([1, 128, 174])\n",
      "torch.Size([1, 128, 174])\n",
      "torch.Size([1, 128, 174])\n",
      "torch.Size([1, 128, 174])\n",
      "torch.Size([1, 128, 174])\n",
      "torch.Size([1, 128, 174])\n",
      "torch.Size([1, 128, 174])\n",
      "torch.Size([1, 128, 174])\n",
      "torch.Size([1, 128, 174])\n",
      "torch.Size([1, 128, 174])\n",
      "torch.Size([1, 128, 174])\n",
      "torch.Size([1, 128, 174])\n",
      "torch.Size([1, 128, 174])\n",
      "torch.Size([1, 128, 174])\n",
      "torch.Size([1, 128, 174])\n",
      "torch.Size([1, 128, 174])\n",
      "torch.Size([1, 128, 174])\n",
      "torch.Size([1, 128, 174])\n",
      "torch.Size([1, 128, 174])\n",
      "torch.Size([1, 128, 174])\n",
      "torch.Size([1, 128, 174])\n",
      "torch.Size([1, 128, 174])\n",
      "torch.Size([1, 128, 174])\n",
      "torch.Size([1, 128, 174])\n",
      "torch.Size([1, 128, 174])\n",
      "torch.Size([1, 128, 174])\n",
      "torch.Size([1, 128, 174])\n",
      "torch.Size([1, 128, 174])\n",
      "torch.Size([1, 128, 174])\n",
      "torch.Size([1, 128, 174])\n",
      "torch.Size([1, 128, 174])\n",
      "torch.Size([1, 128, 174])\n",
      "torch.Size([1, 128, 174])\n",
      "torch.Size([1, 128, 174])\n",
      "torch.Size([1, 128, 174])\n",
      "torch.Size([1, 128, 174])\n",
      "torch.Size([1, 128, 174])\n",
      "torch.Size([1, 128, 174])\n",
      "torch.Size([1, 128, 174])\n",
      "torch.Size([1, 128, 174])\n",
      "torch.Size([1, 128, 174])\n",
      "torch.Size([1, 128, 174])\n",
      "torch.Size([1, 128, 174])\n",
      "torch.Size([1, 128, 174])\n",
      "torch.Size([1, 128, 174])\n",
      "torch.Size([1, 128, 174])\n",
      "torch.Size([1, 128, 174])\n",
      "torch.Size([1, 128, 174])\n",
      "torch.Size([1, 128, 174])\n",
      "torch.Size([1, 128, 174])\n",
      "torch.Size([1, 128, 174])\n",
      "torch.Size([1, 128, 174])\n",
      "torch.Size([1, 128, 174])\n",
      "torch.Size([1, 128, 174])\n",
      "torch.Size([1, 128, 174])\n",
      "torch.Size([1, 128, 174])\n",
      "torch.Size([1, 128, 174])\n",
      "torch.Size([1, 128, 174])\n",
      "torch.Size([1, 128, 174])\n",
      "torch.Size([1, 128, 174])\n",
      "torch.Size([1, 128, 174])\n",
      "torch.Size([1, 128, 174])\n",
      "torch.Size([1, 128, 174])\n",
      "torch.Size([1, 128, 174])\n",
      "torch.Size([1, 128, 174])\n",
      "torch.Size([1, 128, 174])\n",
      "torch.Size([1, 128, 174])\n",
      "torch.Size([1, 128, 174])\n",
      "torch.Size([1, 128, 174])\n",
      "torch.Size([1, 128, 174])\n",
      "torch.Size([1, 128, 174])\n",
      "torch.Size([1, 128, 174])\n",
      "torch.Size([1, 128, 174])\n",
      "torch.Size([1, 128, 174])\n",
      "torch.Size([1, 128, 174])\n",
      "torch.Size([1, 128, 174])\n",
      "torch.Size([1, 128, 174])\n",
      "torch.Size([1, 128, 174])\n",
      "torch.Size([1, 128, 174])\n",
      "torch.Size([1, 128, 174])\n",
      "torch.Size([1, 128, 174])\n",
      "torch.Size([1, 128, 174])\n",
      "torch.Size([1, 128, 174])\n",
      "torch.Size([1, 128, 174])\n",
      "torch.Size([1, 128, 174])\n",
      "torch.Size([1, 128, 174])\n",
      "torch.Size([1, 128, 174])\n",
      "torch.Size([1, 128, 174])\n",
      "torch.Size([1, 128, 174])\n",
      "torch.Size([1, 128, 174])\n",
      "torch.Size([1, 128, 174])\n",
      "torch.Size([1, 128, 174])\n",
      "torch.Size([1, 128, 174])\n",
      "torch.Size([1, 128, 174])\n",
      "torch.Size([1, 128, 174])\n",
      "torch.Size([1, 128, 174])\n",
      "torch.Size([1, 128, 174])\n",
      "torch.Size([1, 128, 174])\n",
      "torch.Size([1, 128, 174])\n",
      "torch.Size([1, 128, 174])\n",
      "torch.Size([1, 128, 174])\n",
      "torch.Size([1, 128, 174])\n",
      "torch.Size([1, 128, 174])\n",
      "torch.Size([1, 128, 174])\n",
      "torch.Size([1, 128, 174])\n",
      "torch.Size([1, 128, 174])\n",
      "torch.Size([1, 128, 174])\n",
      "torch.Size([1, 128, 174])\n",
      "torch.Size([1, 128, 174])\n",
      "torch.Size([1, 128, 174])\n",
      "torch.Size([1, 128, 174])\n",
      "torch.Size([1, 128, 174])\n",
      "torch.Size([1, 128, 174])\n",
      "torch.Size([1, 128, 174])\n",
      "torch.Size([1, 128, 174])\n",
      "torch.Size([1, 128, 174])\n",
      "torch.Size([1, 128, 174])\n",
      "torch.Size([1, 128, 174])\n",
      "torch.Size([1, 128, 174])\n",
      "torch.Size([1, 128, 174])\n",
      "torch.Size([1, 128, 174])\n",
      "torch.Size([1, 128, 174])\n",
      "torch.Size([1, 128, 174])\n",
      "torch.Size([1, 128, 174])\n",
      "torch.Size([1, 128, 174])\n",
      "torch.Size([1, 128, 174])\n",
      "torch.Size([1, 128, 174])\n",
      "torch.Size([1, 128, 174])\n",
      "torch.Size([1, 128, 174])\n",
      "torch.Size([1, 128, 174])\n",
      "torch.Size([1, 128, 174])\n",
      "torch.Size([1, 128, 174])\n",
      "torch.Size([1, 128, 174])\n",
      "torch.Size([1, 128, 174])\n",
      "torch.Size([1, 128, 174])\n",
      "torch.Size([1, 128, 174])\n",
      "torch.Size([1, 128, 174])\n",
      "torch.Size([1, 128, 174])\n",
      "torch.Size([1, 128, 174])\n",
      "torch.Size([1, 128, 174])\n",
      "torch.Size([1, 128, 174])\n",
      "torch.Size([1, 128, 174])\n",
      "torch.Size([1, 128, 174])\n",
      "torch.Size([1, 128, 174])\n",
      "torch.Size([1, 128, 174])\n",
      "torch.Size([1, 128, 174])\n",
      "torch.Size([1, 128, 174])\n",
      "torch.Size([1, 128, 174])\n",
      "torch.Size([1, 128, 174])\n",
      "torch.Size([1, 128, 174])\n",
      "torch.Size([1, 128, 174])\n",
      "torch.Size([1, 128, 174])\n",
      "torch.Size([1, 128, 174])\n",
      "torch.Size([1, 128, 174])\n",
      "torch.Size([1, 128, 174])\n",
      "torch.Size([1, 128, 174])\n",
      "torch.Size([1, 128, 174])\n",
      "torch.Size([1, 128, 174])\n",
      "torch.Size([1, 128, 174])\n",
      "torch.Size([1, 128, 174])\n",
      "torch.Size([1, 128, 174])\n",
      "torch.Size([1, 128, 174])\n",
      "torch.Size([1, 128, 174])\n",
      "torch.Size([1, 128, 174])\n",
      "torch.Size([1, 128, 174])\n",
      "torch.Size([1, 128, 174])\n",
      "torch.Size([1, 128, 174])\n",
      "torch.Size([1, 128, 174])\n",
      "torch.Size([1, 128, 174])\n",
      "torch.Size([1, 128, 174])\n",
      "torch.Size([1, 128, 174])\n",
      "torch.Size([1, 128, 174])\n",
      "torch.Size([1, 128, 174])\n",
      "torch.Size([1, 128, 174])\n",
      "torch.Size([1, 128, 174])\n",
      "torch.Size([1, 128, 174])\n",
      "torch.Size([1, 128, 174])\n",
      "torch.Size([1, 128, 174])\n",
      "torch.Size([1, 128, 174])\n",
      "torch.Size([1, 128, 174])\n",
      "torch.Size([1, 128, 174])\n",
      "torch.Size([1, 128, 174])\n",
      "torch.Size([1, 128, 174])\n",
      "torch.Size([1, 128, 174])\n",
      "torch.Size([1, 128, 174])\n",
      "torch.Size([1, 128, 174])\n",
      "torch.Size([1, 128, 174])\n",
      "torch.Size([1, 128, 174])\n",
      "torch.Size([1, 128, 174])\n",
      "torch.Size([1, 128, 174])\n",
      "torch.Size([1, 128, 174])\n",
      "torch.Size([1, 128, 174])\n",
      "torch.Size([1, 128, 174])\n",
      "torch.Size([1, 128, 174])\n",
      "torch.Size([1, 128, 174])\n",
      "torch.Size([1, 128, 174])\n",
      "torch.Size([1, 128, 174])\n",
      "torch.Size([1, 128, 174])\n",
      "torch.Size([1, 128, 174])\n",
      "torch.Size([1, 128, 174])\n",
      "torch.Size([1, 128, 174])\n",
      "torch.Size([1, 128, 174])\n",
      "torch.Size([1, 128, 174])\n",
      "torch.Size([1, 128, 174])\n",
      "torch.Size([1, 128, 174])\n",
      "torch.Size([1, 128, 174])\n",
      "torch.Size([1, 128, 174])\n",
      "torch.Size([1, 128, 174])\n",
      "torch.Size([1, 128, 174])\n",
      "torch.Size([1, 128, 174])\n",
      "torch.Size([1, 128, 174])\n",
      "torch.Size([1, 128, 174])\n",
      "torch.Size([1, 128, 174])\n",
      "torch.Size([1, 128, 174])\n",
      "torch.Size([1, 128, 174])\n",
      "torch.Size([1, 128, 174])\n",
      "torch.Size([1, 128, 174])\n",
      "torch.Size([1, 128, 174])\n",
      "torch.Size([1, 128, 174])\n",
      "torch.Size([1, 128, 174])\n",
      "torch.Size([1, 128, 174])\n",
      "torch.Size([1, 128, 174])\n",
      "torch.Size([1, 128, 174])\n",
      "torch.Size([1, 128, 174])\n",
      "torch.Size([1, 128, 174])\n",
      "torch.Size([1, 128, 174])\n",
      "torch.Size([1, 128, 174])\n",
      "torch.Size([1, 128, 174])\n",
      "torch.Size([1, 128, 174])\n",
      "torch.Size([1, 128, 174])\n",
      "torch.Size([1, 128, 174])\n",
      "torch.Size([1, 128, 174])\n",
      "torch.Size([1, 128, 174])\n",
      "torch.Size([1, 128, 174])\n",
      "torch.Size([1, 128, 174])\n",
      "torch.Size([1, 128, 174])\n",
      "torch.Size([1, 128, 174])\n",
      "torch.Size([1, 128, 174])\n",
      "torch.Size([1, 128, 174])\n",
      "torch.Size([1, 128, 174])\n",
      "torch.Size([1, 128, 174])\n",
      "torch.Size([1, 128, 174])\n",
      "torch.Size([1, 128, 174])\n",
      "torch.Size([1, 128, 174])\n",
      "torch.Size([1, 128, 174])\n",
      "torch.Size([1, 128, 174])\n",
      "torch.Size([1, 128, 174])\n",
      "torch.Size([1, 128, 174])\n",
      "torch.Size([1, 128, 174])\n",
      "torch.Size([1, 128, 174])\n",
      "torch.Size([1, 128, 174])\n",
      "torch.Size([1, 128, 174])\n",
      "torch.Size([1, 128, 174])\n",
      "torch.Size([1, 128, 174])\n",
      "torch.Size([1, 128, 174])\n",
      "torch.Size([1, 128, 174])\n",
      "torch.Size([1, 128, 174])\n",
      "torch.Size([1, 128, 174])\n"
     ]
    }
   ],
   "source": [
    "for spec in generated_spectrograms:\n",
    "    print(spec.shape) "
   ]
  },
  {
   "cell_type": "code",
   "execution_count": 139,
   "id": "738d5fae",
   "metadata": {},
   "outputs": [
    {
     "name": "stdout",
     "output_type": "stream",
     "text": [
      "Sample counts per class: {0: 70, 1: 70, 2: 70, 3: 70, 4: 70, 5: 70, 6: 70, 7: 70, 8: 70, 9: 70}\n"
     ]
    }
   ],
   "source": [
    "#check the number in every categories in new data\n",
    "unique, counts = np.unique(generated_labels.numpy(), return_counts=True)\n",
    "class_counts = dict(zip(unique, counts))\n",
    "print(\"Sample counts per class:\", class_counts)"
   ]
  },
  {
   "cell_type": "code",
   "execution_count": 140,
   "id": "6c5e83c8",
   "metadata": {},
   "outputs": [],
   "source": [
    "from torch.utils.data import ConcatDataset\n",
    "\n",
    "#augment the training set -> combine they\n",
    "enhanced_dataset = ConcatDataset([train_dataset, generated_dataset])\n",
    "\n",
    "#New DataLoader\n",
    "enhanced_data_loader = DataLoader(enhanced_dataset, batch_size=32, shuffle=True)"
   ]
  },
  {
   "cell_type": "code",
   "execution_count": 141,
   "id": "f730412a",
   "metadata": {},
   "outputs": [
    {
     "name": "stdout",
     "output_type": "stream",
     "text": [
      "Original train dataset size: 699\n",
      "Generated dataset size: 700\n",
      "Enhanced dataset size: 1399\n"
     ]
    }
   ],
   "source": [
    "#double checking the lengh of the dataset\n",
    "print(f\"Original train dataset size: {len(train_dataset)}\")\n",
    "print(f\"Generated dataset size: {len(generated_dataset)}\")\n",
    "print(f\"Enhanced dataset size: {len(enhanced_dataset)}\")"
   ]
  },
  {
   "cell_type": "code",
   "execution_count": 142,
   "id": "ba1d1de7",
   "metadata": {},
   "outputs": [
    {
     "name": "stdout",
     "output_type": "stream",
     "text": [
      "Total number of samples in enhanced_data_loader: 1399\n"
     ]
    }
   ],
   "source": [
    "#double check my new data loader\n",
    "num_samples = len(enhanced_data_loader.dataset)\n",
    "print(\"Total number of samples in enhanced_data_loader:\", num_samples)"
   ]
  },
  {
   "cell_type": "markdown",
   "id": "9dc93001",
   "metadata": {},
   "source": [
    "# Model with augmenting dataset"
   ]
  },
  {
   "cell_type": "code",
   "execution_count": 159,
   "id": "9dd4a03e",
   "metadata": {},
   "outputs": [
    {
     "data": {
      "application/vnd.jupyter.widget-view+json": {
       "model_id": "d2afd53aa5e4476eb35475aa1d4a27bb",
       "version_major": 2,
       "version_minor": 0
      },
      "text/plain": [
       "Epoch 1/120:   0%|          | 0/44 [00:00<?, ?it/s]"
      ]
     },
     "metadata": {},
     "output_type": "display_data"
    },
    {
     "name": "stdout",
     "output_type": "stream",
     "text": [
      "Epoch [1/120], Loss: 2.4370, Val Accuracy: 0.1859\n"
     ]
    },
    {
     "data": {
      "application/vnd.jupyter.widget-view+json": {
       "model_id": "7273f36279b04147b645f9edc02fd920",
       "version_major": 2,
       "version_minor": 0
      },
      "text/plain": [
       "Epoch 2/120:   0%|          | 0/44 [00:00<?, ?it/s]"
      ]
     },
     "metadata": {},
     "output_type": "display_data"
    },
    {
     "name": "stdout",
     "output_type": "stream",
     "text": [
      "Epoch [2/120], Loss: 2.3122, Val Accuracy: 0.2412\n"
     ]
    },
    {
     "data": {
      "application/vnd.jupyter.widget-view+json": {
       "model_id": "ff8e64d15a7141018a37a7ff73b67772",
       "version_major": 2,
       "version_minor": 0
      },
      "text/plain": [
       "Epoch 3/120:   0%|          | 0/44 [00:00<?, ?it/s]"
      ]
     },
     "metadata": {},
     "output_type": "display_data"
    },
    {
     "name": "stdout",
     "output_type": "stream",
     "text": [
      "Epoch [3/120], Loss: 2.2678, Val Accuracy: 0.2764\n"
     ]
    },
    {
     "data": {
      "application/vnd.jupyter.widget-view+json": {
       "model_id": "35c6ca807f11435c97f6edff88b404fb",
       "version_major": 2,
       "version_minor": 0
      },
      "text/plain": [
       "Epoch 4/120:   0%|          | 0/44 [00:00<?, ?it/s]"
      ]
     },
     "metadata": {},
     "output_type": "display_data"
    },
    {
     "name": "stdout",
     "output_type": "stream",
     "text": [
      "Epoch [4/120], Loss: 2.2202, Val Accuracy: 0.2764\n"
     ]
    },
    {
     "data": {
      "application/vnd.jupyter.widget-view+json": {
       "model_id": "367c1f9ebb4f43b89c862347093a294b",
       "version_major": 2,
       "version_minor": 0
      },
      "text/plain": [
       "Epoch 5/120:   0%|          | 0/44 [00:00<?, ?it/s]"
      ]
     },
     "metadata": {},
     "output_type": "display_data"
    },
    {
     "name": "stdout",
     "output_type": "stream",
     "text": [
      "Epoch [5/120], Loss: 2.1738, Val Accuracy: 0.2864\n"
     ]
    },
    {
     "data": {
      "application/vnd.jupyter.widget-view+json": {
       "model_id": "29127c100a7543e39e54761717382d78",
       "version_major": 2,
       "version_minor": 0
      },
      "text/plain": [
       "Epoch 6/120:   0%|          | 0/44 [00:00<?, ?it/s]"
      ]
     },
     "metadata": {},
     "output_type": "display_data"
    },
    {
     "name": "stdout",
     "output_type": "stream",
     "text": [
      "Epoch [6/120], Loss: 2.1654, Val Accuracy: 0.2663\n"
     ]
    },
    {
     "data": {
      "application/vnd.jupyter.widget-view+json": {
       "model_id": "b7529ba91b144af587efddce6a1beb8e",
       "version_major": 2,
       "version_minor": 0
      },
      "text/plain": [
       "Epoch 7/120:   0%|          | 0/44 [00:00<?, ?it/s]"
      ]
     },
     "metadata": {},
     "output_type": "display_data"
    },
    {
     "name": "stdout",
     "output_type": "stream",
     "text": [
      "Epoch [7/120], Loss: 2.1316, Val Accuracy: 0.2814\n"
     ]
    },
    {
     "data": {
      "application/vnd.jupyter.widget-view+json": {
       "model_id": "9e49420aadca4fb7ab0ca31bbb22854e",
       "version_major": 2,
       "version_minor": 0
      },
      "text/plain": [
       "Epoch 8/120:   0%|          | 0/44 [00:00<?, ?it/s]"
      ]
     },
     "metadata": {},
     "output_type": "display_data"
    },
    {
     "name": "stdout",
     "output_type": "stream",
     "text": [
      "Epoch [8/120], Loss: 2.0987, Val Accuracy: 0.2915\n"
     ]
    },
    {
     "data": {
      "application/vnd.jupyter.widget-view+json": {
       "model_id": "c90c9b1b51f54c9ba8b790f507ea472b",
       "version_major": 2,
       "version_minor": 0
      },
      "text/plain": [
       "Epoch 9/120:   0%|          | 0/44 [00:00<?, ?it/s]"
      ]
     },
     "metadata": {},
     "output_type": "display_data"
    },
    {
     "name": "stdout",
     "output_type": "stream",
     "text": [
      "Epoch [9/120], Loss: 2.0974, Val Accuracy: 0.3065\n"
     ]
    },
    {
     "data": {
      "application/vnd.jupyter.widget-view+json": {
       "model_id": "97f48ec43e4544f691ea44a9071caa68",
       "version_major": 2,
       "version_minor": 0
      },
      "text/plain": [
       "Epoch 10/120:   0%|          | 0/44 [00:00<?, ?it/s]"
      ]
     },
     "metadata": {},
     "output_type": "display_data"
    },
    {
     "name": "stdout",
     "output_type": "stream",
     "text": [
      "Epoch [10/120], Loss: 2.0633, Val Accuracy: 0.3015\n"
     ]
    },
    {
     "data": {
      "application/vnd.jupyter.widget-view+json": {
       "model_id": "d689564c81fc4e5d97465444e957ce7a",
       "version_major": 2,
       "version_minor": 0
      },
      "text/plain": [
       "Epoch 11/120:   0%|          | 0/44 [00:00<?, ?it/s]"
      ]
     },
     "metadata": {},
     "output_type": "display_data"
    },
    {
     "name": "stdout",
     "output_type": "stream",
     "text": [
      "Epoch [11/120], Loss: 2.0772, Val Accuracy: 0.3467\n"
     ]
    },
    {
     "data": {
      "application/vnd.jupyter.widget-view+json": {
       "model_id": "8d2a3322894a43c899c8c4817687d6df",
       "version_major": 2,
       "version_minor": 0
      },
      "text/plain": [
       "Epoch 12/120:   0%|          | 0/44 [00:00<?, ?it/s]"
      ]
     },
     "metadata": {},
     "output_type": "display_data"
    },
    {
     "name": "stdout",
     "output_type": "stream",
     "text": [
      "Epoch [12/120], Loss: 2.0430, Val Accuracy: 0.3367\n"
     ]
    },
    {
     "data": {
      "application/vnd.jupyter.widget-view+json": {
       "model_id": "3f92933ebda54fc68962761668cb6ea0",
       "version_major": 2,
       "version_minor": 0
      },
      "text/plain": [
       "Epoch 13/120:   0%|          | 0/44 [00:00<?, ?it/s]"
      ]
     },
     "metadata": {},
     "output_type": "display_data"
    },
    {
     "name": "stdout",
     "output_type": "stream",
     "text": [
      "Epoch [13/120], Loss: 2.0372, Val Accuracy: 0.3518\n"
     ]
    },
    {
     "data": {
      "application/vnd.jupyter.widget-view+json": {
       "model_id": "18e47a7deb2f49079441b3c155f80f02",
       "version_major": 2,
       "version_minor": 0
      },
      "text/plain": [
       "Epoch 14/120:   0%|          | 0/44 [00:00<?, ?it/s]"
      ]
     },
     "metadata": {},
     "output_type": "display_data"
    },
    {
     "name": "stdout",
     "output_type": "stream",
     "text": [
      "Epoch [14/120], Loss: 2.0303, Val Accuracy: 0.3367\n"
     ]
    },
    {
     "data": {
      "application/vnd.jupyter.widget-view+json": {
       "model_id": "174919408f144022b0ddb8b7183e8cf8",
       "version_major": 2,
       "version_minor": 0
      },
      "text/plain": [
       "Epoch 15/120:   0%|          | 0/44 [00:00<?, ?it/s]"
      ]
     },
     "metadata": {},
     "output_type": "display_data"
    },
    {
     "name": "stdout",
     "output_type": "stream",
     "text": [
      "Epoch [15/120], Loss: 2.0145, Val Accuracy: 0.3417\n"
     ]
    },
    {
     "data": {
      "application/vnd.jupyter.widget-view+json": {
       "model_id": "851a7a0d7caa4deb879f95aef1719f7e",
       "version_major": 2,
       "version_minor": 0
      },
      "text/plain": [
       "Epoch 16/120:   0%|          | 0/44 [00:00<?, ?it/s]"
      ]
     },
     "metadata": {},
     "output_type": "display_data"
    },
    {
     "name": "stdout",
     "output_type": "stream",
     "text": [
      "Epoch [16/120], Loss: 1.9917, Val Accuracy: 0.3869\n"
     ]
    },
    {
     "data": {
      "application/vnd.jupyter.widget-view+json": {
       "model_id": "eac6514abb1f49c7bd576871b32362a4",
       "version_major": 2,
       "version_minor": 0
      },
      "text/plain": [
       "Epoch 17/120:   0%|          | 0/44 [00:00<?, ?it/s]"
      ]
     },
     "metadata": {},
     "output_type": "display_data"
    },
    {
     "name": "stdout",
     "output_type": "stream",
     "text": [
      "Epoch [17/120], Loss: 1.9808, Val Accuracy: 0.3518\n"
     ]
    },
    {
     "data": {
      "application/vnd.jupyter.widget-view+json": {
       "model_id": "318c7bdc82484e1ca860102053f56b40",
       "version_major": 2,
       "version_minor": 0
      },
      "text/plain": [
       "Epoch 18/120:   0%|          | 0/44 [00:00<?, ?it/s]"
      ]
     },
     "metadata": {},
     "output_type": "display_data"
    },
    {
     "name": "stdout",
     "output_type": "stream",
     "text": [
      "Epoch [18/120], Loss: 1.9745, Val Accuracy: 0.3769\n"
     ]
    },
    {
     "data": {
      "application/vnd.jupyter.widget-view+json": {
       "model_id": "18feac1dddb54ad6abe637aa03c7e24f",
       "version_major": 2,
       "version_minor": 0
      },
      "text/plain": [
       "Epoch 19/120:   0%|          | 0/44 [00:00<?, ?it/s]"
      ]
     },
     "metadata": {},
     "output_type": "display_data"
    },
    {
     "name": "stdout",
     "output_type": "stream",
     "text": [
      "Epoch [19/120], Loss: 1.9659, Val Accuracy: 0.3518\n"
     ]
    },
    {
     "data": {
      "application/vnd.jupyter.widget-view+json": {
       "model_id": "4b0a748209494ab189d55803919a368e",
       "version_major": 2,
       "version_minor": 0
      },
      "text/plain": [
       "Epoch 20/120:   0%|          | 0/44 [00:00<?, ?it/s]"
      ]
     },
     "metadata": {},
     "output_type": "display_data"
    },
    {
     "name": "stdout",
     "output_type": "stream",
     "text": [
      "Epoch [20/120], Loss: 1.9293, Val Accuracy: 0.3970\n"
     ]
    },
    {
     "data": {
      "application/vnd.jupyter.widget-view+json": {
       "model_id": "c3032650a1754e04af5f8048fc19a5cf",
       "version_major": 2,
       "version_minor": 0
      },
      "text/plain": [
       "Epoch 21/120:   0%|          | 0/44 [00:00<?, ?it/s]"
      ]
     },
     "metadata": {},
     "output_type": "display_data"
    },
    {
     "name": "stdout",
     "output_type": "stream",
     "text": [
      "Epoch [21/120], Loss: 1.9347, Val Accuracy: 0.3970\n"
     ]
    },
    {
     "data": {
      "application/vnd.jupyter.widget-view+json": {
       "model_id": "bfef5a082abf43bd93755cabf5c213d7",
       "version_major": 2,
       "version_minor": 0
      },
      "text/plain": [
       "Epoch 22/120:   0%|          | 0/44 [00:00<?, ?it/s]"
      ]
     },
     "metadata": {},
     "output_type": "display_data"
    },
    {
     "name": "stdout",
     "output_type": "stream",
     "text": [
      "Epoch [22/120], Loss: 1.9073, Val Accuracy: 0.3970\n"
     ]
    },
    {
     "data": {
      "application/vnd.jupyter.widget-view+json": {
       "model_id": "a1ec48fd9736430d8d6785df3e280605",
       "version_major": 2,
       "version_minor": 0
      },
      "text/plain": [
       "Epoch 23/120:   0%|          | 0/44 [00:00<?, ?it/s]"
      ]
     },
     "metadata": {},
     "output_type": "display_data"
    },
    {
     "name": "stdout",
     "output_type": "stream",
     "text": [
      "Epoch [23/120], Loss: 1.8723, Val Accuracy: 0.4322\n"
     ]
    },
    {
     "data": {
      "application/vnd.jupyter.widget-view+json": {
       "model_id": "531d4ce75c7a4d87873f3b042a65fd15",
       "version_major": 2,
       "version_minor": 0
      },
      "text/plain": [
       "Epoch 24/120:   0%|          | 0/44 [00:00<?, ?it/s]"
      ]
     },
     "metadata": {},
     "output_type": "display_data"
    },
    {
     "name": "stdout",
     "output_type": "stream",
     "text": [
      "Epoch [24/120], Loss: 1.8764, Val Accuracy: 0.3869\n"
     ]
    },
    {
     "data": {
      "application/vnd.jupyter.widget-view+json": {
       "model_id": "c6997a6b50c8425b886b24cc0e0a263e",
       "version_major": 2,
       "version_minor": 0
      },
      "text/plain": [
       "Epoch 25/120:   0%|          | 0/44 [00:00<?, ?it/s]"
      ]
     },
     "metadata": {},
     "output_type": "display_data"
    },
    {
     "name": "stdout",
     "output_type": "stream",
     "text": [
      "Epoch [25/120], Loss: 1.8682, Val Accuracy: 0.3769\n"
     ]
    },
    {
     "data": {
      "application/vnd.jupyter.widget-view+json": {
       "model_id": "764c34f2601b42cdac4289f0689069fa",
       "version_major": 2,
       "version_minor": 0
      },
      "text/plain": [
       "Epoch 26/120:   0%|          | 0/44 [00:00<?, ?it/s]"
      ]
     },
     "metadata": {},
     "output_type": "display_data"
    },
    {
     "name": "stdout",
     "output_type": "stream",
     "text": [
      "Epoch [26/120], Loss: 1.8663, Val Accuracy: 0.3518\n"
     ]
    },
    {
     "data": {
      "application/vnd.jupyter.widget-view+json": {
       "model_id": "065656cc429e41dba2e796594494d173",
       "version_major": 2,
       "version_minor": 0
      },
      "text/plain": [
       "Epoch 27/120:   0%|          | 0/44 [00:00<?, ?it/s]"
      ]
     },
     "metadata": {},
     "output_type": "display_data"
    },
    {
     "name": "stdout",
     "output_type": "stream",
     "text": [
      "Epoch [27/120], Loss: 1.8550, Val Accuracy: 0.4020\n"
     ]
    },
    {
     "data": {
      "application/vnd.jupyter.widget-view+json": {
       "model_id": "f3b17e287edb496e8f843f92abb7a3dd",
       "version_major": 2,
       "version_minor": 0
      },
      "text/plain": [
       "Epoch 28/120:   0%|          | 0/44 [00:00<?, ?it/s]"
      ]
     },
     "metadata": {},
     "output_type": "display_data"
    },
    {
     "name": "stdout",
     "output_type": "stream",
     "text": [
      "Epoch [28/120], Loss: 1.8268, Val Accuracy: 0.3819\n"
     ]
    },
    {
     "data": {
      "application/vnd.jupyter.widget-view+json": {
       "model_id": "2afba822053a47f7abe00704538bab6d",
       "version_major": 2,
       "version_minor": 0
      },
      "text/plain": [
       "Epoch 29/120:   0%|          | 0/44 [00:00<?, ?it/s]"
      ]
     },
     "metadata": {},
     "output_type": "display_data"
    },
    {
     "name": "stdout",
     "output_type": "stream",
     "text": [
      "Epoch [29/120], Loss: 1.8062, Val Accuracy: 0.4271\n"
     ]
    },
    {
     "data": {
      "application/vnd.jupyter.widget-view+json": {
       "model_id": "6197c549ec254ca08afaacdbf9d20cc4",
       "version_major": 2,
       "version_minor": 0
      },
      "text/plain": [
       "Epoch 30/120:   0%|          | 0/44 [00:00<?, ?it/s]"
      ]
     },
     "metadata": {},
     "output_type": "display_data"
    },
    {
     "name": "stdout",
     "output_type": "stream",
     "text": [
      "Epoch [30/120], Loss: 1.7779, Val Accuracy: 0.4070\n"
     ]
    },
    {
     "data": {
      "application/vnd.jupyter.widget-view+json": {
       "model_id": "8fb0e0f50f104ddeb28a3927fedb675f",
       "version_major": 2,
       "version_minor": 0
      },
      "text/plain": [
       "Epoch 31/120:   0%|          | 0/44 [00:00<?, ?it/s]"
      ]
     },
     "metadata": {},
     "output_type": "display_data"
    },
    {
     "name": "stdout",
     "output_type": "stream",
     "text": [
      "Epoch [31/120], Loss: 1.7811, Val Accuracy: 0.4121\n"
     ]
    },
    {
     "data": {
      "application/vnd.jupyter.widget-view+json": {
       "model_id": "130c43e5fe1a4b0aaf469a8608fa60bb",
       "version_major": 2,
       "version_minor": 0
      },
      "text/plain": [
       "Epoch 32/120:   0%|          | 0/44 [00:00<?, ?it/s]"
      ]
     },
     "metadata": {},
     "output_type": "display_data"
    },
    {
     "name": "stdout",
     "output_type": "stream",
     "text": [
      "Epoch [32/120], Loss: 1.7277, Val Accuracy: 0.4171\n"
     ]
    },
    {
     "data": {
      "application/vnd.jupyter.widget-view+json": {
       "model_id": "fe7fa41d225840ebbc7353a95bae76fa",
       "version_major": 2,
       "version_minor": 0
      },
      "text/plain": [
       "Epoch 33/120:   0%|          | 0/44 [00:00<?, ?it/s]"
      ]
     },
     "metadata": {},
     "output_type": "display_data"
    },
    {
     "name": "stdout",
     "output_type": "stream",
     "text": [
      "Epoch [33/120], Loss: 1.7455, Val Accuracy: 0.4673\n"
     ]
    },
    {
     "data": {
      "application/vnd.jupyter.widget-view+json": {
       "model_id": "8709bed6f0344bc2ba5a56fd8144132a",
       "version_major": 2,
       "version_minor": 0
      },
      "text/plain": [
       "Epoch 34/120:   0%|          | 0/44 [00:00<?, ?it/s]"
      ]
     },
     "metadata": {},
     "output_type": "display_data"
    },
    {
     "name": "stdout",
     "output_type": "stream",
     "text": [
      "Epoch [34/120], Loss: 1.7167, Val Accuracy: 0.4171\n"
     ]
    },
    {
     "data": {
      "application/vnd.jupyter.widget-view+json": {
       "model_id": "62b4bc7349764a05baad53a0df69cd4a",
       "version_major": 2,
       "version_minor": 0
      },
      "text/plain": [
       "Epoch 35/120:   0%|          | 0/44 [00:00<?, ?it/s]"
      ]
     },
     "metadata": {},
     "output_type": "display_data"
    },
    {
     "name": "stdout",
     "output_type": "stream",
     "text": [
      "Epoch [35/120], Loss: 1.7006, Val Accuracy: 0.4020\n"
     ]
    },
    {
     "data": {
      "application/vnd.jupyter.widget-view+json": {
       "model_id": "a1b6ee5c7a6c458dae3ebadca56699a1",
       "version_major": 2,
       "version_minor": 0
      },
      "text/plain": [
       "Epoch 36/120:   0%|          | 0/44 [00:00<?, ?it/s]"
      ]
     },
     "metadata": {},
     "output_type": "display_data"
    },
    {
     "name": "stdout",
     "output_type": "stream",
     "text": [
      "Epoch [36/120], Loss: 1.6900, Val Accuracy: 0.4171\n"
     ]
    },
    {
     "data": {
      "application/vnd.jupyter.widget-view+json": {
       "model_id": "26b51bc0a2154ea4b930f7392abff26a",
       "version_major": 2,
       "version_minor": 0
      },
      "text/plain": [
       "Epoch 37/120:   0%|          | 0/44 [00:00<?, ?it/s]"
      ]
     },
     "metadata": {},
     "output_type": "display_data"
    },
    {
     "name": "stdout",
     "output_type": "stream",
     "text": [
      "Epoch [37/120], Loss: 1.6698, Val Accuracy: 0.4171\n"
     ]
    },
    {
     "data": {
      "application/vnd.jupyter.widget-view+json": {
       "model_id": "1474a938c2bd481bb15d00dd01e450e5",
       "version_major": 2,
       "version_minor": 0
      },
      "text/plain": [
       "Epoch 38/120:   0%|          | 0/44 [00:00<?, ?it/s]"
      ]
     },
     "metadata": {},
     "output_type": "display_data"
    },
    {
     "name": "stdout",
     "output_type": "stream",
     "text": [
      "Epoch [38/120], Loss: 1.6879, Val Accuracy: 0.4322\n"
     ]
    },
    {
     "data": {
      "application/vnd.jupyter.widget-view+json": {
       "model_id": "3a0fa465ef56437bbacc2a0b2e10968c",
       "version_major": 2,
       "version_minor": 0
      },
      "text/plain": [
       "Epoch 39/120:   0%|          | 0/44 [00:00<?, ?it/s]"
      ]
     },
     "metadata": {},
     "output_type": "display_data"
    },
    {
     "name": "stdout",
     "output_type": "stream",
     "text": [
      "Epoch [39/120], Loss: 1.6668, Val Accuracy: 0.4472\n"
     ]
    },
    {
     "data": {
      "application/vnd.jupyter.widget-view+json": {
       "model_id": "2777fb53e04e4a3f95ed5cf86d388423",
       "version_major": 2,
       "version_minor": 0
      },
      "text/plain": [
       "Epoch 40/120:   0%|          | 0/44 [00:00<?, ?it/s]"
      ]
     },
     "metadata": {},
     "output_type": "display_data"
    },
    {
     "name": "stdout",
     "output_type": "stream",
     "text": [
      "Epoch [40/120], Loss: 1.6227, Val Accuracy: 0.3869\n"
     ]
    },
    {
     "data": {
      "application/vnd.jupyter.widget-view+json": {
       "model_id": "8e4e9c6695044aa19d3d2bfd5f201ecc",
       "version_major": 2,
       "version_minor": 0
      },
      "text/plain": [
       "Epoch 41/120:   0%|          | 0/44 [00:00<?, ?it/s]"
      ]
     },
     "metadata": {},
     "output_type": "display_data"
    },
    {
     "name": "stdout",
     "output_type": "stream",
     "text": [
      "Epoch [41/120], Loss: 1.6340, Val Accuracy: 0.4271\n"
     ]
    },
    {
     "data": {
      "application/vnd.jupyter.widget-view+json": {
       "model_id": "e3c0c84a9d5547a9b5604a8a9b66a25f",
       "version_major": 2,
       "version_minor": 0
      },
      "text/plain": [
       "Epoch 42/120:   0%|          | 0/44 [00:00<?, ?it/s]"
      ]
     },
     "metadata": {},
     "output_type": "display_data"
    },
    {
     "name": "stdout",
     "output_type": "stream",
     "text": [
      "Epoch [42/120], Loss: 1.6143, Val Accuracy: 0.4523\n"
     ]
    },
    {
     "data": {
      "application/vnd.jupyter.widget-view+json": {
       "model_id": "565e79b6450c41aa8c927ace520a3656",
       "version_major": 2,
       "version_minor": 0
      },
      "text/plain": [
       "Epoch 43/120:   0%|          | 0/44 [00:00<?, ?it/s]"
      ]
     },
     "metadata": {},
     "output_type": "display_data"
    },
    {
     "name": "stdout",
     "output_type": "stream",
     "text": [
      "Epoch [43/120], Loss: 1.5974, Val Accuracy: 0.4171\n"
     ]
    },
    {
     "data": {
      "application/vnd.jupyter.widget-view+json": {
       "model_id": "66b7fe5f33d542058881d26571b23be9",
       "version_major": 2,
       "version_minor": 0
      },
      "text/plain": [
       "Epoch 44/120:   0%|          | 0/44 [00:00<?, ?it/s]"
      ]
     },
     "metadata": {},
     "output_type": "display_data"
    },
    {
     "name": "stdout",
     "output_type": "stream",
     "text": [
      "Epoch [44/120], Loss: 1.5650, Val Accuracy: 0.4673\n"
     ]
    },
    {
     "data": {
      "application/vnd.jupyter.widget-view+json": {
       "model_id": "43034b2580914066856b791b4351089b",
       "version_major": 2,
       "version_minor": 0
      },
      "text/plain": [
       "Epoch 45/120:   0%|          | 0/44 [00:00<?, ?it/s]"
      ]
     },
     "metadata": {},
     "output_type": "display_data"
    },
    {
     "name": "stdout",
     "output_type": "stream",
     "text": [
      "Epoch [45/120], Loss: 1.5491, Val Accuracy: 0.4824\n"
     ]
    },
    {
     "data": {
      "application/vnd.jupyter.widget-view+json": {
       "model_id": "0a839e0c5bb74c9d8a9e81da4dbe1a9f",
       "version_major": 2,
       "version_minor": 0
      },
      "text/plain": [
       "Epoch 46/120:   0%|          | 0/44 [00:00<?, ?it/s]"
      ]
     },
     "metadata": {},
     "output_type": "display_data"
    },
    {
     "name": "stdout",
     "output_type": "stream",
     "text": [
      "Epoch [46/120], Loss: 1.5508, Val Accuracy: 0.4271\n"
     ]
    },
    {
     "data": {
      "application/vnd.jupyter.widget-view+json": {
       "model_id": "98405ff3c00e424cb2b59f2dc1c95fa5",
       "version_major": 2,
       "version_minor": 0
      },
      "text/plain": [
       "Epoch 47/120:   0%|          | 0/44 [00:00<?, ?it/s]"
      ]
     },
     "metadata": {},
     "output_type": "display_data"
    },
    {
     "name": "stdout",
     "output_type": "stream",
     "text": [
      "Epoch [47/120], Loss: 1.5364, Val Accuracy: 0.4171\n"
     ]
    },
    {
     "data": {
      "application/vnd.jupyter.widget-view+json": {
       "model_id": "bb90e979cb484785adea21f435f3a697",
       "version_major": 2,
       "version_minor": 0
      },
      "text/plain": [
       "Epoch 48/120:   0%|          | 0/44 [00:00<?, ?it/s]"
      ]
     },
     "metadata": {},
     "output_type": "display_data"
    },
    {
     "name": "stdout",
     "output_type": "stream",
     "text": [
      "Epoch [48/120], Loss: 1.5025, Val Accuracy: 0.4171\n"
     ]
    },
    {
     "data": {
      "application/vnd.jupyter.widget-view+json": {
       "model_id": "ee0051864a404a3ebcf19576a9b0b8a0",
       "version_major": 2,
       "version_minor": 0
      },
      "text/plain": [
       "Epoch 49/120:   0%|          | 0/44 [00:00<?, ?it/s]"
      ]
     },
     "metadata": {},
     "output_type": "display_data"
    },
    {
     "name": "stdout",
     "output_type": "stream",
     "text": [
      "Epoch [49/120], Loss: 1.5129, Val Accuracy: 0.4472\n"
     ]
    },
    {
     "data": {
      "application/vnd.jupyter.widget-view+json": {
       "model_id": "fd394f6ca88a44ae8ae07c999f282799",
       "version_major": 2,
       "version_minor": 0
      },
      "text/plain": [
       "Epoch 50/120:   0%|          | 0/44 [00:00<?, ?it/s]"
      ]
     },
     "metadata": {},
     "output_type": "display_data"
    },
    {
     "name": "stdout",
     "output_type": "stream",
     "text": [
      "Epoch [50/120], Loss: 1.4647, Val Accuracy: 0.4523\n"
     ]
    },
    {
     "data": {
      "application/vnd.jupyter.widget-view+json": {
       "model_id": "95357a06123f429691bfab85154bcc26",
       "version_major": 2,
       "version_minor": 0
      },
      "text/plain": [
       "Epoch 51/120:   0%|          | 0/44 [00:00<?, ?it/s]"
      ]
     },
     "metadata": {},
     "output_type": "display_data"
    },
    {
     "name": "stdout",
     "output_type": "stream",
     "text": [
      "Epoch [51/120], Loss: 1.4723, Val Accuracy: 0.4573\n"
     ]
    },
    {
     "data": {
      "application/vnd.jupyter.widget-view+json": {
       "model_id": "a7e8f2d0a5c34698890f5274e556d81c",
       "version_major": 2,
       "version_minor": 0
      },
      "text/plain": [
       "Epoch 52/120:   0%|          | 0/44 [00:00<?, ?it/s]"
      ]
     },
     "metadata": {},
     "output_type": "display_data"
    },
    {
     "name": "stdout",
     "output_type": "stream",
     "text": [
      "Epoch [52/120], Loss: 1.4440, Val Accuracy: 0.4623\n"
     ]
    },
    {
     "data": {
      "application/vnd.jupyter.widget-view+json": {
       "model_id": "68493e2a2b72460cae857c218cabac3f",
       "version_major": 2,
       "version_minor": 0
      },
      "text/plain": [
       "Epoch 53/120:   0%|          | 0/44 [00:00<?, ?it/s]"
      ]
     },
     "metadata": {},
     "output_type": "display_data"
    },
    {
     "name": "stdout",
     "output_type": "stream",
     "text": [
      "Epoch [53/120], Loss: 1.4073, Val Accuracy: 0.4472\n"
     ]
    },
    {
     "data": {
      "application/vnd.jupyter.widget-view+json": {
       "model_id": "86b335585c984aa3bee134e9fa185ac3",
       "version_major": 2,
       "version_minor": 0
      },
      "text/plain": [
       "Epoch 54/120:   0%|          | 0/44 [00:00<?, ?it/s]"
      ]
     },
     "metadata": {},
     "output_type": "display_data"
    },
    {
     "name": "stdout",
     "output_type": "stream",
     "text": [
      "Epoch [54/120], Loss: 1.4037, Val Accuracy: 0.4724\n"
     ]
    },
    {
     "data": {
      "application/vnd.jupyter.widget-view+json": {
       "model_id": "64b2a795abf34b71820f84a04abe542d",
       "version_major": 2,
       "version_minor": 0
      },
      "text/plain": [
       "Epoch 55/120:   0%|          | 0/44 [00:00<?, ?it/s]"
      ]
     },
     "metadata": {},
     "output_type": "display_data"
    },
    {
     "name": "stdout",
     "output_type": "stream",
     "text": [
      "Epoch [55/120], Loss: 1.4019, Val Accuracy: 0.4925\n"
     ]
    },
    {
     "data": {
      "application/vnd.jupyter.widget-view+json": {
       "model_id": "45996f44cd3d4ae1a26d449ef183bb76",
       "version_major": 2,
       "version_minor": 0
      },
      "text/plain": [
       "Epoch 56/120:   0%|          | 0/44 [00:00<?, ?it/s]"
      ]
     },
     "metadata": {},
     "output_type": "display_data"
    },
    {
     "name": "stdout",
     "output_type": "stream",
     "text": [
      "Epoch [56/120], Loss: 1.4076, Val Accuracy: 0.4623\n"
     ]
    },
    {
     "data": {
      "application/vnd.jupyter.widget-view+json": {
       "model_id": "159f0e08325b46ac9c4b56b7f1bdaca0",
       "version_major": 2,
       "version_minor": 0
      },
      "text/plain": [
       "Epoch 57/120:   0%|          | 0/44 [00:00<?, ?it/s]"
      ]
     },
     "metadata": {},
     "output_type": "display_data"
    },
    {
     "name": "stdout",
     "output_type": "stream",
     "text": [
      "Epoch [57/120], Loss: 1.3692, Val Accuracy: 0.4422\n"
     ]
    },
    {
     "data": {
      "application/vnd.jupyter.widget-view+json": {
       "model_id": "db8b235e945043538d368522940639ac",
       "version_major": 2,
       "version_minor": 0
      },
      "text/plain": [
       "Epoch 58/120:   0%|          | 0/44 [00:00<?, ?it/s]"
      ]
     },
     "metadata": {},
     "output_type": "display_data"
    },
    {
     "name": "stdout",
     "output_type": "stream",
     "text": [
      "Epoch [58/120], Loss: 1.3694, Val Accuracy: 0.4171\n"
     ]
    },
    {
     "data": {
      "application/vnd.jupyter.widget-view+json": {
       "model_id": "d9525f0d8e4b4d5a8436b9f30a841b68",
       "version_major": 2,
       "version_minor": 0
      },
      "text/plain": [
       "Epoch 59/120:   0%|          | 0/44 [00:00<?, ?it/s]"
      ]
     },
     "metadata": {},
     "output_type": "display_data"
    },
    {
     "name": "stdout",
     "output_type": "stream",
     "text": [
      "Epoch [59/120], Loss: 1.3384, Val Accuracy: 0.4774\n"
     ]
    },
    {
     "data": {
      "application/vnd.jupyter.widget-view+json": {
       "model_id": "0f214fbb1ea6464b9693787727da691f",
       "version_major": 2,
       "version_minor": 0
      },
      "text/plain": [
       "Epoch 60/120:   0%|          | 0/44 [00:00<?, ?it/s]"
      ]
     },
     "metadata": {},
     "output_type": "display_data"
    },
    {
     "name": "stdout",
     "output_type": "stream",
     "text": [
      "Epoch [60/120], Loss: 1.3259, Val Accuracy: 0.4322\n"
     ]
    },
    {
     "data": {
      "application/vnd.jupyter.widget-view+json": {
       "model_id": "90dc614b21fc41748e0402552566fd13",
       "version_major": 2,
       "version_minor": 0
      },
      "text/plain": [
       "Epoch 61/120:   0%|          | 0/44 [00:00<?, ?it/s]"
      ]
     },
     "metadata": {},
     "output_type": "display_data"
    },
    {
     "name": "stdout",
     "output_type": "stream",
     "text": [
      "Epoch [61/120], Loss: 1.3192, Val Accuracy: 0.4623\n"
     ]
    },
    {
     "data": {
      "application/vnd.jupyter.widget-view+json": {
       "model_id": "700f26e62a5a447aa1dce1a27480f9fa",
       "version_major": 2,
       "version_minor": 0
      },
      "text/plain": [
       "Epoch 62/120:   0%|          | 0/44 [00:00<?, ?it/s]"
      ]
     },
     "metadata": {},
     "output_type": "display_data"
    },
    {
     "name": "stdout",
     "output_type": "stream",
     "text": [
      "Epoch [62/120], Loss: 1.3140, Val Accuracy: 0.4573\n"
     ]
    },
    {
     "data": {
      "application/vnd.jupyter.widget-view+json": {
       "model_id": "debb711fa8414f1381c2b6e94c76fdec",
       "version_major": 2,
       "version_minor": 0
      },
      "text/plain": [
       "Epoch 63/120:   0%|          | 0/44 [00:00<?, ?it/s]"
      ]
     },
     "metadata": {},
     "output_type": "display_data"
    },
    {
     "name": "stdout",
     "output_type": "stream",
     "text": [
      "Epoch [63/120], Loss: 1.2901, Val Accuracy: 0.4322\n"
     ]
    },
    {
     "data": {
      "application/vnd.jupyter.widget-view+json": {
       "model_id": "cfa44ba1526649c4948cd3e1d3ab4f74",
       "version_major": 2,
       "version_minor": 0
      },
      "text/plain": [
       "Epoch 64/120:   0%|          | 0/44 [00:00<?, ?it/s]"
      ]
     },
     "metadata": {},
     "output_type": "display_data"
    },
    {
     "name": "stdout",
     "output_type": "stream",
     "text": [
      "Epoch [64/120], Loss: 1.2616, Val Accuracy: 0.4422\n"
     ]
    },
    {
     "data": {
      "application/vnd.jupyter.widget-view+json": {
       "model_id": "ec933ac336f84c368a599364ef5d027e",
       "version_major": 2,
       "version_minor": 0
      },
      "text/plain": [
       "Epoch 65/120:   0%|          | 0/44 [00:00<?, ?it/s]"
      ]
     },
     "metadata": {},
     "output_type": "display_data"
    },
    {
     "name": "stdout",
     "output_type": "stream",
     "text": [
      "Epoch [65/120], Loss: 1.2572, Val Accuracy: 0.4472\n"
     ]
    },
    {
     "data": {
      "application/vnd.jupyter.widget-view+json": {
       "model_id": "85231cb490a549d68586ad63aaa04046",
       "version_major": 2,
       "version_minor": 0
      },
      "text/plain": [
       "Epoch 66/120:   0%|          | 0/44 [00:00<?, ?it/s]"
      ]
     },
     "metadata": {},
     "output_type": "display_data"
    },
    {
     "name": "stdout",
     "output_type": "stream",
     "text": [
      "Epoch [66/120], Loss: 1.2380, Val Accuracy: 0.4724\n"
     ]
    },
    {
     "data": {
      "application/vnd.jupyter.widget-view+json": {
       "model_id": "061788410c2f4a5da8a99e753da40694",
       "version_major": 2,
       "version_minor": 0
      },
      "text/plain": [
       "Epoch 67/120:   0%|          | 0/44 [00:00<?, ?it/s]"
      ]
     },
     "metadata": {},
     "output_type": "display_data"
    },
    {
     "name": "stdout",
     "output_type": "stream",
     "text": [
      "Epoch [67/120], Loss: 1.2366, Val Accuracy: 0.4322\n"
     ]
    },
    {
     "data": {
      "application/vnd.jupyter.widget-view+json": {
       "model_id": "e992fab9417a43dfb3927987bacff635",
       "version_major": 2,
       "version_minor": 0
      },
      "text/plain": [
       "Epoch 68/120:   0%|          | 0/44 [00:00<?, ?it/s]"
      ]
     },
     "metadata": {},
     "output_type": "display_data"
    },
    {
     "name": "stdout",
     "output_type": "stream",
     "text": [
      "Epoch [68/120], Loss: 1.1995, Val Accuracy: 0.4824\n"
     ]
    },
    {
     "data": {
      "application/vnd.jupyter.widget-view+json": {
       "model_id": "3cc5b55eb0354927b1e18e236749ff66",
       "version_major": 2,
       "version_minor": 0
      },
      "text/plain": [
       "Epoch 69/120:   0%|          | 0/44 [00:00<?, ?it/s]"
      ]
     },
     "metadata": {},
     "output_type": "display_data"
    },
    {
     "name": "stdout",
     "output_type": "stream",
     "text": [
      "Epoch [69/120], Loss: 1.1865, Val Accuracy: 0.5075\n"
     ]
    },
    {
     "data": {
      "application/vnd.jupyter.widget-view+json": {
       "model_id": "d79d8a7a0bf34247b423a7a83ab1eca7",
       "version_major": 2,
       "version_minor": 0
      },
      "text/plain": [
       "Epoch 70/120:   0%|          | 0/44 [00:00<?, ?it/s]"
      ]
     },
     "metadata": {},
     "output_type": "display_data"
    },
    {
     "name": "stdout",
     "output_type": "stream",
     "text": [
      "Epoch [70/120], Loss: 1.1494, Val Accuracy: 0.4623\n"
     ]
    },
    {
     "data": {
      "application/vnd.jupyter.widget-view+json": {
       "model_id": "f8fdbf41e9f3418ca9e6fc15b9047fd9",
       "version_major": 2,
       "version_minor": 0
      },
      "text/plain": [
       "Epoch 71/120:   0%|          | 0/44 [00:00<?, ?it/s]"
      ]
     },
     "metadata": {},
     "output_type": "display_data"
    },
    {
     "name": "stdout",
     "output_type": "stream",
     "text": [
      "Epoch [71/120], Loss: 1.1527, Val Accuracy: 0.5075\n"
     ]
    },
    {
     "data": {
      "application/vnd.jupyter.widget-view+json": {
       "model_id": "f7d15139af794d438d9c0cf30dd1761e",
       "version_major": 2,
       "version_minor": 0
      },
      "text/plain": [
       "Epoch 72/120:   0%|          | 0/44 [00:00<?, ?it/s]"
      ]
     },
     "metadata": {},
     "output_type": "display_data"
    },
    {
     "name": "stdout",
     "output_type": "stream",
     "text": [
      "Epoch [72/120], Loss: 1.1308, Val Accuracy: 0.4925\n"
     ]
    },
    {
     "data": {
      "application/vnd.jupyter.widget-view+json": {
       "model_id": "ca46f8239f2240c2958e928edf70ebaa",
       "version_major": 2,
       "version_minor": 0
      },
      "text/plain": [
       "Epoch 73/120:   0%|          | 0/44 [00:00<?, ?it/s]"
      ]
     },
     "metadata": {},
     "output_type": "display_data"
    },
    {
     "name": "stdout",
     "output_type": "stream",
     "text": [
      "Epoch [73/120], Loss: 1.1243, Val Accuracy: 0.4774\n"
     ]
    },
    {
     "data": {
      "application/vnd.jupyter.widget-view+json": {
       "model_id": "ecc4626808e24846b58de916198b10d7",
       "version_major": 2,
       "version_minor": 0
      },
      "text/plain": [
       "Epoch 74/120:   0%|          | 0/44 [00:00<?, ?it/s]"
      ]
     },
     "metadata": {},
     "output_type": "display_data"
    },
    {
     "name": "stdout",
     "output_type": "stream",
     "text": [
      "Epoch [74/120], Loss: 1.1117, Val Accuracy: 0.4774\n"
     ]
    },
    {
     "data": {
      "application/vnd.jupyter.widget-view+json": {
       "model_id": "55c6486b1bf34239af1399edccdba658",
       "version_major": 2,
       "version_minor": 0
      },
      "text/plain": [
       "Epoch 75/120:   0%|          | 0/44 [00:00<?, ?it/s]"
      ]
     },
     "metadata": {},
     "output_type": "display_data"
    },
    {
     "name": "stdout",
     "output_type": "stream",
     "text": [
      "Epoch [75/120], Loss: 1.0948, Val Accuracy: 0.4874\n"
     ]
    },
    {
     "data": {
      "application/vnd.jupyter.widget-view+json": {
       "model_id": "69c5adee29de4487bc610ecc6bb6e8b7",
       "version_major": 2,
       "version_minor": 0
      },
      "text/plain": [
       "Epoch 76/120:   0%|          | 0/44 [00:00<?, ?it/s]"
      ]
     },
     "metadata": {},
     "output_type": "display_data"
    },
    {
     "name": "stdout",
     "output_type": "stream",
     "text": [
      "Epoch [76/120], Loss: 1.0534, Val Accuracy: 0.4322\n"
     ]
    },
    {
     "data": {
      "application/vnd.jupyter.widget-view+json": {
       "model_id": "50770192486245de9eb7507abcad1986",
       "version_major": 2,
       "version_minor": 0
      },
      "text/plain": [
       "Epoch 77/120:   0%|          | 0/44 [00:00<?, ?it/s]"
      ]
     },
     "metadata": {},
     "output_type": "display_data"
    },
    {
     "name": "stdout",
     "output_type": "stream",
     "text": [
      "Epoch [77/120], Loss: 1.0623, Val Accuracy: 0.4925\n"
     ]
    },
    {
     "data": {
      "application/vnd.jupyter.widget-view+json": {
       "model_id": "2c9938ea3d624bc6a883ee9495056bcb",
       "version_major": 2,
       "version_minor": 0
      },
      "text/plain": [
       "Epoch 78/120:   0%|          | 0/44 [00:00<?, ?it/s]"
      ]
     },
     "metadata": {},
     "output_type": "display_data"
    },
    {
     "name": "stdout",
     "output_type": "stream",
     "text": [
      "Epoch [78/120], Loss: 1.0487, Val Accuracy: 0.4623\n"
     ]
    },
    {
     "data": {
      "application/vnd.jupyter.widget-view+json": {
       "model_id": "b5a3f8cf4bb24e23a62218c1c800c4fb",
       "version_major": 2,
       "version_minor": 0
      },
      "text/plain": [
       "Epoch 79/120:   0%|          | 0/44 [00:00<?, ?it/s]"
      ]
     },
     "metadata": {},
     "output_type": "display_data"
    },
    {
     "name": "stdout",
     "output_type": "stream",
     "text": [
      "Epoch [79/120], Loss: 1.0362, Val Accuracy: 0.4472\n"
     ]
    },
    {
     "data": {
      "application/vnd.jupyter.widget-view+json": {
       "model_id": "8a19cea30110490aad7220e141b56d82",
       "version_major": 2,
       "version_minor": 0
      },
      "text/plain": [
       "Epoch 80/120:   0%|          | 0/44 [00:00<?, ?it/s]"
      ]
     },
     "metadata": {},
     "output_type": "display_data"
    },
    {
     "name": "stdout",
     "output_type": "stream",
     "text": [
      "Epoch [80/120], Loss: 1.0183, Val Accuracy: 0.4874\n"
     ]
    },
    {
     "data": {
      "application/vnd.jupyter.widget-view+json": {
       "model_id": "7270ed120b124d6a86a4fac80bbd6c59",
       "version_major": 2,
       "version_minor": 0
      },
      "text/plain": [
       "Epoch 81/120:   0%|          | 0/44 [00:00<?, ?it/s]"
      ]
     },
     "metadata": {},
     "output_type": "display_data"
    },
    {
     "name": "stdout",
     "output_type": "stream",
     "text": [
      "Epoch [81/120], Loss: 1.0098, Val Accuracy: 0.4824\n"
     ]
    },
    {
     "data": {
      "application/vnd.jupyter.widget-view+json": {
       "model_id": "9e6aab0cf9934a4092df1790d6a69cc5",
       "version_major": 2,
       "version_minor": 0
      },
      "text/plain": [
       "Epoch 82/120:   0%|          | 0/44 [00:00<?, ?it/s]"
      ]
     },
     "metadata": {},
     "output_type": "display_data"
    },
    {
     "name": "stdout",
     "output_type": "stream",
     "text": [
      "Epoch [82/120], Loss: 0.9939, Val Accuracy: 0.4623\n"
     ]
    },
    {
     "data": {
      "application/vnd.jupyter.widget-view+json": {
       "model_id": "46b3050df62f4e5e96e0d18038c6ea51",
       "version_major": 2,
       "version_minor": 0
      },
      "text/plain": [
       "Epoch 83/120:   0%|          | 0/44 [00:00<?, ?it/s]"
      ]
     },
     "metadata": {},
     "output_type": "display_data"
    },
    {
     "name": "stdout",
     "output_type": "stream",
     "text": [
      "Epoch [83/120], Loss: 0.9745, Val Accuracy: 0.4724\n"
     ]
    },
    {
     "data": {
      "application/vnd.jupyter.widget-view+json": {
       "model_id": "33e8cc158dbc46a39bbe28dd2717edfa",
       "version_major": 2,
       "version_minor": 0
      },
      "text/plain": [
       "Epoch 84/120:   0%|          | 0/44 [00:00<?, ?it/s]"
      ]
     },
     "metadata": {},
     "output_type": "display_data"
    },
    {
     "name": "stdout",
     "output_type": "stream",
     "text": [
      "Epoch [84/120], Loss: 0.9511, Val Accuracy: 0.4774\n"
     ]
    },
    {
     "data": {
      "application/vnd.jupyter.widget-view+json": {
       "model_id": "7d74e0f02fdb428b962392d865cef4a4",
       "version_major": 2,
       "version_minor": 0
      },
      "text/plain": [
       "Epoch 85/120:   0%|          | 0/44 [00:00<?, ?it/s]"
      ]
     },
     "metadata": {},
     "output_type": "display_data"
    },
    {
     "name": "stdout",
     "output_type": "stream",
     "text": [
      "Epoch [85/120], Loss: 0.9502, Val Accuracy: 0.4975\n"
     ]
    },
    {
     "data": {
      "application/vnd.jupyter.widget-view+json": {
       "model_id": "eae16fae64d5420d86677ea974beb9ff",
       "version_major": 2,
       "version_minor": 0
      },
      "text/plain": [
       "Epoch 86/120:   0%|          | 0/44 [00:00<?, ?it/s]"
      ]
     },
     "metadata": {},
     "output_type": "display_data"
    },
    {
     "name": "stdout",
     "output_type": "stream",
     "text": [
      "Epoch [86/120], Loss: 0.9360, Val Accuracy: 0.4573\n"
     ]
    },
    {
     "data": {
      "application/vnd.jupyter.widget-view+json": {
       "model_id": "f46af1cce0fe47afae0467f9feab2937",
       "version_major": 2,
       "version_minor": 0
      },
      "text/plain": [
       "Epoch 87/120:   0%|          | 0/44 [00:00<?, ?it/s]"
      ]
     },
     "metadata": {},
     "output_type": "display_data"
    },
    {
     "name": "stdout",
     "output_type": "stream",
     "text": [
      "Epoch [87/120], Loss: 0.9056, Val Accuracy: 0.4623\n"
     ]
    },
    {
     "data": {
      "application/vnd.jupyter.widget-view+json": {
       "model_id": "50843efc2c7f4901878323a55d98851d",
       "version_major": 2,
       "version_minor": 0
      },
      "text/plain": [
       "Epoch 88/120:   0%|          | 0/44 [00:00<?, ?it/s]"
      ]
     },
     "metadata": {},
     "output_type": "display_data"
    },
    {
     "name": "stdout",
     "output_type": "stream",
     "text": [
      "Epoch [88/120], Loss: 0.9023, Val Accuracy: 0.4925\n"
     ]
    },
    {
     "data": {
      "application/vnd.jupyter.widget-view+json": {
       "model_id": "3633182d397b460fa38519c9508b5779",
       "version_major": 2,
       "version_minor": 0
      },
      "text/plain": [
       "Epoch 89/120:   0%|          | 0/44 [00:00<?, ?it/s]"
      ]
     },
     "metadata": {},
     "output_type": "display_data"
    },
    {
     "name": "stdout",
     "output_type": "stream",
     "text": [
      "Epoch [89/120], Loss: 0.8747, Val Accuracy: 0.4523\n"
     ]
    },
    {
     "data": {
      "application/vnd.jupyter.widget-view+json": {
       "model_id": "8239f487ddb0424d8ab9b08800ec42fd",
       "version_major": 2,
       "version_minor": 0
      },
      "text/plain": [
       "Epoch 90/120:   0%|          | 0/44 [00:00<?, ?it/s]"
      ]
     },
     "metadata": {},
     "output_type": "display_data"
    },
    {
     "name": "stdout",
     "output_type": "stream",
     "text": [
      "Epoch [90/120], Loss: 0.8751, Val Accuracy: 0.3920\n"
     ]
    },
    {
     "data": {
      "application/vnd.jupyter.widget-view+json": {
       "model_id": "9d988b79a3084e71be618885a7d8eb81",
       "version_major": 2,
       "version_minor": 0
      },
      "text/plain": [
       "Epoch 91/120:   0%|          | 0/44 [00:00<?, ?it/s]"
      ]
     },
     "metadata": {},
     "output_type": "display_data"
    },
    {
     "name": "stdout",
     "output_type": "stream",
     "text": [
      "Epoch [91/120], Loss: 0.8816, Val Accuracy: 0.4271\n"
     ]
    },
    {
     "data": {
      "application/vnd.jupyter.widget-view+json": {
       "model_id": "3d4e1067a0e648e1a0ca0d55bfe90182",
       "version_major": 2,
       "version_minor": 0
      },
      "text/plain": [
       "Epoch 92/120:   0%|          | 0/44 [00:00<?, ?it/s]"
      ]
     },
     "metadata": {},
     "output_type": "display_data"
    },
    {
     "name": "stdout",
     "output_type": "stream",
     "text": [
      "Epoch [92/120], Loss: 0.8362, Val Accuracy: 0.4121\n"
     ]
    },
    {
     "data": {
      "application/vnd.jupyter.widget-view+json": {
       "model_id": "0ee9f2405bf448d08d7ff5773be6de98",
       "version_major": 2,
       "version_minor": 0
      },
      "text/plain": [
       "Epoch 93/120:   0%|          | 0/44 [00:00<?, ?it/s]"
      ]
     },
     "metadata": {},
     "output_type": "display_data"
    },
    {
     "name": "stdout",
     "output_type": "stream",
     "text": [
      "Epoch [93/120], Loss: 0.8200, Val Accuracy: 0.4774\n"
     ]
    },
    {
     "data": {
      "application/vnd.jupyter.widget-view+json": {
       "model_id": "ed460c69b1df49468f45e43acf6de0cb",
       "version_major": 2,
       "version_minor": 0
      },
      "text/plain": [
       "Epoch 94/120:   0%|          | 0/44 [00:00<?, ?it/s]"
      ]
     },
     "metadata": {},
     "output_type": "display_data"
    },
    {
     "name": "stdout",
     "output_type": "stream",
     "text": [
      "Epoch [94/120], Loss: 0.7990, Val Accuracy: 0.4573\n"
     ]
    },
    {
     "data": {
      "application/vnd.jupyter.widget-view+json": {
       "model_id": "9eee6bfc957a4ea8a4e9e5fc81178b6d",
       "version_major": 2,
       "version_minor": 0
      },
      "text/plain": [
       "Epoch 95/120:   0%|          | 0/44 [00:00<?, ?it/s]"
      ]
     },
     "metadata": {},
     "output_type": "display_data"
    },
    {
     "name": "stdout",
     "output_type": "stream",
     "text": [
      "Epoch [95/120], Loss: 0.8069, Val Accuracy: 0.4925\n"
     ]
    },
    {
     "data": {
      "application/vnd.jupyter.widget-view+json": {
       "model_id": "f693b7f79f9841cbb8afc6192a94f22b",
       "version_major": 2,
       "version_minor": 0
      },
      "text/plain": [
       "Epoch 96/120:   0%|          | 0/44 [00:00<?, ?it/s]"
      ]
     },
     "metadata": {},
     "output_type": "display_data"
    },
    {
     "name": "stdout",
     "output_type": "stream",
     "text": [
      "Epoch [96/120], Loss: 0.7920, Val Accuracy: 0.4724\n"
     ]
    },
    {
     "data": {
      "application/vnd.jupyter.widget-view+json": {
       "model_id": "82139eb7081f411097f85186288e811e",
       "version_major": 2,
       "version_minor": 0
      },
      "text/plain": [
       "Epoch 97/120:   0%|          | 0/44 [00:00<?, ?it/s]"
      ]
     },
     "metadata": {},
     "output_type": "display_data"
    },
    {
     "name": "stdout",
     "output_type": "stream",
     "text": [
      "Epoch [97/120], Loss: 0.7601, Val Accuracy: 0.4724\n"
     ]
    },
    {
     "data": {
      "application/vnd.jupyter.widget-view+json": {
       "model_id": "1a85d5d15c3a40efaacccf28dd0473c5",
       "version_major": 2,
       "version_minor": 0
      },
      "text/plain": [
       "Epoch 98/120:   0%|          | 0/44 [00:00<?, ?it/s]"
      ]
     },
     "metadata": {},
     "output_type": "display_data"
    },
    {
     "name": "stdout",
     "output_type": "stream",
     "text": [
      "Epoch [98/120], Loss: 0.7604, Val Accuracy: 0.4573\n"
     ]
    },
    {
     "data": {
      "application/vnd.jupyter.widget-view+json": {
       "model_id": "b58d693e8d4e4759b106f12295ec31d8",
       "version_major": 2,
       "version_minor": 0
      },
      "text/plain": [
       "Epoch 99/120:   0%|          | 0/44 [00:00<?, ?it/s]"
      ]
     },
     "metadata": {},
     "output_type": "display_data"
    },
    {
     "name": "stdout",
     "output_type": "stream",
     "text": [
      "Epoch [99/120], Loss: 0.7540, Val Accuracy: 0.4573\n"
     ]
    },
    {
     "data": {
      "application/vnd.jupyter.widget-view+json": {
       "model_id": "2fe4d71e973c48db9b4303d22161a581",
       "version_major": 2,
       "version_minor": 0
      },
      "text/plain": [
       "Epoch 100/120:   0%|          | 0/44 [00:00<?, ?it/s]"
      ]
     },
     "metadata": {},
     "output_type": "display_data"
    },
    {
     "name": "stdout",
     "output_type": "stream",
     "text": [
      "Epoch [100/120], Loss: 0.7377, Val Accuracy: 0.5176\n"
     ]
    },
    {
     "data": {
      "application/vnd.jupyter.widget-view+json": {
       "model_id": "3256e5e88f784e33a268e3e908592735",
       "version_major": 2,
       "version_minor": 0
      },
      "text/plain": [
       "Epoch 101/120:   0%|          | 0/44 [00:00<?, ?it/s]"
      ]
     },
     "metadata": {},
     "output_type": "display_data"
    },
    {
     "name": "stdout",
     "output_type": "stream",
     "text": [
      "Epoch [101/120], Loss: 0.7348, Val Accuracy: 0.4673\n"
     ]
    },
    {
     "data": {
      "application/vnd.jupyter.widget-view+json": {
       "model_id": "dcdb051420ef4d398ac19fe92684cecc",
       "version_major": 2,
       "version_minor": 0
      },
      "text/plain": [
       "Epoch 102/120:   0%|          | 0/44 [00:00<?, ?it/s]"
      ]
     },
     "metadata": {},
     "output_type": "display_data"
    },
    {
     "name": "stdout",
     "output_type": "stream",
     "text": [
      "Epoch [102/120], Loss: 0.7119, Val Accuracy: 0.4824\n"
     ]
    },
    {
     "data": {
      "application/vnd.jupyter.widget-view+json": {
       "model_id": "6aa046944f094bd38365457d7992e189",
       "version_major": 2,
       "version_minor": 0
      },
      "text/plain": [
       "Epoch 103/120:   0%|          | 0/44 [00:00<?, ?it/s]"
      ]
     },
     "metadata": {},
     "output_type": "display_data"
    },
    {
     "name": "stdout",
     "output_type": "stream",
     "text": [
      "Epoch [103/120], Loss: 0.6621, Val Accuracy: 0.4925\n"
     ]
    },
    {
     "data": {
      "application/vnd.jupyter.widget-view+json": {
       "model_id": "2f735ec9cfaa481a8a717ddc5a9cc86a",
       "version_major": 2,
       "version_minor": 0
      },
      "text/plain": [
       "Epoch 104/120:   0%|          | 0/44 [00:00<?, ?it/s]"
      ]
     },
     "metadata": {},
     "output_type": "display_data"
    },
    {
     "name": "stdout",
     "output_type": "stream",
     "text": [
      "Epoch [104/120], Loss: 0.6680, Val Accuracy: 0.5075\n"
     ]
    },
    {
     "data": {
      "application/vnd.jupyter.widget-view+json": {
       "model_id": "588fc28b39c34f039b80ff04ba2ec1a3",
       "version_major": 2,
       "version_minor": 0
      },
      "text/plain": [
       "Epoch 105/120:   0%|          | 0/44 [00:00<?, ?it/s]"
      ]
     },
     "metadata": {},
     "output_type": "display_data"
    },
    {
     "name": "stdout",
     "output_type": "stream",
     "text": [
      "Epoch [105/120], Loss: 0.6422, Val Accuracy: 0.4874\n"
     ]
    },
    {
     "data": {
      "application/vnd.jupyter.widget-view+json": {
       "model_id": "e94f696ff8e642188125363b463c8761",
       "version_major": 2,
       "version_minor": 0
      },
      "text/plain": [
       "Epoch 106/120:   0%|          | 0/44 [00:00<?, ?it/s]"
      ]
     },
     "metadata": {},
     "output_type": "display_data"
    },
    {
     "name": "stdout",
     "output_type": "stream",
     "text": [
      "Epoch [106/120], Loss: 0.6444, Val Accuracy: 0.4874\n"
     ]
    },
    {
     "data": {
      "application/vnd.jupyter.widget-view+json": {
       "model_id": "1b8fc52e6ac54ac5b4b12cbe9e1d7557",
       "version_major": 2,
       "version_minor": 0
      },
      "text/plain": [
       "Epoch 107/120:   0%|          | 0/44 [00:00<?, ?it/s]"
      ]
     },
     "metadata": {},
     "output_type": "display_data"
    },
    {
     "name": "stdout",
     "output_type": "stream",
     "text": [
      "Epoch [107/120], Loss: 0.6440, Val Accuracy: 0.4925\n"
     ]
    },
    {
     "data": {
      "application/vnd.jupyter.widget-view+json": {
       "model_id": "e54ecf6834654551a3abf7d2e409a0a1",
       "version_major": 2,
       "version_minor": 0
      },
      "text/plain": [
       "Epoch 108/120:   0%|          | 0/44 [00:00<?, ?it/s]"
      ]
     },
     "metadata": {},
     "output_type": "display_data"
    },
    {
     "name": "stdout",
     "output_type": "stream",
     "text": [
      "Epoch [108/120], Loss: 0.6143, Val Accuracy: 0.4925\n"
     ]
    },
    {
     "data": {
      "application/vnd.jupyter.widget-view+json": {
       "model_id": "219fd3368b0b4255b6c4958923eb0cac",
       "version_major": 2,
       "version_minor": 0
      },
      "text/plain": [
       "Epoch 109/120:   0%|          | 0/44 [00:00<?, ?it/s]"
      ]
     },
     "metadata": {},
     "output_type": "display_data"
    },
    {
     "name": "stdout",
     "output_type": "stream",
     "text": [
      "Epoch [109/120], Loss: 0.5893, Val Accuracy: 0.4874\n"
     ]
    },
    {
     "data": {
      "application/vnd.jupyter.widget-view+json": {
       "model_id": "167fcf1b4cbb409782841beb976b876e",
       "version_major": 2,
       "version_minor": 0
      },
      "text/plain": [
       "Epoch 110/120:   0%|          | 0/44 [00:00<?, ?it/s]"
      ]
     },
     "metadata": {},
     "output_type": "display_data"
    },
    {
     "name": "stdout",
     "output_type": "stream",
     "text": [
      "Epoch [110/120], Loss: 0.5969, Val Accuracy: 0.4774\n"
     ]
    },
    {
     "data": {
      "application/vnd.jupyter.widget-view+json": {
       "model_id": "457c19b3c4e24517b10ac91a7ba89c03",
       "version_major": 2,
       "version_minor": 0
      },
      "text/plain": [
       "Epoch 111/120:   0%|          | 0/44 [00:00<?, ?it/s]"
      ]
     },
     "metadata": {},
     "output_type": "display_data"
    },
    {
     "name": "stdout",
     "output_type": "stream",
     "text": [
      "Epoch [111/120], Loss: 0.5912, Val Accuracy: 0.4623\n"
     ]
    },
    {
     "data": {
      "application/vnd.jupyter.widget-view+json": {
       "model_id": "c1ef1acf65004cbd976e2fa065f944da",
       "version_major": 2,
       "version_minor": 0
      },
      "text/plain": [
       "Epoch 112/120:   0%|          | 0/44 [00:00<?, ?it/s]"
      ]
     },
     "metadata": {},
     "output_type": "display_data"
    },
    {
     "name": "stdout",
     "output_type": "stream",
     "text": [
      "Epoch [112/120], Loss: 0.5437, Val Accuracy: 0.4673\n"
     ]
    },
    {
     "data": {
      "application/vnd.jupyter.widget-view+json": {
       "model_id": "35c97cd74941482fb945f78164636587",
       "version_major": 2,
       "version_minor": 0
      },
      "text/plain": [
       "Epoch 113/120:   0%|          | 0/44 [00:00<?, ?it/s]"
      ]
     },
     "metadata": {},
     "output_type": "display_data"
    },
    {
     "name": "stdout",
     "output_type": "stream",
     "text": [
      "Epoch [113/120], Loss: 0.5313, Val Accuracy: 0.4673\n"
     ]
    },
    {
     "data": {
      "application/vnd.jupyter.widget-view+json": {
       "model_id": "afdd2b2b1b524fdc8d780c94cc218adf",
       "version_major": 2,
       "version_minor": 0
      },
      "text/plain": [
       "Epoch 114/120:   0%|          | 0/44 [00:00<?, ?it/s]"
      ]
     },
     "metadata": {},
     "output_type": "display_data"
    },
    {
     "name": "stdout",
     "output_type": "stream",
     "text": [
      "Epoch [114/120], Loss: 0.5253, Val Accuracy: 0.4925\n"
     ]
    },
    {
     "data": {
      "application/vnd.jupyter.widget-view+json": {
       "model_id": "b9d32996c1204e4ea5fa6e2539f33fa2",
       "version_major": 2,
       "version_minor": 0
      },
      "text/plain": [
       "Epoch 115/120:   0%|          | 0/44 [00:00<?, ?it/s]"
      ]
     },
     "metadata": {},
     "output_type": "display_data"
    },
    {
     "name": "stdout",
     "output_type": "stream",
     "text": [
      "Epoch [115/120], Loss: 0.5185, Val Accuracy: 0.4975\n"
     ]
    },
    {
     "data": {
      "application/vnd.jupyter.widget-view+json": {
       "model_id": "88f82637ccc24e1f8f4ed78306fde531",
       "version_major": 2,
       "version_minor": 0
      },
      "text/plain": [
       "Epoch 116/120:   0%|          | 0/44 [00:00<?, ?it/s]"
      ]
     },
     "metadata": {},
     "output_type": "display_data"
    },
    {
     "name": "stdout",
     "output_type": "stream",
     "text": [
      "Epoch [116/120], Loss: 0.5449, Val Accuracy: 0.5075\n"
     ]
    },
    {
     "data": {
      "application/vnd.jupyter.widget-view+json": {
       "model_id": "ce7da99cea71466bb305fe8b236b6c47",
       "version_major": 2,
       "version_minor": 0
      },
      "text/plain": [
       "Epoch 117/120:   0%|          | 0/44 [00:00<?, ?it/s]"
      ]
     },
     "metadata": {},
     "output_type": "display_data"
    },
    {
     "name": "stdout",
     "output_type": "stream",
     "text": [
      "Epoch [117/120], Loss: 0.5138, Val Accuracy: 0.4975\n"
     ]
    },
    {
     "data": {
      "application/vnd.jupyter.widget-view+json": {
       "model_id": "4b34c0b1daa447ca95eac6f4ea4caf46",
       "version_major": 2,
       "version_minor": 0
      },
      "text/plain": [
       "Epoch 118/120:   0%|          | 0/44 [00:00<?, ?it/s]"
      ]
     },
     "metadata": {},
     "output_type": "display_data"
    },
    {
     "name": "stdout",
     "output_type": "stream",
     "text": [
      "Epoch [118/120], Loss: 0.4858, Val Accuracy: 0.4774\n"
     ]
    },
    {
     "data": {
      "application/vnd.jupyter.widget-view+json": {
       "model_id": "64b49d25f0e1456dbad113b203d99872",
       "version_major": 2,
       "version_minor": 0
      },
      "text/plain": [
       "Epoch 119/120:   0%|          | 0/44 [00:00<?, ?it/s]"
      ]
     },
     "metadata": {},
     "output_type": "display_data"
    },
    {
     "name": "stdout",
     "output_type": "stream",
     "text": [
      "Epoch [119/120], Loss: 0.4792, Val Accuracy: 0.4724\n"
     ]
    },
    {
     "data": {
      "application/vnd.jupyter.widget-view+json": {
       "model_id": "c054a2928b284f7590b8989a4ef865b2",
       "version_major": 2,
       "version_minor": 0
      },
      "text/plain": [
       "Epoch 120/120:   0%|          | 0/44 [00:00<?, ?it/s]"
      ]
     },
     "metadata": {},
     "output_type": "display_data"
    },
    {
     "name": "stdout",
     "output_type": "stream",
     "text": [
      "Epoch [120/120], Loss: 0.4706, Val Accuracy: 0.5025\n"
     ]
    }
   ],
   "source": [
    "import torch\n",
    "import torch.nn as nn\n",
    "import torch.optim as optim\n",
    "from torch.utils.data import DataLoader\n",
    "from tqdm.auto import tqdm\n",
    "\n",
    "class MusicGenreLSTM(nn.Module):\n",
    "    def __init__(self, input_size, hidden_size, num_layers, num_classes, dropout_rate=0.5):\n",
    "        super(MusicGenreLSTM, self).__init__()\n",
    "        self.lstm = nn.LSTM(input_size=input_size, hidden_size=hidden_size, \n",
    "                            num_layers=num_layers, batch_first=True, dropout=dropout_rate)\n",
    "        self.batch_norm = nn.BatchNorm1d(hidden_size)  #Batch normalization\n",
    "        self.dropout = nn.Dropout(dropout_rate)\n",
    "        self.fc = nn.Linear(in_features=hidden_size, out_features=num_classes)\n",
    "        self.relu = nn.ReLU()  #ReLU activation function\n",
    "\n",
    "    def forward(self, x):\n",
    "        x = x.squeeze(1).transpose(1, 2)  #dimensions for LSTM\n",
    "        _, (hn, _) = self.lstm(x)\n",
    "        hn = self.relu(hn[-1, :, :])  #ReLU after LSTM\n",
    "        hn = self.batch_norm(hn)  #Apply batch normalization\n",
    "        hn = self.dropout(hn)\n",
    "        out = self.fc(hn)\n",
    "        return out\n",
    "\n",
    "#model1\n",
    "model1 = MusicGenreLSTM(input_size=128, hidden_size=256, num_layers=2, num_classes=10, dropout_rate=0.3).cuda()\n",
    "\n",
    "loss_fn = nn.CrossEntropyLoss()\n",
    "optimizer = optim.Adam(model1.parameters(), lr=0.00005) #best lr i tried\n",
    "\n",
    "def calculate_accuracy(loader, model):\n",
    "    model.eval()\n",
    "    correct = 0\n",
    "    total = 0\n",
    "    with torch.no_grad():\n",
    "        for features, labels in loader:\n",
    "            features, labels = features.cuda(), labels.cuda()\n",
    "            outputs = model(features)\n",
    "            _, predicted = torch.max(outputs.data, 1)\n",
    "            total += labels.size(0)\n",
    "            correct += (predicted == labels).sum().item()\n",
    "    accuracy = correct / total\n",
    "    model.train()\n",
    "    return accuracy\n",
    "\n",
    "def train(model, train_loader, val_loader, epochs, loss_fn, optimizer):\n",
    "    for epoch in range(epochs):\n",
    "        model.train()\n",
    "        total_loss = 0\n",
    "        for features, labels in tqdm(train_loader, desc=f\"Epoch {epoch+1}/{epochs}\"):\n",
    "            features, labels = features.cuda(), labels.cuda()\n",
    "            optimizer.zero_grad()\n",
    "            outputs = model(features)\n",
    "            loss = loss_fn(outputs, labels)\n",
    "            loss.backward()\n",
    "            torch.nn.utils.clip_grad_norm_(model.parameters(), max_norm=1)\n",
    "            optimizer.step()\n",
    "            total_loss += loss.item()\n",
    "\n",
    "      \n",
    "        val_accuracy = calculate_accuracy(val_loader, model)\n",
    "        print(f\"Epoch [{epoch+1}/{epochs}], Loss: {total_loss/len(train_loader):.4f}, Val Accuracy: {val_accuracy:.4f}\")\n",
    "\n",
    "\n",
    "train(model1, enhanced_data_loader, val_loader, epochs=120, loss_fn=loss_fn, optimizer=optimizer) #120epochs"
   ]
  },
  {
   "cell_type": "code",
   "execution_count": 167,
   "id": "1837d845",
   "metadata": {},
   "outputs": [
    {
     "name": "stdout",
     "output_type": "stream",
     "text": [
      "Test Accuracy: 0.5842\n"
     ]
    }
   ],
   "source": [
    "def test_model(model, test_loader):\n",
    "    model.eval()  #evaluation mode\n",
    "    correct = 0\n",
    "    total = 0\n",
    "    with torch.no_grad():\n",
    "        for features, labels in test_loader:\n",
    "            features, labels = features.cuda(), labels.cuda()\n",
    "            outputs = model(features)\n",
    "            _, predicted = torch.max(outputs.data, 1)\n",
    "            total += labels.size(0)\n",
    "            correct += (predicted == labels).sum().item()\n",
    "    test_accuracy = correct / total\n",
    "    print(f'Test Accuracy: {test_accuracy:.4f}')\n",
    "    return test_accuracy\n",
    "\n",
    "test_accuracy = test_model(model1, test_loader)"
   ]
  },
  {
   "cell_type": "code",
   "execution_count": 169,
   "id": "19758894",
   "metadata": {},
   "outputs": [
    {
     "data": {
      "text/plain": [
       "Text(95.72222222222221, 0.5, 'True Labels')"
      ]
     },
     "execution_count": 169,
     "metadata": {},
     "output_type": "execute_result"
    },
    {
     "data": {
      "image/png": "[encoded data removed]",
      "text/plain": [
       "<Figure size 1000x800 with 2 Axes>"
      ]
     },
     "metadata": {},
     "output_type": "display_data"
    }
   ],
   "source": [
    "from torchmetrics import ConfusionMatrix\n",
    "import matplotlib.pyplot as plt\n",
    "import seaborn as sns\n",
    "\n",
    "def get_confusion_matrix(model1, loader, num_classes):\n",
    "    model.eval()\n",
    "  \n",
    "    confusion_matrix = ConfusionMatrix(num_classes=num_classes, task='multiclass')\n",
    "    confusion_matrix = confusion_matrix.to('cuda') \n",
    "    with torch.no_grad():\n",
    "        for features, labels in loader:\n",
    "            features, labels = features.cuda(), labels.cuda()\n",
    "            outputs = model(features)\n",
    "            _, preds = torch.max(outputs, 1)\n",
    "            confusion_matrix.update(preds, labels)\n",
    "    cm = confusion_matrix.compute()\n",
    "    return cm.cpu().numpy()  #for easy use with seaborn\n",
    "\n",
    "\n",
    "num_classes = 10 \n",
    "model1.cuda() \n",
    "\n",
    "#confusion matrix\n",
    "conf_matrix = get_confusion_matrix(model1, test_loader, num_classes)\n",
    "\n",
    "#plot the confusion matrix\n",
    "plt.figure(figsize=(10, 8))\n",
    "music_categories = ['blues', 'classical', 'country', 'disco', 'hiphop', 'jazz', 'metal', 'pop', 'reggae', 'rock']\n",
    "sns.heatmap(conf_matrix, annot=True, fmt=\"d\", xticklabels=music_categories, yticklabels=music_categories)\n",
    "plt.title('Confusion Matrix')\n",
    "plt.xlabel('Predicted Labels')\n",
    "plt.ylabel('True Labels')"
   ]
  },
  {
   "cell_type": "markdown",
   "id": "253a32d9",
   "metadata": {},
   "source": [
    "# Try to generate 1500 data"
   ]
  },
  {
   "cell_type": "code",
   "execution_count": 162,
   "id": "516cf833",
   "metadata": {},
   "outputs": [],
   "source": [
    "#150 for every categories\n",
    "num_new_samples = 150\n",
    "\n",
    "z_dim = 150\n",
    "\n",
    "generator.eval()  #evaluation mode\n",
    "\n",
    "num_classes = 10  \n",
    "generated_spectrograms1 = []\n",
    "generated_labels1 = []\n",
    "\n",
    "for class_label in range(num_classes):\n",
    "    noise = torch.randn(num_new_samples, z_dim).cuda()\n",
    "    class_spectrograms1 = generator(noise).detach().cpu()\n",
    "    class_labels1 = torch.full((num_new_samples,), class_label, dtype=torch.long)\n",
    "    \n",
    "    generated_spectrograms1.append(class_spectrograms1)\n",
    "    generated_labels1.append(class_labels1)\n",
    "\n",
    "#link all generate data\n",
    "generated_spectrograms1 = torch.cat(generated_spectrograms1, dim=0)\n",
    "generated_labels1 = torch.cat(generated_labels1, dim=0)\n",
    "\n",
    "#TensorDataset\n",
    "generated_dataset1 = TensorDataset(generated_spectrograms1, generated_labels1)"
   ]
  },
  {
   "cell_type": "code",
   "execution_count": 163,
   "id": "9f03fc33",
   "metadata": {},
   "outputs": [],
   "source": [
    "from torch.utils.data import ConcatDataset\n",
    "\n",
    "enhanced_dataset1 = ConcatDataset([train_dataset, generated_dataset1])\n",
    "\n",
    "\n",
    "enhanced_data_loader1 = DataLoader(enhanced_dataset1, batch_size=32, shuffle=True)\n"
   ]
  },
  {
   "cell_type": "code",
   "execution_count": 164,
   "id": "10603007",
   "metadata": {},
   "outputs": [
    {
     "name": "stdout",
     "output_type": "stream",
     "text": [
      "Original train dataset size: 699\n",
      "Generated dataset size: 1500\n",
      "Enhanced dataset size: 2199\n"
     ]
    }
   ],
   "source": [
    "print(f\"Original train dataset size: {len(train_dataset)}\")\n",
    "print(f\"Generated dataset size: {len(generated_dataset1)}\")\n",
    "print(f\"Enhanced dataset size: {len(enhanced_dataset1)}\")"
   ]
  },
  {
   "cell_type": "code",
   "execution_count": 166,
   "id": "031e1b57",
   "metadata": {},
   "outputs": [
    {
     "data": {
      "application/vnd.jupyter.widget-view+json": {
       "model_id": "ce6d277db43d430480207df6483c0c0d",
       "version_major": 2,
       "version_minor": 0
      },
      "text/plain": [
       "Epoch 1/120:   0%|          | 0/69 [00:00<?, ?it/s]"
      ]
     },
     "metadata": {},
     "output_type": "display_data"
    },
    {
     "name": "stdout",
     "output_type": "stream",
     "text": [
      "Epoch [1/120], Loss: 2.4052, Val Accuracy: 0.2261\n"
     ]
    },
    {
     "data": {
      "application/vnd.jupyter.widget-view+json": {
       "model_id": "39ed9d39d9674b26bcdb62e74293a527",
       "version_major": 2,
       "version_minor": 0
      },
      "text/plain": [
       "Epoch 2/120:   0%|          | 0/69 [00:00<?, ?it/s]"
      ]
     },
     "metadata": {},
     "output_type": "display_data"
    },
    {
     "name": "stdout",
     "output_type": "stream",
     "text": [
      "Epoch [2/120], Loss: 2.3105, Val Accuracy: 0.3417\n"
     ]
    },
    {
     "data": {
      "application/vnd.jupyter.widget-view+json": {
       "model_id": "9de88a0f050d42c9b1907fa29ff1abd9",
       "version_major": 2,
       "version_minor": 0
      },
      "text/plain": [
       "Epoch 3/120:   0%|          | 0/69 [00:00<?, ?it/s]"
      ]
     },
     "metadata": {},
     "output_type": "display_data"
    },
    {
     "name": "stdout",
     "output_type": "stream",
     "text": [
      "Epoch [3/120], Loss: 2.2905, Val Accuracy: 0.3015\n"
     ]
    },
    {
     "data": {
      "application/vnd.jupyter.widget-view+json": {
       "model_id": "2d2eae57694f449587d342136dff6854",
       "version_major": 2,
       "version_minor": 0
      },
      "text/plain": [
       "Epoch 4/120:   0%|          | 0/69 [00:00<?, ?it/s]"
      ]
     },
     "metadata": {},
     "output_type": "display_data"
    },
    {
     "name": "stdout",
     "output_type": "stream",
     "text": [
      "Epoch [4/120], Loss: 2.2673, Val Accuracy: 0.2915\n"
     ]
    },
    {
     "data": {
      "application/vnd.jupyter.widget-view+json": {
       "model_id": "6f30f993624e47eca7e87ea6f969c0e0",
       "version_major": 2,
       "version_minor": 0
      },
      "text/plain": [
       "Epoch 5/120:   0%|          | 0/69 [00:00<?, ?it/s]"
      ]
     },
     "metadata": {},
     "output_type": "display_data"
    },
    {
     "name": "stdout",
     "output_type": "stream",
     "text": [
      "Epoch [5/120], Loss: 2.2555, Val Accuracy: 0.2915\n"
     ]
    },
    {
     "data": {
      "application/vnd.jupyter.widget-view+json": {
       "model_id": "dc5051c70a654f278a40b33e17bacf06",
       "version_major": 2,
       "version_minor": 0
      },
      "text/plain": [
       "Epoch 6/120:   0%|          | 0/69 [00:00<?, ?it/s]"
      ]
     },
     "metadata": {},
     "output_type": "display_data"
    },
    {
     "name": "stdout",
     "output_type": "stream",
     "text": [
      "Epoch [6/120], Loss: 2.2350, Val Accuracy: 0.3216\n"
     ]
    },
    {
     "data": {
      "application/vnd.jupyter.widget-view+json": {
       "model_id": "5a2272f1921f435b906c668456a73777",
       "version_major": 2,
       "version_minor": 0
      },
      "text/plain": [
       "Epoch 7/120:   0%|          | 0/69 [00:00<?, ?it/s]"
      ]
     },
     "metadata": {},
     "output_type": "display_data"
    },
    {
     "name": "stdout",
     "output_type": "stream",
     "text": [
      "Epoch [7/120], Loss: 2.2185, Val Accuracy: 0.2915\n"
     ]
    },
    {
     "data": {
      "application/vnd.jupyter.widget-view+json": {
       "model_id": "d175e61e29114bb0b842620745a0934d",
       "version_major": 2,
       "version_minor": 0
      },
      "text/plain": [
       "Epoch 8/120:   0%|          | 0/69 [00:00<?, ?it/s]"
      ]
     },
     "metadata": {},
     "output_type": "display_data"
    },
    {
     "name": "stdout",
     "output_type": "stream",
     "text": [
      "Epoch [8/120], Loss: 2.2015, Val Accuracy: 0.3065\n"
     ]
    },
    {
     "data": {
      "application/vnd.jupyter.widget-view+json": {
       "model_id": "427487b1b480448b9ec443668f55ac24",
       "version_major": 2,
       "version_minor": 0
      },
      "text/plain": [
       "Epoch 9/120:   0%|          | 0/69 [00:00<?, ?it/s]"
      ]
     },
     "metadata": {},
     "output_type": "display_data"
    },
    {
     "name": "stdout",
     "output_type": "stream",
     "text": [
      "Epoch [9/120], Loss: 2.1965, Val Accuracy: 0.3417\n"
     ]
    },
    {
     "data": {
      "application/vnd.jupyter.widget-view+json": {
       "model_id": "6ad239131ac744bcadb003bf1054483c",
       "version_major": 2,
       "version_minor": 0
      },
      "text/plain": [
       "Epoch 10/120:   0%|          | 0/69 [00:00<?, ?it/s]"
      ]
     },
     "metadata": {},
     "output_type": "display_data"
    },
    {
     "name": "stdout",
     "output_type": "stream",
     "text": [
      "Epoch [10/120], Loss: 2.1768, Val Accuracy: 0.3266\n"
     ]
    },
    {
     "data": {
      "application/vnd.jupyter.widget-view+json": {
       "model_id": "11204cce2c524117b299a55d810f4fa7",
       "version_major": 2,
       "version_minor": 0
      },
      "text/plain": [
       "Epoch 11/120:   0%|          | 0/69 [00:00<?, ?it/s]"
      ]
     },
     "metadata": {},
     "output_type": "display_data"
    },
    {
     "name": "stdout",
     "output_type": "stream",
     "text": [
      "Epoch [11/120], Loss: 2.1643, Val Accuracy: 0.2965\n"
     ]
    },
    {
     "data": {
      "application/vnd.jupyter.widget-view+json": {
       "model_id": "a9c64de3264f45148d0b35920ca171fc",
       "version_major": 2,
       "version_minor": 0
      },
      "text/plain": [
       "Epoch 12/120:   0%|          | 0/69 [00:00<?, ?it/s]"
      ]
     },
     "metadata": {},
     "output_type": "display_data"
    },
    {
     "name": "stdout",
     "output_type": "stream",
     "text": [
      "Epoch [12/120], Loss: 2.1604, Val Accuracy: 0.3367\n"
     ]
    },
    {
     "data": {
      "application/vnd.jupyter.widget-view+json": {
       "model_id": "1961584c3a2c401dbd8feccbbecc8bc4",
       "version_major": 2,
       "version_minor": 0
      },
      "text/plain": [
       "Epoch 13/120:   0%|          | 0/69 [00:00<?, ?it/s]"
      ]
     },
     "metadata": {},
     "output_type": "display_data"
    },
    {
     "name": "stdout",
     "output_type": "stream",
     "text": [
      "Epoch [13/120], Loss: 2.1671, Val Accuracy: 0.3015\n"
     ]
    },
    {
     "data": {
      "application/vnd.jupyter.widget-view+json": {
       "model_id": "f2158056992441e287db90acf53fb0fa",
       "version_major": 2,
       "version_minor": 0
      },
      "text/plain": [
       "Epoch 14/120:   0%|          | 0/69 [00:00<?, ?it/s]"
      ]
     },
     "metadata": {},
     "output_type": "display_data"
    },
    {
     "name": "stdout",
     "output_type": "stream",
     "text": [
      "Epoch [14/120], Loss: 2.1508, Val Accuracy: 0.3367\n"
     ]
    },
    {
     "data": {
      "application/vnd.jupyter.widget-view+json": {
       "model_id": "412a22bd9c6a4a04b9edcd08eddce11f",
       "version_major": 2,
       "version_minor": 0
      },
      "text/plain": [
       "Epoch 15/120:   0%|          | 0/69 [00:00<?, ?it/s]"
      ]
     },
     "metadata": {},
     "output_type": "display_data"
    },
    {
     "name": "stdout",
     "output_type": "stream",
     "text": [
      "Epoch [15/120], Loss: 2.1391, Val Accuracy: 0.3467\n"
     ]
    },
    {
     "data": {
      "application/vnd.jupyter.widget-view+json": {
       "model_id": "2618da87bef94fd8a728c81cbc8986f5",
       "version_major": 2,
       "version_minor": 0
      },
      "text/plain": [
       "Epoch 16/120:   0%|          | 0/69 [00:00<?, ?it/s]"
      ]
     },
     "metadata": {},
     "output_type": "display_data"
    },
    {
     "name": "stdout",
     "output_type": "stream",
     "text": [
      "Epoch [16/120], Loss: 2.1080, Val Accuracy: 0.3618\n"
     ]
    },
    {
     "data": {
      "application/vnd.jupyter.widget-view+json": {
       "model_id": "dfc76b6adae44b688cb10f2ca34f201e",
       "version_major": 2,
       "version_minor": 0
      },
      "text/plain": [
       "Epoch 17/120:   0%|          | 0/69 [00:00<?, ?it/s]"
      ]
     },
     "metadata": {},
     "output_type": "display_data"
    },
    {
     "name": "stdout",
     "output_type": "stream",
     "text": [
      "Epoch [17/120], Loss: 2.1024, Val Accuracy: 0.3216\n"
     ]
    },
    {
     "data": {
      "application/vnd.jupyter.widget-view+json": {
       "model_id": "f8b764b78f794f8f81cdfbd7a435f1b4",
       "version_major": 2,
       "version_minor": 0
      },
      "text/plain": [
       "Epoch 18/120:   0%|          | 0/69 [00:00<?, ?it/s]"
      ]
     },
     "metadata": {},
     "output_type": "display_data"
    },
    {
     "name": "stdout",
     "output_type": "stream",
     "text": [
      "Epoch [18/120], Loss: 2.1057, Val Accuracy: 0.3618\n"
     ]
    },
    {
     "data": {
      "application/vnd.jupyter.widget-view+json": {
       "model_id": "6dca92e40580474c8939bccb78984a0d",
       "version_major": 2,
       "version_minor": 0
      },
      "text/plain": [
       "Epoch 19/120:   0%|          | 0/69 [00:00<?, ?it/s]"
      ]
     },
     "metadata": {},
     "output_type": "display_data"
    },
    {
     "name": "stdout",
     "output_type": "stream",
     "text": [
      "Epoch [19/120], Loss: 2.0783, Val Accuracy: 0.3618\n"
     ]
    },
    {
     "data": {
      "application/vnd.jupyter.widget-view+json": {
       "model_id": "7125e5f9c3fc4a0aa5cf27120543d669",
       "version_major": 2,
       "version_minor": 0
      },
      "text/plain": [
       "Epoch 20/120:   0%|          | 0/69 [00:00<?, ?it/s]"
      ]
     },
     "metadata": {},
     "output_type": "display_data"
    },
    {
     "name": "stdout",
     "output_type": "stream",
     "text": [
      "Epoch [20/120], Loss: 2.0811, Val Accuracy: 0.3216\n"
     ]
    },
    {
     "data": {
      "application/vnd.jupyter.widget-view+json": {
       "model_id": "5b36a400b5bf4e02a0e2bc8844dac03f",
       "version_major": 2,
       "version_minor": 0
      },
      "text/plain": [
       "Epoch 21/120:   0%|          | 0/69 [00:00<?, ?it/s]"
      ]
     },
     "metadata": {},
     "output_type": "display_data"
    },
    {
     "name": "stdout",
     "output_type": "stream",
     "text": [
      "Epoch [21/120], Loss: 2.0527, Val Accuracy: 0.3819\n"
     ]
    },
    {
     "data": {
      "application/vnd.jupyter.widget-view+json": {
       "model_id": "8d52f194304548bc8be0f2f13f20ff15",
       "version_major": 2,
       "version_minor": 0
      },
      "text/plain": [
       "Epoch 22/120:   0%|          | 0/69 [00:00<?, ?it/s]"
      ]
     },
     "metadata": {},
     "output_type": "display_data"
    },
    {
     "name": "stdout",
     "output_type": "stream",
     "text": [
      "Epoch [22/120], Loss: 2.0564, Val Accuracy: 0.3668\n"
     ]
    },
    {
     "data": {
      "application/vnd.jupyter.widget-view+json": {
       "model_id": "87c7daa5961b4a638dc09936e49ba38e",
       "version_major": 2,
       "version_minor": 0
      },
      "text/plain": [
       "Epoch 23/120:   0%|          | 0/69 [00:00<?, ?it/s]"
      ]
     },
     "metadata": {},
     "output_type": "display_data"
    },
    {
     "name": "stdout",
     "output_type": "stream",
     "text": [
      "Epoch [23/120], Loss: 2.0303, Val Accuracy: 0.3819\n"
     ]
    },
    {
     "data": {
      "application/vnd.jupyter.widget-view+json": {
       "model_id": "83a2e94eb6614bdf943c1d6ca7305357",
       "version_major": 2,
       "version_minor": 0
      },
      "text/plain": [
       "Epoch 24/120:   0%|          | 0/69 [00:00<?, ?it/s]"
      ]
     },
     "metadata": {},
     "output_type": "display_data"
    },
    {
     "name": "stdout",
     "output_type": "stream",
     "text": [
      "Epoch [24/120], Loss: 2.0186, Val Accuracy: 0.4221\n"
     ]
    },
    {
     "data": {
      "application/vnd.jupyter.widget-view+json": {
       "model_id": "d7917bb5db404a1e9b26c0cf72b7b2c5",
       "version_major": 2,
       "version_minor": 0
      },
      "text/plain": [
       "Epoch 25/120:   0%|          | 0/69 [00:00<?, ?it/s]"
      ]
     },
     "metadata": {},
     "output_type": "display_data"
    },
    {
     "name": "stdout",
     "output_type": "stream",
     "text": [
      "Epoch [25/120], Loss: 2.0242, Val Accuracy: 0.3869\n"
     ]
    },
    {
     "data": {
      "application/vnd.jupyter.widget-view+json": {
       "model_id": "10a665b994184fa4a8f96a56cc7d91b3",
       "version_major": 2,
       "version_minor": 0
      },
      "text/plain": [
       "Epoch 26/120:   0%|          | 0/69 [00:00<?, ?it/s]"
      ]
     },
     "metadata": {},
     "output_type": "display_data"
    },
    {
     "name": "stdout",
     "output_type": "stream",
     "text": [
      "Epoch [26/120], Loss: 2.0117, Val Accuracy: 0.3869\n"
     ]
    },
    {
     "data": {
      "application/vnd.jupyter.widget-view+json": {
       "model_id": "527bc3e30fce484abc00dfb69207aa62",
       "version_major": 2,
       "version_minor": 0
      },
      "text/plain": [
       "Epoch 27/120:   0%|          | 0/69 [00:00<?, ?it/s]"
      ]
     },
     "metadata": {},
     "output_type": "display_data"
    },
    {
     "name": "stdout",
     "output_type": "stream",
     "text": [
      "Epoch [27/120], Loss: 1.9761, Val Accuracy: 0.4221\n"
     ]
    },
    {
     "data": {
      "application/vnd.jupyter.widget-view+json": {
       "model_id": "a436b6ef07564ca4898c3434231c2f64",
       "version_major": 2,
       "version_minor": 0
      },
      "text/plain": [
       "Epoch 28/120:   0%|          | 0/69 [00:00<?, ?it/s]"
      ]
     },
     "metadata": {},
     "output_type": "display_data"
    },
    {
     "name": "stdout",
     "output_type": "stream",
     "text": [
      "Epoch [28/120], Loss: 1.9897, Val Accuracy: 0.4070\n"
     ]
    },
    {
     "data": {
      "application/vnd.jupyter.widget-view+json": {
       "model_id": "7219e6e0c4c74277af8f0d0e5ba28c75",
       "version_major": 2,
       "version_minor": 0
      },
      "text/plain": [
       "Epoch 29/120:   0%|          | 0/69 [00:00<?, ?it/s]"
      ]
     },
     "metadata": {},
     "output_type": "display_data"
    },
    {
     "name": "stdout",
     "output_type": "stream",
     "text": [
      "Epoch [29/120], Loss: 1.9896, Val Accuracy: 0.4171\n"
     ]
    },
    {
     "data": {
      "application/vnd.jupyter.widget-view+json": {
       "model_id": "ad3ddfbbee704ba8861c063f57f7000d",
       "version_major": 2,
       "version_minor": 0
      },
      "text/plain": [
       "Epoch 30/120:   0%|          | 0/69 [00:00<?, ?it/s]"
      ]
     },
     "metadata": {},
     "output_type": "display_data"
    },
    {
     "name": "stdout",
     "output_type": "stream",
     "text": [
      "Epoch [30/120], Loss: 1.9544, Val Accuracy: 0.4271\n"
     ]
    },
    {
     "data": {
      "application/vnd.jupyter.widget-view+json": {
       "model_id": "9cbe2302cb4741b0a1356351f812d6dd",
       "version_major": 2,
       "version_minor": 0
      },
      "text/plain": [
       "Epoch 31/120:   0%|          | 0/69 [00:00<?, ?it/s]"
      ]
     },
     "metadata": {},
     "output_type": "display_data"
    },
    {
     "name": "stdout",
     "output_type": "stream",
     "text": [
      "Epoch [31/120], Loss: 1.9548, Val Accuracy: 0.4070\n"
     ]
    },
    {
     "data": {
      "application/vnd.jupyter.widget-view+json": {
       "model_id": "9c083fc2d4d94c9bb7eee98f5180d962",
       "version_major": 2,
       "version_minor": 0
      },
      "text/plain": [
       "Epoch 32/120:   0%|          | 0/69 [00:00<?, ?it/s]"
      ]
     },
     "metadata": {},
     "output_type": "display_data"
    },
    {
     "name": "stdout",
     "output_type": "stream",
     "text": [
      "Epoch [32/120], Loss: 1.9347, Val Accuracy: 0.3568\n"
     ]
    },
    {
     "data": {
      "application/vnd.jupyter.widget-view+json": {
       "model_id": "2d7406d5bc994515844d5a62e1d1059b",
       "version_major": 2,
       "version_minor": 0
      },
      "text/plain": [
       "Epoch 33/120:   0%|          | 0/69 [00:00<?, ?it/s]"
      ]
     },
     "metadata": {},
     "output_type": "display_data"
    },
    {
     "name": "stdout",
     "output_type": "stream",
     "text": [
      "Epoch [33/120], Loss: 1.9485, Val Accuracy: 0.4271\n"
     ]
    },
    {
     "data": {
      "application/vnd.jupyter.widget-view+json": {
       "model_id": "c70a8188829a496c8b5207a8d892c0ef",
       "version_major": 2,
       "version_minor": 0
      },
      "text/plain": [
       "Epoch 34/120:   0%|          | 0/69 [00:00<?, ?it/s]"
      ]
     },
     "metadata": {},
     "output_type": "display_data"
    },
    {
     "name": "stdout",
     "output_type": "stream",
     "text": [
      "Epoch [34/120], Loss: 1.9227, Val Accuracy: 0.4523\n"
     ]
    },
    {
     "data": {
      "application/vnd.jupyter.widget-view+json": {
       "model_id": "e604dc70ce134cb48d96081f7badb65e",
       "version_major": 2,
       "version_minor": 0
      },
      "text/plain": [
       "Epoch 35/120:   0%|          | 0/69 [00:00<?, ?it/s]"
      ]
     },
     "metadata": {},
     "output_type": "display_data"
    },
    {
     "name": "stdout",
     "output_type": "stream",
     "text": [
      "Epoch [35/120], Loss: 1.9073, Val Accuracy: 0.4070\n"
     ]
    },
    {
     "data": {
      "application/vnd.jupyter.widget-view+json": {
       "model_id": "66b648cfdad44b2680e2f86d84cced45",
       "version_major": 2,
       "version_minor": 0
      },
      "text/plain": [
       "Epoch 36/120:   0%|          | 0/69 [00:00<?, ?it/s]"
      ]
     },
     "metadata": {},
     "output_type": "display_data"
    },
    {
     "name": "stdout",
     "output_type": "stream",
     "text": [
      "Epoch [36/120], Loss: 1.8900, Val Accuracy: 0.4422\n"
     ]
    },
    {
     "data": {
      "application/vnd.jupyter.widget-view+json": {
       "model_id": "417db8a0eb974aa787b03ade8c4cd6d5",
       "version_major": 2,
       "version_minor": 0
      },
      "text/plain": [
       "Epoch 37/120:   0%|          | 0/69 [00:00<?, ?it/s]"
      ]
     },
     "metadata": {},
     "output_type": "display_data"
    },
    {
     "name": "stdout",
     "output_type": "stream",
     "text": [
      "Epoch [37/120], Loss: 1.8823, Val Accuracy: 0.4472\n"
     ]
    },
    {
     "data": {
      "application/vnd.jupyter.widget-view+json": {
       "model_id": "ce069a1e58044a8fa4da563a91b29eb4",
       "version_major": 2,
       "version_minor": 0
      },
      "text/plain": [
       "Epoch 38/120:   0%|          | 0/69 [00:00<?, ?it/s]"
      ]
     },
     "metadata": {},
     "output_type": "display_data"
    },
    {
     "name": "stdout",
     "output_type": "stream",
     "text": [
      "Epoch [38/120], Loss: 1.8663, Val Accuracy: 0.4523\n"
     ]
    },
    {
     "data": {
      "application/vnd.jupyter.widget-view+json": {
       "model_id": "ff144cebfdd34bc890b84c5dfa1724fc",
       "version_major": 2,
       "version_minor": 0
      },
      "text/plain": [
       "Epoch 39/120:   0%|          | 0/69 [00:00<?, ?it/s]"
      ]
     },
     "metadata": {},
     "output_type": "display_data"
    },
    {
     "name": "stdout",
     "output_type": "stream",
     "text": [
      "Epoch [39/120], Loss: 1.8512, Val Accuracy: 0.4774\n"
     ]
    },
    {
     "data": {
      "application/vnd.jupyter.widget-view+json": {
       "model_id": "ada59266fde34d819607b9425b386dbb",
       "version_major": 2,
       "version_minor": 0
      },
      "text/plain": [
       "Epoch 40/120:   0%|          | 0/69 [00:00<?, ?it/s]"
      ]
     },
     "metadata": {},
     "output_type": "display_data"
    },
    {
     "name": "stdout",
     "output_type": "stream",
     "text": [
      "Epoch [40/120], Loss: 1.8505, Val Accuracy: 0.4623\n"
     ]
    },
    {
     "data": {
      "application/vnd.jupyter.widget-view+json": {
       "model_id": "d9ecc62eb24548d19f7e825d3b67d09d",
       "version_major": 2,
       "version_minor": 0
      },
      "text/plain": [
       "Epoch 41/120:   0%|          | 0/69 [00:00<?, ?it/s]"
      ]
     },
     "metadata": {},
     "output_type": "display_data"
    },
    {
     "name": "stdout",
     "output_type": "stream",
     "text": [
      "Epoch [41/120], Loss: 1.8406, Val Accuracy: 0.4472\n"
     ]
    },
    {
     "data": {
      "application/vnd.jupyter.widget-view+json": {
       "model_id": "48554cbc4b434d55b8f25f7a501b8202",
       "version_major": 2,
       "version_minor": 0
      },
      "text/plain": [
       "Epoch 42/120:   0%|          | 0/69 [00:00<?, ?it/s]"
      ]
     },
     "metadata": {},
     "output_type": "display_data"
    },
    {
     "name": "stdout",
     "output_type": "stream",
     "text": [
      "Epoch [42/120], Loss: 1.8179, Val Accuracy: 0.4573\n"
     ]
    },
    {
     "data": {
      "application/vnd.jupyter.widget-view+json": {
       "model_id": "d8972d8d9b7c4ae094171846954c1261",
       "version_major": 2,
       "version_minor": 0
      },
      "text/plain": [
       "Epoch 43/120:   0%|          | 0/69 [00:00<?, ?it/s]"
      ]
     },
     "metadata": {},
     "output_type": "display_data"
    },
    {
     "name": "stdout",
     "output_type": "stream",
     "text": [
      "Epoch [43/120], Loss: 1.8094, Val Accuracy: 0.4472\n"
     ]
    },
    {
     "data": {
      "application/vnd.jupyter.widget-view+json": {
       "model_id": "b361461d9a50431f922a516f02974c93",
       "version_major": 2,
       "version_minor": 0
      },
      "text/plain": [
       "Epoch 44/120:   0%|          | 0/69 [00:00<?, ?it/s]"
      ]
     },
     "metadata": {},
     "output_type": "display_data"
    },
    {
     "name": "stdout",
     "output_type": "stream",
     "text": [
      "Epoch [44/120], Loss: 1.7971, Val Accuracy: 0.4573\n"
     ]
    },
    {
     "data": {
      "application/vnd.jupyter.widget-view+json": {
       "model_id": "c044e0b3b9894aafa70be143c5a56313",
       "version_major": 2,
       "version_minor": 0
      },
      "text/plain": [
       "Epoch 45/120:   0%|          | 0/69 [00:00<?, ?it/s]"
      ]
     },
     "metadata": {},
     "output_type": "display_data"
    },
    {
     "name": "stdout",
     "output_type": "stream",
     "text": [
      "Epoch [45/120], Loss: 1.8120, Val Accuracy: 0.4472\n"
     ]
    },
    {
     "data": {
      "application/vnd.jupyter.widget-view+json": {
       "model_id": "7489954d68a343478ff160bc9180666a",
       "version_major": 2,
       "version_minor": 0
      },
      "text/plain": [
       "Epoch 46/120:   0%|          | 0/69 [00:00<?, ?it/s]"
      ]
     },
     "metadata": {},
     "output_type": "display_data"
    },
    {
     "name": "stdout",
     "output_type": "stream",
     "text": [
      "Epoch [46/120], Loss: 1.7773, Val Accuracy: 0.4271\n"
     ]
    },
    {
     "data": {
      "application/vnd.jupyter.widget-view+json": {
       "model_id": "b649fcf8de124a0b8edbbfbc1fc0cf46",
       "version_major": 2,
       "version_minor": 0
      },
      "text/plain": [
       "Epoch 47/120:   0%|          | 0/69 [00:00<?, ?it/s]"
      ]
     },
     "metadata": {},
     "output_type": "display_data"
    },
    {
     "name": "stdout",
     "output_type": "stream",
     "text": [
      "Epoch [47/120], Loss: 1.8102, Val Accuracy: 0.4221\n"
     ]
    },
    {
     "data": {
      "application/vnd.jupyter.widget-view+json": {
       "model_id": "b4cacb6062d04bcaa8fd4c3f736f5613",
       "version_major": 2,
       "version_minor": 0
      },
      "text/plain": [
       "Epoch 48/120:   0%|          | 0/69 [00:00<?, ?it/s]"
      ]
     },
     "metadata": {},
     "output_type": "display_data"
    },
    {
     "name": "stdout",
     "output_type": "stream",
     "text": [
      "Epoch [48/120], Loss: 1.7442, Val Accuracy: 0.4472\n"
     ]
    },
    {
     "data": {
      "application/vnd.jupyter.widget-view+json": {
       "model_id": "65948550aa5240d88116d3a582373257",
       "version_major": 2,
       "version_minor": 0
      },
      "text/plain": [
       "Epoch 49/120:   0%|          | 0/69 [00:00<?, ?it/s]"
      ]
     },
     "metadata": {},
     "output_type": "display_data"
    },
    {
     "name": "stdout",
     "output_type": "stream",
     "text": [
      "Epoch [49/120], Loss: 1.7523, Val Accuracy: 0.4774\n"
     ]
    },
    {
     "data": {
      "application/vnd.jupyter.widget-view+json": {
       "model_id": "7f6d6d45692b4ec9bc3e12cb13f620d2",
       "version_major": 2,
       "version_minor": 0
      },
      "text/plain": [
       "Epoch 50/120:   0%|          | 0/69 [00:00<?, ?it/s]"
      ]
     },
     "metadata": {},
     "output_type": "display_data"
    },
    {
     "name": "stdout",
     "output_type": "stream",
     "text": [
      "Epoch [50/120], Loss: 1.7281, Val Accuracy: 0.4724\n"
     ]
    },
    {
     "data": {
      "application/vnd.jupyter.widget-view+json": {
       "model_id": "ac6adb51723440d6a70429adeec7a9c4",
       "version_major": 2,
       "version_minor": 0
      },
      "text/plain": [
       "Epoch 51/120:   0%|          | 0/69 [00:00<?, ?it/s]"
      ]
     },
     "metadata": {},
     "output_type": "display_data"
    },
    {
     "name": "stdout",
     "output_type": "stream",
     "text": [
      "Epoch [51/120], Loss: 1.7405, Val Accuracy: 0.4322\n"
     ]
    },
    {
     "data": {
      "application/vnd.jupyter.widget-view+json": {
       "model_id": "6df939ae1d2b4030bd86cb5a5541fd40",
       "version_major": 2,
       "version_minor": 0
      },
      "text/plain": [
       "Epoch 52/120:   0%|          | 0/69 [00:00<?, ?it/s]"
      ]
     },
     "metadata": {},
     "output_type": "display_data"
    },
    {
     "name": "stdout",
     "output_type": "stream",
     "text": [
      "Epoch [52/120], Loss: 1.7322, Val Accuracy: 0.4573\n"
     ]
    },
    {
     "data": {
      "application/vnd.jupyter.widget-view+json": {
       "model_id": "70b4c68cfb63430f8073879f9366c687",
       "version_major": 2,
       "version_minor": 0
      },
      "text/plain": [
       "Epoch 53/120:   0%|          | 0/69 [00:00<?, ?it/s]"
      ]
     },
     "metadata": {},
     "output_type": "display_data"
    },
    {
     "name": "stdout",
     "output_type": "stream",
     "text": [
      "Epoch [53/120], Loss: 1.7225, Val Accuracy: 0.4472\n"
     ]
    },
    {
     "data": {
      "application/vnd.jupyter.widget-view+json": {
       "model_id": "4c16f7a3dd0c4cf2bd4ba20e050bffcd",
       "version_major": 2,
       "version_minor": 0
      },
      "text/plain": [
       "Epoch 54/120:   0%|          | 0/69 [00:00<?, ?it/s]"
      ]
     },
     "metadata": {},
     "output_type": "display_data"
    },
    {
     "name": "stdout",
     "output_type": "stream",
     "text": [
      "Epoch [54/120], Loss: 1.6796, Val Accuracy: 0.4422\n"
     ]
    },
    {
     "data": {
      "application/vnd.jupyter.widget-view+json": {
       "model_id": "78984b1cec084def8205607cd5be9727",
       "version_major": 2,
       "version_minor": 0
      },
      "text/plain": [
       "Epoch 55/120:   0%|          | 0/69 [00:00<?, ?it/s]"
      ]
     },
     "metadata": {},
     "output_type": "display_data"
    },
    {
     "name": "stdout",
     "output_type": "stream",
     "text": [
      "Epoch [55/120], Loss: 1.6986, Val Accuracy: 0.4472\n"
     ]
    },
    {
     "data": {
      "application/vnd.jupyter.widget-view+json": {
       "model_id": "84035ac37ddb4f45b62ad6f230ba15a6",
       "version_major": 2,
       "version_minor": 0
      },
      "text/plain": [
       "Epoch 56/120:   0%|          | 0/69 [00:00<?, ?it/s]"
      ]
     },
     "metadata": {},
     "output_type": "display_data"
    },
    {
     "name": "stdout",
     "output_type": "stream",
     "text": [
      "Epoch [56/120], Loss: 1.6946, Val Accuracy: 0.4271\n"
     ]
    },
    {
     "data": {
      "application/vnd.jupyter.widget-view+json": {
       "model_id": "2c7af982c82d4602969af7c974f70a68",
       "version_major": 2,
       "version_minor": 0
      },
      "text/plain": [
       "Epoch 57/120:   0%|          | 0/69 [00:00<?, ?it/s]"
      ]
     },
     "metadata": {},
     "output_type": "display_data"
    },
    {
     "name": "stdout",
     "output_type": "stream",
     "text": [
      "Epoch [57/120], Loss: 1.6498, Val Accuracy: 0.4623\n"
     ]
    },
    {
     "data": {
      "application/vnd.jupyter.widget-view+json": {
       "model_id": "b738ec6317524d6ba5afe53be3a186ba",
       "version_major": 2,
       "version_minor": 0
      },
      "text/plain": [
       "Epoch 58/120:   0%|          | 0/69 [00:00<?, ?it/s]"
      ]
     },
     "metadata": {},
     "output_type": "display_data"
    },
    {
     "name": "stdout",
     "output_type": "stream",
     "text": [
      "Epoch [58/120], Loss: 1.6482, Val Accuracy: 0.4422\n"
     ]
    },
    {
     "data": {
      "application/vnd.jupyter.widget-view+json": {
       "model_id": "c4d8454cb0274e179b88c57350a084c2",
       "version_major": 2,
       "version_minor": 0
      },
      "text/plain": [
       "Epoch 59/120:   0%|          | 0/69 [00:00<?, ?it/s]"
      ]
     },
     "metadata": {},
     "output_type": "display_data"
    },
    {
     "name": "stdout",
     "output_type": "stream",
     "text": [
      "Epoch [59/120], Loss: 1.6415, Val Accuracy: 0.4472\n"
     ]
    },
    {
     "data": {
      "application/vnd.jupyter.widget-view+json": {
       "model_id": "e3676ece46bd4b378a01c8904cc1461a",
       "version_major": 2,
       "version_minor": 0
      },
      "text/plain": [
       "Epoch 60/120:   0%|          | 0/69 [00:00<?, ?it/s]"
      ]
     },
     "metadata": {},
     "output_type": "display_data"
    },
    {
     "name": "stdout",
     "output_type": "stream",
     "text": [
      "Epoch [60/120], Loss: 1.6400, Val Accuracy: 0.4724\n"
     ]
    },
    {
     "data": {
      "application/vnd.jupyter.widget-view+json": {
       "model_id": "7d626d7a1e594d759797489ef73b48bb",
       "version_major": 2,
       "version_minor": 0
      },
      "text/plain": [
       "Epoch 61/120:   0%|          | 0/69 [00:00<?, ?it/s]"
      ]
     },
     "metadata": {},
     "output_type": "display_data"
    },
    {
     "name": "stdout",
     "output_type": "stream",
     "text": [
      "Epoch [61/120], Loss: 1.6133, Val Accuracy: 0.4874\n"
     ]
    },
    {
     "data": {
      "application/vnd.jupyter.widget-view+json": {
       "model_id": "30ee35062be1498e82762a0ff221e946",
       "version_major": 2,
       "version_minor": 0
      },
      "text/plain": [
       "Epoch 62/120:   0%|          | 0/69 [00:00<?, ?it/s]"
      ]
     },
     "metadata": {},
     "output_type": "display_data"
    },
    {
     "name": "stdout",
     "output_type": "stream",
     "text": [
      "Epoch [62/120], Loss: 1.6194, Val Accuracy: 0.4824\n"
     ]
    },
    {
     "data": {
      "application/vnd.jupyter.widget-view+json": {
       "model_id": "6b57ab61817d46a88b562341b9b38de1",
       "version_major": 2,
       "version_minor": 0
      },
      "text/plain": [
       "Epoch 63/120:   0%|          | 0/69 [00:00<?, ?it/s]"
      ]
     },
     "metadata": {},
     "output_type": "display_data"
    },
    {
     "name": "stdout",
     "output_type": "stream",
     "text": [
      "Epoch [63/120], Loss: 1.5951, Val Accuracy: 0.4422\n"
     ]
    },
    {
     "data": {
      "application/vnd.jupyter.widget-view+json": {
       "model_id": "523943be868441bf83536c46d7074a67",
       "version_major": 2,
       "version_minor": 0
      },
      "text/plain": [
       "Epoch 64/120:   0%|          | 0/69 [00:00<?, ?it/s]"
      ]
     },
     "metadata": {},
     "output_type": "display_data"
    },
    {
     "name": "stdout",
     "output_type": "stream",
     "text": [
      "Epoch [64/120], Loss: 1.5770, Val Accuracy: 0.4623\n"
     ]
    },
    {
     "data": {
      "application/vnd.jupyter.widget-view+json": {
       "model_id": "0a22d2f46be4423785dd382a1d2b2463",
       "version_major": 2,
       "version_minor": 0
      },
      "text/plain": [
       "Epoch 65/120:   0%|          | 0/69 [00:00<?, ?it/s]"
      ]
     },
     "metadata": {},
     "output_type": "display_data"
    },
    {
     "name": "stdout",
     "output_type": "stream",
     "text": [
      "Epoch [65/120], Loss: 1.5602, Val Accuracy: 0.4673\n"
     ]
    },
    {
     "data": {
      "application/vnd.jupyter.widget-view+json": {
       "model_id": "5d25dad80237427095409b6e36179324",
       "version_major": 2,
       "version_minor": 0
      },
      "text/plain": [
       "Epoch 66/120:   0%|          | 0/69 [00:00<?, ?it/s]"
      ]
     },
     "metadata": {},
     "output_type": "display_data"
    },
    {
     "name": "stdout",
     "output_type": "stream",
     "text": [
      "Epoch [66/120], Loss: 1.5505, Val Accuracy: 0.4573\n"
     ]
    },
    {
     "data": {
      "application/vnd.jupyter.widget-view+json": {
       "model_id": "febe7ee9b87f48f095a559209adddeff",
       "version_major": 2,
       "version_minor": 0
      },
      "text/plain": [
       "Epoch 67/120:   0%|          | 0/69 [00:00<?, ?it/s]"
      ]
     },
     "metadata": {},
     "output_type": "display_data"
    },
    {
     "name": "stdout",
     "output_type": "stream",
     "text": [
      "Epoch [67/120], Loss: 1.5427, Val Accuracy: 0.4472\n"
     ]
    },
    {
     "data": {
      "application/vnd.jupyter.widget-view+json": {
       "model_id": "90e9a77bbda24603b3442c1a77f2179b",
       "version_major": 2,
       "version_minor": 0
      },
      "text/plain": [
       "Epoch 68/120:   0%|          | 0/69 [00:00<?, ?it/s]"
      ]
     },
     "metadata": {},
     "output_type": "display_data"
    },
    {
     "name": "stdout",
     "output_type": "stream",
     "text": [
      "Epoch [68/120], Loss: 1.5199, Val Accuracy: 0.4724\n"
     ]
    },
    {
     "data": {
      "application/vnd.jupyter.widget-view+json": {
       "model_id": "93da6d8e9cdd4a2aa68844d9098ceac4",
       "version_major": 2,
       "version_minor": 0
      },
      "text/plain": [
       "Epoch 69/120:   0%|          | 0/69 [00:00<?, ?it/s]"
      ]
     },
     "metadata": {},
     "output_type": "display_data"
    },
    {
     "name": "stdout",
     "output_type": "stream",
     "text": [
      "Epoch [69/120], Loss: 1.5203, Val Accuracy: 0.4623\n"
     ]
    },
    {
     "data": {
      "application/vnd.jupyter.widget-view+json": {
       "model_id": "728afc7e33b84233866944dd8e54b5be",
       "version_major": 2,
       "version_minor": 0
      },
      "text/plain": [
       "Epoch 70/120:   0%|          | 0/69 [00:00<?, ?it/s]"
      ]
     },
     "metadata": {},
     "output_type": "display_data"
    },
    {
     "name": "stdout",
     "output_type": "stream",
     "text": [
      "Epoch [70/120], Loss: 1.5107, Val Accuracy: 0.3869\n"
     ]
    },
    {
     "data": {
      "application/vnd.jupyter.widget-view+json": {
       "model_id": "f3963b8ae93743a0a4bbe61cb24573d4",
       "version_major": 2,
       "version_minor": 0
      },
      "text/plain": [
       "Epoch 71/120:   0%|          | 0/69 [00:00<?, ?it/s]"
      ]
     },
     "metadata": {},
     "output_type": "display_data"
    },
    {
     "name": "stdout",
     "output_type": "stream",
     "text": [
      "Epoch [71/120], Loss: 1.5069, Val Accuracy: 0.4372\n"
     ]
    },
    {
     "data": {
      "application/vnd.jupyter.widget-view+json": {
       "model_id": "1d57a3b20fa242aab6ce37adb8034e96",
       "version_major": 2,
       "version_minor": 0
      },
      "text/plain": [
       "Epoch 72/120:   0%|          | 0/69 [00:00<?, ?it/s]"
      ]
     },
     "metadata": {},
     "output_type": "display_data"
    },
    {
     "name": "stdout",
     "output_type": "stream",
     "text": [
      "Epoch [72/120], Loss: 1.4915, Val Accuracy: 0.4171\n"
     ]
    },
    {
     "data": {
      "application/vnd.jupyter.widget-view+json": {
       "model_id": "b40b628df3c04592a2b0843fa5bb2024",
       "version_major": 2,
       "version_minor": 0
      },
      "text/plain": [
       "Epoch 73/120:   0%|          | 0/69 [00:00<?, ?it/s]"
      ]
     },
     "metadata": {},
     "output_type": "display_data"
    },
    {
     "name": "stdout",
     "output_type": "stream",
     "text": [
      "Epoch [73/120], Loss: 1.4804, Val Accuracy: 0.4824\n"
     ]
    },
    {
     "data": {
      "application/vnd.jupyter.widget-view+json": {
       "model_id": "1f61c22f17c14c9dabeb226bba1f4e49",
       "version_major": 2,
       "version_minor": 0
      },
      "text/plain": [
       "Epoch 74/120:   0%|          | 0/69 [00:00<?, ?it/s]"
      ]
     },
     "metadata": {},
     "output_type": "display_data"
    },
    {
     "name": "stdout",
     "output_type": "stream",
     "text": [
      "Epoch [74/120], Loss: 1.4537, Val Accuracy: 0.4523\n"
     ]
    },
    {
     "data": {
      "application/vnd.jupyter.widget-view+json": {
       "model_id": "73fd57c2ceb44d8c95b05a9d3f8c1f85",
       "version_major": 2,
       "version_minor": 0
      },
      "text/plain": [
       "Epoch 75/120:   0%|          | 0/69 [00:00<?, ?it/s]"
      ]
     },
     "metadata": {},
     "output_type": "display_data"
    },
    {
     "name": "stdout",
     "output_type": "stream",
     "text": [
      "Epoch [75/120], Loss: 1.4392, Val Accuracy: 0.4573\n"
     ]
    },
    {
     "data": {
      "application/vnd.jupyter.widget-view+json": {
       "model_id": "a5d03d0e1ea445c29aa0f6dc289c56ee",
       "version_major": 2,
       "version_minor": 0
      },
      "text/plain": [
       "Epoch 76/120:   0%|          | 0/69 [00:00<?, ?it/s]"
      ]
     },
     "metadata": {},
     "output_type": "display_data"
    },
    {
     "name": "stdout",
     "output_type": "stream",
     "text": [
      "Epoch [76/120], Loss: 1.4484, Val Accuracy: 0.4221\n"
     ]
    },
    {
     "data": {
      "application/vnd.jupyter.widget-view+json": {
       "model_id": "52a7ecfab5af44a094e716475be663c6",
       "version_major": 2,
       "version_minor": 0
      },
      "text/plain": [
       "Epoch 77/120:   0%|          | 0/69 [00:00<?, ?it/s]"
      ]
     },
     "metadata": {},
     "output_type": "display_data"
    },
    {
     "name": "stdout",
     "output_type": "stream",
     "text": [
      "Epoch [77/120], Loss: 1.4215, Val Accuracy: 0.4523\n"
     ]
    },
    {
     "data": {
      "application/vnd.jupyter.widget-view+json": {
       "model_id": "a261c0bc5dd74d4fa6d6500c5458143d",
       "version_major": 2,
       "version_minor": 0
      },
      "text/plain": [
       "Epoch 78/120:   0%|          | 0/69 [00:00<?, ?it/s]"
      ]
     },
     "metadata": {},
     "output_type": "display_data"
    },
    {
     "name": "stdout",
     "output_type": "stream",
     "text": [
      "Epoch [78/120], Loss: 1.4132, Val Accuracy: 0.4824\n"
     ]
    },
    {
     "data": {
      "application/vnd.jupyter.widget-view+json": {
       "model_id": "c1aa93d5ce784781a05f6ffb9d47de32",
       "version_major": 2,
       "version_minor": 0
      },
      "text/plain": [
       "Epoch 79/120:   0%|          | 0/69 [00:00<?, ?it/s]"
      ]
     },
     "metadata": {},
     "output_type": "display_data"
    },
    {
     "name": "stdout",
     "output_type": "stream",
     "text": [
      "Epoch [79/120], Loss: 1.4304, Val Accuracy: 0.4372\n"
     ]
    },
    {
     "data": {
      "application/vnd.jupyter.widget-view+json": {
       "model_id": "bba6baf5b97c468aa7b50750cf37ec2e",
       "version_major": 2,
       "version_minor": 0
      },
      "text/plain": [
       "Epoch 80/120:   0%|          | 0/69 [00:00<?, ?it/s]"
      ]
     },
     "metadata": {},
     "output_type": "display_data"
    },
    {
     "name": "stdout",
     "output_type": "stream",
     "text": [
      "Epoch [80/120], Loss: 1.4052, Val Accuracy: 0.4724\n"
     ]
    },
    {
     "data": {
      "application/vnd.jupyter.widget-view+json": {
       "model_id": "96d817993d564d0f9644fd2a40e39091",
       "version_major": 2,
       "version_minor": 0
      },
      "text/plain": [
       "Epoch 81/120:   0%|          | 0/69 [00:00<?, ?it/s]"
      ]
     },
     "metadata": {},
     "output_type": "display_data"
    },
    {
     "name": "stdout",
     "output_type": "stream",
     "text": [
      "Epoch [81/120], Loss: 1.4059, Val Accuracy: 0.4724\n"
     ]
    },
    {
     "data": {
      "application/vnd.jupyter.widget-view+json": {
       "model_id": "548fee06e1fe40b297e978cd14e77824",
       "version_major": 2,
       "version_minor": 0
      },
      "text/plain": [
       "Epoch 82/120:   0%|          | 0/69 [00:00<?, ?it/s]"
      ]
     },
     "metadata": {},
     "output_type": "display_data"
    },
    {
     "name": "stdout",
     "output_type": "stream",
     "text": [
      "Epoch [82/120], Loss: 1.4031, Val Accuracy: 0.4925\n"
     ]
    },
    {
     "data": {
      "application/vnd.jupyter.widget-view+json": {
       "model_id": "1f3a0573090e4d9eb2c8d66f9a598cde",
       "version_major": 2,
       "version_minor": 0
      },
      "text/plain": [
       "Epoch 83/120:   0%|          | 0/69 [00:00<?, ?it/s]"
      ]
     },
     "metadata": {},
     "output_type": "display_data"
    },
    {
     "name": "stdout",
     "output_type": "stream",
     "text": [
      "Epoch [83/120], Loss: 1.3653, Val Accuracy: 0.4472\n"
     ]
    },
    {
     "data": {
      "application/vnd.jupyter.widget-view+json": {
       "model_id": "654adabaacb54cb39cc28127e3ed3033",
       "version_major": 2,
       "version_minor": 0
      },
      "text/plain": [
       "Epoch 84/120:   0%|          | 0/69 [00:00<?, ?it/s]"
      ]
     },
     "metadata": {},
     "output_type": "display_data"
    },
    {
     "name": "stdout",
     "output_type": "stream",
     "text": [
      "Epoch [84/120], Loss: 1.3521, Val Accuracy: 0.4020\n"
     ]
    },
    {
     "data": {
      "application/vnd.jupyter.widget-view+json": {
       "model_id": "7a1ebb4994274f4e9a26abf18877fecc",
       "version_major": 2,
       "version_minor": 0
      },
      "text/plain": [
       "Epoch 85/120:   0%|          | 0/69 [00:00<?, ?it/s]"
      ]
     },
     "metadata": {},
     "output_type": "display_data"
    },
    {
     "name": "stdout",
     "output_type": "stream",
     "text": [
      "Epoch [85/120], Loss: 1.3460, Val Accuracy: 0.4925\n"
     ]
    },
    {
     "data": {
      "application/vnd.jupyter.widget-view+json": {
       "model_id": "f2ff80db1f0d473686e6bcddf8450285",
       "version_major": 2,
       "version_minor": 0
      },
      "text/plain": [
       "Epoch 86/120:   0%|          | 0/69 [00:00<?, ?it/s]"
      ]
     },
     "metadata": {},
     "output_type": "display_data"
    },
    {
     "name": "stdout",
     "output_type": "stream",
     "text": [
      "Epoch [86/120], Loss: 1.3238, Val Accuracy: 0.4523\n"
     ]
    },
    {
     "data": {
      "application/vnd.jupyter.widget-view+json": {
       "model_id": "27b32a3d194f4e6e91c8f90303184fa0",
       "version_major": 2,
       "version_minor": 0
      },
      "text/plain": [
       "Epoch 87/120:   0%|          | 0/69 [00:00<?, ?it/s]"
      ]
     },
     "metadata": {},
     "output_type": "display_data"
    },
    {
     "name": "stdout",
     "output_type": "stream",
     "text": [
      "Epoch [87/120], Loss: 1.3077, Val Accuracy: 0.4573\n"
     ]
    },
    {
     "data": {
      "application/vnd.jupyter.widget-view+json": {
       "model_id": "de34e0663e054ba796c97f939eaff10e",
       "version_major": 2,
       "version_minor": 0
      },
      "text/plain": [
       "Epoch 88/120:   0%|          | 0/69 [00:00<?, ?it/s]"
      ]
     },
     "metadata": {},
     "output_type": "display_data"
    },
    {
     "name": "stdout",
     "output_type": "stream",
     "text": [
      "Epoch [88/120], Loss: 1.2993, Val Accuracy: 0.4372\n"
     ]
    },
    {
     "data": {
      "application/vnd.jupyter.widget-view+json": {
       "model_id": "24c03b50d3bf4251b20b89fd049a0224",
       "version_major": 2,
       "version_minor": 0
      },
      "text/plain": [
       "Epoch 89/120:   0%|          | 0/69 [00:00<?, ?it/s]"
      ]
     },
     "metadata": {},
     "output_type": "display_data"
    },
    {
     "name": "stdout",
     "output_type": "stream",
     "text": [
      "Epoch [89/120], Loss: 1.2855, Val Accuracy: 0.4774\n"
     ]
    },
    {
     "data": {
      "application/vnd.jupyter.widget-view+json": {
       "model_id": "28a980192dbe4446bae70366b79b49ab",
       "version_major": 2,
       "version_minor": 0
      },
      "text/plain": [
       "Epoch 90/120:   0%|          | 0/69 [00:00<?, ?it/s]"
      ]
     },
     "metadata": {},
     "output_type": "display_data"
    },
    {
     "name": "stdout",
     "output_type": "stream",
     "text": [
      "Epoch [90/120], Loss: 1.2756, Val Accuracy: 0.4623\n"
     ]
    },
    {
     "data": {
      "application/vnd.jupyter.widget-view+json": {
       "model_id": "3e00c82df47f47a8979f979ec61cb905",
       "version_major": 2,
       "version_minor": 0
      },
      "text/plain": [
       "Epoch 91/120:   0%|          | 0/69 [00:00<?, ?it/s]"
      ]
     },
     "metadata": {},
     "output_type": "display_data"
    },
    {
     "name": "stdout",
     "output_type": "stream",
     "text": [
      "Epoch [91/120], Loss: 1.2610, Val Accuracy: 0.4573\n"
     ]
    },
    {
     "data": {
      "application/vnd.jupyter.widget-view+json": {
       "model_id": "1bd6d223242b4f6db2da48958b097505",
       "version_major": 2,
       "version_minor": 0
      },
      "text/plain": [
       "Epoch 92/120:   0%|          | 0/69 [00:00<?, ?it/s]"
      ]
     },
     "metadata": {},
     "output_type": "display_data"
    },
    {
     "name": "stdout",
     "output_type": "stream",
     "text": [
      "Epoch [92/120], Loss: 1.2499, Val Accuracy: 0.4523\n"
     ]
    },
    {
     "data": {
      "application/vnd.jupyter.widget-view+json": {
       "model_id": "39415d967a414383937d0a06d5d2d86b",
       "version_major": 2,
       "version_minor": 0
      },
      "text/plain": [
       "Epoch 93/120:   0%|          | 0/69 [00:00<?, ?it/s]"
      ]
     },
     "metadata": {},
     "output_type": "display_data"
    },
    {
     "name": "stdout",
     "output_type": "stream",
     "text": [
      "Epoch [93/120], Loss: 1.2306, Val Accuracy: 0.4422\n"
     ]
    },
    {
     "data": {
      "application/vnd.jupyter.widget-view+json": {
       "model_id": "2f953956b9224afa8a9289a9f9861e57",
       "version_major": 2,
       "version_minor": 0
      },
      "text/plain": [
       "Epoch 94/120:   0%|          | 0/69 [00:00<?, ?it/s]"
      ]
     },
     "metadata": {},
     "output_type": "display_data"
    },
    {
     "name": "stdout",
     "output_type": "stream",
     "text": [
      "Epoch [94/120], Loss: 1.2246, Val Accuracy: 0.4271\n"
     ]
    },
    {
     "data": {
      "application/vnd.jupyter.widget-view+json": {
       "model_id": "e5f2d0e75894440bbb90436864f66c22",
       "version_major": 2,
       "version_minor": 0
      },
      "text/plain": [
       "Epoch 95/120:   0%|          | 0/69 [00:00<?, ?it/s]"
      ]
     },
     "metadata": {},
     "output_type": "display_data"
    },
    {
     "name": "stdout",
     "output_type": "stream",
     "text": [
      "Epoch [95/120], Loss: 1.2164, Val Accuracy: 0.4372\n"
     ]
    },
    {
     "data": {
      "application/vnd.jupyter.widget-view+json": {
       "model_id": "59cf1dca2dea4a6f808466337eac2f62",
       "version_major": 2,
       "version_minor": 0
      },
      "text/plain": [
       "Epoch 96/120:   0%|          | 0/69 [00:00<?, ?it/s]"
      ]
     },
     "metadata": {},
     "output_type": "display_data"
    },
    {
     "name": "stdout",
     "output_type": "stream",
     "text": [
      "Epoch [96/120], Loss: 1.2088, Val Accuracy: 0.4070\n"
     ]
    },
    {
     "data": {
      "application/vnd.jupyter.widget-view+json": {
       "model_id": "d6a0349ded784142a9936a984ca2c1a6",
       "version_major": 2,
       "version_minor": 0
      },
      "text/plain": [
       "Epoch 97/120:   0%|          | 0/69 [00:00<?, ?it/s]"
      ]
     },
     "metadata": {},
     "output_type": "display_data"
    },
    {
     "name": "stdout",
     "output_type": "stream",
     "text": [
      "Epoch [97/120], Loss: 1.1768, Val Accuracy: 0.4472\n"
     ]
    },
    {
     "data": {
      "application/vnd.jupyter.widget-view+json": {
       "model_id": "15781bb5dcc445568f7ce4d269e70711",
       "version_major": 2,
       "version_minor": 0
      },
      "text/plain": [
       "Epoch 98/120:   0%|          | 0/69 [00:00<?, ?it/s]"
      ]
     },
     "metadata": {},
     "output_type": "display_data"
    },
    {
     "name": "stdout",
     "output_type": "stream",
     "text": [
      "Epoch [98/120], Loss: 1.1490, Val Accuracy: 0.4874\n"
     ]
    },
    {
     "data": {
      "application/vnd.jupyter.widget-view+json": {
       "model_id": "9e251fc3f7404bcfa0ed04244c190e5a",
       "version_major": 2,
       "version_minor": 0
      },
      "text/plain": [
       "Epoch 99/120:   0%|          | 0/69 [00:00<?, ?it/s]"
      ]
     },
     "metadata": {},
     "output_type": "display_data"
    },
    {
     "name": "stdout",
     "output_type": "stream",
     "text": [
      "Epoch [99/120], Loss: 1.1628, Val Accuracy: 0.4472\n"
     ]
    },
    {
     "data": {
      "application/vnd.jupyter.widget-view+json": {
       "model_id": "665ff12263924dedad5e6a1adca8adf3",
       "version_major": 2,
       "version_minor": 0
      },
      "text/plain": [
       "Epoch 100/120:   0%|          | 0/69 [00:00<?, ?it/s]"
      ]
     },
     "metadata": {},
     "output_type": "display_data"
    },
    {
     "name": "stdout",
     "output_type": "stream",
     "text": [
      "Epoch [100/120], Loss: 1.1304, Val Accuracy: 0.4673\n"
     ]
    },
    {
     "data": {
      "application/vnd.jupyter.widget-view+json": {
       "model_id": "5a733b6fe8e94ef3838f10936aa30e52",
       "version_major": 2,
       "version_minor": 0
      },
      "text/plain": [
       "Epoch 101/120:   0%|          | 0/69 [00:00<?, ?it/s]"
      ]
     },
     "metadata": {},
     "output_type": "display_data"
    },
    {
     "name": "stdout",
     "output_type": "stream",
     "text": [
      "Epoch [101/120], Loss: 1.1109, Val Accuracy: 0.4673\n"
     ]
    },
    {
     "data": {
      "application/vnd.jupyter.widget-view+json": {
       "model_id": "c06a704b1b884f07bd57f230d51af6dd",
       "version_major": 2,
       "version_minor": 0
      },
      "text/plain": [
       "Epoch 102/120:   0%|          | 0/69 [00:00<?, ?it/s]"
      ]
     },
     "metadata": {},
     "output_type": "display_data"
    },
    {
     "name": "stdout",
     "output_type": "stream",
     "text": [
      "Epoch [102/120], Loss: 1.1166, Val Accuracy: 0.4724\n"
     ]
    },
    {
     "data": {
      "application/vnd.jupyter.widget-view+json": {
       "model_id": "95834651901e4c0eb3611f12ced2e24e",
       "version_major": 2,
       "version_minor": 0
      },
      "text/plain": [
       "Epoch 103/120:   0%|          | 0/69 [00:00<?, ?it/s]"
      ]
     },
     "metadata": {},
     "output_type": "display_data"
    },
    {
     "name": "stdout",
     "output_type": "stream",
     "text": [
      "Epoch [103/120], Loss: 1.0854, Val Accuracy: 0.4472\n"
     ]
    },
    {
     "data": {
      "application/vnd.jupyter.widget-view+json": {
       "model_id": "9fa0cf9265374c9c9fc4e0dca1b6abf5",
       "version_major": 2,
       "version_minor": 0
      },
      "text/plain": [
       "Epoch 104/120:   0%|          | 0/69 [00:00<?, ?it/s]"
      ]
     },
     "metadata": {},
     "output_type": "display_data"
    },
    {
     "name": "stdout",
     "output_type": "stream",
     "text": [
      "Epoch [104/120], Loss: 1.1023, Val Accuracy: 0.4623\n"
     ]
    },
    {
     "data": {
      "application/vnd.jupyter.widget-view+json": {
       "model_id": "f803572bc37241608726236720812933",
       "version_major": 2,
       "version_minor": 0
      },
      "text/plain": [
       "Epoch 105/120:   0%|          | 0/69 [00:00<?, ?it/s]"
      ]
     },
     "metadata": {},
     "output_type": "display_data"
    },
    {
     "name": "stdout",
     "output_type": "stream",
     "text": [
      "Epoch [105/120], Loss: 1.0720, Val Accuracy: 0.4724\n"
     ]
    },
    {
     "data": {
      "application/vnd.jupyter.widget-view+json": {
       "model_id": "68aae6a6f3b24f6abf9ff93fa089975b",
       "version_major": 2,
       "version_minor": 0
      },
      "text/plain": [
       "Epoch 106/120:   0%|          | 0/69 [00:00<?, ?it/s]"
      ]
     },
     "metadata": {},
     "output_type": "display_data"
    },
    {
     "name": "stdout",
     "output_type": "stream",
     "text": [
      "Epoch [106/120], Loss: 1.0469, Val Accuracy: 0.4422\n"
     ]
    },
    {
     "data": {
      "application/vnd.jupyter.widget-view+json": {
       "model_id": "b45b0be718a149ffbb88cd19a34f3180",
       "version_major": 2,
       "version_minor": 0
      },
      "text/plain": [
       "Epoch 107/120:   0%|          | 0/69 [00:00<?, ?it/s]"
      ]
     },
     "metadata": {},
     "output_type": "display_data"
    },
    {
     "name": "stdout",
     "output_type": "stream",
     "text": [
      "Epoch [107/120], Loss: 1.0499, Val Accuracy: 0.4673\n"
     ]
    },
    {
     "data": {
      "application/vnd.jupyter.widget-view+json": {
       "model_id": "2fcec9396ced4d54a382786e1bd62683",
       "version_major": 2,
       "version_minor": 0
      },
      "text/plain": [
       "Epoch 108/120:   0%|          | 0/69 [00:00<?, ?it/s]"
      ]
     },
     "metadata": {},
     "output_type": "display_data"
    },
    {
     "name": "stdout",
     "output_type": "stream",
     "text": [
      "Epoch [108/120], Loss: 1.0391, Val Accuracy: 0.4623\n"
     ]
    },
    {
     "data": {
      "application/vnd.jupyter.widget-view+json": {
       "model_id": "d79747079daa41b7a786d1d02ea831d3",
       "version_major": 2,
       "version_minor": 0
      },
      "text/plain": [
       "Epoch 109/120:   0%|          | 0/69 [00:00<?, ?it/s]"
      ]
     },
     "metadata": {},
     "output_type": "display_data"
    },
    {
     "name": "stdout",
     "output_type": "stream",
     "text": [
      "Epoch [109/120], Loss: 0.9986, Val Accuracy: 0.4623\n"
     ]
    },
    {
     "data": {
      "application/vnd.jupyter.widget-view+json": {
       "model_id": "1bc623004515433b93ab5d362de5d491",
       "version_major": 2,
       "version_minor": 0
      },
      "text/plain": [
       "Epoch 110/120:   0%|          | 0/69 [00:00<?, ?it/s]"
      ]
     },
     "metadata": {},
     "output_type": "display_data"
    },
    {
     "name": "stdout",
     "output_type": "stream",
     "text": [
      "Epoch [110/120], Loss: 0.9943, Val Accuracy: 0.4573\n"
     ]
    },
    {
     "data": {
      "application/vnd.jupyter.widget-view+json": {
       "model_id": "733318cee20c4759a80852a863df4349",
       "version_major": 2,
       "version_minor": 0
      },
      "text/plain": [
       "Epoch 111/120:   0%|          | 0/69 [00:00<?, ?it/s]"
      ]
     },
     "metadata": {},
     "output_type": "display_data"
    },
    {
     "name": "stdout",
     "output_type": "stream",
     "text": [
      "Epoch [111/120], Loss: 0.9851, Val Accuracy: 0.4673\n"
     ]
    },
    {
     "data": {
      "application/vnd.jupyter.widget-view+json": {
       "model_id": "82b8906daf304139b61e7eecf787d513",
       "version_major": 2,
       "version_minor": 0
      },
      "text/plain": [
       "Epoch 112/120:   0%|          | 0/69 [00:00<?, ?it/s]"
      ]
     },
     "metadata": {},
     "output_type": "display_data"
    },
    {
     "name": "stdout",
     "output_type": "stream",
     "text": [
      "Epoch [112/120], Loss: 0.9869, Val Accuracy: 0.5075\n"
     ]
    },
    {
     "data": {
      "application/vnd.jupyter.widget-view+json": {
       "model_id": "ae7f6b6a51c5468eaa0f34dac4f08324",
       "version_major": 2,
       "version_minor": 0
      },
      "text/plain": [
       "Epoch 113/120:   0%|          | 0/69 [00:00<?, ?it/s]"
      ]
     },
     "metadata": {},
     "output_type": "display_data"
    },
    {
     "name": "stdout",
     "output_type": "stream",
     "text": [
      "Epoch [113/120], Loss: 0.9825, Val Accuracy: 0.4824\n"
     ]
    },
    {
     "data": {
      "application/vnd.jupyter.widget-view+json": {
       "model_id": "416e08f2caf74147b06052ba84c84b82",
       "version_major": 2,
       "version_minor": 0
      },
      "text/plain": [
       "Epoch 114/120:   0%|          | 0/69 [00:00<?, ?it/s]"
      ]
     },
     "metadata": {},
     "output_type": "display_data"
    },
    {
     "name": "stdout",
     "output_type": "stream",
     "text": [
      "Epoch [114/120], Loss: 0.9610, Val Accuracy: 0.4523\n"
     ]
    },
    {
     "data": {
      "application/vnd.jupyter.widget-view+json": {
       "model_id": "b6831e800aff46db9231c42700db8b76",
       "version_major": 2,
       "version_minor": 0
      },
      "text/plain": [
       "Epoch 115/120:   0%|          | 0/69 [00:00<?, ?it/s]"
      ]
     },
     "metadata": {},
     "output_type": "display_data"
    },
    {
     "name": "stdout",
     "output_type": "stream",
     "text": [
      "Epoch [115/120], Loss: 0.9434, Val Accuracy: 0.4523\n"
     ]
    },
    {
     "data": {
      "application/vnd.jupyter.widget-view+json": {
       "model_id": "99a59a8bf9f04cf2b9da23b4fa67ef50",
       "version_major": 2,
       "version_minor": 0
      },
      "text/plain": [
       "Epoch 116/120:   0%|          | 0/69 [00:00<?, ?it/s]"
      ]
     },
     "metadata": {},
     "output_type": "display_data"
    },
    {
     "name": "stdout",
     "output_type": "stream",
     "text": [
      "Epoch [116/120], Loss: 0.9247, Val Accuracy: 0.4774\n"
     ]
    },
    {
     "data": {
      "application/vnd.jupyter.widget-view+json": {
       "model_id": "a7be4b0588ee4cedb9e1a38ae8c71f4f",
       "version_major": 2,
       "version_minor": 0
      },
      "text/plain": [
       "Epoch 117/120:   0%|          | 0/69 [00:00<?, ?it/s]"
      ]
     },
     "metadata": {},
     "output_type": "display_data"
    },
    {
     "name": "stdout",
     "output_type": "stream",
     "text": [
      "Epoch [117/120], Loss: 0.9153, Val Accuracy: 0.4573\n"
     ]
    },
    {
     "data": {
      "application/vnd.jupyter.widget-view+json": {
       "model_id": "d0779173746a4fa2a8f6c09963eaa541",
       "version_major": 2,
       "version_minor": 0
      },
      "text/plain": [
       "Epoch 118/120:   0%|          | 0/69 [00:00<?, ?it/s]"
      ]
     },
     "metadata": {},
     "output_type": "display_data"
    },
    {
     "name": "stdout",
     "output_type": "stream",
     "text": [
      "Epoch [118/120], Loss: 0.8793, Val Accuracy: 0.4573\n"
     ]
    },
    {
     "data": {
      "application/vnd.jupyter.widget-view+json": {
       "model_id": "e4a44f90d4ed45ae9baecf441b23e422",
       "version_major": 2,
       "version_minor": 0
      },
      "text/plain": [
       "Epoch 119/120:   0%|          | 0/69 [00:00<?, ?it/s]"
      ]
     },
     "metadata": {},
     "output_type": "display_data"
    },
    {
     "name": "stdout",
     "output_type": "stream",
     "text": [
      "Epoch [119/120], Loss: 0.8835, Val Accuracy: 0.4975\n"
     ]
    },
    {
     "data": {
      "application/vnd.jupyter.widget-view+json": {
       "model_id": "02a483f5f5474570a4cdfa8cfea2df14",
       "version_major": 2,
       "version_minor": 0
      },
      "text/plain": [
       "Epoch 120/120:   0%|          | 0/69 [00:00<?, ?it/s]"
      ]
     },
     "metadata": {},
     "output_type": "display_data"
    },
    {
     "name": "stdout",
     "output_type": "stream",
     "text": [
      "Epoch [120/120], Loss: 0.8750, Val Accuracy: 0.4774\n"
     ]
    }
   ],
   "source": [
    "import torch\n",
    "import torch.nn as nn\n",
    "import torch.optim as optim\n",
    "from torch.utils.data import DataLoader\n",
    "from tqdm.auto import tqdm\n",
    "\n",
    "class MusicGenreLSTM(nn.Module):\n",
    "    def __init__(self, input_size, hidden_size, num_layers, num_classes, dropout_rate=0.5):\n",
    "        super(MusicGenreLSTM, self).__init__()\n",
    "        self.lstm = nn.LSTM(input_size=input_size, hidden_size=hidden_size, \n",
    "                            num_layers=num_layers, batch_first=True, dropout=dropout_rate)\n",
    "        self.batch_norm = nn.BatchNorm1d(hidden_size)  #batch normalization\n",
    "        self.dropout = nn.Dropout(dropout_rate)\n",
    "        self.fc = nn.Linear(in_features=hidden_size, out_features=num_classes)\n",
    "        self.relu = nn.ReLU()  #ReLU activation function\n",
    "\n",
    "    def forward(self, x):\n",
    "        x = x.squeeze(1).transpose(1, 2)  # Adjusting the input dimensions for LSTM\n",
    "        _, (hn, _) = self.lstm(x)\n",
    "        hn = self.relu(hn[-1, :, :])  #ReLU after LSTM\n",
    "        hn = self.batch_norm(hn)  #batch normalization\n",
    "        hn = self.dropout(hn)\n",
    "        out = self.fc(hn)\n",
    "        return out\n",
    "\n",
    "#model2\n",
    "model2 = MusicGenreLSTM(input_size=128, hidden_size=256, num_layers=2, num_classes=10, dropout_rate=0.3).cuda()\n",
    "\n",
    "loss_fn = nn.CrossEntropyLoss()\n",
    "optimizer = optim.Adam(model2.parameters(), lr=0.00005)\n",
    "\n",
    "def calculate_accuracy(loader, model):\n",
    "    model.eval()\n",
    "    correct = 0\n",
    "    total = 0\n",
    "    with torch.no_grad():\n",
    "        for features, labels in loader:\n",
    "            features, labels = features.cuda(), labels.cuda()\n",
    "            outputs = model(features)\n",
    "            _, predicted = torch.max(outputs.data, 1)\n",
    "            total += labels.size(0)\n",
    "            correct += (predicted == labels).sum().item()\n",
    "    accuracy = correct / total\n",
    "    model.train()\n",
    "    return accuracy\n",
    "\n",
    "def train(model, train_loader, val_loader, epochs, loss_fn, optimizer):\n",
    "    for epoch in range(epochs):\n",
    "        model.train()\n",
    "        total_loss = 0\n",
    "        for features, labels in tqdm(train_loader, desc=f\"Epoch {epoch+1}/{epochs}\"):\n",
    "            features, labels = features.cuda(), labels.cuda()\n",
    "            optimizer.zero_grad()\n",
    "            outputs = model(features)\n",
    "            loss = loss_fn(outputs, labels)\n",
    "            loss.backward()\n",
    "            torch.nn.utils.clip_grad_norm_(model.parameters(), max_norm=1)\n",
    "            optimizer.step()\n",
    "            total_loss += loss.item()\n",
    "\n",
    "      \n",
    "        val_accuracy = calculate_accuracy(val_loader, model)\n",
    "        print(f\"Epoch [{epoch+1}/{epochs}], Loss: {total_loss/len(train_loader):.4f}, Val Accuracy: {val_accuracy:.4f}\")\n",
    "\n",
    "\n",
    "train(model2, enhanced_data_loader1, val_loader, epochs=120, loss_fn=loss_fn, optimizer=optimizer)"
   ]
  },
  {
   "cell_type": "code",
   "execution_count": 170,
   "id": "df62d56b",
   "metadata": {},
   "outputs": [
    {
     "name": "stdout",
     "output_type": "stream",
     "text": [
      "Test Accuracy: 0.5149\n"
     ]
    }
   ],
   "source": [
    "def test_model(model, test_loader):\n",
    "    model.eval()  #evaluation mode\n",
    "    correct = 0\n",
    "    total = 0\n",
    "    with torch.no_grad():\n",
    "        for features, labels in test_loader:\n",
    "            features, labels = features.cuda(), labels.cuda()\n",
    "            outputs = model(features)\n",
    "            _, predicted = torch.max(outputs.data, 1)\n",
    "            total += labels.size(0)\n",
    "            correct += (predicted == labels).sum().item()\n",
    "    test_accuracy = correct / total\n",
    "    print(f'Test Accuracy: {test_accuracy:.4f}')\n",
    "    return test_accuracy\n",
    "\n",
    "test_accuracy = test_model(model2, test_loader)"
   ]
  },
  {
   "cell_type": "code",
   "execution_count": null,
   "id": "1b85d20e",
   "metadata": {},
   "outputs": [],
   "source": []
  }
 ],
 "metadata": {
  "kernelspec": {
   "display_name": "Python 3 (ipykernel)",
   "language": "python",
   "name": "python3"
  },
  "language_info": {
   "codemirror_mode": {
    "name": "ipython",
    "version": 3
   },
   "file_extension": ".py",
   "mimetype": "text/x-python",
   "name": "python",
   "nbconvert_exporter": "python",
   "pygments_lexer": "ipython3",
   "version": "3.11.5"
  }
 },
 "nbformat": 4,
 "nbformat_minor": 5
}
